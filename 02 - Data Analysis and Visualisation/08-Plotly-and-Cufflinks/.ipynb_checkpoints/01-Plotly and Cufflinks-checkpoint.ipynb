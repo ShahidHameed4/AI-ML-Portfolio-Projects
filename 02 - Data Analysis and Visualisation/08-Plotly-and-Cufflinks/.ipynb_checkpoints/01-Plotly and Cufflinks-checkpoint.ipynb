{
 "cells": [
  {
   "cell_type": "markdown",
   "metadata": {},
   "source": [
    "___\n",
    "\n",
    "<a href='http://www.pieriandata.com'> <img src='../Pierian_Data_Logo.png' /></a>\n",
    "___\n",
    "# Plotly and Cufflinks"
   ]
  },
  {
   "cell_type": "markdown",
   "metadata": {},
   "source": [
    "Plotly is a library that allows you to create interactive plots that you can use in dashboards or websites (you can save them as html files or static images).\n",
    "\n",
    "## Installation\n",
    "\n",
    "In order for this all to work, you'll need to install plotly and cufflinks to call plots directly off of a pandas dataframe. These libraries are not currently available through **conda** but are available through **pip**. Install the libraries at your command line/terminal using:\n",
    "\n",
    "    pip install plotly\n",
    "    pip install cufflinks\n",
    "\n",
    "** NOTE: Make sure you only have one installation of Python on your computer when you do this, otherwise the installation may not work. **\n",
    "\n",
    "## Imports and Set-up"
   ]
  },
  {
   "cell_type": "code",
   "execution_count": 1,
   "metadata": {},
   "outputs": [],
   "source": [
    "import pandas as pd\n",
    "import numpy as np\n",
    "%matplotlib inline"
   ]
  },
  {
   "cell_type": "code",
   "execution_count": 2,
   "metadata": {},
   "outputs": [
    {
     "name": "stdout",
     "output_type": "stream",
     "text": [
      "5.6.0\n"
     ]
    }
   ],
   "source": [
    "from plotly import __version__\n",
    "from plotly.offline import download_plotlyjs, init_notebook_mode, plot, iplot\n",
    "\n",
    "print(__version__) # requires version >= 1.9.0////////////"
   ]
  },
  {
   "cell_type": "code",
   "execution_count": 3,
   "metadata": {},
   "outputs": [],
   "source": [
    "import cufflinks as cf"
   ]
  },
  {
   "cell_type": "code",
   "execution_count": 4,
   "metadata": {},
   "outputs": [
    {
     "data": {
      "text/html": [
       "        <script type=\"text/javascript\">\n",
       "        window.PlotlyConfig = {MathJaxConfig: 'local'};\n",
       "        if (window.MathJax) {MathJax.Hub.Config({SVG: {font: \"STIX-Web\"}});}\n",
       "        if (typeof require !== 'undefined') {\n",
       "        require.undef(\"plotly\");\n",
       "        requirejs.config({\n",
       "            paths: {\n",
       "                'plotly': ['https://cdn.plot.ly/plotly-2.9.0.min']\n",
       "            }\n",
       "        });\n",
       "        require(['plotly'], function(Plotly) {\n",
       "            window._Plotly = Plotly;\n",
       "        });\n",
       "        }\n",
       "        </script>\n",
       "        "
      ]
     },
     "metadata": {},
     "output_type": "display_data"
    }
   ],
   "source": [
    "# For Notebooks\n",
    "init_notebook_mode(connected=True)"
   ]
  },
  {
   "cell_type": "code",
   "execution_count": 5,
   "metadata": {},
   "outputs": [
    {
     "data": {
      "text/html": [
       "        <script type=\"text/javascript\">\n",
       "        window.PlotlyConfig = {MathJaxConfig: 'local'};\n",
       "        if (window.MathJax) {MathJax.Hub.Config({SVG: {font: \"STIX-Web\"}});}\n",
       "        if (typeof require !== 'undefined') {\n",
       "        require.undef(\"plotly\");\n",
       "        requirejs.config({\n",
       "            paths: {\n",
       "                'plotly': ['https://cdn.plot.ly/plotly-2.9.0.min']\n",
       "            }\n",
       "        });\n",
       "        require(['plotly'], function(Plotly) {\n",
       "            window._Plotly = Plotly;\n",
       "        });\n",
       "        }\n",
       "        </script>\n",
       "        "
      ]
     },
     "metadata": {},
     "output_type": "display_data"
    }
   ],
   "source": [
    "# For offline use\n",
    "cf.go_offline()"
   ]
  },
  {
   "cell_type": "markdown",
   "metadata": {},
   "source": [
    "### Fake Data"
   ]
  },
  {
   "cell_type": "code",
   "execution_count": 6,
   "metadata": {},
   "outputs": [],
   "source": [
    "df = pd.DataFrame(np.random.randn(100,4),columns='A B C D'.split())"
   ]
  },
  {
   "cell_type": "code",
   "execution_count": 7,
   "metadata": {},
   "outputs": [
    {
     "data": {
      "text/html": [
       "<div>\n",
       "<style scoped>\n",
       "    .dataframe tbody tr th:only-of-type {\n",
       "        vertical-align: middle;\n",
       "    }\n",
       "\n",
       "    .dataframe tbody tr th {\n",
       "        vertical-align: top;\n",
       "    }\n",
       "\n",
       "    .dataframe thead th {\n",
       "        text-align: right;\n",
       "    }\n",
       "</style>\n",
       "<table border=\"1\" class=\"dataframe\">\n",
       "  <thead>\n",
       "    <tr style=\"text-align: right;\">\n",
       "      <th></th>\n",
       "      <th>A</th>\n",
       "      <th>B</th>\n",
       "      <th>C</th>\n",
       "      <th>D</th>\n",
       "    </tr>\n",
       "  </thead>\n",
       "  <tbody>\n",
       "    <tr>\n",
       "      <th>0</th>\n",
       "      <td>0.040696</td>\n",
       "      <td>0.995826</td>\n",
       "      <td>-0.093899</td>\n",
       "      <td>1.853679</td>\n",
       "    </tr>\n",
       "    <tr>\n",
       "      <th>1</th>\n",
       "      <td>-1.538753</td>\n",
       "      <td>-0.736962</td>\n",
       "      <td>0.466938</td>\n",
       "      <td>0.317487</td>\n",
       "    </tr>\n",
       "    <tr>\n",
       "      <th>2</th>\n",
       "      <td>-0.370541</td>\n",
       "      <td>0.371274</td>\n",
       "      <td>1.598111</td>\n",
       "      <td>-1.591414</td>\n",
       "    </tr>\n",
       "    <tr>\n",
       "      <th>3</th>\n",
       "      <td>0.422268</td>\n",
       "      <td>1.497337</td>\n",
       "      <td>0.939579</td>\n",
       "      <td>-1.820145</td>\n",
       "    </tr>\n",
       "    <tr>\n",
       "      <th>4</th>\n",
       "      <td>0.312612</td>\n",
       "      <td>-0.513676</td>\n",
       "      <td>0.735302</td>\n",
       "      <td>0.199429</td>\n",
       "    </tr>\n",
       "  </tbody>\n",
       "</table>\n",
       "</div>"
      ],
      "text/plain": [
       "          A         B         C         D\n",
       "0  0.040696  0.995826 -0.093899  1.853679\n",
       "1 -1.538753 -0.736962  0.466938  0.317487\n",
       "2 -0.370541  0.371274  1.598111 -1.591414\n",
       "3  0.422268  1.497337  0.939579 -1.820145\n",
       "4  0.312612 -0.513676  0.735302  0.199429"
      ]
     },
     "execution_count": 7,
     "metadata": {},
     "output_type": "execute_result"
    }
   ],
   "source": [
    "df.head()"
   ]
  },
  {
   "cell_type": "code",
   "execution_count": 8,
   "metadata": {},
   "outputs": [],
   "source": [
    "df2 = pd.DataFrame({'Category':['A','B','C'],'Values':[32,43,50]})"
   ]
  },
  {
   "cell_type": "code",
   "execution_count": 10,
   "metadata": {},
   "outputs": [
    {
     "data": {
      "text/html": [
       "<div>\n",
       "<style scoped>\n",
       "    .dataframe tbody tr th:only-of-type {\n",
       "        vertical-align: middle;\n",
       "    }\n",
       "\n",
       "    .dataframe tbody tr th {\n",
       "        vertical-align: top;\n",
       "    }\n",
       "\n",
       "    .dataframe thead th {\n",
       "        text-align: right;\n",
       "    }\n",
       "</style>\n",
       "<table border=\"1\" class=\"dataframe\">\n",
       "  <thead>\n",
       "    <tr style=\"text-align: right;\">\n",
       "      <th></th>\n",
       "      <th>Category</th>\n",
       "      <th>Values</th>\n",
       "    </tr>\n",
       "  </thead>\n",
       "  <tbody>\n",
       "    <tr>\n",
       "      <th>0</th>\n",
       "      <td>A</td>\n",
       "      <td>32</td>\n",
       "    </tr>\n",
       "    <tr>\n",
       "      <th>1</th>\n",
       "      <td>B</td>\n",
       "      <td>43</td>\n",
       "    </tr>\n",
       "    <tr>\n",
       "      <th>2</th>\n",
       "      <td>C</td>\n",
       "      <td>50</td>\n",
       "    </tr>\n",
       "  </tbody>\n",
       "</table>\n",
       "</div>"
      ],
      "text/plain": [
       "  Category  Values\n",
       "0        A      32\n",
       "1        B      43\n",
       "2        C      50"
      ]
     },
     "execution_count": 10,
     "metadata": {},
     "output_type": "execute_result"
    }
   ],
   "source": [
    "df2.head()"
   ]
  },
  {
   "cell_type": "code",
   "execution_count": 14,
   "metadata": {},
   "outputs": [
    {
     "data": {
      "application/vnd.plotly.v1+json": {
       "config": {
        "linkText": "Export to plot.ly",
        "plotlyServerURL": "https://plot.ly",
        "showLink": true
       },
       "data": [
        {
         "boxpoints": false,
         "line": {
          "width": 1.3
         },
         "marker": {
          "color": "rgba(255, 153, 51, 1.0)"
         },
         "name": "A",
         "orientation": "v",
         "type": "box",
         "y": [
          0.04069591197739794,
          -1.5387534862825873,
          -0.37054138227832717,
          0.42226759931628843,
          0.3126115498148938,
          0.8490945987665685,
          0.32657941317006145,
          -0.49107061022674736,
          -2.1507284205628596,
          -0.24408786953956163,
          -0.6520390343561558,
          -0.5252670649155886,
          -0.6648895358403708,
          -0.5337196496902474,
          2.5411528745491845,
          0.2721785495038353,
          0.3139632084051519,
          -0.5035017349764002,
          -0.6295298431031526,
          -0.9967697705581974,
          -0.3010684232864244,
          0.6526617395566436,
          0.6907035696708207,
          -0.29469416900060214,
          1.1535301811355754,
          -1.0100015678978271,
          -0.12069661348651797,
          0.8054776442724979,
          0.8389775988783994,
          0.7242360206836844,
          0.9947539832929825,
          -1.0297374004329243,
          1.273616985140703,
          0.0385151859114759,
          0.8766328063292678,
          0.596186279085301,
          -0.2676827420402636,
          1.6188897257768609,
          -0.5896403663629634,
          0.18206868764406353,
          0.3883297472018753,
          0.23541068732887283,
          -1.4667899496388717,
          0.22401979434166064,
          -0.24920165254461157,
          0.5864379214604486,
          -1.7867426348719786,
          -0.2388326424614991,
          -0.20700690841934505,
          -1.7418204632698755,
          -0.4975267325235522,
          -0.4383857315299486,
          -0.023908325805154496,
          -1.0099213450430722,
          1.3151743319977625,
          2.164235305837594,
          -1.559781794551808,
          0.15948892175662965,
          0.5369468612262032,
          0.3034419209406845,
          -0.8190508980320342,
          1.0613854718635283,
          -2.703085539999277,
          0.5993190210185522,
          -0.9769014482176318,
          1.677907800787111,
          -0.037964248402260675,
          0.4670173507050114,
          -0.019662592262844062,
          -0.568296779760827,
          0.04060896866941458,
          -1.209244924940564,
          -0.3209018867296929,
          2.4149477205376115,
          -0.25490330030542974,
          1.1797721447905096,
          0.8421878895000109,
          1.745102272056137,
          -1.071361491881029,
          -0.45008076881205805,
          0.42161710288352783,
          -1.7093741336754915,
          0.08909834069035083,
          0.29993713511028813,
          1.018646413711966,
          -0.6880074411425571,
          0.3452603917017754,
          0.2487633064244093,
          0.21135195131935697,
          0.33047551702590044,
          -0.43227148671025234,
          -0.2937569887054107,
          1.4680107137436962,
          0.19817518709820703,
          -0.08239264069950791,
          -1.5739263364676956,
          -0.5863039056329027,
          -0.0634286623026407,
          -0.5916518804306173,
          -0.12187591316350242
         ]
        },
        {
         "boxpoints": false,
         "line": {
          "width": 1.3
         },
         "marker": {
          "color": "rgba(55, 128, 191, 1.0)"
         },
         "name": "B",
         "orientation": "v",
         "type": "box",
         "y": [
          0.995826467880346,
          -0.7369617224098037,
          0.37127384864429896,
          1.4973374656255485,
          -0.5136756334794229,
          -0.16912706548129708,
          -2.0136478401254956,
          0.6590292067347793,
          0.5281735423979428,
          -0.22596764617781726,
          0.8179265840659411,
          -0.7675078258062362,
          1.5557993453415198,
          1.1764532616325682,
          0.48410024097701665,
          0.7245640901748778,
          -0.1743255957392895,
          0.12398933128539748,
          0.7714456731235291,
          0.4057913540833407,
          1.186256289895277,
          -0.02105445729321405,
          -0.08094294955411512,
          0.2334964169726154,
          -1.8516069705667002,
          0.730782588490572,
          -0.7489429321852894,
          0.2560040303932152,
          0.7382717289609817,
          -0.9038563922535384,
          -0.14304968680136568,
          -0.7362909814018258,
          2.4014638348495625,
          -0.9026406680150731,
          2.56264403068799,
          -1.5081115882613203,
          -0.8431226423071239,
          -0.13073570393892617,
          0.8996129861200042,
          1.1399824665465794,
          0.048426080024693695,
          0.1668940515774451,
          -0.08354431280016783,
          -0.18563155879013335,
          0.13989039833424813,
          -0.6733933082584179,
          1.6206985566519567,
          -1.20146237893275,
          -2.0022301652003573,
          -0.5543558182050398,
          -2.492083782632766,
          -2.653638610926458,
          1.0403224744840096,
          -1.2503717390785278,
          1.2484039627566348,
          -0.1815316960413127,
          -0.7612710351716687,
          -0.5500424255656814,
          0.28190325275693273,
          0.33361672883874766,
          1.0952631148175236,
          1.9310982225189801,
          -1.2124783622530837,
          -1.2862055362957667,
          -1.3330480187478047,
          0.3731780294861189,
          -0.10194186296865584,
          -0.9603560274610924,
          -2.970109852235134,
          1.1441009979146743,
          0.04271329041066948,
          -1.3752165049488514,
          0.23494443618611646,
          0.8056619087889803,
          -2.9041102254767166,
          -0.6848921718215347,
          1.594433615490069,
          -1.4615825894063526,
          -0.13199479952107832,
          -0.2149473654351705,
          0.009768856092341214,
          -0.4052730444685135,
          -0.568991920341303,
          -1.084975804825773,
          -0.2663777907791061,
          -0.4762543065114372,
          0.028773158565766913,
          -0.7850746849449068,
          -0.6945749900304474,
          0.8427544736504147,
          -0.08393240804690318,
          -1.627899725389288,
          -0.21845671984730042,
          -0.47356107511270346,
          0.4357599336028361,
          -0.70845175800104,
          1.7153318283877876,
          0.8496103465694999,
          -1.5572805557424916,
          2.0251386210861186
         ]
        },
        {
         "boxpoints": false,
         "line": {
          "width": 1.3
         },
         "marker": {
          "color": "rgba(50, 171, 96, 1.0)"
         },
         "name": "C",
         "orientation": "v",
         "type": "box",
         "y": [
          -0.09389924246810805,
          0.46693784219434303,
          1.5981105835428606,
          0.939579245061577,
          0.7353018080757163,
          0.646999790089509,
          -0.33768524482540635,
          0.8517183133690732,
          -0.3384120781905001,
          -0.3274608793784002,
          0.3611770364046952,
          -1.4324134965299424,
          -1.3423692799559948,
          0.6653145797092015,
          1.6654082381434867,
          -2.020428438095846,
          0.09521652455894322,
          -0.4203687326465551,
          0.27431514414201197,
          -0.042820910303760805,
          -1.8621475850762577,
          -0.1672421567112696,
          0.8990975423749583,
          -1.270119359829677,
          -0.5746895495068903,
          -0.31890119840212383,
          2.2781245825620626,
          -0.36013671693763616,
          0.8828486167671366,
          -0.3525176349246981,
          -1.038424938990193,
          -1.2571132847557838,
          -0.722802101739417,
          1.09652110251346,
          -0.4860419291434229,
          0.04831710062416164,
          0.6765773534698574,
          -1.8480362076705836,
          -0.45892892454316075,
          0.4285622114547675,
          -0.8266561357422507,
          -0.322348796606711,
          -0.8875048573626982,
          -1.4553460601722525,
          -0.2503900748624838,
          1.0481974368802498,
          0.12429421845735472,
          0.660838527309358,
          1.6285759733899243,
          2.320700153051851,
          -0.20727290897373735,
          -0.03537029993862725,
          0.202414319281178,
          -0.7773088877291788,
          1.2163903659622308,
          0.048352193156689226,
          0.31017736336031887,
          -0.5741650006672349,
          2.220593399617657,
          1.0426301077746036,
          0.01789033403987293,
          -0.21821945842542395,
          -0.6817997624610167,
          0.18781578841879995,
          -0.10048108951657567,
          -1.2091706254267716,
          2.100116509821881,
          1.5572668184385687,
          0.11149873271719092,
          -0.9289841087187439,
          -0.48639998626464015,
          -0.2357056005630904,
          0.1312857384290406,
          -0.6189075163619262,
          -1.517855238304068,
          -0.20063050415677747,
          -0.11154419808878213,
          -2.1543594541608555,
          0.5991817972692761,
          0.1874823907819667,
          -0.40855192884095826,
          -0.45544930558017094,
          -0.9779669239559734,
          -0.10539664895270522,
          -0.40806221877933696,
          1.3651121191971893,
          -0.6014893104206162,
          1.3156915791575803,
          -0.6587323985544884,
          -1.067454889181448,
          0.05353779844388949,
          0.050740582498669765,
          -0.3410220481473968,
          0.6939361774346295,
          0.3745983221830779,
          0.00390113269939864,
          -1.2778068397693865,
          -1.9045976637933393,
          0.23769910520867105,
          -1.2346184798868076
         ]
        },
        {
         "boxpoints": false,
         "line": {
          "width": 1.3
         },
         "marker": {
          "color": "rgba(128, 0, 128, 1.0)"
         },
         "name": "D",
         "orientation": "v",
         "type": "box",
         "y": [
          1.8536786587611707,
          0.31748701494719056,
          -1.5914137200326584,
          -1.8201446872430338,
          0.19942928864633003,
          -0.9179397030896396,
          -2.09783941616522,
          -1.500452381480773,
          0.921541813332476,
          -0.20283949702568466,
          -0.6224091041757651,
          -1.5309497626013673,
          2.3960370035120446,
          -0.798906464588825,
          2.6855530977557778,
          0.5220481471245186,
          -0.08582089303477562,
          -0.5847199205396268,
          0.3859634480227872,
          -0.4365193090897628,
          -0.8286648171246722,
          -0.08572601386447695,
          -1.3804843047424917,
          -1.0608984425490853,
          -0.6263509554355401,
          1.9859008957368793,
          -1.4489485453368747,
          0.5346258431159485,
          2.387929425784648,
          -0.3629636514626066,
          -1.606278511440651,
          -0.16083962877458965,
          1.4788501498787368,
          0.3690546302424768,
          -0.39434272594699243,
          -0.7204501129186216,
          -0.048470704701933834,
          0.3495814965023437,
          0.4434049265739363,
          -1.2219826611087121,
          -0.28550581198618147,
          -1.43564955517798,
          -1.0266421448996974,
          0.28182620745319154,
          0.650975407817685,
          -0.5523593168748906,
          -0.02826449419596439,
          0.5835488232553727,
          -0.45990628505108966,
          1.861942258383658,
          1.2247003424778167,
          -0.3926474871329264,
          -0.9872124239906978,
          0.18060257275506045,
          -3.1282202634719587,
          0.39015695867027855,
          -0.6032116714133441,
          1.5534065332882077,
          0.8076446774824714,
          -0.9466283913238981,
          0.2086053214047391,
          -1.5996173352620429,
          -0.5020738048324217,
          -0.885901490159055,
          0.435785110787616,
          -0.5052088166470903,
          -1.3757623133671353,
          -0.8472452639438817,
          -0.9119140192994585,
          0.31914466795431934,
          0.27656205648013976,
          0.7273345746414592,
          0.6274862198918303,
          -0.5336861185884401,
          -1.239705836405087,
          -0.14944745747340873,
          0.4664365322350763,
          0.576829998115034,
          1.1514488000990495,
          -0.32445430867609126,
          -0.5886129375934483,
          1.190812562297307,
          0.3207151318146256,
          -2.4099613330281167,
          0.9281084747609742,
          -1.4653632806521992,
          -1.1968090028828493,
          -0.43696814652571847,
          1.0470087389279674,
          -0.25243610009812334,
          -0.1715567422039336,
          -1.3064481634837306,
          0.31353487491155757,
          -0.906234469311814,
          -0.1554311832054045,
          0.04358606621245248,
          -1.232136715096742,
          -0.17106586593775666,
          1.3350788478359195,
          -0.6493521538932258
         ]
        }
       ],
       "layout": {
        "legend": {
         "bgcolor": "#F5F6F9",
         "font": {
          "color": "#4D5663"
         }
        },
        "paper_bgcolor": "#F5F6F9",
        "plot_bgcolor": "#F5F6F9",
        "template": {
         "data": {
          "bar": [
           {
            "error_x": {
             "color": "#2a3f5f"
            },
            "error_y": {
             "color": "#2a3f5f"
            },
            "marker": {
             "line": {
              "color": "#E5ECF6",
              "width": 0.5
             },
             "pattern": {
              "fillmode": "overlay",
              "size": 10,
              "solidity": 0.2
             }
            },
            "type": "bar"
           }
          ],
          "barpolar": [
           {
            "marker": {
             "line": {
              "color": "#E5ECF6",
              "width": 0.5
             },
             "pattern": {
              "fillmode": "overlay",
              "size": 10,
              "solidity": 0.2
             }
            },
            "type": "barpolar"
           }
          ],
          "carpet": [
           {
            "aaxis": {
             "endlinecolor": "#2a3f5f",
             "gridcolor": "white",
             "linecolor": "white",
             "minorgridcolor": "white",
             "startlinecolor": "#2a3f5f"
            },
            "baxis": {
             "endlinecolor": "#2a3f5f",
             "gridcolor": "white",
             "linecolor": "white",
             "minorgridcolor": "white",
             "startlinecolor": "#2a3f5f"
            },
            "type": "carpet"
           }
          ],
          "choropleth": [
           {
            "colorbar": {
             "outlinewidth": 0,
             "ticks": ""
            },
            "type": "choropleth"
           }
          ],
          "contour": [
           {
            "colorbar": {
             "outlinewidth": 0,
             "ticks": ""
            },
            "colorscale": [
             [
              0,
              "#0d0887"
             ],
             [
              0.1111111111111111,
              "#46039f"
             ],
             [
              0.2222222222222222,
              "#7201a8"
             ],
             [
              0.3333333333333333,
              "#9c179e"
             ],
             [
              0.4444444444444444,
              "#bd3786"
             ],
             [
              0.5555555555555556,
              "#d8576b"
             ],
             [
              0.6666666666666666,
              "#ed7953"
             ],
             [
              0.7777777777777778,
              "#fb9f3a"
             ],
             [
              0.8888888888888888,
              "#fdca26"
             ],
             [
              1,
              "#f0f921"
             ]
            ],
            "type": "contour"
           }
          ],
          "contourcarpet": [
           {
            "colorbar": {
             "outlinewidth": 0,
             "ticks": ""
            },
            "type": "contourcarpet"
           }
          ],
          "heatmap": [
           {
            "colorbar": {
             "outlinewidth": 0,
             "ticks": ""
            },
            "colorscale": [
             [
              0,
              "#0d0887"
             ],
             [
              0.1111111111111111,
              "#46039f"
             ],
             [
              0.2222222222222222,
              "#7201a8"
             ],
             [
              0.3333333333333333,
              "#9c179e"
             ],
             [
              0.4444444444444444,
              "#bd3786"
             ],
             [
              0.5555555555555556,
              "#d8576b"
             ],
             [
              0.6666666666666666,
              "#ed7953"
             ],
             [
              0.7777777777777778,
              "#fb9f3a"
             ],
             [
              0.8888888888888888,
              "#fdca26"
             ],
             [
              1,
              "#f0f921"
             ]
            ],
            "type": "heatmap"
           }
          ],
          "heatmapgl": [
           {
            "colorbar": {
             "outlinewidth": 0,
             "ticks": ""
            },
            "colorscale": [
             [
              0,
              "#0d0887"
             ],
             [
              0.1111111111111111,
              "#46039f"
             ],
             [
              0.2222222222222222,
              "#7201a8"
             ],
             [
              0.3333333333333333,
              "#9c179e"
             ],
             [
              0.4444444444444444,
              "#bd3786"
             ],
             [
              0.5555555555555556,
              "#d8576b"
             ],
             [
              0.6666666666666666,
              "#ed7953"
             ],
             [
              0.7777777777777778,
              "#fb9f3a"
             ],
             [
              0.8888888888888888,
              "#fdca26"
             ],
             [
              1,
              "#f0f921"
             ]
            ],
            "type": "heatmapgl"
           }
          ],
          "histogram": [
           {
            "marker": {
             "pattern": {
              "fillmode": "overlay",
              "size": 10,
              "solidity": 0.2
             }
            },
            "type": "histogram"
           }
          ],
          "histogram2d": [
           {
            "colorbar": {
             "outlinewidth": 0,
             "ticks": ""
            },
            "colorscale": [
             [
              0,
              "#0d0887"
             ],
             [
              0.1111111111111111,
              "#46039f"
             ],
             [
              0.2222222222222222,
              "#7201a8"
             ],
             [
              0.3333333333333333,
              "#9c179e"
             ],
             [
              0.4444444444444444,
              "#bd3786"
             ],
             [
              0.5555555555555556,
              "#d8576b"
             ],
             [
              0.6666666666666666,
              "#ed7953"
             ],
             [
              0.7777777777777778,
              "#fb9f3a"
             ],
             [
              0.8888888888888888,
              "#fdca26"
             ],
             [
              1,
              "#f0f921"
             ]
            ],
            "type": "histogram2d"
           }
          ],
          "histogram2dcontour": [
           {
            "colorbar": {
             "outlinewidth": 0,
             "ticks": ""
            },
            "colorscale": [
             [
              0,
              "#0d0887"
             ],
             [
              0.1111111111111111,
              "#46039f"
             ],
             [
              0.2222222222222222,
              "#7201a8"
             ],
             [
              0.3333333333333333,
              "#9c179e"
             ],
             [
              0.4444444444444444,
              "#bd3786"
             ],
             [
              0.5555555555555556,
              "#d8576b"
             ],
             [
              0.6666666666666666,
              "#ed7953"
             ],
             [
              0.7777777777777778,
              "#fb9f3a"
             ],
             [
              0.8888888888888888,
              "#fdca26"
             ],
             [
              1,
              "#f0f921"
             ]
            ],
            "type": "histogram2dcontour"
           }
          ],
          "mesh3d": [
           {
            "colorbar": {
             "outlinewidth": 0,
             "ticks": ""
            },
            "type": "mesh3d"
           }
          ],
          "parcoords": [
           {
            "line": {
             "colorbar": {
              "outlinewidth": 0,
              "ticks": ""
             }
            },
            "type": "parcoords"
           }
          ],
          "pie": [
           {
            "automargin": true,
            "type": "pie"
           }
          ],
          "scatter": [
           {
            "marker": {
             "colorbar": {
              "outlinewidth": 0,
              "ticks": ""
             }
            },
            "type": "scatter"
           }
          ],
          "scatter3d": [
           {
            "line": {
             "colorbar": {
              "outlinewidth": 0,
              "ticks": ""
             }
            },
            "marker": {
             "colorbar": {
              "outlinewidth": 0,
              "ticks": ""
             }
            },
            "type": "scatter3d"
           }
          ],
          "scattercarpet": [
           {
            "marker": {
             "colorbar": {
              "outlinewidth": 0,
              "ticks": ""
             }
            },
            "type": "scattercarpet"
           }
          ],
          "scattergeo": [
           {
            "marker": {
             "colorbar": {
              "outlinewidth": 0,
              "ticks": ""
             }
            },
            "type": "scattergeo"
           }
          ],
          "scattergl": [
           {
            "marker": {
             "colorbar": {
              "outlinewidth": 0,
              "ticks": ""
             }
            },
            "type": "scattergl"
           }
          ],
          "scattermapbox": [
           {
            "marker": {
             "colorbar": {
              "outlinewidth": 0,
              "ticks": ""
             }
            },
            "type": "scattermapbox"
           }
          ],
          "scatterpolar": [
           {
            "marker": {
             "colorbar": {
              "outlinewidth": 0,
              "ticks": ""
             }
            },
            "type": "scatterpolar"
           }
          ],
          "scatterpolargl": [
           {
            "marker": {
             "colorbar": {
              "outlinewidth": 0,
              "ticks": ""
             }
            },
            "type": "scatterpolargl"
           }
          ],
          "scatterternary": [
           {
            "marker": {
             "colorbar": {
              "outlinewidth": 0,
              "ticks": ""
             }
            },
            "type": "scatterternary"
           }
          ],
          "surface": [
           {
            "colorbar": {
             "outlinewidth": 0,
             "ticks": ""
            },
            "colorscale": [
             [
              0,
              "#0d0887"
             ],
             [
              0.1111111111111111,
              "#46039f"
             ],
             [
              0.2222222222222222,
              "#7201a8"
             ],
             [
              0.3333333333333333,
              "#9c179e"
             ],
             [
              0.4444444444444444,
              "#bd3786"
             ],
             [
              0.5555555555555556,
              "#d8576b"
             ],
             [
              0.6666666666666666,
              "#ed7953"
             ],
             [
              0.7777777777777778,
              "#fb9f3a"
             ],
             [
              0.8888888888888888,
              "#fdca26"
             ],
             [
              1,
              "#f0f921"
             ]
            ],
            "type": "surface"
           }
          ],
          "table": [
           {
            "cells": {
             "fill": {
              "color": "#EBF0F8"
             },
             "line": {
              "color": "white"
             }
            },
            "header": {
             "fill": {
              "color": "#C8D4E3"
             },
             "line": {
              "color": "white"
             }
            },
            "type": "table"
           }
          ]
         },
         "layout": {
          "annotationdefaults": {
           "arrowcolor": "#2a3f5f",
           "arrowhead": 0,
           "arrowwidth": 1
          },
          "autotypenumbers": "strict",
          "coloraxis": {
           "colorbar": {
            "outlinewidth": 0,
            "ticks": ""
           }
          },
          "colorscale": {
           "diverging": [
            [
             0,
             "#8e0152"
            ],
            [
             0.1,
             "#c51b7d"
            ],
            [
             0.2,
             "#de77ae"
            ],
            [
             0.3,
             "#f1b6da"
            ],
            [
             0.4,
             "#fde0ef"
            ],
            [
             0.5,
             "#f7f7f7"
            ],
            [
             0.6,
             "#e6f5d0"
            ],
            [
             0.7,
             "#b8e186"
            ],
            [
             0.8,
             "#7fbc41"
            ],
            [
             0.9,
             "#4d9221"
            ],
            [
             1,
             "#276419"
            ]
           ],
           "sequential": [
            [
             0,
             "#0d0887"
            ],
            [
             0.1111111111111111,
             "#46039f"
            ],
            [
             0.2222222222222222,
             "#7201a8"
            ],
            [
             0.3333333333333333,
             "#9c179e"
            ],
            [
             0.4444444444444444,
             "#bd3786"
            ],
            [
             0.5555555555555556,
             "#d8576b"
            ],
            [
             0.6666666666666666,
             "#ed7953"
            ],
            [
             0.7777777777777778,
             "#fb9f3a"
            ],
            [
             0.8888888888888888,
             "#fdca26"
            ],
            [
             1,
             "#f0f921"
            ]
           ],
           "sequentialminus": [
            [
             0,
             "#0d0887"
            ],
            [
             0.1111111111111111,
             "#46039f"
            ],
            [
             0.2222222222222222,
             "#7201a8"
            ],
            [
             0.3333333333333333,
             "#9c179e"
            ],
            [
             0.4444444444444444,
             "#bd3786"
            ],
            [
             0.5555555555555556,
             "#d8576b"
            ],
            [
             0.6666666666666666,
             "#ed7953"
            ],
            [
             0.7777777777777778,
             "#fb9f3a"
            ],
            [
             0.8888888888888888,
             "#fdca26"
            ],
            [
             1,
             "#f0f921"
            ]
           ]
          },
          "colorway": [
           "#636efa",
           "#EF553B",
           "#00cc96",
           "#ab63fa",
           "#FFA15A",
           "#19d3f3",
           "#FF6692",
           "#B6E880",
           "#FF97FF",
           "#FECB52"
          ],
          "font": {
           "color": "#2a3f5f"
          },
          "geo": {
           "bgcolor": "white",
           "lakecolor": "white",
           "landcolor": "#E5ECF6",
           "showlakes": true,
           "showland": true,
           "subunitcolor": "white"
          },
          "hoverlabel": {
           "align": "left"
          },
          "hovermode": "closest",
          "mapbox": {
           "style": "light"
          },
          "paper_bgcolor": "white",
          "plot_bgcolor": "#E5ECF6",
          "polar": {
           "angularaxis": {
            "gridcolor": "white",
            "linecolor": "white",
            "ticks": ""
           },
           "bgcolor": "#E5ECF6",
           "radialaxis": {
            "gridcolor": "white",
            "linecolor": "white",
            "ticks": ""
           }
          },
          "scene": {
           "xaxis": {
            "backgroundcolor": "#E5ECF6",
            "gridcolor": "white",
            "gridwidth": 2,
            "linecolor": "white",
            "showbackground": true,
            "ticks": "",
            "zerolinecolor": "white"
           },
           "yaxis": {
            "backgroundcolor": "#E5ECF6",
            "gridcolor": "white",
            "gridwidth": 2,
            "linecolor": "white",
            "showbackground": true,
            "ticks": "",
            "zerolinecolor": "white"
           },
           "zaxis": {
            "backgroundcolor": "#E5ECF6",
            "gridcolor": "white",
            "gridwidth": 2,
            "linecolor": "white",
            "showbackground": true,
            "ticks": "",
            "zerolinecolor": "white"
           }
          },
          "shapedefaults": {
           "line": {
            "color": "#2a3f5f"
           }
          },
          "ternary": {
           "aaxis": {
            "gridcolor": "white",
            "linecolor": "white",
            "ticks": ""
           },
           "baxis": {
            "gridcolor": "white",
            "linecolor": "white",
            "ticks": ""
           },
           "bgcolor": "#E5ECF6",
           "caxis": {
            "gridcolor": "white",
            "linecolor": "white",
            "ticks": ""
           }
          },
          "title": {
           "x": 0.05
          },
          "xaxis": {
           "automargin": true,
           "gridcolor": "white",
           "linecolor": "white",
           "ticks": "",
           "title": {
            "standoff": 15
           },
           "zerolinecolor": "white",
           "zerolinewidth": 2
          },
          "yaxis": {
           "automargin": true,
           "gridcolor": "white",
           "linecolor": "white",
           "ticks": "",
           "title": {
            "standoff": 15
           },
           "zerolinecolor": "white",
           "zerolinewidth": 2
          }
         }
        },
        "title": {
         "font": {
          "color": "#4D5663"
         }
        },
        "xaxis": {
         "gridcolor": "#E1E5ED",
         "showgrid": true,
         "tickfont": {
          "color": "#4D5663"
         },
         "title": {
          "font": {
           "color": "#4D5663"
          },
          "text": ""
         },
         "zerolinecolor": "#E1E5ED"
        },
        "yaxis": {
         "gridcolor": "#E1E5ED",
         "showgrid": true,
         "tickfont": {
          "color": "#4D5663"
         },
         "title": {
          "font": {
           "color": "#4D5663"
          },
          "text": ""
         },
         "zerolinecolor": "#E1E5ED"
        }
       }
      },
      "text/html": [
       "<div>                            <div id=\"eef9819d-cfca-46fd-8173-a8b70da1b11e\" class=\"plotly-graph-div\" style=\"height:525px; width:100%;\"></div>            <script type=\"text/javascript\">                require([\"plotly\"], function(Plotly) {                    window.PLOTLYENV=window.PLOTLYENV || {};\n",
       "                    window.PLOTLYENV.BASE_URL='https://plot.ly';                                    if (document.getElementById(\"eef9819d-cfca-46fd-8173-a8b70da1b11e\")) {                    Plotly.newPlot(                        \"eef9819d-cfca-46fd-8173-a8b70da1b11e\",                        [{\"boxpoints\":false,\"line\":{\"width\":1.3},\"marker\":{\"color\":\"rgba(255, 153, 51, 1.0)\"},\"name\":\"A\",\"orientation\":\"v\",\"y\":[0.04069591197739794,-1.5387534862825873,-0.37054138227832717,0.42226759931628843,0.3126115498148938,0.8490945987665685,0.32657941317006145,-0.49107061022674736,-2.1507284205628596,-0.24408786953956163,-0.6520390343561558,-0.5252670649155886,-0.6648895358403708,-0.5337196496902474,2.5411528745491845,0.2721785495038353,0.3139632084051519,-0.5035017349764002,-0.6295298431031526,-0.9967697705581974,-0.3010684232864244,0.6526617395566436,0.6907035696708207,-0.29469416900060214,1.1535301811355754,-1.0100015678978271,-0.12069661348651797,0.8054776442724979,0.8389775988783994,0.7242360206836844,0.9947539832929825,-1.0297374004329243,1.273616985140703,0.0385151859114759,0.8766328063292678,0.596186279085301,-0.2676827420402636,1.6188897257768609,-0.5896403663629634,0.18206868764406353,0.3883297472018753,0.23541068732887283,-1.4667899496388717,0.22401979434166064,-0.24920165254461157,0.5864379214604486,-1.7867426348719786,-0.2388326424614991,-0.20700690841934505,-1.7418204632698755,-0.4975267325235522,-0.4383857315299486,-0.023908325805154496,-1.0099213450430722,1.3151743319977625,2.164235305837594,-1.559781794551808,0.15948892175662965,0.5369468612262032,0.3034419209406845,-0.8190508980320342,1.0613854718635283,-2.703085539999277,0.5993190210185522,-0.9769014482176318,1.677907800787111,-0.037964248402260675,0.4670173507050114,-0.019662592262844062,-0.568296779760827,0.04060896866941458,-1.209244924940564,-0.3209018867296929,2.4149477205376115,-0.25490330030542974,1.1797721447905096,0.8421878895000109,1.745102272056137,-1.071361491881029,-0.45008076881205805,0.42161710288352783,-1.7093741336754915,0.08909834069035083,0.29993713511028813,1.018646413711966,-0.6880074411425571,0.3452603917017754,0.2487633064244093,0.21135195131935697,0.33047551702590044,-0.43227148671025234,-0.2937569887054107,1.4680107137436962,0.19817518709820703,-0.08239264069950791,-1.5739263364676956,-0.5863039056329027,-0.0634286623026407,-0.5916518804306173,-0.12187591316350242],\"type\":\"box\"},{\"boxpoints\":false,\"line\":{\"width\":1.3},\"marker\":{\"color\":\"rgba(55, 128, 191, 1.0)\"},\"name\":\"B\",\"orientation\":\"v\",\"y\":[0.995826467880346,-0.7369617224098037,0.37127384864429896,1.4973374656255485,-0.5136756334794229,-0.16912706548129708,-2.0136478401254956,0.6590292067347793,0.5281735423979428,-0.22596764617781726,0.8179265840659411,-0.7675078258062362,1.5557993453415198,1.1764532616325682,0.48410024097701665,0.7245640901748778,-0.1743255957392895,0.12398933128539748,0.7714456731235291,0.4057913540833407,1.186256289895277,-0.02105445729321405,-0.08094294955411512,0.2334964169726154,-1.8516069705667002,0.730782588490572,-0.7489429321852894,0.2560040303932152,0.7382717289609817,-0.9038563922535384,-0.14304968680136568,-0.7362909814018258,2.4014638348495625,-0.9026406680150731,2.56264403068799,-1.5081115882613203,-0.8431226423071239,-0.13073570393892617,0.8996129861200042,1.1399824665465794,0.048426080024693695,0.1668940515774451,-0.08354431280016783,-0.18563155879013335,0.13989039833424813,-0.6733933082584179,1.6206985566519567,-1.20146237893275,-2.0022301652003573,-0.5543558182050398,-2.492083782632766,-2.653638610926458,1.0403224744840096,-1.2503717390785278,1.2484039627566348,-0.1815316960413127,-0.7612710351716687,-0.5500424255656814,0.28190325275693273,0.33361672883874766,1.0952631148175236,1.9310982225189801,-1.2124783622530837,-1.2862055362957667,-1.3330480187478047,0.3731780294861189,-0.10194186296865584,-0.9603560274610924,-2.970109852235134,1.1441009979146743,0.04271329041066948,-1.3752165049488514,0.23494443618611646,0.8056619087889803,-2.9041102254767166,-0.6848921718215347,1.594433615490069,-1.4615825894063526,-0.13199479952107832,-0.2149473654351705,0.009768856092341214,-0.4052730444685135,-0.568991920341303,-1.084975804825773,-0.2663777907791061,-0.4762543065114372,0.028773158565766913,-0.7850746849449068,-0.6945749900304474,0.8427544736504147,-0.08393240804690318,-1.627899725389288,-0.21845671984730042,-0.47356107511270346,0.4357599336028361,-0.70845175800104,1.7153318283877876,0.8496103465694999,-1.5572805557424916,2.0251386210861186],\"type\":\"box\"},{\"boxpoints\":false,\"line\":{\"width\":1.3},\"marker\":{\"color\":\"rgba(50, 171, 96, 1.0)\"},\"name\":\"C\",\"orientation\":\"v\",\"y\":[-0.09389924246810805,0.46693784219434303,1.5981105835428606,0.939579245061577,0.7353018080757163,0.646999790089509,-0.33768524482540635,0.8517183133690732,-0.3384120781905001,-0.3274608793784002,0.3611770364046952,-1.4324134965299424,-1.3423692799559948,0.6653145797092015,1.6654082381434867,-2.020428438095846,0.09521652455894322,-0.4203687326465551,0.27431514414201197,-0.042820910303760805,-1.8621475850762577,-0.1672421567112696,0.8990975423749583,-1.270119359829677,-0.5746895495068903,-0.31890119840212383,2.2781245825620626,-0.36013671693763616,0.8828486167671366,-0.3525176349246981,-1.038424938990193,-1.2571132847557838,-0.722802101739417,1.09652110251346,-0.4860419291434229,0.04831710062416164,0.6765773534698574,-1.8480362076705836,-0.45892892454316075,0.4285622114547675,-0.8266561357422507,-0.322348796606711,-0.8875048573626982,-1.4553460601722525,-0.2503900748624838,1.0481974368802498,0.12429421845735472,0.660838527309358,1.6285759733899243,2.320700153051851,-0.20727290897373735,-0.03537029993862725,0.202414319281178,-0.7773088877291788,1.2163903659622308,0.048352193156689226,0.31017736336031887,-0.5741650006672349,2.220593399617657,1.0426301077746036,0.01789033403987293,-0.21821945842542395,-0.6817997624610167,0.18781578841879995,-0.10048108951657567,-1.2091706254267716,2.100116509821881,1.5572668184385687,0.11149873271719092,-0.9289841087187439,-0.48639998626464015,-0.2357056005630904,0.1312857384290406,-0.6189075163619262,-1.517855238304068,-0.20063050415677747,-0.11154419808878213,-2.1543594541608555,0.5991817972692761,0.1874823907819667,-0.40855192884095826,-0.45544930558017094,-0.9779669239559734,-0.10539664895270522,-0.40806221877933696,1.3651121191971893,-0.6014893104206162,1.3156915791575803,-0.6587323985544884,-1.067454889181448,0.05353779844388949,0.050740582498669765,-0.3410220481473968,0.6939361774346295,0.3745983221830779,0.00390113269939864,-1.2778068397693865,-1.9045976637933393,0.23769910520867105,-1.2346184798868076],\"type\":\"box\"},{\"boxpoints\":false,\"line\":{\"width\":1.3},\"marker\":{\"color\":\"rgba(128, 0, 128, 1.0)\"},\"name\":\"D\",\"orientation\":\"v\",\"y\":[1.8536786587611707,0.31748701494719056,-1.5914137200326584,-1.8201446872430338,0.19942928864633003,-0.9179397030896396,-2.09783941616522,-1.500452381480773,0.921541813332476,-0.20283949702568466,-0.6224091041757651,-1.5309497626013673,2.3960370035120446,-0.798906464588825,2.6855530977557778,0.5220481471245186,-0.08582089303477562,-0.5847199205396268,0.3859634480227872,-0.4365193090897628,-0.8286648171246722,-0.08572601386447695,-1.3804843047424917,-1.0608984425490853,-0.6263509554355401,1.9859008957368793,-1.4489485453368747,0.5346258431159485,2.387929425784648,-0.3629636514626066,-1.606278511440651,-0.16083962877458965,1.4788501498787368,0.3690546302424768,-0.39434272594699243,-0.7204501129186216,-0.048470704701933834,0.3495814965023437,0.4434049265739363,-1.2219826611087121,-0.28550581198618147,-1.43564955517798,-1.0266421448996974,0.28182620745319154,0.650975407817685,-0.5523593168748906,-0.02826449419596439,0.5835488232553727,-0.45990628505108966,1.861942258383658,1.2247003424778167,-0.3926474871329264,-0.9872124239906978,0.18060257275506045,-3.1282202634719587,0.39015695867027855,-0.6032116714133441,1.5534065332882077,0.8076446774824714,-0.9466283913238981,0.2086053214047391,-1.5996173352620429,-0.5020738048324217,-0.885901490159055,0.435785110787616,-0.5052088166470903,-1.3757623133671353,-0.8472452639438817,-0.9119140192994585,0.31914466795431934,0.27656205648013976,0.7273345746414592,0.6274862198918303,-0.5336861185884401,-1.239705836405087,-0.14944745747340873,0.4664365322350763,0.576829998115034,1.1514488000990495,-0.32445430867609126,-0.5886129375934483,1.190812562297307,0.3207151318146256,-2.4099613330281167,0.9281084747609742,-1.4653632806521992,-1.1968090028828493,-0.43696814652571847,1.0470087389279674,-0.25243610009812334,-0.1715567422039336,-1.3064481634837306,0.31353487491155757,-0.906234469311814,-0.1554311832054045,0.04358606621245248,-1.232136715096742,-0.17106586593775666,1.3350788478359195,-0.6493521538932258],\"type\":\"box\"}],                        {\"legend\":{\"bgcolor\":\"#F5F6F9\",\"font\":{\"color\":\"#4D5663\"}},\"paper_bgcolor\":\"#F5F6F9\",\"plot_bgcolor\":\"#F5F6F9\",\"template\":{\"data\":{\"barpolar\":[{\"marker\":{\"line\":{\"color\":\"#E5ECF6\",\"width\":0.5},\"pattern\":{\"fillmode\":\"overlay\",\"size\":10,\"solidity\":0.2}},\"type\":\"barpolar\"}],\"bar\":[{\"error_x\":{\"color\":\"#2a3f5f\"},\"error_y\":{\"color\":\"#2a3f5f\"},\"marker\":{\"line\":{\"color\":\"#E5ECF6\",\"width\":0.5},\"pattern\":{\"fillmode\":\"overlay\",\"size\":10,\"solidity\":0.2}},\"type\":\"bar\"}],\"carpet\":[{\"aaxis\":{\"endlinecolor\":\"#2a3f5f\",\"gridcolor\":\"white\",\"linecolor\":\"white\",\"minorgridcolor\":\"white\",\"startlinecolor\":\"#2a3f5f\"},\"baxis\":{\"endlinecolor\":\"#2a3f5f\",\"gridcolor\":\"white\",\"linecolor\":\"white\",\"minorgridcolor\":\"white\",\"startlinecolor\":\"#2a3f5f\"},\"type\":\"carpet\"}],\"choropleth\":[{\"colorbar\":{\"outlinewidth\":0,\"ticks\":\"\"},\"type\":\"choropleth\"}],\"contourcarpet\":[{\"colorbar\":{\"outlinewidth\":0,\"ticks\":\"\"},\"type\":\"contourcarpet\"}],\"contour\":[{\"colorbar\":{\"outlinewidth\":0,\"ticks\":\"\"},\"colorscale\":[[0.0,\"#0d0887\"],[0.1111111111111111,\"#46039f\"],[0.2222222222222222,\"#7201a8\"],[0.3333333333333333,\"#9c179e\"],[0.4444444444444444,\"#bd3786\"],[0.5555555555555556,\"#d8576b\"],[0.6666666666666666,\"#ed7953\"],[0.7777777777777778,\"#fb9f3a\"],[0.8888888888888888,\"#fdca26\"],[1.0,\"#f0f921\"]],\"type\":\"contour\"}],\"heatmapgl\":[{\"colorbar\":{\"outlinewidth\":0,\"ticks\":\"\"},\"colorscale\":[[0.0,\"#0d0887\"],[0.1111111111111111,\"#46039f\"],[0.2222222222222222,\"#7201a8\"],[0.3333333333333333,\"#9c179e\"],[0.4444444444444444,\"#bd3786\"],[0.5555555555555556,\"#d8576b\"],[0.6666666666666666,\"#ed7953\"],[0.7777777777777778,\"#fb9f3a\"],[0.8888888888888888,\"#fdca26\"],[1.0,\"#f0f921\"]],\"type\":\"heatmapgl\"}],\"heatmap\":[{\"colorbar\":{\"outlinewidth\":0,\"ticks\":\"\"},\"colorscale\":[[0.0,\"#0d0887\"],[0.1111111111111111,\"#46039f\"],[0.2222222222222222,\"#7201a8\"],[0.3333333333333333,\"#9c179e\"],[0.4444444444444444,\"#bd3786\"],[0.5555555555555556,\"#d8576b\"],[0.6666666666666666,\"#ed7953\"],[0.7777777777777778,\"#fb9f3a\"],[0.8888888888888888,\"#fdca26\"],[1.0,\"#f0f921\"]],\"type\":\"heatmap\"}],\"histogram2dcontour\":[{\"colorbar\":{\"outlinewidth\":0,\"ticks\":\"\"},\"colorscale\":[[0.0,\"#0d0887\"],[0.1111111111111111,\"#46039f\"],[0.2222222222222222,\"#7201a8\"],[0.3333333333333333,\"#9c179e\"],[0.4444444444444444,\"#bd3786\"],[0.5555555555555556,\"#d8576b\"],[0.6666666666666666,\"#ed7953\"],[0.7777777777777778,\"#fb9f3a\"],[0.8888888888888888,\"#fdca26\"],[1.0,\"#f0f921\"]],\"type\":\"histogram2dcontour\"}],\"histogram2d\":[{\"colorbar\":{\"outlinewidth\":0,\"ticks\":\"\"},\"colorscale\":[[0.0,\"#0d0887\"],[0.1111111111111111,\"#46039f\"],[0.2222222222222222,\"#7201a8\"],[0.3333333333333333,\"#9c179e\"],[0.4444444444444444,\"#bd3786\"],[0.5555555555555556,\"#d8576b\"],[0.6666666666666666,\"#ed7953\"],[0.7777777777777778,\"#fb9f3a\"],[0.8888888888888888,\"#fdca26\"],[1.0,\"#f0f921\"]],\"type\":\"histogram2d\"}],\"histogram\":[{\"marker\":{\"pattern\":{\"fillmode\":\"overlay\",\"size\":10,\"solidity\":0.2}},\"type\":\"histogram\"}],\"mesh3d\":[{\"colorbar\":{\"outlinewidth\":0,\"ticks\":\"\"},\"type\":\"mesh3d\"}],\"parcoords\":[{\"line\":{\"colorbar\":{\"outlinewidth\":0,\"ticks\":\"\"}},\"type\":\"parcoords\"}],\"pie\":[{\"automargin\":true,\"type\":\"pie\"}],\"scatter3d\":[{\"line\":{\"colorbar\":{\"outlinewidth\":0,\"ticks\":\"\"}},\"marker\":{\"colorbar\":{\"outlinewidth\":0,\"ticks\":\"\"}},\"type\":\"scatter3d\"}],\"scattercarpet\":[{\"marker\":{\"colorbar\":{\"outlinewidth\":0,\"ticks\":\"\"}},\"type\":\"scattercarpet\"}],\"scattergeo\":[{\"marker\":{\"colorbar\":{\"outlinewidth\":0,\"ticks\":\"\"}},\"type\":\"scattergeo\"}],\"scattergl\":[{\"marker\":{\"colorbar\":{\"outlinewidth\":0,\"ticks\":\"\"}},\"type\":\"scattergl\"}],\"scattermapbox\":[{\"marker\":{\"colorbar\":{\"outlinewidth\":0,\"ticks\":\"\"}},\"type\":\"scattermapbox\"}],\"scatterpolargl\":[{\"marker\":{\"colorbar\":{\"outlinewidth\":0,\"ticks\":\"\"}},\"type\":\"scatterpolargl\"}],\"scatterpolar\":[{\"marker\":{\"colorbar\":{\"outlinewidth\":0,\"ticks\":\"\"}},\"type\":\"scatterpolar\"}],\"scatter\":[{\"marker\":{\"colorbar\":{\"outlinewidth\":0,\"ticks\":\"\"}},\"type\":\"scatter\"}],\"scatterternary\":[{\"marker\":{\"colorbar\":{\"outlinewidth\":0,\"ticks\":\"\"}},\"type\":\"scatterternary\"}],\"surface\":[{\"colorbar\":{\"outlinewidth\":0,\"ticks\":\"\"},\"colorscale\":[[0.0,\"#0d0887\"],[0.1111111111111111,\"#46039f\"],[0.2222222222222222,\"#7201a8\"],[0.3333333333333333,\"#9c179e\"],[0.4444444444444444,\"#bd3786\"],[0.5555555555555556,\"#d8576b\"],[0.6666666666666666,\"#ed7953\"],[0.7777777777777778,\"#fb9f3a\"],[0.8888888888888888,\"#fdca26\"],[1.0,\"#f0f921\"]],\"type\":\"surface\"}],\"table\":[{\"cells\":{\"fill\":{\"color\":\"#EBF0F8\"},\"line\":{\"color\":\"white\"}},\"header\":{\"fill\":{\"color\":\"#C8D4E3\"},\"line\":{\"color\":\"white\"}},\"type\":\"table\"}]},\"layout\":{\"annotationdefaults\":{\"arrowcolor\":\"#2a3f5f\",\"arrowhead\":0,\"arrowwidth\":1},\"autotypenumbers\":\"strict\",\"coloraxis\":{\"colorbar\":{\"outlinewidth\":0,\"ticks\":\"\"}},\"colorscale\":{\"diverging\":[[0,\"#8e0152\"],[0.1,\"#c51b7d\"],[0.2,\"#de77ae\"],[0.3,\"#f1b6da\"],[0.4,\"#fde0ef\"],[0.5,\"#f7f7f7\"],[0.6,\"#e6f5d0\"],[0.7,\"#b8e186\"],[0.8,\"#7fbc41\"],[0.9,\"#4d9221\"],[1,\"#276419\"]],\"sequential\":[[0.0,\"#0d0887\"],[0.1111111111111111,\"#46039f\"],[0.2222222222222222,\"#7201a8\"],[0.3333333333333333,\"#9c179e\"],[0.4444444444444444,\"#bd3786\"],[0.5555555555555556,\"#d8576b\"],[0.6666666666666666,\"#ed7953\"],[0.7777777777777778,\"#fb9f3a\"],[0.8888888888888888,\"#fdca26\"],[1.0,\"#f0f921\"]],\"sequentialminus\":[[0.0,\"#0d0887\"],[0.1111111111111111,\"#46039f\"],[0.2222222222222222,\"#7201a8\"],[0.3333333333333333,\"#9c179e\"],[0.4444444444444444,\"#bd3786\"],[0.5555555555555556,\"#d8576b\"],[0.6666666666666666,\"#ed7953\"],[0.7777777777777778,\"#fb9f3a\"],[0.8888888888888888,\"#fdca26\"],[1.0,\"#f0f921\"]]},\"colorway\":[\"#636efa\",\"#EF553B\",\"#00cc96\",\"#ab63fa\",\"#FFA15A\",\"#19d3f3\",\"#FF6692\",\"#B6E880\",\"#FF97FF\",\"#FECB52\"],\"font\":{\"color\":\"#2a3f5f\"},\"geo\":{\"bgcolor\":\"white\",\"lakecolor\":\"white\",\"landcolor\":\"#E5ECF6\",\"showlakes\":true,\"showland\":true,\"subunitcolor\":\"white\"},\"hoverlabel\":{\"align\":\"left\"},\"hovermode\":\"closest\",\"mapbox\":{\"style\":\"light\"},\"paper_bgcolor\":\"white\",\"plot_bgcolor\":\"#E5ECF6\",\"polar\":{\"angularaxis\":{\"gridcolor\":\"white\",\"linecolor\":\"white\",\"ticks\":\"\"},\"bgcolor\":\"#E5ECF6\",\"radialaxis\":{\"gridcolor\":\"white\",\"linecolor\":\"white\",\"ticks\":\"\"}},\"scene\":{\"xaxis\":{\"backgroundcolor\":\"#E5ECF6\",\"gridcolor\":\"white\",\"gridwidth\":2,\"linecolor\":\"white\",\"showbackground\":true,\"ticks\":\"\",\"zerolinecolor\":\"white\"},\"yaxis\":{\"backgroundcolor\":\"#E5ECF6\",\"gridcolor\":\"white\",\"gridwidth\":2,\"linecolor\":\"white\",\"showbackground\":true,\"ticks\":\"\",\"zerolinecolor\":\"white\"},\"zaxis\":{\"backgroundcolor\":\"#E5ECF6\",\"gridcolor\":\"white\",\"gridwidth\":2,\"linecolor\":\"white\",\"showbackground\":true,\"ticks\":\"\",\"zerolinecolor\":\"white\"}},\"shapedefaults\":{\"line\":{\"color\":\"#2a3f5f\"}},\"ternary\":{\"aaxis\":{\"gridcolor\":\"white\",\"linecolor\":\"white\",\"ticks\":\"\"},\"baxis\":{\"gridcolor\":\"white\",\"linecolor\":\"white\",\"ticks\":\"\"},\"bgcolor\":\"#E5ECF6\",\"caxis\":{\"gridcolor\":\"white\",\"linecolor\":\"white\",\"ticks\":\"\"}},\"title\":{\"x\":0.05},\"xaxis\":{\"automargin\":true,\"gridcolor\":\"white\",\"linecolor\":\"white\",\"ticks\":\"\",\"title\":{\"standoff\":15},\"zerolinecolor\":\"white\",\"zerolinewidth\":2},\"yaxis\":{\"automargin\":true,\"gridcolor\":\"white\",\"linecolor\":\"white\",\"ticks\":\"\",\"title\":{\"standoff\":15},\"zerolinecolor\":\"white\",\"zerolinewidth\":2}}},\"title\":{\"font\":{\"color\":\"#4D5663\"}},\"xaxis\":{\"gridcolor\":\"#E1E5ED\",\"showgrid\":true,\"tickfont\":{\"color\":\"#4D5663\"},\"title\":{\"font\":{\"color\":\"#4D5663\"},\"text\":\"\"},\"zerolinecolor\":\"#E1E5ED\"},\"yaxis\":{\"gridcolor\":\"#E1E5ED\",\"showgrid\":true,\"tickfont\":{\"color\":\"#4D5663\"},\"title\":{\"font\":{\"color\":\"#4D5663\"},\"text\":\"\"},\"zerolinecolor\":\"#E1E5ED\"}},                        {\"showLink\": true, \"linkText\": \"Export to plot.ly\", \"plotlyServerURL\": \"https://plot.ly\", \"responsive\": true}                    ).then(function(){\n",
       "                            \n",
       "var gd = document.getElementById('eef9819d-cfca-46fd-8173-a8b70da1b11e');\n",
       "var x = new MutationObserver(function (mutations, observer) {{\n",
       "        var display = window.getComputedStyle(gd).display;\n",
       "        if (!display || display === 'none') {{\n",
       "            console.log([gd, 'removed!']);\n",
       "            Plotly.purge(gd);\n",
       "            observer.disconnect();\n",
       "        }}\n",
       "}});\n",
       "\n",
       "// Listen for the removal of the full notebook cells\n",
       "var notebookContainer = gd.closest('#notebook-container');\n",
       "if (notebookContainer) {{\n",
       "    x.observe(notebookContainer, {childList: true});\n",
       "}}\n",
       "\n",
       "// Listen for the clearing of the current output cell\n",
       "var outputEl = gd.closest('.output');\n",
       "if (outputEl) {{\n",
       "    x.observe(outputEl, {childList: true});\n",
       "}}\n",
       "\n",
       "                        })                };                });            </script>        </div>"
      ]
     },
     "metadata": {},
     "output_type": "display_data"
    }
   ],
   "source": [
    "df.iplot(kind='box')"
   ]
  },
  {
   "cell_type": "code",
   "execution_count": 15,
   "metadata": {},
   "outputs": [
    {
     "data": {
      "application/vnd.plotly.v1+json": {
       "config": {
        "linkText": "Export to plot.ly",
        "plotlyServerURL": "https://plot.ly",
        "showLink": true
       },
       "data": [
        {
         "histfunc": "count",
         "histnorm": "",
         "marker": {
          "color": "rgba(255, 153, 51, 1.0)",
          "line": {
           "color": "#4D5663",
           "width": 1.3
          }
         },
         "name": "A",
         "nbinsx": 10,
         "opacity": 0.8,
         "orientation": "v",
         "type": "histogram",
         "x": [
          0.04069591197739794,
          -1.5387534862825873,
          -0.37054138227832717,
          0.42226759931628843,
          0.3126115498148938,
          0.8490945987665685,
          0.32657941317006145,
          -0.49107061022674736,
          -2.1507284205628596,
          -0.24408786953956163,
          -0.6520390343561558,
          -0.5252670649155886,
          -0.6648895358403708,
          -0.5337196496902474,
          2.5411528745491845,
          0.2721785495038353,
          0.3139632084051519,
          -0.5035017349764002,
          -0.6295298431031526,
          -0.9967697705581974,
          -0.3010684232864244,
          0.6526617395566436,
          0.6907035696708207,
          -0.29469416900060214,
          1.1535301811355754,
          -1.0100015678978271,
          -0.12069661348651797,
          0.8054776442724979,
          0.8389775988783994,
          0.7242360206836844,
          0.9947539832929825,
          -1.0297374004329243,
          1.273616985140703,
          0.0385151859114759,
          0.8766328063292678,
          0.596186279085301,
          -0.2676827420402636,
          1.6188897257768609,
          -0.5896403663629634,
          0.18206868764406353,
          0.3883297472018753,
          0.23541068732887283,
          -1.4667899496388717,
          0.22401979434166064,
          -0.24920165254461157,
          0.5864379214604486,
          -1.7867426348719786,
          -0.2388326424614991,
          -0.20700690841934505,
          -1.7418204632698755,
          -0.4975267325235522,
          -0.4383857315299486,
          -0.023908325805154496,
          -1.0099213450430722,
          1.3151743319977625,
          2.164235305837594,
          -1.559781794551808,
          0.15948892175662965,
          0.5369468612262032,
          0.3034419209406845,
          -0.8190508980320342,
          1.0613854718635283,
          -2.703085539999277,
          0.5993190210185522,
          -0.9769014482176318,
          1.677907800787111,
          -0.037964248402260675,
          0.4670173507050114,
          -0.019662592262844062,
          -0.568296779760827,
          0.04060896866941458,
          -1.209244924940564,
          -0.3209018867296929,
          2.4149477205376115,
          -0.25490330030542974,
          1.1797721447905096,
          0.8421878895000109,
          1.745102272056137,
          -1.071361491881029,
          -0.45008076881205805,
          0.42161710288352783,
          -1.7093741336754915,
          0.08909834069035083,
          0.29993713511028813,
          1.018646413711966,
          -0.6880074411425571,
          0.3452603917017754,
          0.2487633064244093,
          0.21135195131935697,
          0.33047551702590044,
          -0.43227148671025234,
          -0.2937569887054107,
          1.4680107137436962,
          0.19817518709820703,
          -0.08239264069950791,
          -1.5739263364676956,
          -0.5863039056329027,
          -0.0634286623026407,
          -0.5916518804306173,
          -0.12187591316350242
         ],
         "xaxis": "x",
         "yaxis": "y"
        },
        {
         "line": {
          "color": "rgba(128, 128, 128, 1.0)",
          "dash": "solid",
          "shape": "linear",
          "width": 1.3
         },
         "marker": {
          "size": 2,
          "symbol": "circle"
         },
         "mode": "markers",
         "name": "A",
         "text": "",
         "type": "scatter",
         "x": [
          0.995826467880346,
          -0.7369617224098037,
          0.37127384864429896,
          1.4973374656255485,
          -0.5136756334794229,
          -0.16912706548129708,
          -2.0136478401254956,
          0.6590292067347793,
          0.5281735423979428,
          -0.22596764617781726,
          0.8179265840659411,
          -0.7675078258062362,
          1.5557993453415198,
          1.1764532616325682,
          0.48410024097701665,
          0.7245640901748778,
          -0.1743255957392895,
          0.12398933128539748,
          0.7714456731235291,
          0.4057913540833407,
          1.186256289895277,
          -0.02105445729321405,
          -0.08094294955411512,
          0.2334964169726154,
          -1.8516069705667002,
          0.730782588490572,
          -0.7489429321852894,
          0.2560040303932152,
          0.7382717289609817,
          -0.9038563922535384,
          -0.14304968680136568,
          -0.7362909814018258,
          2.4014638348495625,
          -0.9026406680150731,
          2.56264403068799,
          -1.5081115882613203,
          -0.8431226423071239,
          -0.13073570393892617,
          0.8996129861200042,
          1.1399824665465794,
          0.048426080024693695,
          0.1668940515774451,
          -0.08354431280016783,
          -0.18563155879013335,
          0.13989039833424813,
          -0.6733933082584179,
          1.6206985566519567,
          -1.20146237893275,
          -2.0022301652003573,
          -0.5543558182050398,
          -2.492083782632766,
          -2.653638610926458,
          1.0403224744840096,
          -1.2503717390785278,
          1.2484039627566348,
          -0.1815316960413127,
          -0.7612710351716687,
          -0.5500424255656814,
          0.28190325275693273,
          0.33361672883874766,
          1.0952631148175236,
          1.9310982225189801,
          -1.2124783622530837,
          -1.2862055362957667,
          -1.3330480187478047,
          0.3731780294861189,
          -0.10194186296865584,
          -0.9603560274610924,
          -2.970109852235134,
          1.1441009979146743,
          0.04271329041066948,
          -1.3752165049488514,
          0.23494443618611646,
          0.8056619087889803,
          -2.9041102254767166,
          -0.6848921718215347,
          1.594433615490069,
          -1.4615825894063526,
          -0.13199479952107832,
          -0.2149473654351705,
          0.009768856092341214,
          -0.4052730444685135,
          -0.568991920341303,
          -1.084975804825773,
          -0.2663777907791061,
          -0.4762543065114372,
          0.028773158565766913,
          -0.7850746849449068,
          -0.6945749900304474,
          0.8427544736504147,
          -0.08393240804690318,
          -1.627899725389288,
          -0.21845671984730042,
          -0.47356107511270346,
          0.4357599336028361,
          -0.70845175800104,
          1.7153318283877876,
          0.8496103465694999,
          -1.5572805557424916,
          2.0251386210861186
         ],
         "xaxis": "x2",
         "y": [
          0.04069591197739794,
          -1.5387534862825873,
          -0.37054138227832717,
          0.42226759931628843,
          0.3126115498148938,
          0.8490945987665685,
          0.32657941317006145,
          -0.49107061022674736,
          -2.1507284205628596,
          -0.24408786953956163,
          -0.6520390343561558,
          -0.5252670649155886,
          -0.6648895358403708,
          -0.5337196496902474,
          2.5411528745491845,
          0.2721785495038353,
          0.3139632084051519,
          -0.5035017349764002,
          -0.6295298431031526,
          -0.9967697705581974,
          -0.3010684232864244,
          0.6526617395566436,
          0.6907035696708207,
          -0.29469416900060214,
          1.1535301811355754,
          -1.0100015678978271,
          -0.12069661348651797,
          0.8054776442724979,
          0.8389775988783994,
          0.7242360206836844,
          0.9947539832929825,
          -1.0297374004329243,
          1.273616985140703,
          0.0385151859114759,
          0.8766328063292678,
          0.596186279085301,
          -0.2676827420402636,
          1.6188897257768609,
          -0.5896403663629634,
          0.18206868764406353,
          0.3883297472018753,
          0.23541068732887283,
          -1.4667899496388717,
          0.22401979434166064,
          -0.24920165254461157,
          0.5864379214604486,
          -1.7867426348719786,
          -0.2388326424614991,
          -0.20700690841934505,
          -1.7418204632698755,
          -0.4975267325235522,
          -0.4383857315299486,
          -0.023908325805154496,
          -1.0099213450430722,
          1.3151743319977625,
          2.164235305837594,
          -1.559781794551808,
          0.15948892175662965,
          0.5369468612262032,
          0.3034419209406845,
          -0.8190508980320342,
          1.0613854718635283,
          -2.703085539999277,
          0.5993190210185522,
          -0.9769014482176318,
          1.677907800787111,
          -0.037964248402260675,
          0.4670173507050114,
          -0.019662592262844062,
          -0.568296779760827,
          0.04060896866941458,
          -1.209244924940564,
          -0.3209018867296929,
          2.4149477205376115,
          -0.25490330030542974,
          1.1797721447905096,
          0.8421878895000109,
          1.745102272056137,
          -1.071361491881029,
          -0.45008076881205805,
          0.42161710288352783,
          -1.7093741336754915,
          0.08909834069035083,
          0.29993713511028813,
          1.018646413711966,
          -0.6880074411425571,
          0.3452603917017754,
          0.2487633064244093,
          0.21135195131935697,
          0.33047551702590044,
          -0.43227148671025234,
          -0.2937569887054107,
          1.4680107137436962,
          0.19817518709820703,
          -0.08239264069950791,
          -1.5739263364676956,
          -0.5863039056329027,
          -0.0634286623026407,
          -0.5916518804306173,
          -0.12187591316350242
         ],
         "yaxis": "y2"
        },
        {
         "line": {
          "color": "rgba(128, 128, 128, 1.0)",
          "dash": "solid",
          "shape": "linear",
          "width": 1.3
         },
         "marker": {
          "size": 2,
          "symbol": "circle"
         },
         "mode": "markers",
         "name": "A",
         "text": "",
         "type": "scatter",
         "x": [
          -0.09389924246810805,
          0.46693784219434303,
          1.5981105835428606,
          0.939579245061577,
          0.7353018080757163,
          0.646999790089509,
          -0.33768524482540635,
          0.8517183133690732,
          -0.3384120781905001,
          -0.3274608793784002,
          0.3611770364046952,
          -1.4324134965299424,
          -1.3423692799559948,
          0.6653145797092015,
          1.6654082381434867,
          -2.020428438095846,
          0.09521652455894322,
          -0.4203687326465551,
          0.27431514414201197,
          -0.042820910303760805,
          -1.8621475850762577,
          -0.1672421567112696,
          0.8990975423749583,
          -1.270119359829677,
          -0.5746895495068903,
          -0.31890119840212383,
          2.2781245825620626,
          -0.36013671693763616,
          0.8828486167671366,
          -0.3525176349246981,
          -1.038424938990193,
          -1.2571132847557838,
          -0.722802101739417,
          1.09652110251346,
          -0.4860419291434229,
          0.04831710062416164,
          0.6765773534698574,
          -1.8480362076705836,
          -0.45892892454316075,
          0.4285622114547675,
          -0.8266561357422507,
          -0.322348796606711,
          -0.8875048573626982,
          -1.4553460601722525,
          -0.2503900748624838,
          1.0481974368802498,
          0.12429421845735472,
          0.660838527309358,
          1.6285759733899243,
          2.320700153051851,
          -0.20727290897373735,
          -0.03537029993862725,
          0.202414319281178,
          -0.7773088877291788,
          1.2163903659622308,
          0.048352193156689226,
          0.31017736336031887,
          -0.5741650006672349,
          2.220593399617657,
          1.0426301077746036,
          0.01789033403987293,
          -0.21821945842542395,
          -0.6817997624610167,
          0.18781578841879995,
          -0.10048108951657567,
          -1.2091706254267716,
          2.100116509821881,
          1.5572668184385687,
          0.11149873271719092,
          -0.9289841087187439,
          -0.48639998626464015,
          -0.2357056005630904,
          0.1312857384290406,
          -0.6189075163619262,
          -1.517855238304068,
          -0.20063050415677747,
          -0.11154419808878213,
          -2.1543594541608555,
          0.5991817972692761,
          0.1874823907819667,
          -0.40855192884095826,
          -0.45544930558017094,
          -0.9779669239559734,
          -0.10539664895270522,
          -0.40806221877933696,
          1.3651121191971893,
          -0.6014893104206162,
          1.3156915791575803,
          -0.6587323985544884,
          -1.067454889181448,
          0.05353779844388949,
          0.050740582498669765,
          -0.3410220481473968,
          0.6939361774346295,
          0.3745983221830779,
          0.00390113269939864,
          -1.2778068397693865,
          -1.9045976637933393,
          0.23769910520867105,
          -1.2346184798868076
         ],
         "xaxis": "x3",
         "y": [
          0.04069591197739794,
          -1.5387534862825873,
          -0.37054138227832717,
          0.42226759931628843,
          0.3126115498148938,
          0.8490945987665685,
          0.32657941317006145,
          -0.49107061022674736,
          -2.1507284205628596,
          -0.24408786953956163,
          -0.6520390343561558,
          -0.5252670649155886,
          -0.6648895358403708,
          -0.5337196496902474,
          2.5411528745491845,
          0.2721785495038353,
          0.3139632084051519,
          -0.5035017349764002,
          -0.6295298431031526,
          -0.9967697705581974,
          -0.3010684232864244,
          0.6526617395566436,
          0.6907035696708207,
          -0.29469416900060214,
          1.1535301811355754,
          -1.0100015678978271,
          -0.12069661348651797,
          0.8054776442724979,
          0.8389775988783994,
          0.7242360206836844,
          0.9947539832929825,
          -1.0297374004329243,
          1.273616985140703,
          0.0385151859114759,
          0.8766328063292678,
          0.596186279085301,
          -0.2676827420402636,
          1.6188897257768609,
          -0.5896403663629634,
          0.18206868764406353,
          0.3883297472018753,
          0.23541068732887283,
          -1.4667899496388717,
          0.22401979434166064,
          -0.24920165254461157,
          0.5864379214604486,
          -1.7867426348719786,
          -0.2388326424614991,
          -0.20700690841934505,
          -1.7418204632698755,
          -0.4975267325235522,
          -0.4383857315299486,
          -0.023908325805154496,
          -1.0099213450430722,
          1.3151743319977625,
          2.164235305837594,
          -1.559781794551808,
          0.15948892175662965,
          0.5369468612262032,
          0.3034419209406845,
          -0.8190508980320342,
          1.0613854718635283,
          -2.703085539999277,
          0.5993190210185522,
          -0.9769014482176318,
          1.677907800787111,
          -0.037964248402260675,
          0.4670173507050114,
          -0.019662592262844062,
          -0.568296779760827,
          0.04060896866941458,
          -1.209244924940564,
          -0.3209018867296929,
          2.4149477205376115,
          -0.25490330030542974,
          1.1797721447905096,
          0.8421878895000109,
          1.745102272056137,
          -1.071361491881029,
          -0.45008076881205805,
          0.42161710288352783,
          -1.7093741336754915,
          0.08909834069035083,
          0.29993713511028813,
          1.018646413711966,
          -0.6880074411425571,
          0.3452603917017754,
          0.2487633064244093,
          0.21135195131935697,
          0.33047551702590044,
          -0.43227148671025234,
          -0.2937569887054107,
          1.4680107137436962,
          0.19817518709820703,
          -0.08239264069950791,
          -1.5739263364676956,
          -0.5863039056329027,
          -0.0634286623026407,
          -0.5916518804306173,
          -0.12187591316350242
         ],
         "yaxis": "y3"
        },
        {
         "line": {
          "color": "rgba(128, 128, 128, 1.0)",
          "dash": "solid",
          "shape": "linear",
          "width": 1.3
         },
         "marker": {
          "size": 2,
          "symbol": "circle"
         },
         "mode": "markers",
         "name": "A",
         "text": "",
         "type": "scatter",
         "x": [
          1.8536786587611707,
          0.31748701494719056,
          -1.5914137200326584,
          -1.8201446872430338,
          0.19942928864633003,
          -0.9179397030896396,
          -2.09783941616522,
          -1.500452381480773,
          0.921541813332476,
          -0.20283949702568466,
          -0.6224091041757651,
          -1.5309497626013673,
          2.3960370035120446,
          -0.798906464588825,
          2.6855530977557778,
          0.5220481471245186,
          -0.08582089303477562,
          -0.5847199205396268,
          0.3859634480227872,
          -0.4365193090897628,
          -0.8286648171246722,
          -0.08572601386447695,
          -1.3804843047424917,
          -1.0608984425490853,
          -0.6263509554355401,
          1.9859008957368793,
          -1.4489485453368747,
          0.5346258431159485,
          2.387929425784648,
          -0.3629636514626066,
          -1.606278511440651,
          -0.16083962877458965,
          1.4788501498787368,
          0.3690546302424768,
          -0.39434272594699243,
          -0.7204501129186216,
          -0.048470704701933834,
          0.3495814965023437,
          0.4434049265739363,
          -1.2219826611087121,
          -0.28550581198618147,
          -1.43564955517798,
          -1.0266421448996974,
          0.28182620745319154,
          0.650975407817685,
          -0.5523593168748906,
          -0.02826449419596439,
          0.5835488232553727,
          -0.45990628505108966,
          1.861942258383658,
          1.2247003424778167,
          -0.3926474871329264,
          -0.9872124239906978,
          0.18060257275506045,
          -3.1282202634719587,
          0.39015695867027855,
          -0.6032116714133441,
          1.5534065332882077,
          0.8076446774824714,
          -0.9466283913238981,
          0.2086053214047391,
          -1.5996173352620429,
          -0.5020738048324217,
          -0.885901490159055,
          0.435785110787616,
          -0.5052088166470903,
          -1.3757623133671353,
          -0.8472452639438817,
          -0.9119140192994585,
          0.31914466795431934,
          0.27656205648013976,
          0.7273345746414592,
          0.6274862198918303,
          -0.5336861185884401,
          -1.239705836405087,
          -0.14944745747340873,
          0.4664365322350763,
          0.576829998115034,
          1.1514488000990495,
          -0.32445430867609126,
          -0.5886129375934483,
          1.190812562297307,
          0.3207151318146256,
          -2.4099613330281167,
          0.9281084747609742,
          -1.4653632806521992,
          -1.1968090028828493,
          -0.43696814652571847,
          1.0470087389279674,
          -0.25243610009812334,
          -0.1715567422039336,
          -1.3064481634837306,
          0.31353487491155757,
          -0.906234469311814,
          -0.1554311832054045,
          0.04358606621245248,
          -1.232136715096742,
          -0.17106586593775666,
          1.3350788478359195,
          -0.6493521538932258
         ],
         "xaxis": "x4",
         "y": [
          0.04069591197739794,
          -1.5387534862825873,
          -0.37054138227832717,
          0.42226759931628843,
          0.3126115498148938,
          0.8490945987665685,
          0.32657941317006145,
          -0.49107061022674736,
          -2.1507284205628596,
          -0.24408786953956163,
          -0.6520390343561558,
          -0.5252670649155886,
          -0.6648895358403708,
          -0.5337196496902474,
          2.5411528745491845,
          0.2721785495038353,
          0.3139632084051519,
          -0.5035017349764002,
          -0.6295298431031526,
          -0.9967697705581974,
          -0.3010684232864244,
          0.6526617395566436,
          0.6907035696708207,
          -0.29469416900060214,
          1.1535301811355754,
          -1.0100015678978271,
          -0.12069661348651797,
          0.8054776442724979,
          0.8389775988783994,
          0.7242360206836844,
          0.9947539832929825,
          -1.0297374004329243,
          1.273616985140703,
          0.0385151859114759,
          0.8766328063292678,
          0.596186279085301,
          -0.2676827420402636,
          1.6188897257768609,
          -0.5896403663629634,
          0.18206868764406353,
          0.3883297472018753,
          0.23541068732887283,
          -1.4667899496388717,
          0.22401979434166064,
          -0.24920165254461157,
          0.5864379214604486,
          -1.7867426348719786,
          -0.2388326424614991,
          -0.20700690841934505,
          -1.7418204632698755,
          -0.4975267325235522,
          -0.4383857315299486,
          -0.023908325805154496,
          -1.0099213450430722,
          1.3151743319977625,
          2.164235305837594,
          -1.559781794551808,
          0.15948892175662965,
          0.5369468612262032,
          0.3034419209406845,
          -0.8190508980320342,
          1.0613854718635283,
          -2.703085539999277,
          0.5993190210185522,
          -0.9769014482176318,
          1.677907800787111,
          -0.037964248402260675,
          0.4670173507050114,
          -0.019662592262844062,
          -0.568296779760827,
          0.04060896866941458,
          -1.209244924940564,
          -0.3209018867296929,
          2.4149477205376115,
          -0.25490330030542974,
          1.1797721447905096,
          0.8421878895000109,
          1.745102272056137,
          -1.071361491881029,
          -0.45008076881205805,
          0.42161710288352783,
          -1.7093741336754915,
          0.08909834069035083,
          0.29993713511028813,
          1.018646413711966,
          -0.6880074411425571,
          0.3452603917017754,
          0.2487633064244093,
          0.21135195131935697,
          0.33047551702590044,
          -0.43227148671025234,
          -0.2937569887054107,
          1.4680107137436962,
          0.19817518709820703,
          -0.08239264069950791,
          -1.5739263364676956,
          -0.5863039056329027,
          -0.0634286623026407,
          -0.5916518804306173,
          -0.12187591316350242
         ],
         "yaxis": "y4"
        },
        {
         "line": {
          "color": "rgba(128, 128, 128, 1.0)",
          "dash": "solid",
          "shape": "linear",
          "width": 1.3
         },
         "marker": {
          "size": 2,
          "symbol": "circle"
         },
         "mode": "markers",
         "name": "B",
         "text": "",
         "type": "scatter",
         "x": [
          0.04069591197739794,
          -1.5387534862825873,
          -0.37054138227832717,
          0.42226759931628843,
          0.3126115498148938,
          0.8490945987665685,
          0.32657941317006145,
          -0.49107061022674736,
          -2.1507284205628596,
          -0.24408786953956163,
          -0.6520390343561558,
          -0.5252670649155886,
          -0.6648895358403708,
          -0.5337196496902474,
          2.5411528745491845,
          0.2721785495038353,
          0.3139632084051519,
          -0.5035017349764002,
          -0.6295298431031526,
          -0.9967697705581974,
          -0.3010684232864244,
          0.6526617395566436,
          0.6907035696708207,
          -0.29469416900060214,
          1.1535301811355754,
          -1.0100015678978271,
          -0.12069661348651797,
          0.8054776442724979,
          0.8389775988783994,
          0.7242360206836844,
          0.9947539832929825,
          -1.0297374004329243,
          1.273616985140703,
          0.0385151859114759,
          0.8766328063292678,
          0.596186279085301,
          -0.2676827420402636,
          1.6188897257768609,
          -0.5896403663629634,
          0.18206868764406353,
          0.3883297472018753,
          0.23541068732887283,
          -1.4667899496388717,
          0.22401979434166064,
          -0.24920165254461157,
          0.5864379214604486,
          -1.7867426348719786,
          -0.2388326424614991,
          -0.20700690841934505,
          -1.7418204632698755,
          -0.4975267325235522,
          -0.4383857315299486,
          -0.023908325805154496,
          -1.0099213450430722,
          1.3151743319977625,
          2.164235305837594,
          -1.559781794551808,
          0.15948892175662965,
          0.5369468612262032,
          0.3034419209406845,
          -0.8190508980320342,
          1.0613854718635283,
          -2.703085539999277,
          0.5993190210185522,
          -0.9769014482176318,
          1.677907800787111,
          -0.037964248402260675,
          0.4670173507050114,
          -0.019662592262844062,
          -0.568296779760827,
          0.04060896866941458,
          -1.209244924940564,
          -0.3209018867296929,
          2.4149477205376115,
          -0.25490330030542974,
          1.1797721447905096,
          0.8421878895000109,
          1.745102272056137,
          -1.071361491881029,
          -0.45008076881205805,
          0.42161710288352783,
          -1.7093741336754915,
          0.08909834069035083,
          0.29993713511028813,
          1.018646413711966,
          -0.6880074411425571,
          0.3452603917017754,
          0.2487633064244093,
          0.21135195131935697,
          0.33047551702590044,
          -0.43227148671025234,
          -0.2937569887054107,
          1.4680107137436962,
          0.19817518709820703,
          -0.08239264069950791,
          -1.5739263364676956,
          -0.5863039056329027,
          -0.0634286623026407,
          -0.5916518804306173,
          -0.12187591316350242
         ],
         "xaxis": "x5",
         "y": [
          0.995826467880346,
          -0.7369617224098037,
          0.37127384864429896,
          1.4973374656255485,
          -0.5136756334794229,
          -0.16912706548129708,
          -2.0136478401254956,
          0.6590292067347793,
          0.5281735423979428,
          -0.22596764617781726,
          0.8179265840659411,
          -0.7675078258062362,
          1.5557993453415198,
          1.1764532616325682,
          0.48410024097701665,
          0.7245640901748778,
          -0.1743255957392895,
          0.12398933128539748,
          0.7714456731235291,
          0.4057913540833407,
          1.186256289895277,
          -0.02105445729321405,
          -0.08094294955411512,
          0.2334964169726154,
          -1.8516069705667002,
          0.730782588490572,
          -0.7489429321852894,
          0.2560040303932152,
          0.7382717289609817,
          -0.9038563922535384,
          -0.14304968680136568,
          -0.7362909814018258,
          2.4014638348495625,
          -0.9026406680150731,
          2.56264403068799,
          -1.5081115882613203,
          -0.8431226423071239,
          -0.13073570393892617,
          0.8996129861200042,
          1.1399824665465794,
          0.048426080024693695,
          0.1668940515774451,
          -0.08354431280016783,
          -0.18563155879013335,
          0.13989039833424813,
          -0.6733933082584179,
          1.6206985566519567,
          -1.20146237893275,
          -2.0022301652003573,
          -0.5543558182050398,
          -2.492083782632766,
          -2.653638610926458,
          1.0403224744840096,
          -1.2503717390785278,
          1.2484039627566348,
          -0.1815316960413127,
          -0.7612710351716687,
          -0.5500424255656814,
          0.28190325275693273,
          0.33361672883874766,
          1.0952631148175236,
          1.9310982225189801,
          -1.2124783622530837,
          -1.2862055362957667,
          -1.3330480187478047,
          0.3731780294861189,
          -0.10194186296865584,
          -0.9603560274610924,
          -2.970109852235134,
          1.1441009979146743,
          0.04271329041066948,
          -1.3752165049488514,
          0.23494443618611646,
          0.8056619087889803,
          -2.9041102254767166,
          -0.6848921718215347,
          1.594433615490069,
          -1.4615825894063526,
          -0.13199479952107832,
          -0.2149473654351705,
          0.009768856092341214,
          -0.4052730444685135,
          -0.568991920341303,
          -1.084975804825773,
          -0.2663777907791061,
          -0.4762543065114372,
          0.028773158565766913,
          -0.7850746849449068,
          -0.6945749900304474,
          0.8427544736504147,
          -0.08393240804690318,
          -1.627899725389288,
          -0.21845671984730042,
          -0.47356107511270346,
          0.4357599336028361,
          -0.70845175800104,
          1.7153318283877876,
          0.8496103465694999,
          -1.5572805557424916,
          2.0251386210861186
         ],
         "yaxis": "y5"
        },
        {
         "histfunc": "count",
         "histnorm": "",
         "marker": {
          "color": "rgba(55, 128, 191, 1.0)",
          "line": {
           "color": "#4D5663",
           "width": 1.3
          }
         },
         "name": "B",
         "nbinsx": 10,
         "opacity": 0.8,
         "orientation": "v",
         "type": "histogram",
         "x": [
          0.995826467880346,
          -0.7369617224098037,
          0.37127384864429896,
          1.4973374656255485,
          -0.5136756334794229,
          -0.16912706548129708,
          -2.0136478401254956,
          0.6590292067347793,
          0.5281735423979428,
          -0.22596764617781726,
          0.8179265840659411,
          -0.7675078258062362,
          1.5557993453415198,
          1.1764532616325682,
          0.48410024097701665,
          0.7245640901748778,
          -0.1743255957392895,
          0.12398933128539748,
          0.7714456731235291,
          0.4057913540833407,
          1.186256289895277,
          -0.02105445729321405,
          -0.08094294955411512,
          0.2334964169726154,
          -1.8516069705667002,
          0.730782588490572,
          -0.7489429321852894,
          0.2560040303932152,
          0.7382717289609817,
          -0.9038563922535384,
          -0.14304968680136568,
          -0.7362909814018258,
          2.4014638348495625,
          -0.9026406680150731,
          2.56264403068799,
          -1.5081115882613203,
          -0.8431226423071239,
          -0.13073570393892617,
          0.8996129861200042,
          1.1399824665465794,
          0.048426080024693695,
          0.1668940515774451,
          -0.08354431280016783,
          -0.18563155879013335,
          0.13989039833424813,
          -0.6733933082584179,
          1.6206985566519567,
          -1.20146237893275,
          -2.0022301652003573,
          -0.5543558182050398,
          -2.492083782632766,
          -2.653638610926458,
          1.0403224744840096,
          -1.2503717390785278,
          1.2484039627566348,
          -0.1815316960413127,
          -0.7612710351716687,
          -0.5500424255656814,
          0.28190325275693273,
          0.33361672883874766,
          1.0952631148175236,
          1.9310982225189801,
          -1.2124783622530837,
          -1.2862055362957667,
          -1.3330480187478047,
          0.3731780294861189,
          -0.10194186296865584,
          -0.9603560274610924,
          -2.970109852235134,
          1.1441009979146743,
          0.04271329041066948,
          -1.3752165049488514,
          0.23494443618611646,
          0.8056619087889803,
          -2.9041102254767166,
          -0.6848921718215347,
          1.594433615490069,
          -1.4615825894063526,
          -0.13199479952107832,
          -0.2149473654351705,
          0.009768856092341214,
          -0.4052730444685135,
          -0.568991920341303,
          -1.084975804825773,
          -0.2663777907791061,
          -0.4762543065114372,
          0.028773158565766913,
          -0.7850746849449068,
          -0.6945749900304474,
          0.8427544736504147,
          -0.08393240804690318,
          -1.627899725389288,
          -0.21845671984730042,
          -0.47356107511270346,
          0.4357599336028361,
          -0.70845175800104,
          1.7153318283877876,
          0.8496103465694999,
          -1.5572805557424916,
          2.0251386210861186
         ],
         "xaxis": "x6",
         "yaxis": "y6"
        },
        {
         "line": {
          "color": "rgba(128, 128, 128, 1.0)",
          "dash": "solid",
          "shape": "linear",
          "width": 1.3
         },
         "marker": {
          "size": 2,
          "symbol": "circle"
         },
         "mode": "markers",
         "name": "B",
         "text": "",
         "type": "scatter",
         "x": [
          -0.09389924246810805,
          0.46693784219434303,
          1.5981105835428606,
          0.939579245061577,
          0.7353018080757163,
          0.646999790089509,
          -0.33768524482540635,
          0.8517183133690732,
          -0.3384120781905001,
          -0.3274608793784002,
          0.3611770364046952,
          -1.4324134965299424,
          -1.3423692799559948,
          0.6653145797092015,
          1.6654082381434867,
          -2.020428438095846,
          0.09521652455894322,
          -0.4203687326465551,
          0.27431514414201197,
          -0.042820910303760805,
          -1.8621475850762577,
          -0.1672421567112696,
          0.8990975423749583,
          -1.270119359829677,
          -0.5746895495068903,
          -0.31890119840212383,
          2.2781245825620626,
          -0.36013671693763616,
          0.8828486167671366,
          -0.3525176349246981,
          -1.038424938990193,
          -1.2571132847557838,
          -0.722802101739417,
          1.09652110251346,
          -0.4860419291434229,
          0.04831710062416164,
          0.6765773534698574,
          -1.8480362076705836,
          -0.45892892454316075,
          0.4285622114547675,
          -0.8266561357422507,
          -0.322348796606711,
          -0.8875048573626982,
          -1.4553460601722525,
          -0.2503900748624838,
          1.0481974368802498,
          0.12429421845735472,
          0.660838527309358,
          1.6285759733899243,
          2.320700153051851,
          -0.20727290897373735,
          -0.03537029993862725,
          0.202414319281178,
          -0.7773088877291788,
          1.2163903659622308,
          0.048352193156689226,
          0.31017736336031887,
          -0.5741650006672349,
          2.220593399617657,
          1.0426301077746036,
          0.01789033403987293,
          -0.21821945842542395,
          -0.6817997624610167,
          0.18781578841879995,
          -0.10048108951657567,
          -1.2091706254267716,
          2.100116509821881,
          1.5572668184385687,
          0.11149873271719092,
          -0.9289841087187439,
          -0.48639998626464015,
          -0.2357056005630904,
          0.1312857384290406,
          -0.6189075163619262,
          -1.517855238304068,
          -0.20063050415677747,
          -0.11154419808878213,
          -2.1543594541608555,
          0.5991817972692761,
          0.1874823907819667,
          -0.40855192884095826,
          -0.45544930558017094,
          -0.9779669239559734,
          -0.10539664895270522,
          -0.40806221877933696,
          1.3651121191971893,
          -0.6014893104206162,
          1.3156915791575803,
          -0.6587323985544884,
          -1.067454889181448,
          0.05353779844388949,
          0.050740582498669765,
          -0.3410220481473968,
          0.6939361774346295,
          0.3745983221830779,
          0.00390113269939864,
          -1.2778068397693865,
          -1.9045976637933393,
          0.23769910520867105,
          -1.2346184798868076
         ],
         "xaxis": "x7",
         "y": [
          0.995826467880346,
          -0.7369617224098037,
          0.37127384864429896,
          1.4973374656255485,
          -0.5136756334794229,
          -0.16912706548129708,
          -2.0136478401254956,
          0.6590292067347793,
          0.5281735423979428,
          -0.22596764617781726,
          0.8179265840659411,
          -0.7675078258062362,
          1.5557993453415198,
          1.1764532616325682,
          0.48410024097701665,
          0.7245640901748778,
          -0.1743255957392895,
          0.12398933128539748,
          0.7714456731235291,
          0.4057913540833407,
          1.186256289895277,
          -0.02105445729321405,
          -0.08094294955411512,
          0.2334964169726154,
          -1.8516069705667002,
          0.730782588490572,
          -0.7489429321852894,
          0.2560040303932152,
          0.7382717289609817,
          -0.9038563922535384,
          -0.14304968680136568,
          -0.7362909814018258,
          2.4014638348495625,
          -0.9026406680150731,
          2.56264403068799,
          -1.5081115882613203,
          -0.8431226423071239,
          -0.13073570393892617,
          0.8996129861200042,
          1.1399824665465794,
          0.048426080024693695,
          0.1668940515774451,
          -0.08354431280016783,
          -0.18563155879013335,
          0.13989039833424813,
          -0.6733933082584179,
          1.6206985566519567,
          -1.20146237893275,
          -2.0022301652003573,
          -0.5543558182050398,
          -2.492083782632766,
          -2.653638610926458,
          1.0403224744840096,
          -1.2503717390785278,
          1.2484039627566348,
          -0.1815316960413127,
          -0.7612710351716687,
          -0.5500424255656814,
          0.28190325275693273,
          0.33361672883874766,
          1.0952631148175236,
          1.9310982225189801,
          -1.2124783622530837,
          -1.2862055362957667,
          -1.3330480187478047,
          0.3731780294861189,
          -0.10194186296865584,
          -0.9603560274610924,
          -2.970109852235134,
          1.1441009979146743,
          0.04271329041066948,
          -1.3752165049488514,
          0.23494443618611646,
          0.8056619087889803,
          -2.9041102254767166,
          -0.6848921718215347,
          1.594433615490069,
          -1.4615825894063526,
          -0.13199479952107832,
          -0.2149473654351705,
          0.009768856092341214,
          -0.4052730444685135,
          -0.568991920341303,
          -1.084975804825773,
          -0.2663777907791061,
          -0.4762543065114372,
          0.028773158565766913,
          -0.7850746849449068,
          -0.6945749900304474,
          0.8427544736504147,
          -0.08393240804690318,
          -1.627899725389288,
          -0.21845671984730042,
          -0.47356107511270346,
          0.4357599336028361,
          -0.70845175800104,
          1.7153318283877876,
          0.8496103465694999,
          -1.5572805557424916,
          2.0251386210861186
         ],
         "yaxis": "y7"
        },
        {
         "line": {
          "color": "rgba(128, 128, 128, 1.0)",
          "dash": "solid",
          "shape": "linear",
          "width": 1.3
         },
         "marker": {
          "size": 2,
          "symbol": "circle"
         },
         "mode": "markers",
         "name": "B",
         "text": "",
         "type": "scatter",
         "x": [
          1.8536786587611707,
          0.31748701494719056,
          -1.5914137200326584,
          -1.8201446872430338,
          0.19942928864633003,
          -0.9179397030896396,
          -2.09783941616522,
          -1.500452381480773,
          0.921541813332476,
          -0.20283949702568466,
          -0.6224091041757651,
          -1.5309497626013673,
          2.3960370035120446,
          -0.798906464588825,
          2.6855530977557778,
          0.5220481471245186,
          -0.08582089303477562,
          -0.5847199205396268,
          0.3859634480227872,
          -0.4365193090897628,
          -0.8286648171246722,
          -0.08572601386447695,
          -1.3804843047424917,
          -1.0608984425490853,
          -0.6263509554355401,
          1.9859008957368793,
          -1.4489485453368747,
          0.5346258431159485,
          2.387929425784648,
          -0.3629636514626066,
          -1.606278511440651,
          -0.16083962877458965,
          1.4788501498787368,
          0.3690546302424768,
          -0.39434272594699243,
          -0.7204501129186216,
          -0.048470704701933834,
          0.3495814965023437,
          0.4434049265739363,
          -1.2219826611087121,
          -0.28550581198618147,
          -1.43564955517798,
          -1.0266421448996974,
          0.28182620745319154,
          0.650975407817685,
          -0.5523593168748906,
          -0.02826449419596439,
          0.5835488232553727,
          -0.45990628505108966,
          1.861942258383658,
          1.2247003424778167,
          -0.3926474871329264,
          -0.9872124239906978,
          0.18060257275506045,
          -3.1282202634719587,
          0.39015695867027855,
          -0.6032116714133441,
          1.5534065332882077,
          0.8076446774824714,
          -0.9466283913238981,
          0.2086053214047391,
          -1.5996173352620429,
          -0.5020738048324217,
          -0.885901490159055,
          0.435785110787616,
          -0.5052088166470903,
          -1.3757623133671353,
          -0.8472452639438817,
          -0.9119140192994585,
          0.31914466795431934,
          0.27656205648013976,
          0.7273345746414592,
          0.6274862198918303,
          -0.5336861185884401,
          -1.239705836405087,
          -0.14944745747340873,
          0.4664365322350763,
          0.576829998115034,
          1.1514488000990495,
          -0.32445430867609126,
          -0.5886129375934483,
          1.190812562297307,
          0.3207151318146256,
          -2.4099613330281167,
          0.9281084747609742,
          -1.4653632806521992,
          -1.1968090028828493,
          -0.43696814652571847,
          1.0470087389279674,
          -0.25243610009812334,
          -0.1715567422039336,
          -1.3064481634837306,
          0.31353487491155757,
          -0.906234469311814,
          -0.1554311832054045,
          0.04358606621245248,
          -1.232136715096742,
          -0.17106586593775666,
          1.3350788478359195,
          -0.6493521538932258
         ],
         "xaxis": "x8",
         "y": [
          0.995826467880346,
          -0.7369617224098037,
          0.37127384864429896,
          1.4973374656255485,
          -0.5136756334794229,
          -0.16912706548129708,
          -2.0136478401254956,
          0.6590292067347793,
          0.5281735423979428,
          -0.22596764617781726,
          0.8179265840659411,
          -0.7675078258062362,
          1.5557993453415198,
          1.1764532616325682,
          0.48410024097701665,
          0.7245640901748778,
          -0.1743255957392895,
          0.12398933128539748,
          0.7714456731235291,
          0.4057913540833407,
          1.186256289895277,
          -0.02105445729321405,
          -0.08094294955411512,
          0.2334964169726154,
          -1.8516069705667002,
          0.730782588490572,
          -0.7489429321852894,
          0.2560040303932152,
          0.7382717289609817,
          -0.9038563922535384,
          -0.14304968680136568,
          -0.7362909814018258,
          2.4014638348495625,
          -0.9026406680150731,
          2.56264403068799,
          -1.5081115882613203,
          -0.8431226423071239,
          -0.13073570393892617,
          0.8996129861200042,
          1.1399824665465794,
          0.048426080024693695,
          0.1668940515774451,
          -0.08354431280016783,
          -0.18563155879013335,
          0.13989039833424813,
          -0.6733933082584179,
          1.6206985566519567,
          -1.20146237893275,
          -2.0022301652003573,
          -0.5543558182050398,
          -2.492083782632766,
          -2.653638610926458,
          1.0403224744840096,
          -1.2503717390785278,
          1.2484039627566348,
          -0.1815316960413127,
          -0.7612710351716687,
          -0.5500424255656814,
          0.28190325275693273,
          0.33361672883874766,
          1.0952631148175236,
          1.9310982225189801,
          -1.2124783622530837,
          -1.2862055362957667,
          -1.3330480187478047,
          0.3731780294861189,
          -0.10194186296865584,
          -0.9603560274610924,
          -2.970109852235134,
          1.1441009979146743,
          0.04271329041066948,
          -1.3752165049488514,
          0.23494443618611646,
          0.8056619087889803,
          -2.9041102254767166,
          -0.6848921718215347,
          1.594433615490069,
          -1.4615825894063526,
          -0.13199479952107832,
          -0.2149473654351705,
          0.009768856092341214,
          -0.4052730444685135,
          -0.568991920341303,
          -1.084975804825773,
          -0.2663777907791061,
          -0.4762543065114372,
          0.028773158565766913,
          -0.7850746849449068,
          -0.6945749900304474,
          0.8427544736504147,
          -0.08393240804690318,
          -1.627899725389288,
          -0.21845671984730042,
          -0.47356107511270346,
          0.4357599336028361,
          -0.70845175800104,
          1.7153318283877876,
          0.8496103465694999,
          -1.5572805557424916,
          2.0251386210861186
         ],
         "yaxis": "y8"
        },
        {
         "line": {
          "color": "rgba(128, 128, 128, 1.0)",
          "dash": "solid",
          "shape": "linear",
          "width": 1.3
         },
         "marker": {
          "size": 2,
          "symbol": "circle"
         },
         "mode": "markers",
         "name": "C",
         "text": "",
         "type": "scatter",
         "x": [
          0.04069591197739794,
          -1.5387534862825873,
          -0.37054138227832717,
          0.42226759931628843,
          0.3126115498148938,
          0.8490945987665685,
          0.32657941317006145,
          -0.49107061022674736,
          -2.1507284205628596,
          -0.24408786953956163,
          -0.6520390343561558,
          -0.5252670649155886,
          -0.6648895358403708,
          -0.5337196496902474,
          2.5411528745491845,
          0.2721785495038353,
          0.3139632084051519,
          -0.5035017349764002,
          -0.6295298431031526,
          -0.9967697705581974,
          -0.3010684232864244,
          0.6526617395566436,
          0.6907035696708207,
          -0.29469416900060214,
          1.1535301811355754,
          -1.0100015678978271,
          -0.12069661348651797,
          0.8054776442724979,
          0.8389775988783994,
          0.7242360206836844,
          0.9947539832929825,
          -1.0297374004329243,
          1.273616985140703,
          0.0385151859114759,
          0.8766328063292678,
          0.596186279085301,
          -0.2676827420402636,
          1.6188897257768609,
          -0.5896403663629634,
          0.18206868764406353,
          0.3883297472018753,
          0.23541068732887283,
          -1.4667899496388717,
          0.22401979434166064,
          -0.24920165254461157,
          0.5864379214604486,
          -1.7867426348719786,
          -0.2388326424614991,
          -0.20700690841934505,
          -1.7418204632698755,
          -0.4975267325235522,
          -0.4383857315299486,
          -0.023908325805154496,
          -1.0099213450430722,
          1.3151743319977625,
          2.164235305837594,
          -1.559781794551808,
          0.15948892175662965,
          0.5369468612262032,
          0.3034419209406845,
          -0.8190508980320342,
          1.0613854718635283,
          -2.703085539999277,
          0.5993190210185522,
          -0.9769014482176318,
          1.677907800787111,
          -0.037964248402260675,
          0.4670173507050114,
          -0.019662592262844062,
          -0.568296779760827,
          0.04060896866941458,
          -1.209244924940564,
          -0.3209018867296929,
          2.4149477205376115,
          -0.25490330030542974,
          1.1797721447905096,
          0.8421878895000109,
          1.745102272056137,
          -1.071361491881029,
          -0.45008076881205805,
          0.42161710288352783,
          -1.7093741336754915,
          0.08909834069035083,
          0.29993713511028813,
          1.018646413711966,
          -0.6880074411425571,
          0.3452603917017754,
          0.2487633064244093,
          0.21135195131935697,
          0.33047551702590044,
          -0.43227148671025234,
          -0.2937569887054107,
          1.4680107137436962,
          0.19817518709820703,
          -0.08239264069950791,
          -1.5739263364676956,
          -0.5863039056329027,
          -0.0634286623026407,
          -0.5916518804306173,
          -0.12187591316350242
         ],
         "xaxis": "x9",
         "y": [
          -0.09389924246810805,
          0.46693784219434303,
          1.5981105835428606,
          0.939579245061577,
          0.7353018080757163,
          0.646999790089509,
          -0.33768524482540635,
          0.8517183133690732,
          -0.3384120781905001,
          -0.3274608793784002,
          0.3611770364046952,
          -1.4324134965299424,
          -1.3423692799559948,
          0.6653145797092015,
          1.6654082381434867,
          -2.020428438095846,
          0.09521652455894322,
          -0.4203687326465551,
          0.27431514414201197,
          -0.042820910303760805,
          -1.8621475850762577,
          -0.1672421567112696,
          0.8990975423749583,
          -1.270119359829677,
          -0.5746895495068903,
          -0.31890119840212383,
          2.2781245825620626,
          -0.36013671693763616,
          0.8828486167671366,
          -0.3525176349246981,
          -1.038424938990193,
          -1.2571132847557838,
          -0.722802101739417,
          1.09652110251346,
          -0.4860419291434229,
          0.04831710062416164,
          0.6765773534698574,
          -1.8480362076705836,
          -0.45892892454316075,
          0.4285622114547675,
          -0.8266561357422507,
          -0.322348796606711,
          -0.8875048573626982,
          -1.4553460601722525,
          -0.2503900748624838,
          1.0481974368802498,
          0.12429421845735472,
          0.660838527309358,
          1.6285759733899243,
          2.320700153051851,
          -0.20727290897373735,
          -0.03537029993862725,
          0.202414319281178,
          -0.7773088877291788,
          1.2163903659622308,
          0.048352193156689226,
          0.31017736336031887,
          -0.5741650006672349,
          2.220593399617657,
          1.0426301077746036,
          0.01789033403987293,
          -0.21821945842542395,
          -0.6817997624610167,
          0.18781578841879995,
          -0.10048108951657567,
          -1.2091706254267716,
          2.100116509821881,
          1.5572668184385687,
          0.11149873271719092,
          -0.9289841087187439,
          -0.48639998626464015,
          -0.2357056005630904,
          0.1312857384290406,
          -0.6189075163619262,
          -1.517855238304068,
          -0.20063050415677747,
          -0.11154419808878213,
          -2.1543594541608555,
          0.5991817972692761,
          0.1874823907819667,
          -0.40855192884095826,
          -0.45544930558017094,
          -0.9779669239559734,
          -0.10539664895270522,
          -0.40806221877933696,
          1.3651121191971893,
          -0.6014893104206162,
          1.3156915791575803,
          -0.6587323985544884,
          -1.067454889181448,
          0.05353779844388949,
          0.050740582498669765,
          -0.3410220481473968,
          0.6939361774346295,
          0.3745983221830779,
          0.00390113269939864,
          -1.2778068397693865,
          -1.9045976637933393,
          0.23769910520867105,
          -1.2346184798868076
         ],
         "yaxis": "y9"
        },
        {
         "line": {
          "color": "rgba(128, 128, 128, 1.0)",
          "dash": "solid",
          "shape": "linear",
          "width": 1.3
         },
         "marker": {
          "size": 2,
          "symbol": "circle"
         },
         "mode": "markers",
         "name": "C",
         "text": "",
         "type": "scatter",
         "x": [
          0.995826467880346,
          -0.7369617224098037,
          0.37127384864429896,
          1.4973374656255485,
          -0.5136756334794229,
          -0.16912706548129708,
          -2.0136478401254956,
          0.6590292067347793,
          0.5281735423979428,
          -0.22596764617781726,
          0.8179265840659411,
          -0.7675078258062362,
          1.5557993453415198,
          1.1764532616325682,
          0.48410024097701665,
          0.7245640901748778,
          -0.1743255957392895,
          0.12398933128539748,
          0.7714456731235291,
          0.4057913540833407,
          1.186256289895277,
          -0.02105445729321405,
          -0.08094294955411512,
          0.2334964169726154,
          -1.8516069705667002,
          0.730782588490572,
          -0.7489429321852894,
          0.2560040303932152,
          0.7382717289609817,
          -0.9038563922535384,
          -0.14304968680136568,
          -0.7362909814018258,
          2.4014638348495625,
          -0.9026406680150731,
          2.56264403068799,
          -1.5081115882613203,
          -0.8431226423071239,
          -0.13073570393892617,
          0.8996129861200042,
          1.1399824665465794,
          0.048426080024693695,
          0.1668940515774451,
          -0.08354431280016783,
          -0.18563155879013335,
          0.13989039833424813,
          -0.6733933082584179,
          1.6206985566519567,
          -1.20146237893275,
          -2.0022301652003573,
          -0.5543558182050398,
          -2.492083782632766,
          -2.653638610926458,
          1.0403224744840096,
          -1.2503717390785278,
          1.2484039627566348,
          -0.1815316960413127,
          -0.7612710351716687,
          -0.5500424255656814,
          0.28190325275693273,
          0.33361672883874766,
          1.0952631148175236,
          1.9310982225189801,
          -1.2124783622530837,
          -1.2862055362957667,
          -1.3330480187478047,
          0.3731780294861189,
          -0.10194186296865584,
          -0.9603560274610924,
          -2.970109852235134,
          1.1441009979146743,
          0.04271329041066948,
          -1.3752165049488514,
          0.23494443618611646,
          0.8056619087889803,
          -2.9041102254767166,
          -0.6848921718215347,
          1.594433615490069,
          -1.4615825894063526,
          -0.13199479952107832,
          -0.2149473654351705,
          0.009768856092341214,
          -0.4052730444685135,
          -0.568991920341303,
          -1.084975804825773,
          -0.2663777907791061,
          -0.4762543065114372,
          0.028773158565766913,
          -0.7850746849449068,
          -0.6945749900304474,
          0.8427544736504147,
          -0.08393240804690318,
          -1.627899725389288,
          -0.21845671984730042,
          -0.47356107511270346,
          0.4357599336028361,
          -0.70845175800104,
          1.7153318283877876,
          0.8496103465694999,
          -1.5572805557424916,
          2.0251386210861186
         ],
         "xaxis": "x10",
         "y": [
          -0.09389924246810805,
          0.46693784219434303,
          1.5981105835428606,
          0.939579245061577,
          0.7353018080757163,
          0.646999790089509,
          -0.33768524482540635,
          0.8517183133690732,
          -0.3384120781905001,
          -0.3274608793784002,
          0.3611770364046952,
          -1.4324134965299424,
          -1.3423692799559948,
          0.6653145797092015,
          1.6654082381434867,
          -2.020428438095846,
          0.09521652455894322,
          -0.4203687326465551,
          0.27431514414201197,
          -0.042820910303760805,
          -1.8621475850762577,
          -0.1672421567112696,
          0.8990975423749583,
          -1.270119359829677,
          -0.5746895495068903,
          -0.31890119840212383,
          2.2781245825620626,
          -0.36013671693763616,
          0.8828486167671366,
          -0.3525176349246981,
          -1.038424938990193,
          -1.2571132847557838,
          -0.722802101739417,
          1.09652110251346,
          -0.4860419291434229,
          0.04831710062416164,
          0.6765773534698574,
          -1.8480362076705836,
          -0.45892892454316075,
          0.4285622114547675,
          -0.8266561357422507,
          -0.322348796606711,
          -0.8875048573626982,
          -1.4553460601722525,
          -0.2503900748624838,
          1.0481974368802498,
          0.12429421845735472,
          0.660838527309358,
          1.6285759733899243,
          2.320700153051851,
          -0.20727290897373735,
          -0.03537029993862725,
          0.202414319281178,
          -0.7773088877291788,
          1.2163903659622308,
          0.048352193156689226,
          0.31017736336031887,
          -0.5741650006672349,
          2.220593399617657,
          1.0426301077746036,
          0.01789033403987293,
          -0.21821945842542395,
          -0.6817997624610167,
          0.18781578841879995,
          -0.10048108951657567,
          -1.2091706254267716,
          2.100116509821881,
          1.5572668184385687,
          0.11149873271719092,
          -0.9289841087187439,
          -0.48639998626464015,
          -0.2357056005630904,
          0.1312857384290406,
          -0.6189075163619262,
          -1.517855238304068,
          -0.20063050415677747,
          -0.11154419808878213,
          -2.1543594541608555,
          0.5991817972692761,
          0.1874823907819667,
          -0.40855192884095826,
          -0.45544930558017094,
          -0.9779669239559734,
          -0.10539664895270522,
          -0.40806221877933696,
          1.3651121191971893,
          -0.6014893104206162,
          1.3156915791575803,
          -0.6587323985544884,
          -1.067454889181448,
          0.05353779844388949,
          0.050740582498669765,
          -0.3410220481473968,
          0.6939361774346295,
          0.3745983221830779,
          0.00390113269939864,
          -1.2778068397693865,
          -1.9045976637933393,
          0.23769910520867105,
          -1.2346184798868076
         ],
         "yaxis": "y10"
        },
        {
         "histfunc": "count",
         "histnorm": "",
         "marker": {
          "color": "rgba(50, 171, 96, 1.0)",
          "line": {
           "color": "#4D5663",
           "width": 1.3
          }
         },
         "name": "C",
         "nbinsx": 10,
         "opacity": 0.8,
         "orientation": "v",
         "type": "histogram",
         "x": [
          -0.09389924246810805,
          0.46693784219434303,
          1.5981105835428606,
          0.939579245061577,
          0.7353018080757163,
          0.646999790089509,
          -0.33768524482540635,
          0.8517183133690732,
          -0.3384120781905001,
          -0.3274608793784002,
          0.3611770364046952,
          -1.4324134965299424,
          -1.3423692799559948,
          0.6653145797092015,
          1.6654082381434867,
          -2.020428438095846,
          0.09521652455894322,
          -0.4203687326465551,
          0.27431514414201197,
          -0.042820910303760805,
          -1.8621475850762577,
          -0.1672421567112696,
          0.8990975423749583,
          -1.270119359829677,
          -0.5746895495068903,
          -0.31890119840212383,
          2.2781245825620626,
          -0.36013671693763616,
          0.8828486167671366,
          -0.3525176349246981,
          -1.038424938990193,
          -1.2571132847557838,
          -0.722802101739417,
          1.09652110251346,
          -0.4860419291434229,
          0.04831710062416164,
          0.6765773534698574,
          -1.8480362076705836,
          -0.45892892454316075,
          0.4285622114547675,
          -0.8266561357422507,
          -0.322348796606711,
          -0.8875048573626982,
          -1.4553460601722525,
          -0.2503900748624838,
          1.0481974368802498,
          0.12429421845735472,
          0.660838527309358,
          1.6285759733899243,
          2.320700153051851,
          -0.20727290897373735,
          -0.03537029993862725,
          0.202414319281178,
          -0.7773088877291788,
          1.2163903659622308,
          0.048352193156689226,
          0.31017736336031887,
          -0.5741650006672349,
          2.220593399617657,
          1.0426301077746036,
          0.01789033403987293,
          -0.21821945842542395,
          -0.6817997624610167,
          0.18781578841879995,
          -0.10048108951657567,
          -1.2091706254267716,
          2.100116509821881,
          1.5572668184385687,
          0.11149873271719092,
          -0.9289841087187439,
          -0.48639998626464015,
          -0.2357056005630904,
          0.1312857384290406,
          -0.6189075163619262,
          -1.517855238304068,
          -0.20063050415677747,
          -0.11154419808878213,
          -2.1543594541608555,
          0.5991817972692761,
          0.1874823907819667,
          -0.40855192884095826,
          -0.45544930558017094,
          -0.9779669239559734,
          -0.10539664895270522,
          -0.40806221877933696,
          1.3651121191971893,
          -0.6014893104206162,
          1.3156915791575803,
          -0.6587323985544884,
          -1.067454889181448,
          0.05353779844388949,
          0.050740582498669765,
          -0.3410220481473968,
          0.6939361774346295,
          0.3745983221830779,
          0.00390113269939864,
          -1.2778068397693865,
          -1.9045976637933393,
          0.23769910520867105,
          -1.2346184798868076
         ],
         "xaxis": "x11",
         "yaxis": "y11"
        },
        {
         "line": {
          "color": "rgba(128, 128, 128, 1.0)",
          "dash": "solid",
          "shape": "linear",
          "width": 1.3
         },
         "marker": {
          "size": 2,
          "symbol": "circle"
         },
         "mode": "markers",
         "name": "C",
         "text": "",
         "type": "scatter",
         "x": [
          1.8536786587611707,
          0.31748701494719056,
          -1.5914137200326584,
          -1.8201446872430338,
          0.19942928864633003,
          -0.9179397030896396,
          -2.09783941616522,
          -1.500452381480773,
          0.921541813332476,
          -0.20283949702568466,
          -0.6224091041757651,
          -1.5309497626013673,
          2.3960370035120446,
          -0.798906464588825,
          2.6855530977557778,
          0.5220481471245186,
          -0.08582089303477562,
          -0.5847199205396268,
          0.3859634480227872,
          -0.4365193090897628,
          -0.8286648171246722,
          -0.08572601386447695,
          -1.3804843047424917,
          -1.0608984425490853,
          -0.6263509554355401,
          1.9859008957368793,
          -1.4489485453368747,
          0.5346258431159485,
          2.387929425784648,
          -0.3629636514626066,
          -1.606278511440651,
          -0.16083962877458965,
          1.4788501498787368,
          0.3690546302424768,
          -0.39434272594699243,
          -0.7204501129186216,
          -0.048470704701933834,
          0.3495814965023437,
          0.4434049265739363,
          -1.2219826611087121,
          -0.28550581198618147,
          -1.43564955517798,
          -1.0266421448996974,
          0.28182620745319154,
          0.650975407817685,
          -0.5523593168748906,
          -0.02826449419596439,
          0.5835488232553727,
          -0.45990628505108966,
          1.861942258383658,
          1.2247003424778167,
          -0.3926474871329264,
          -0.9872124239906978,
          0.18060257275506045,
          -3.1282202634719587,
          0.39015695867027855,
          -0.6032116714133441,
          1.5534065332882077,
          0.8076446774824714,
          -0.9466283913238981,
          0.2086053214047391,
          -1.5996173352620429,
          -0.5020738048324217,
          -0.885901490159055,
          0.435785110787616,
          -0.5052088166470903,
          -1.3757623133671353,
          -0.8472452639438817,
          -0.9119140192994585,
          0.31914466795431934,
          0.27656205648013976,
          0.7273345746414592,
          0.6274862198918303,
          -0.5336861185884401,
          -1.239705836405087,
          -0.14944745747340873,
          0.4664365322350763,
          0.576829998115034,
          1.1514488000990495,
          -0.32445430867609126,
          -0.5886129375934483,
          1.190812562297307,
          0.3207151318146256,
          -2.4099613330281167,
          0.9281084747609742,
          -1.4653632806521992,
          -1.1968090028828493,
          -0.43696814652571847,
          1.0470087389279674,
          -0.25243610009812334,
          -0.1715567422039336,
          -1.3064481634837306,
          0.31353487491155757,
          -0.906234469311814,
          -0.1554311832054045,
          0.04358606621245248,
          -1.232136715096742,
          -0.17106586593775666,
          1.3350788478359195,
          -0.6493521538932258
         ],
         "xaxis": "x12",
         "y": [
          -0.09389924246810805,
          0.46693784219434303,
          1.5981105835428606,
          0.939579245061577,
          0.7353018080757163,
          0.646999790089509,
          -0.33768524482540635,
          0.8517183133690732,
          -0.3384120781905001,
          -0.3274608793784002,
          0.3611770364046952,
          -1.4324134965299424,
          -1.3423692799559948,
          0.6653145797092015,
          1.6654082381434867,
          -2.020428438095846,
          0.09521652455894322,
          -0.4203687326465551,
          0.27431514414201197,
          -0.042820910303760805,
          -1.8621475850762577,
          -0.1672421567112696,
          0.8990975423749583,
          -1.270119359829677,
          -0.5746895495068903,
          -0.31890119840212383,
          2.2781245825620626,
          -0.36013671693763616,
          0.8828486167671366,
          -0.3525176349246981,
          -1.038424938990193,
          -1.2571132847557838,
          -0.722802101739417,
          1.09652110251346,
          -0.4860419291434229,
          0.04831710062416164,
          0.6765773534698574,
          -1.8480362076705836,
          -0.45892892454316075,
          0.4285622114547675,
          -0.8266561357422507,
          -0.322348796606711,
          -0.8875048573626982,
          -1.4553460601722525,
          -0.2503900748624838,
          1.0481974368802498,
          0.12429421845735472,
          0.660838527309358,
          1.6285759733899243,
          2.320700153051851,
          -0.20727290897373735,
          -0.03537029993862725,
          0.202414319281178,
          -0.7773088877291788,
          1.2163903659622308,
          0.048352193156689226,
          0.31017736336031887,
          -0.5741650006672349,
          2.220593399617657,
          1.0426301077746036,
          0.01789033403987293,
          -0.21821945842542395,
          -0.6817997624610167,
          0.18781578841879995,
          -0.10048108951657567,
          -1.2091706254267716,
          2.100116509821881,
          1.5572668184385687,
          0.11149873271719092,
          -0.9289841087187439,
          -0.48639998626464015,
          -0.2357056005630904,
          0.1312857384290406,
          -0.6189075163619262,
          -1.517855238304068,
          -0.20063050415677747,
          -0.11154419808878213,
          -2.1543594541608555,
          0.5991817972692761,
          0.1874823907819667,
          -0.40855192884095826,
          -0.45544930558017094,
          -0.9779669239559734,
          -0.10539664895270522,
          -0.40806221877933696,
          1.3651121191971893,
          -0.6014893104206162,
          1.3156915791575803,
          -0.6587323985544884,
          -1.067454889181448,
          0.05353779844388949,
          0.050740582498669765,
          -0.3410220481473968,
          0.6939361774346295,
          0.3745983221830779,
          0.00390113269939864,
          -1.2778068397693865,
          -1.9045976637933393,
          0.23769910520867105,
          -1.2346184798868076
         ],
         "yaxis": "y12"
        },
        {
         "line": {
          "color": "rgba(128, 128, 128, 1.0)",
          "dash": "solid",
          "shape": "linear",
          "width": 1.3
         },
         "marker": {
          "size": 2,
          "symbol": "circle"
         },
         "mode": "markers",
         "name": "D",
         "text": "",
         "type": "scatter",
         "x": [
          0.04069591197739794,
          -1.5387534862825873,
          -0.37054138227832717,
          0.42226759931628843,
          0.3126115498148938,
          0.8490945987665685,
          0.32657941317006145,
          -0.49107061022674736,
          -2.1507284205628596,
          -0.24408786953956163,
          -0.6520390343561558,
          -0.5252670649155886,
          -0.6648895358403708,
          -0.5337196496902474,
          2.5411528745491845,
          0.2721785495038353,
          0.3139632084051519,
          -0.5035017349764002,
          -0.6295298431031526,
          -0.9967697705581974,
          -0.3010684232864244,
          0.6526617395566436,
          0.6907035696708207,
          -0.29469416900060214,
          1.1535301811355754,
          -1.0100015678978271,
          -0.12069661348651797,
          0.8054776442724979,
          0.8389775988783994,
          0.7242360206836844,
          0.9947539832929825,
          -1.0297374004329243,
          1.273616985140703,
          0.0385151859114759,
          0.8766328063292678,
          0.596186279085301,
          -0.2676827420402636,
          1.6188897257768609,
          -0.5896403663629634,
          0.18206868764406353,
          0.3883297472018753,
          0.23541068732887283,
          -1.4667899496388717,
          0.22401979434166064,
          -0.24920165254461157,
          0.5864379214604486,
          -1.7867426348719786,
          -0.2388326424614991,
          -0.20700690841934505,
          -1.7418204632698755,
          -0.4975267325235522,
          -0.4383857315299486,
          -0.023908325805154496,
          -1.0099213450430722,
          1.3151743319977625,
          2.164235305837594,
          -1.559781794551808,
          0.15948892175662965,
          0.5369468612262032,
          0.3034419209406845,
          -0.8190508980320342,
          1.0613854718635283,
          -2.703085539999277,
          0.5993190210185522,
          -0.9769014482176318,
          1.677907800787111,
          -0.037964248402260675,
          0.4670173507050114,
          -0.019662592262844062,
          -0.568296779760827,
          0.04060896866941458,
          -1.209244924940564,
          -0.3209018867296929,
          2.4149477205376115,
          -0.25490330030542974,
          1.1797721447905096,
          0.8421878895000109,
          1.745102272056137,
          -1.071361491881029,
          -0.45008076881205805,
          0.42161710288352783,
          -1.7093741336754915,
          0.08909834069035083,
          0.29993713511028813,
          1.018646413711966,
          -0.6880074411425571,
          0.3452603917017754,
          0.2487633064244093,
          0.21135195131935697,
          0.33047551702590044,
          -0.43227148671025234,
          -0.2937569887054107,
          1.4680107137436962,
          0.19817518709820703,
          -0.08239264069950791,
          -1.5739263364676956,
          -0.5863039056329027,
          -0.0634286623026407,
          -0.5916518804306173,
          -0.12187591316350242
         ],
         "xaxis": "x13",
         "y": [
          1.8536786587611707,
          0.31748701494719056,
          -1.5914137200326584,
          -1.8201446872430338,
          0.19942928864633003,
          -0.9179397030896396,
          -2.09783941616522,
          -1.500452381480773,
          0.921541813332476,
          -0.20283949702568466,
          -0.6224091041757651,
          -1.5309497626013673,
          2.3960370035120446,
          -0.798906464588825,
          2.6855530977557778,
          0.5220481471245186,
          -0.08582089303477562,
          -0.5847199205396268,
          0.3859634480227872,
          -0.4365193090897628,
          -0.8286648171246722,
          -0.08572601386447695,
          -1.3804843047424917,
          -1.0608984425490853,
          -0.6263509554355401,
          1.9859008957368793,
          -1.4489485453368747,
          0.5346258431159485,
          2.387929425784648,
          -0.3629636514626066,
          -1.606278511440651,
          -0.16083962877458965,
          1.4788501498787368,
          0.3690546302424768,
          -0.39434272594699243,
          -0.7204501129186216,
          -0.048470704701933834,
          0.3495814965023437,
          0.4434049265739363,
          -1.2219826611087121,
          -0.28550581198618147,
          -1.43564955517798,
          -1.0266421448996974,
          0.28182620745319154,
          0.650975407817685,
          -0.5523593168748906,
          -0.02826449419596439,
          0.5835488232553727,
          -0.45990628505108966,
          1.861942258383658,
          1.2247003424778167,
          -0.3926474871329264,
          -0.9872124239906978,
          0.18060257275506045,
          -3.1282202634719587,
          0.39015695867027855,
          -0.6032116714133441,
          1.5534065332882077,
          0.8076446774824714,
          -0.9466283913238981,
          0.2086053214047391,
          -1.5996173352620429,
          -0.5020738048324217,
          -0.885901490159055,
          0.435785110787616,
          -0.5052088166470903,
          -1.3757623133671353,
          -0.8472452639438817,
          -0.9119140192994585,
          0.31914466795431934,
          0.27656205648013976,
          0.7273345746414592,
          0.6274862198918303,
          -0.5336861185884401,
          -1.239705836405087,
          -0.14944745747340873,
          0.4664365322350763,
          0.576829998115034,
          1.1514488000990495,
          -0.32445430867609126,
          -0.5886129375934483,
          1.190812562297307,
          0.3207151318146256,
          -2.4099613330281167,
          0.9281084747609742,
          -1.4653632806521992,
          -1.1968090028828493,
          -0.43696814652571847,
          1.0470087389279674,
          -0.25243610009812334,
          -0.1715567422039336,
          -1.3064481634837306,
          0.31353487491155757,
          -0.906234469311814,
          -0.1554311832054045,
          0.04358606621245248,
          -1.232136715096742,
          -0.17106586593775666,
          1.3350788478359195,
          -0.6493521538932258
         ],
         "yaxis": "y13"
        },
        {
         "line": {
          "color": "rgba(128, 128, 128, 1.0)",
          "dash": "solid",
          "shape": "linear",
          "width": 1.3
         },
         "marker": {
          "size": 2,
          "symbol": "circle"
         },
         "mode": "markers",
         "name": "D",
         "text": "",
         "type": "scatter",
         "x": [
          0.995826467880346,
          -0.7369617224098037,
          0.37127384864429896,
          1.4973374656255485,
          -0.5136756334794229,
          -0.16912706548129708,
          -2.0136478401254956,
          0.6590292067347793,
          0.5281735423979428,
          -0.22596764617781726,
          0.8179265840659411,
          -0.7675078258062362,
          1.5557993453415198,
          1.1764532616325682,
          0.48410024097701665,
          0.7245640901748778,
          -0.1743255957392895,
          0.12398933128539748,
          0.7714456731235291,
          0.4057913540833407,
          1.186256289895277,
          -0.02105445729321405,
          -0.08094294955411512,
          0.2334964169726154,
          -1.8516069705667002,
          0.730782588490572,
          -0.7489429321852894,
          0.2560040303932152,
          0.7382717289609817,
          -0.9038563922535384,
          -0.14304968680136568,
          -0.7362909814018258,
          2.4014638348495625,
          -0.9026406680150731,
          2.56264403068799,
          -1.5081115882613203,
          -0.8431226423071239,
          -0.13073570393892617,
          0.8996129861200042,
          1.1399824665465794,
          0.048426080024693695,
          0.1668940515774451,
          -0.08354431280016783,
          -0.18563155879013335,
          0.13989039833424813,
          -0.6733933082584179,
          1.6206985566519567,
          -1.20146237893275,
          -2.0022301652003573,
          -0.5543558182050398,
          -2.492083782632766,
          -2.653638610926458,
          1.0403224744840096,
          -1.2503717390785278,
          1.2484039627566348,
          -0.1815316960413127,
          -0.7612710351716687,
          -0.5500424255656814,
          0.28190325275693273,
          0.33361672883874766,
          1.0952631148175236,
          1.9310982225189801,
          -1.2124783622530837,
          -1.2862055362957667,
          -1.3330480187478047,
          0.3731780294861189,
          -0.10194186296865584,
          -0.9603560274610924,
          -2.970109852235134,
          1.1441009979146743,
          0.04271329041066948,
          -1.3752165049488514,
          0.23494443618611646,
          0.8056619087889803,
          -2.9041102254767166,
          -0.6848921718215347,
          1.594433615490069,
          -1.4615825894063526,
          -0.13199479952107832,
          -0.2149473654351705,
          0.009768856092341214,
          -0.4052730444685135,
          -0.568991920341303,
          -1.084975804825773,
          -0.2663777907791061,
          -0.4762543065114372,
          0.028773158565766913,
          -0.7850746849449068,
          -0.6945749900304474,
          0.8427544736504147,
          -0.08393240804690318,
          -1.627899725389288,
          -0.21845671984730042,
          -0.47356107511270346,
          0.4357599336028361,
          -0.70845175800104,
          1.7153318283877876,
          0.8496103465694999,
          -1.5572805557424916,
          2.0251386210861186
         ],
         "xaxis": "x14",
         "y": [
          1.8536786587611707,
          0.31748701494719056,
          -1.5914137200326584,
          -1.8201446872430338,
          0.19942928864633003,
          -0.9179397030896396,
          -2.09783941616522,
          -1.500452381480773,
          0.921541813332476,
          -0.20283949702568466,
          -0.6224091041757651,
          -1.5309497626013673,
          2.3960370035120446,
          -0.798906464588825,
          2.6855530977557778,
          0.5220481471245186,
          -0.08582089303477562,
          -0.5847199205396268,
          0.3859634480227872,
          -0.4365193090897628,
          -0.8286648171246722,
          -0.08572601386447695,
          -1.3804843047424917,
          -1.0608984425490853,
          -0.6263509554355401,
          1.9859008957368793,
          -1.4489485453368747,
          0.5346258431159485,
          2.387929425784648,
          -0.3629636514626066,
          -1.606278511440651,
          -0.16083962877458965,
          1.4788501498787368,
          0.3690546302424768,
          -0.39434272594699243,
          -0.7204501129186216,
          -0.048470704701933834,
          0.3495814965023437,
          0.4434049265739363,
          -1.2219826611087121,
          -0.28550581198618147,
          -1.43564955517798,
          -1.0266421448996974,
          0.28182620745319154,
          0.650975407817685,
          -0.5523593168748906,
          -0.02826449419596439,
          0.5835488232553727,
          -0.45990628505108966,
          1.861942258383658,
          1.2247003424778167,
          -0.3926474871329264,
          -0.9872124239906978,
          0.18060257275506045,
          -3.1282202634719587,
          0.39015695867027855,
          -0.6032116714133441,
          1.5534065332882077,
          0.8076446774824714,
          -0.9466283913238981,
          0.2086053214047391,
          -1.5996173352620429,
          -0.5020738048324217,
          -0.885901490159055,
          0.435785110787616,
          -0.5052088166470903,
          -1.3757623133671353,
          -0.8472452639438817,
          -0.9119140192994585,
          0.31914466795431934,
          0.27656205648013976,
          0.7273345746414592,
          0.6274862198918303,
          -0.5336861185884401,
          -1.239705836405087,
          -0.14944745747340873,
          0.4664365322350763,
          0.576829998115034,
          1.1514488000990495,
          -0.32445430867609126,
          -0.5886129375934483,
          1.190812562297307,
          0.3207151318146256,
          -2.4099613330281167,
          0.9281084747609742,
          -1.4653632806521992,
          -1.1968090028828493,
          -0.43696814652571847,
          1.0470087389279674,
          -0.25243610009812334,
          -0.1715567422039336,
          -1.3064481634837306,
          0.31353487491155757,
          -0.906234469311814,
          -0.1554311832054045,
          0.04358606621245248,
          -1.232136715096742,
          -0.17106586593775666,
          1.3350788478359195,
          -0.6493521538932258
         ],
         "yaxis": "y14"
        },
        {
         "line": {
          "color": "rgba(128, 128, 128, 1.0)",
          "dash": "solid",
          "shape": "linear",
          "width": 1.3
         },
         "marker": {
          "size": 2,
          "symbol": "circle"
         },
         "mode": "markers",
         "name": "D",
         "text": "",
         "type": "scatter",
         "x": [
          -0.09389924246810805,
          0.46693784219434303,
          1.5981105835428606,
          0.939579245061577,
          0.7353018080757163,
          0.646999790089509,
          -0.33768524482540635,
          0.8517183133690732,
          -0.3384120781905001,
          -0.3274608793784002,
          0.3611770364046952,
          -1.4324134965299424,
          -1.3423692799559948,
          0.6653145797092015,
          1.6654082381434867,
          -2.020428438095846,
          0.09521652455894322,
          -0.4203687326465551,
          0.27431514414201197,
          -0.042820910303760805,
          -1.8621475850762577,
          -0.1672421567112696,
          0.8990975423749583,
          -1.270119359829677,
          -0.5746895495068903,
          -0.31890119840212383,
          2.2781245825620626,
          -0.36013671693763616,
          0.8828486167671366,
          -0.3525176349246981,
          -1.038424938990193,
          -1.2571132847557838,
          -0.722802101739417,
          1.09652110251346,
          -0.4860419291434229,
          0.04831710062416164,
          0.6765773534698574,
          -1.8480362076705836,
          -0.45892892454316075,
          0.4285622114547675,
          -0.8266561357422507,
          -0.322348796606711,
          -0.8875048573626982,
          -1.4553460601722525,
          -0.2503900748624838,
          1.0481974368802498,
          0.12429421845735472,
          0.660838527309358,
          1.6285759733899243,
          2.320700153051851,
          -0.20727290897373735,
          -0.03537029993862725,
          0.202414319281178,
          -0.7773088877291788,
          1.2163903659622308,
          0.048352193156689226,
          0.31017736336031887,
          -0.5741650006672349,
          2.220593399617657,
          1.0426301077746036,
          0.01789033403987293,
          -0.21821945842542395,
          -0.6817997624610167,
          0.18781578841879995,
          -0.10048108951657567,
          -1.2091706254267716,
          2.100116509821881,
          1.5572668184385687,
          0.11149873271719092,
          -0.9289841087187439,
          -0.48639998626464015,
          -0.2357056005630904,
          0.1312857384290406,
          -0.6189075163619262,
          -1.517855238304068,
          -0.20063050415677747,
          -0.11154419808878213,
          -2.1543594541608555,
          0.5991817972692761,
          0.1874823907819667,
          -0.40855192884095826,
          -0.45544930558017094,
          -0.9779669239559734,
          -0.10539664895270522,
          -0.40806221877933696,
          1.3651121191971893,
          -0.6014893104206162,
          1.3156915791575803,
          -0.6587323985544884,
          -1.067454889181448,
          0.05353779844388949,
          0.050740582498669765,
          -0.3410220481473968,
          0.6939361774346295,
          0.3745983221830779,
          0.00390113269939864,
          -1.2778068397693865,
          -1.9045976637933393,
          0.23769910520867105,
          -1.2346184798868076
         ],
         "xaxis": "x15",
         "y": [
          1.8536786587611707,
          0.31748701494719056,
          -1.5914137200326584,
          -1.8201446872430338,
          0.19942928864633003,
          -0.9179397030896396,
          -2.09783941616522,
          -1.500452381480773,
          0.921541813332476,
          -0.20283949702568466,
          -0.6224091041757651,
          -1.5309497626013673,
          2.3960370035120446,
          -0.798906464588825,
          2.6855530977557778,
          0.5220481471245186,
          -0.08582089303477562,
          -0.5847199205396268,
          0.3859634480227872,
          -0.4365193090897628,
          -0.8286648171246722,
          -0.08572601386447695,
          -1.3804843047424917,
          -1.0608984425490853,
          -0.6263509554355401,
          1.9859008957368793,
          -1.4489485453368747,
          0.5346258431159485,
          2.387929425784648,
          -0.3629636514626066,
          -1.606278511440651,
          -0.16083962877458965,
          1.4788501498787368,
          0.3690546302424768,
          -0.39434272594699243,
          -0.7204501129186216,
          -0.048470704701933834,
          0.3495814965023437,
          0.4434049265739363,
          -1.2219826611087121,
          -0.28550581198618147,
          -1.43564955517798,
          -1.0266421448996974,
          0.28182620745319154,
          0.650975407817685,
          -0.5523593168748906,
          -0.02826449419596439,
          0.5835488232553727,
          -0.45990628505108966,
          1.861942258383658,
          1.2247003424778167,
          -0.3926474871329264,
          -0.9872124239906978,
          0.18060257275506045,
          -3.1282202634719587,
          0.39015695867027855,
          -0.6032116714133441,
          1.5534065332882077,
          0.8076446774824714,
          -0.9466283913238981,
          0.2086053214047391,
          -1.5996173352620429,
          -0.5020738048324217,
          -0.885901490159055,
          0.435785110787616,
          -0.5052088166470903,
          -1.3757623133671353,
          -0.8472452639438817,
          -0.9119140192994585,
          0.31914466795431934,
          0.27656205648013976,
          0.7273345746414592,
          0.6274862198918303,
          -0.5336861185884401,
          -1.239705836405087,
          -0.14944745747340873,
          0.4664365322350763,
          0.576829998115034,
          1.1514488000990495,
          -0.32445430867609126,
          -0.5886129375934483,
          1.190812562297307,
          0.3207151318146256,
          -2.4099613330281167,
          0.9281084747609742,
          -1.4653632806521992,
          -1.1968090028828493,
          -0.43696814652571847,
          1.0470087389279674,
          -0.25243610009812334,
          -0.1715567422039336,
          -1.3064481634837306,
          0.31353487491155757,
          -0.906234469311814,
          -0.1554311832054045,
          0.04358606621245248,
          -1.232136715096742,
          -0.17106586593775666,
          1.3350788478359195,
          -0.6493521538932258
         ],
         "yaxis": "y15"
        },
        {
         "histfunc": "count",
         "histnorm": "",
         "marker": {
          "color": "rgba(128, 0, 128, 1.0)",
          "line": {
           "color": "#4D5663",
           "width": 1.3
          }
         },
         "name": "D",
         "nbinsx": 10,
         "opacity": 0.8,
         "orientation": "v",
         "type": "histogram",
         "x": [
          1.8536786587611707,
          0.31748701494719056,
          -1.5914137200326584,
          -1.8201446872430338,
          0.19942928864633003,
          -0.9179397030896396,
          -2.09783941616522,
          -1.500452381480773,
          0.921541813332476,
          -0.20283949702568466,
          -0.6224091041757651,
          -1.5309497626013673,
          2.3960370035120446,
          -0.798906464588825,
          2.6855530977557778,
          0.5220481471245186,
          -0.08582089303477562,
          -0.5847199205396268,
          0.3859634480227872,
          -0.4365193090897628,
          -0.8286648171246722,
          -0.08572601386447695,
          -1.3804843047424917,
          -1.0608984425490853,
          -0.6263509554355401,
          1.9859008957368793,
          -1.4489485453368747,
          0.5346258431159485,
          2.387929425784648,
          -0.3629636514626066,
          -1.606278511440651,
          -0.16083962877458965,
          1.4788501498787368,
          0.3690546302424768,
          -0.39434272594699243,
          -0.7204501129186216,
          -0.048470704701933834,
          0.3495814965023437,
          0.4434049265739363,
          -1.2219826611087121,
          -0.28550581198618147,
          -1.43564955517798,
          -1.0266421448996974,
          0.28182620745319154,
          0.650975407817685,
          -0.5523593168748906,
          -0.02826449419596439,
          0.5835488232553727,
          -0.45990628505108966,
          1.861942258383658,
          1.2247003424778167,
          -0.3926474871329264,
          -0.9872124239906978,
          0.18060257275506045,
          -3.1282202634719587,
          0.39015695867027855,
          -0.6032116714133441,
          1.5534065332882077,
          0.8076446774824714,
          -0.9466283913238981,
          0.2086053214047391,
          -1.5996173352620429,
          -0.5020738048324217,
          -0.885901490159055,
          0.435785110787616,
          -0.5052088166470903,
          -1.3757623133671353,
          -0.8472452639438817,
          -0.9119140192994585,
          0.31914466795431934,
          0.27656205648013976,
          0.7273345746414592,
          0.6274862198918303,
          -0.5336861185884401,
          -1.239705836405087,
          -0.14944745747340873,
          0.4664365322350763,
          0.576829998115034,
          1.1514488000990495,
          -0.32445430867609126,
          -0.5886129375934483,
          1.190812562297307,
          0.3207151318146256,
          -2.4099613330281167,
          0.9281084747609742,
          -1.4653632806521992,
          -1.1968090028828493,
          -0.43696814652571847,
          1.0470087389279674,
          -0.25243610009812334,
          -0.1715567422039336,
          -1.3064481634837306,
          0.31353487491155757,
          -0.906234469311814,
          -0.1554311832054045,
          0.04358606621245248,
          -1.232136715096742,
          -0.17106586593775666,
          1.3350788478359195,
          -0.6493521538932258
         ],
         "xaxis": "x16",
         "yaxis": "y16"
        }
       ],
       "layout": {
        "bargap": 0.02,
        "legend": {
         "bgcolor": "#F5F6F9",
         "font": {
          "color": "#4D5663"
         }
        },
        "paper_bgcolor": "#F5F6F9",
        "plot_bgcolor": "#F5F6F9",
        "showlegend": false,
        "template": {
         "data": {
          "bar": [
           {
            "error_x": {
             "color": "#2a3f5f"
            },
            "error_y": {
             "color": "#2a3f5f"
            },
            "marker": {
             "line": {
              "color": "#E5ECF6",
              "width": 0.5
             },
             "pattern": {
              "fillmode": "overlay",
              "size": 10,
              "solidity": 0.2
             }
            },
            "type": "bar"
           }
          ],
          "barpolar": [
           {
            "marker": {
             "line": {
              "color": "#E5ECF6",
              "width": 0.5
             },
             "pattern": {
              "fillmode": "overlay",
              "size": 10,
              "solidity": 0.2
             }
            },
            "type": "barpolar"
           }
          ],
          "carpet": [
           {
            "aaxis": {
             "endlinecolor": "#2a3f5f",
             "gridcolor": "white",
             "linecolor": "white",
             "minorgridcolor": "white",
             "startlinecolor": "#2a3f5f"
            },
            "baxis": {
             "endlinecolor": "#2a3f5f",
             "gridcolor": "white",
             "linecolor": "white",
             "minorgridcolor": "white",
             "startlinecolor": "#2a3f5f"
            },
            "type": "carpet"
           }
          ],
          "choropleth": [
           {
            "colorbar": {
             "outlinewidth": 0,
             "ticks": ""
            },
            "type": "choropleth"
           }
          ],
          "contour": [
           {
            "colorbar": {
             "outlinewidth": 0,
             "ticks": ""
            },
            "colorscale": [
             [
              0,
              "#0d0887"
             ],
             [
              0.1111111111111111,
              "#46039f"
             ],
             [
              0.2222222222222222,
              "#7201a8"
             ],
             [
              0.3333333333333333,
              "#9c179e"
             ],
             [
              0.4444444444444444,
              "#bd3786"
             ],
             [
              0.5555555555555556,
              "#d8576b"
             ],
             [
              0.6666666666666666,
              "#ed7953"
             ],
             [
              0.7777777777777778,
              "#fb9f3a"
             ],
             [
              0.8888888888888888,
              "#fdca26"
             ],
             [
              1,
              "#f0f921"
             ]
            ],
            "type": "contour"
           }
          ],
          "contourcarpet": [
           {
            "colorbar": {
             "outlinewidth": 0,
             "ticks": ""
            },
            "type": "contourcarpet"
           }
          ],
          "heatmap": [
           {
            "colorbar": {
             "outlinewidth": 0,
             "ticks": ""
            },
            "colorscale": [
             [
              0,
              "#0d0887"
             ],
             [
              0.1111111111111111,
              "#46039f"
             ],
             [
              0.2222222222222222,
              "#7201a8"
             ],
             [
              0.3333333333333333,
              "#9c179e"
             ],
             [
              0.4444444444444444,
              "#bd3786"
             ],
             [
              0.5555555555555556,
              "#d8576b"
             ],
             [
              0.6666666666666666,
              "#ed7953"
             ],
             [
              0.7777777777777778,
              "#fb9f3a"
             ],
             [
              0.8888888888888888,
              "#fdca26"
             ],
             [
              1,
              "#f0f921"
             ]
            ],
            "type": "heatmap"
           }
          ],
          "heatmapgl": [
           {
            "colorbar": {
             "outlinewidth": 0,
             "ticks": ""
            },
            "colorscale": [
             [
              0,
              "#0d0887"
             ],
             [
              0.1111111111111111,
              "#46039f"
             ],
             [
              0.2222222222222222,
              "#7201a8"
             ],
             [
              0.3333333333333333,
              "#9c179e"
             ],
             [
              0.4444444444444444,
              "#bd3786"
             ],
             [
              0.5555555555555556,
              "#d8576b"
             ],
             [
              0.6666666666666666,
              "#ed7953"
             ],
             [
              0.7777777777777778,
              "#fb9f3a"
             ],
             [
              0.8888888888888888,
              "#fdca26"
             ],
             [
              1,
              "#f0f921"
             ]
            ],
            "type": "heatmapgl"
           }
          ],
          "histogram": [
           {
            "marker": {
             "pattern": {
              "fillmode": "overlay",
              "size": 10,
              "solidity": 0.2
             }
            },
            "type": "histogram"
           }
          ],
          "histogram2d": [
           {
            "colorbar": {
             "outlinewidth": 0,
             "ticks": ""
            },
            "colorscale": [
             [
              0,
              "#0d0887"
             ],
             [
              0.1111111111111111,
              "#46039f"
             ],
             [
              0.2222222222222222,
              "#7201a8"
             ],
             [
              0.3333333333333333,
              "#9c179e"
             ],
             [
              0.4444444444444444,
              "#bd3786"
             ],
             [
              0.5555555555555556,
              "#d8576b"
             ],
             [
              0.6666666666666666,
              "#ed7953"
             ],
             [
              0.7777777777777778,
              "#fb9f3a"
             ],
             [
              0.8888888888888888,
              "#fdca26"
             ],
             [
              1,
              "#f0f921"
             ]
            ],
            "type": "histogram2d"
           }
          ],
          "histogram2dcontour": [
           {
            "colorbar": {
             "outlinewidth": 0,
             "ticks": ""
            },
            "colorscale": [
             [
              0,
              "#0d0887"
             ],
             [
              0.1111111111111111,
              "#46039f"
             ],
             [
              0.2222222222222222,
              "#7201a8"
             ],
             [
              0.3333333333333333,
              "#9c179e"
             ],
             [
              0.4444444444444444,
              "#bd3786"
             ],
             [
              0.5555555555555556,
              "#d8576b"
             ],
             [
              0.6666666666666666,
              "#ed7953"
             ],
             [
              0.7777777777777778,
              "#fb9f3a"
             ],
             [
              0.8888888888888888,
              "#fdca26"
             ],
             [
              1,
              "#f0f921"
             ]
            ],
            "type": "histogram2dcontour"
           }
          ],
          "mesh3d": [
           {
            "colorbar": {
             "outlinewidth": 0,
             "ticks": ""
            },
            "type": "mesh3d"
           }
          ],
          "parcoords": [
           {
            "line": {
             "colorbar": {
              "outlinewidth": 0,
              "ticks": ""
             }
            },
            "type": "parcoords"
           }
          ],
          "pie": [
           {
            "automargin": true,
            "type": "pie"
           }
          ],
          "scatter": [
           {
            "marker": {
             "colorbar": {
              "outlinewidth": 0,
              "ticks": ""
             }
            },
            "type": "scatter"
           }
          ],
          "scatter3d": [
           {
            "line": {
             "colorbar": {
              "outlinewidth": 0,
              "ticks": ""
             }
            },
            "marker": {
             "colorbar": {
              "outlinewidth": 0,
              "ticks": ""
             }
            },
            "type": "scatter3d"
           }
          ],
          "scattercarpet": [
           {
            "marker": {
             "colorbar": {
              "outlinewidth": 0,
              "ticks": ""
             }
            },
            "type": "scattercarpet"
           }
          ],
          "scattergeo": [
           {
            "marker": {
             "colorbar": {
              "outlinewidth": 0,
              "ticks": ""
             }
            },
            "type": "scattergeo"
           }
          ],
          "scattergl": [
           {
            "marker": {
             "colorbar": {
              "outlinewidth": 0,
              "ticks": ""
             }
            },
            "type": "scattergl"
           }
          ],
          "scattermapbox": [
           {
            "marker": {
             "colorbar": {
              "outlinewidth": 0,
              "ticks": ""
             }
            },
            "type": "scattermapbox"
           }
          ],
          "scatterpolar": [
           {
            "marker": {
             "colorbar": {
              "outlinewidth": 0,
              "ticks": ""
             }
            },
            "type": "scatterpolar"
           }
          ],
          "scatterpolargl": [
           {
            "marker": {
             "colorbar": {
              "outlinewidth": 0,
              "ticks": ""
             }
            },
            "type": "scatterpolargl"
           }
          ],
          "scatterternary": [
           {
            "marker": {
             "colorbar": {
              "outlinewidth": 0,
              "ticks": ""
             }
            },
            "type": "scatterternary"
           }
          ],
          "surface": [
           {
            "colorbar": {
             "outlinewidth": 0,
             "ticks": ""
            },
            "colorscale": [
             [
              0,
              "#0d0887"
             ],
             [
              0.1111111111111111,
              "#46039f"
             ],
             [
              0.2222222222222222,
              "#7201a8"
             ],
             [
              0.3333333333333333,
              "#9c179e"
             ],
             [
              0.4444444444444444,
              "#bd3786"
             ],
             [
              0.5555555555555556,
              "#d8576b"
             ],
             [
              0.6666666666666666,
              "#ed7953"
             ],
             [
              0.7777777777777778,
              "#fb9f3a"
             ],
             [
              0.8888888888888888,
              "#fdca26"
             ],
             [
              1,
              "#f0f921"
             ]
            ],
            "type": "surface"
           }
          ],
          "table": [
           {
            "cells": {
             "fill": {
              "color": "#EBF0F8"
             },
             "line": {
              "color": "white"
             }
            },
            "header": {
             "fill": {
              "color": "#C8D4E3"
             },
             "line": {
              "color": "white"
             }
            },
            "type": "table"
           }
          ]
         },
         "layout": {
          "annotationdefaults": {
           "arrowcolor": "#2a3f5f",
           "arrowhead": 0,
           "arrowwidth": 1
          },
          "autotypenumbers": "strict",
          "coloraxis": {
           "colorbar": {
            "outlinewidth": 0,
            "ticks": ""
           }
          },
          "colorscale": {
           "diverging": [
            [
             0,
             "#8e0152"
            ],
            [
             0.1,
             "#c51b7d"
            ],
            [
             0.2,
             "#de77ae"
            ],
            [
             0.3,
             "#f1b6da"
            ],
            [
             0.4,
             "#fde0ef"
            ],
            [
             0.5,
             "#f7f7f7"
            ],
            [
             0.6,
             "#e6f5d0"
            ],
            [
             0.7,
             "#b8e186"
            ],
            [
             0.8,
             "#7fbc41"
            ],
            [
             0.9,
             "#4d9221"
            ],
            [
             1,
             "#276419"
            ]
           ],
           "sequential": [
            [
             0,
             "#0d0887"
            ],
            [
             0.1111111111111111,
             "#46039f"
            ],
            [
             0.2222222222222222,
             "#7201a8"
            ],
            [
             0.3333333333333333,
             "#9c179e"
            ],
            [
             0.4444444444444444,
             "#bd3786"
            ],
            [
             0.5555555555555556,
             "#d8576b"
            ],
            [
             0.6666666666666666,
             "#ed7953"
            ],
            [
             0.7777777777777778,
             "#fb9f3a"
            ],
            [
             0.8888888888888888,
             "#fdca26"
            ],
            [
             1,
             "#f0f921"
            ]
           ],
           "sequentialminus": [
            [
             0,
             "#0d0887"
            ],
            [
             0.1111111111111111,
             "#46039f"
            ],
            [
             0.2222222222222222,
             "#7201a8"
            ],
            [
             0.3333333333333333,
             "#9c179e"
            ],
            [
             0.4444444444444444,
             "#bd3786"
            ],
            [
             0.5555555555555556,
             "#d8576b"
            ],
            [
             0.6666666666666666,
             "#ed7953"
            ],
            [
             0.7777777777777778,
             "#fb9f3a"
            ],
            [
             0.8888888888888888,
             "#fdca26"
            ],
            [
             1,
             "#f0f921"
            ]
           ]
          },
          "colorway": [
           "#636efa",
           "#EF553B",
           "#00cc96",
           "#ab63fa",
           "#FFA15A",
           "#19d3f3",
           "#FF6692",
           "#B6E880",
           "#FF97FF",
           "#FECB52"
          ],
          "font": {
           "color": "#2a3f5f"
          },
          "geo": {
           "bgcolor": "white",
           "lakecolor": "white",
           "landcolor": "#E5ECF6",
           "showlakes": true,
           "showland": true,
           "subunitcolor": "white"
          },
          "hoverlabel": {
           "align": "left"
          },
          "hovermode": "closest",
          "mapbox": {
           "style": "light"
          },
          "paper_bgcolor": "white",
          "plot_bgcolor": "#E5ECF6",
          "polar": {
           "angularaxis": {
            "gridcolor": "white",
            "linecolor": "white",
            "ticks": ""
           },
           "bgcolor": "#E5ECF6",
           "radialaxis": {
            "gridcolor": "white",
            "linecolor": "white",
            "ticks": ""
           }
          },
          "scene": {
           "xaxis": {
            "backgroundcolor": "#E5ECF6",
            "gridcolor": "white",
            "gridwidth": 2,
            "linecolor": "white",
            "showbackground": true,
            "ticks": "",
            "zerolinecolor": "white"
           },
           "yaxis": {
            "backgroundcolor": "#E5ECF6",
            "gridcolor": "white",
            "gridwidth": 2,
            "linecolor": "white",
            "showbackground": true,
            "ticks": "",
            "zerolinecolor": "white"
           },
           "zaxis": {
            "backgroundcolor": "#E5ECF6",
            "gridcolor": "white",
            "gridwidth": 2,
            "linecolor": "white",
            "showbackground": true,
            "ticks": "",
            "zerolinecolor": "white"
           }
          },
          "shapedefaults": {
           "line": {
            "color": "#2a3f5f"
           }
          },
          "ternary": {
           "aaxis": {
            "gridcolor": "white",
            "linecolor": "white",
            "ticks": ""
           },
           "baxis": {
            "gridcolor": "white",
            "linecolor": "white",
            "ticks": ""
           },
           "bgcolor": "#E5ECF6",
           "caxis": {
            "gridcolor": "white",
            "linecolor": "white",
            "ticks": ""
           }
          },
          "title": {
           "x": 0.05
          },
          "xaxis": {
           "automargin": true,
           "gridcolor": "white",
           "linecolor": "white",
           "ticks": "",
           "title": {
            "standoff": 15
           },
           "zerolinecolor": "white",
           "zerolinewidth": 2
          },
          "yaxis": {
           "automargin": true,
           "gridcolor": "white",
           "linecolor": "white",
           "ticks": "",
           "title": {
            "standoff": 15
           },
           "zerolinecolor": "white",
           "zerolinewidth": 2
          }
         }
        },
        "title": {
         "font": {
          "color": "#4D5663"
         }
        },
        "xaxis": {
         "anchor": "y",
         "domain": [
          0,
          0.2125
         ],
         "gridcolor": "#E1E5ED",
         "showgrid": false,
         "tickfont": {
          "color": "#4D5663"
         },
         "title": {
          "font": {
           "color": "#4D5663"
          },
          "text": ""
         },
         "zerolinecolor": "#E1E5ED"
        },
        "xaxis10": {
         "anchor": "y10",
         "domain": [
          0.2625,
          0.475
         ],
         "gridcolor": "#E1E5ED",
         "showgrid": false,
         "tickfont": {
          "color": "#4D5663"
         },
         "title": {
          "font": {
           "color": "#4D5663"
          },
          "text": ""
         },
         "zerolinecolor": "#E1E5ED"
        },
        "xaxis11": {
         "anchor": "y11",
         "domain": [
          0.525,
          0.7375
         ],
         "gridcolor": "#E1E5ED",
         "showgrid": false,
         "tickfont": {
          "color": "#4D5663"
         },
         "title": {
          "font": {
           "color": "#4D5663"
          },
          "text": ""
         },
         "zerolinecolor": "#E1E5ED"
        },
        "xaxis12": {
         "anchor": "y12",
         "domain": [
          0.7875,
          1
         ],
         "gridcolor": "#E1E5ED",
         "showgrid": false,
         "tickfont": {
          "color": "#4D5663"
         },
         "title": {
          "font": {
           "color": "#4D5663"
          },
          "text": ""
         },
         "zerolinecolor": "#E1E5ED"
        },
        "xaxis13": {
         "anchor": "y13",
         "domain": [
          0,
          0.2125
         ],
         "gridcolor": "#E1E5ED",
         "showgrid": false,
         "tickfont": {
          "color": "#4D5663"
         },
         "title": {
          "font": {
           "color": "#4D5663"
          },
          "text": ""
         },
         "zerolinecolor": "#E1E5ED"
        },
        "xaxis14": {
         "anchor": "y14",
         "domain": [
          0.2625,
          0.475
         ],
         "gridcolor": "#E1E5ED",
         "showgrid": false,
         "tickfont": {
          "color": "#4D5663"
         },
         "title": {
          "font": {
           "color": "#4D5663"
          },
          "text": ""
         },
         "zerolinecolor": "#E1E5ED"
        },
        "xaxis15": {
         "anchor": "y15",
         "domain": [
          0.525,
          0.7375
         ],
         "gridcolor": "#E1E5ED",
         "showgrid": false,
         "tickfont": {
          "color": "#4D5663"
         },
         "title": {
          "font": {
           "color": "#4D5663"
          },
          "text": ""
         },
         "zerolinecolor": "#E1E5ED"
        },
        "xaxis16": {
         "anchor": "y16",
         "domain": [
          0.7875,
          1
         ],
         "gridcolor": "#E1E5ED",
         "showgrid": false,
         "tickfont": {
          "color": "#4D5663"
         },
         "title": {
          "font": {
           "color": "#4D5663"
          },
          "text": ""
         },
         "zerolinecolor": "#E1E5ED"
        },
        "xaxis2": {
         "anchor": "y2",
         "domain": [
          0.2625,
          0.475
         ],
         "gridcolor": "#E1E5ED",
         "showgrid": false,
         "tickfont": {
          "color": "#4D5663"
         },
         "title": {
          "font": {
           "color": "#4D5663"
          },
          "text": ""
         },
         "zerolinecolor": "#E1E5ED"
        },
        "xaxis3": {
         "anchor": "y3",
         "domain": [
          0.525,
          0.7375
         ],
         "gridcolor": "#E1E5ED",
         "showgrid": false,
         "tickfont": {
          "color": "#4D5663"
         },
         "title": {
          "font": {
           "color": "#4D5663"
          },
          "text": ""
         },
         "zerolinecolor": "#E1E5ED"
        },
        "xaxis4": {
         "anchor": "y4",
         "domain": [
          0.7875,
          1
         ],
         "gridcolor": "#E1E5ED",
         "showgrid": false,
         "tickfont": {
          "color": "#4D5663"
         },
         "title": {
          "font": {
           "color": "#4D5663"
          },
          "text": ""
         },
         "zerolinecolor": "#E1E5ED"
        },
        "xaxis5": {
         "anchor": "y5",
         "domain": [
          0,
          0.2125
         ],
         "gridcolor": "#E1E5ED",
         "showgrid": false,
         "tickfont": {
          "color": "#4D5663"
         },
         "title": {
          "font": {
           "color": "#4D5663"
          },
          "text": ""
         },
         "zerolinecolor": "#E1E5ED"
        },
        "xaxis6": {
         "anchor": "y6",
         "domain": [
          0.2625,
          0.475
         ],
         "gridcolor": "#E1E5ED",
         "showgrid": false,
         "tickfont": {
          "color": "#4D5663"
         },
         "title": {
          "font": {
           "color": "#4D5663"
          },
          "text": ""
         },
         "zerolinecolor": "#E1E5ED"
        },
        "xaxis7": {
         "anchor": "y7",
         "domain": [
          0.525,
          0.7375
         ],
         "gridcolor": "#E1E5ED",
         "showgrid": false,
         "tickfont": {
          "color": "#4D5663"
         },
         "title": {
          "font": {
           "color": "#4D5663"
          },
          "text": ""
         },
         "zerolinecolor": "#E1E5ED"
        },
        "xaxis8": {
         "anchor": "y8",
         "domain": [
          0.7875,
          1
         ],
         "gridcolor": "#E1E5ED",
         "showgrid": false,
         "tickfont": {
          "color": "#4D5663"
         },
         "title": {
          "font": {
           "color": "#4D5663"
          },
          "text": ""
         },
         "zerolinecolor": "#E1E5ED"
        },
        "xaxis9": {
         "anchor": "y9",
         "domain": [
          0,
          0.2125
         ],
         "gridcolor": "#E1E5ED",
         "showgrid": false,
         "tickfont": {
          "color": "#4D5663"
         },
         "title": {
          "font": {
           "color": "#4D5663"
          },
          "text": ""
         },
         "zerolinecolor": "#E1E5ED"
        },
        "yaxis": {
         "anchor": "x",
         "domain": [
          0.8025,
          1
         ],
         "gridcolor": "#E1E5ED",
         "showgrid": false,
         "tickfont": {
          "color": "#4D5663"
         },
         "title": {
          "font": {
           "color": "#4D5663"
          },
          "text": ""
         },
         "zerolinecolor": "#E1E5ED"
        },
        "yaxis10": {
         "anchor": "x10",
         "domain": [
          0.2675,
          0.465
         ],
         "gridcolor": "#E1E5ED",
         "showgrid": false,
         "tickfont": {
          "color": "#4D5663"
         },
         "title": {
          "font": {
           "color": "#4D5663"
          },
          "text": ""
         },
         "zerolinecolor": "#E1E5ED"
        },
        "yaxis11": {
         "anchor": "x11",
         "domain": [
          0.2675,
          0.465
         ],
         "gridcolor": "#E1E5ED",
         "showgrid": false,
         "tickfont": {
          "color": "#4D5663"
         },
         "title": {
          "font": {
           "color": "#4D5663"
          },
          "text": ""
         },
         "zerolinecolor": "#E1E5ED"
        },
        "yaxis12": {
         "anchor": "x12",
         "domain": [
          0.2675,
          0.465
         ],
         "gridcolor": "#E1E5ED",
         "showgrid": false,
         "tickfont": {
          "color": "#4D5663"
         },
         "title": {
          "font": {
           "color": "#4D5663"
          },
          "text": ""
         },
         "zerolinecolor": "#E1E5ED"
        },
        "yaxis13": {
         "anchor": "x13",
         "domain": [
          0,
          0.1975
         ],
         "gridcolor": "#E1E5ED",
         "showgrid": false,
         "tickfont": {
          "color": "#4D5663"
         },
         "title": {
          "font": {
           "color": "#4D5663"
          },
          "text": ""
         },
         "zerolinecolor": "#E1E5ED"
        },
        "yaxis14": {
         "anchor": "x14",
         "domain": [
          0,
          0.1975
         ],
         "gridcolor": "#E1E5ED",
         "showgrid": false,
         "tickfont": {
          "color": "#4D5663"
         },
         "title": {
          "font": {
           "color": "#4D5663"
          },
          "text": ""
         },
         "zerolinecolor": "#E1E5ED"
        },
        "yaxis15": {
         "anchor": "x15",
         "domain": [
          0,
          0.1975
         ],
         "gridcolor": "#E1E5ED",
         "showgrid": false,
         "tickfont": {
          "color": "#4D5663"
         },
         "title": {
          "font": {
           "color": "#4D5663"
          },
          "text": ""
         },
         "zerolinecolor": "#E1E5ED"
        },
        "yaxis16": {
         "anchor": "x16",
         "domain": [
          0,
          0.1975
         ],
         "gridcolor": "#E1E5ED",
         "showgrid": false,
         "tickfont": {
          "color": "#4D5663"
         },
         "title": {
          "font": {
           "color": "#4D5663"
          },
          "text": ""
         },
         "zerolinecolor": "#E1E5ED"
        },
        "yaxis2": {
         "anchor": "x2",
         "domain": [
          0.8025,
          1
         ],
         "gridcolor": "#E1E5ED",
         "showgrid": false,
         "tickfont": {
          "color": "#4D5663"
         },
         "title": {
          "font": {
           "color": "#4D5663"
          },
          "text": ""
         },
         "zerolinecolor": "#E1E5ED"
        },
        "yaxis3": {
         "anchor": "x3",
         "domain": [
          0.8025,
          1
         ],
         "gridcolor": "#E1E5ED",
         "showgrid": false,
         "tickfont": {
          "color": "#4D5663"
         },
         "title": {
          "font": {
           "color": "#4D5663"
          },
          "text": ""
         },
         "zerolinecolor": "#E1E5ED"
        },
        "yaxis4": {
         "anchor": "x4",
         "domain": [
          0.8025,
          1
         ],
         "gridcolor": "#E1E5ED",
         "showgrid": false,
         "tickfont": {
          "color": "#4D5663"
         },
         "title": {
          "font": {
           "color": "#4D5663"
          },
          "text": ""
         },
         "zerolinecolor": "#E1E5ED"
        },
        "yaxis5": {
         "anchor": "x5",
         "domain": [
          0.535,
          0.7325
         ],
         "gridcolor": "#E1E5ED",
         "showgrid": false,
         "tickfont": {
          "color": "#4D5663"
         },
         "title": {
          "font": {
           "color": "#4D5663"
          },
          "text": ""
         },
         "zerolinecolor": "#E1E5ED"
        },
        "yaxis6": {
         "anchor": "x6",
         "domain": [
          0.535,
          0.7325
         ],
         "gridcolor": "#E1E5ED",
         "showgrid": false,
         "tickfont": {
          "color": "#4D5663"
         },
         "title": {
          "font": {
           "color": "#4D5663"
          },
          "text": ""
         },
         "zerolinecolor": "#E1E5ED"
        },
        "yaxis7": {
         "anchor": "x7",
         "domain": [
          0.535,
          0.7325
         ],
         "gridcolor": "#E1E5ED",
         "showgrid": false,
         "tickfont": {
          "color": "#4D5663"
         },
         "title": {
          "font": {
           "color": "#4D5663"
          },
          "text": ""
         },
         "zerolinecolor": "#E1E5ED"
        },
        "yaxis8": {
         "anchor": "x8",
         "domain": [
          0.535,
          0.7325
         ],
         "gridcolor": "#E1E5ED",
         "showgrid": false,
         "tickfont": {
          "color": "#4D5663"
         },
         "title": {
          "font": {
           "color": "#4D5663"
          },
          "text": ""
         },
         "zerolinecolor": "#E1E5ED"
        },
        "yaxis9": {
         "anchor": "x9",
         "domain": [
          0.2675,
          0.465
         ],
         "gridcolor": "#E1E5ED",
         "showgrid": false,
         "tickfont": {
          "color": "#4D5663"
         },
         "title": {
          "font": {
           "color": "#4D5663"
          },
          "text": ""
         },
         "zerolinecolor": "#E1E5ED"
        }
       }
      },
      "text/html": [
       "<div>                            <div id=\"aaac3827-08c3-400f-87a2-a3c021fac033\" class=\"plotly-graph-div\" style=\"height:525px; width:100%;\"></div>            <script type=\"text/javascript\">                require([\"plotly\"], function(Plotly) {                    window.PLOTLYENV=window.PLOTLYENV || {};\n",
       "                    window.PLOTLYENV.BASE_URL='https://plot.ly';                                    if (document.getElementById(\"aaac3827-08c3-400f-87a2-a3c021fac033\")) {                    Plotly.newPlot(                        \"aaac3827-08c3-400f-87a2-a3c021fac033\",                        [{\"histfunc\":\"count\",\"histnorm\":\"\",\"marker\":{\"color\":\"rgba(255, 153, 51, 1.0)\",\"line\":{\"color\":\"#4D5663\",\"width\":1.3}},\"name\":\"A\",\"nbinsx\":10,\"opacity\":0.8,\"orientation\":\"v\",\"x\":[0.04069591197739794,-1.5387534862825873,-0.37054138227832717,0.42226759931628843,0.3126115498148938,0.8490945987665685,0.32657941317006145,-0.49107061022674736,-2.1507284205628596,-0.24408786953956163,-0.6520390343561558,-0.5252670649155886,-0.6648895358403708,-0.5337196496902474,2.5411528745491845,0.2721785495038353,0.3139632084051519,-0.5035017349764002,-0.6295298431031526,-0.9967697705581974,-0.3010684232864244,0.6526617395566436,0.6907035696708207,-0.29469416900060214,1.1535301811355754,-1.0100015678978271,-0.12069661348651797,0.8054776442724979,0.8389775988783994,0.7242360206836844,0.9947539832929825,-1.0297374004329243,1.273616985140703,0.0385151859114759,0.8766328063292678,0.596186279085301,-0.2676827420402636,1.6188897257768609,-0.5896403663629634,0.18206868764406353,0.3883297472018753,0.23541068732887283,-1.4667899496388717,0.22401979434166064,-0.24920165254461157,0.5864379214604486,-1.7867426348719786,-0.2388326424614991,-0.20700690841934505,-1.7418204632698755,-0.4975267325235522,-0.4383857315299486,-0.023908325805154496,-1.0099213450430722,1.3151743319977625,2.164235305837594,-1.559781794551808,0.15948892175662965,0.5369468612262032,0.3034419209406845,-0.8190508980320342,1.0613854718635283,-2.703085539999277,0.5993190210185522,-0.9769014482176318,1.677907800787111,-0.037964248402260675,0.4670173507050114,-0.019662592262844062,-0.568296779760827,0.04060896866941458,-1.209244924940564,-0.3209018867296929,2.4149477205376115,-0.25490330030542974,1.1797721447905096,0.8421878895000109,1.745102272056137,-1.071361491881029,-0.45008076881205805,0.42161710288352783,-1.7093741336754915,0.08909834069035083,0.29993713511028813,1.018646413711966,-0.6880074411425571,0.3452603917017754,0.2487633064244093,0.21135195131935697,0.33047551702590044,-0.43227148671025234,-0.2937569887054107,1.4680107137436962,0.19817518709820703,-0.08239264069950791,-1.5739263364676956,-0.5863039056329027,-0.0634286623026407,-0.5916518804306173,-0.12187591316350242],\"xaxis\":\"x\",\"yaxis\":\"y\",\"type\":\"histogram\"},{\"line\":{\"color\":\"rgba(128, 128, 128, 1.0)\",\"dash\":\"solid\",\"shape\":\"linear\",\"width\":1.3},\"marker\":{\"size\":2,\"symbol\":\"circle\"},\"mode\":\"markers\",\"name\":\"A\",\"text\":\"\",\"x\":[0.995826467880346,-0.7369617224098037,0.37127384864429896,1.4973374656255485,-0.5136756334794229,-0.16912706548129708,-2.0136478401254956,0.6590292067347793,0.5281735423979428,-0.22596764617781726,0.8179265840659411,-0.7675078258062362,1.5557993453415198,1.1764532616325682,0.48410024097701665,0.7245640901748778,-0.1743255957392895,0.12398933128539748,0.7714456731235291,0.4057913540833407,1.186256289895277,-0.02105445729321405,-0.08094294955411512,0.2334964169726154,-1.8516069705667002,0.730782588490572,-0.7489429321852894,0.2560040303932152,0.7382717289609817,-0.9038563922535384,-0.14304968680136568,-0.7362909814018258,2.4014638348495625,-0.9026406680150731,2.56264403068799,-1.5081115882613203,-0.8431226423071239,-0.13073570393892617,0.8996129861200042,1.1399824665465794,0.048426080024693695,0.1668940515774451,-0.08354431280016783,-0.18563155879013335,0.13989039833424813,-0.6733933082584179,1.6206985566519567,-1.20146237893275,-2.0022301652003573,-0.5543558182050398,-2.492083782632766,-2.653638610926458,1.0403224744840096,-1.2503717390785278,1.2484039627566348,-0.1815316960413127,-0.7612710351716687,-0.5500424255656814,0.28190325275693273,0.33361672883874766,1.0952631148175236,1.9310982225189801,-1.2124783622530837,-1.2862055362957667,-1.3330480187478047,0.3731780294861189,-0.10194186296865584,-0.9603560274610924,-2.970109852235134,1.1441009979146743,0.04271329041066948,-1.3752165049488514,0.23494443618611646,0.8056619087889803,-2.9041102254767166,-0.6848921718215347,1.594433615490069,-1.4615825894063526,-0.13199479952107832,-0.2149473654351705,0.009768856092341214,-0.4052730444685135,-0.568991920341303,-1.084975804825773,-0.2663777907791061,-0.4762543065114372,0.028773158565766913,-0.7850746849449068,-0.6945749900304474,0.8427544736504147,-0.08393240804690318,-1.627899725389288,-0.21845671984730042,-0.47356107511270346,0.4357599336028361,-0.70845175800104,1.7153318283877876,0.8496103465694999,-1.5572805557424916,2.0251386210861186],\"xaxis\":\"x2\",\"y\":[0.04069591197739794,-1.5387534862825873,-0.37054138227832717,0.42226759931628843,0.3126115498148938,0.8490945987665685,0.32657941317006145,-0.49107061022674736,-2.1507284205628596,-0.24408786953956163,-0.6520390343561558,-0.5252670649155886,-0.6648895358403708,-0.5337196496902474,2.5411528745491845,0.2721785495038353,0.3139632084051519,-0.5035017349764002,-0.6295298431031526,-0.9967697705581974,-0.3010684232864244,0.6526617395566436,0.6907035696708207,-0.29469416900060214,1.1535301811355754,-1.0100015678978271,-0.12069661348651797,0.8054776442724979,0.8389775988783994,0.7242360206836844,0.9947539832929825,-1.0297374004329243,1.273616985140703,0.0385151859114759,0.8766328063292678,0.596186279085301,-0.2676827420402636,1.6188897257768609,-0.5896403663629634,0.18206868764406353,0.3883297472018753,0.23541068732887283,-1.4667899496388717,0.22401979434166064,-0.24920165254461157,0.5864379214604486,-1.7867426348719786,-0.2388326424614991,-0.20700690841934505,-1.7418204632698755,-0.4975267325235522,-0.4383857315299486,-0.023908325805154496,-1.0099213450430722,1.3151743319977625,2.164235305837594,-1.559781794551808,0.15948892175662965,0.5369468612262032,0.3034419209406845,-0.8190508980320342,1.0613854718635283,-2.703085539999277,0.5993190210185522,-0.9769014482176318,1.677907800787111,-0.037964248402260675,0.4670173507050114,-0.019662592262844062,-0.568296779760827,0.04060896866941458,-1.209244924940564,-0.3209018867296929,2.4149477205376115,-0.25490330030542974,1.1797721447905096,0.8421878895000109,1.745102272056137,-1.071361491881029,-0.45008076881205805,0.42161710288352783,-1.7093741336754915,0.08909834069035083,0.29993713511028813,1.018646413711966,-0.6880074411425571,0.3452603917017754,0.2487633064244093,0.21135195131935697,0.33047551702590044,-0.43227148671025234,-0.2937569887054107,1.4680107137436962,0.19817518709820703,-0.08239264069950791,-1.5739263364676956,-0.5863039056329027,-0.0634286623026407,-0.5916518804306173,-0.12187591316350242],\"yaxis\":\"y2\",\"type\":\"scatter\"},{\"line\":{\"color\":\"rgba(128, 128, 128, 1.0)\",\"dash\":\"solid\",\"shape\":\"linear\",\"width\":1.3},\"marker\":{\"size\":2,\"symbol\":\"circle\"},\"mode\":\"markers\",\"name\":\"A\",\"text\":\"\",\"x\":[-0.09389924246810805,0.46693784219434303,1.5981105835428606,0.939579245061577,0.7353018080757163,0.646999790089509,-0.33768524482540635,0.8517183133690732,-0.3384120781905001,-0.3274608793784002,0.3611770364046952,-1.4324134965299424,-1.3423692799559948,0.6653145797092015,1.6654082381434867,-2.020428438095846,0.09521652455894322,-0.4203687326465551,0.27431514414201197,-0.042820910303760805,-1.8621475850762577,-0.1672421567112696,0.8990975423749583,-1.270119359829677,-0.5746895495068903,-0.31890119840212383,2.2781245825620626,-0.36013671693763616,0.8828486167671366,-0.3525176349246981,-1.038424938990193,-1.2571132847557838,-0.722802101739417,1.09652110251346,-0.4860419291434229,0.04831710062416164,0.6765773534698574,-1.8480362076705836,-0.45892892454316075,0.4285622114547675,-0.8266561357422507,-0.322348796606711,-0.8875048573626982,-1.4553460601722525,-0.2503900748624838,1.0481974368802498,0.12429421845735472,0.660838527309358,1.6285759733899243,2.320700153051851,-0.20727290897373735,-0.03537029993862725,0.202414319281178,-0.7773088877291788,1.2163903659622308,0.048352193156689226,0.31017736336031887,-0.5741650006672349,2.220593399617657,1.0426301077746036,0.01789033403987293,-0.21821945842542395,-0.6817997624610167,0.18781578841879995,-0.10048108951657567,-1.2091706254267716,2.100116509821881,1.5572668184385687,0.11149873271719092,-0.9289841087187439,-0.48639998626464015,-0.2357056005630904,0.1312857384290406,-0.6189075163619262,-1.517855238304068,-0.20063050415677747,-0.11154419808878213,-2.1543594541608555,0.5991817972692761,0.1874823907819667,-0.40855192884095826,-0.45544930558017094,-0.9779669239559734,-0.10539664895270522,-0.40806221877933696,1.3651121191971893,-0.6014893104206162,1.3156915791575803,-0.6587323985544884,-1.067454889181448,0.05353779844388949,0.050740582498669765,-0.3410220481473968,0.6939361774346295,0.3745983221830779,0.00390113269939864,-1.2778068397693865,-1.9045976637933393,0.23769910520867105,-1.2346184798868076],\"xaxis\":\"x3\",\"y\":[0.04069591197739794,-1.5387534862825873,-0.37054138227832717,0.42226759931628843,0.3126115498148938,0.8490945987665685,0.32657941317006145,-0.49107061022674736,-2.1507284205628596,-0.24408786953956163,-0.6520390343561558,-0.5252670649155886,-0.6648895358403708,-0.5337196496902474,2.5411528745491845,0.2721785495038353,0.3139632084051519,-0.5035017349764002,-0.6295298431031526,-0.9967697705581974,-0.3010684232864244,0.6526617395566436,0.6907035696708207,-0.29469416900060214,1.1535301811355754,-1.0100015678978271,-0.12069661348651797,0.8054776442724979,0.8389775988783994,0.7242360206836844,0.9947539832929825,-1.0297374004329243,1.273616985140703,0.0385151859114759,0.8766328063292678,0.596186279085301,-0.2676827420402636,1.6188897257768609,-0.5896403663629634,0.18206868764406353,0.3883297472018753,0.23541068732887283,-1.4667899496388717,0.22401979434166064,-0.24920165254461157,0.5864379214604486,-1.7867426348719786,-0.2388326424614991,-0.20700690841934505,-1.7418204632698755,-0.4975267325235522,-0.4383857315299486,-0.023908325805154496,-1.0099213450430722,1.3151743319977625,2.164235305837594,-1.559781794551808,0.15948892175662965,0.5369468612262032,0.3034419209406845,-0.8190508980320342,1.0613854718635283,-2.703085539999277,0.5993190210185522,-0.9769014482176318,1.677907800787111,-0.037964248402260675,0.4670173507050114,-0.019662592262844062,-0.568296779760827,0.04060896866941458,-1.209244924940564,-0.3209018867296929,2.4149477205376115,-0.25490330030542974,1.1797721447905096,0.8421878895000109,1.745102272056137,-1.071361491881029,-0.45008076881205805,0.42161710288352783,-1.7093741336754915,0.08909834069035083,0.29993713511028813,1.018646413711966,-0.6880074411425571,0.3452603917017754,0.2487633064244093,0.21135195131935697,0.33047551702590044,-0.43227148671025234,-0.2937569887054107,1.4680107137436962,0.19817518709820703,-0.08239264069950791,-1.5739263364676956,-0.5863039056329027,-0.0634286623026407,-0.5916518804306173,-0.12187591316350242],\"yaxis\":\"y3\",\"type\":\"scatter\"},{\"line\":{\"color\":\"rgba(128, 128, 128, 1.0)\",\"dash\":\"solid\",\"shape\":\"linear\",\"width\":1.3},\"marker\":{\"size\":2,\"symbol\":\"circle\"},\"mode\":\"markers\",\"name\":\"A\",\"text\":\"\",\"x\":[1.8536786587611707,0.31748701494719056,-1.5914137200326584,-1.8201446872430338,0.19942928864633003,-0.9179397030896396,-2.09783941616522,-1.500452381480773,0.921541813332476,-0.20283949702568466,-0.6224091041757651,-1.5309497626013673,2.3960370035120446,-0.798906464588825,2.6855530977557778,0.5220481471245186,-0.08582089303477562,-0.5847199205396268,0.3859634480227872,-0.4365193090897628,-0.8286648171246722,-0.08572601386447695,-1.3804843047424917,-1.0608984425490853,-0.6263509554355401,1.9859008957368793,-1.4489485453368747,0.5346258431159485,2.387929425784648,-0.3629636514626066,-1.606278511440651,-0.16083962877458965,1.4788501498787368,0.3690546302424768,-0.39434272594699243,-0.7204501129186216,-0.048470704701933834,0.3495814965023437,0.4434049265739363,-1.2219826611087121,-0.28550581198618147,-1.43564955517798,-1.0266421448996974,0.28182620745319154,0.650975407817685,-0.5523593168748906,-0.02826449419596439,0.5835488232553727,-0.45990628505108966,1.861942258383658,1.2247003424778167,-0.3926474871329264,-0.9872124239906978,0.18060257275506045,-3.1282202634719587,0.39015695867027855,-0.6032116714133441,1.5534065332882077,0.8076446774824714,-0.9466283913238981,0.2086053214047391,-1.5996173352620429,-0.5020738048324217,-0.885901490159055,0.435785110787616,-0.5052088166470903,-1.3757623133671353,-0.8472452639438817,-0.9119140192994585,0.31914466795431934,0.27656205648013976,0.7273345746414592,0.6274862198918303,-0.5336861185884401,-1.239705836405087,-0.14944745747340873,0.4664365322350763,0.576829998115034,1.1514488000990495,-0.32445430867609126,-0.5886129375934483,1.190812562297307,0.3207151318146256,-2.4099613330281167,0.9281084747609742,-1.4653632806521992,-1.1968090028828493,-0.43696814652571847,1.0470087389279674,-0.25243610009812334,-0.1715567422039336,-1.3064481634837306,0.31353487491155757,-0.906234469311814,-0.1554311832054045,0.04358606621245248,-1.232136715096742,-0.17106586593775666,1.3350788478359195,-0.6493521538932258],\"xaxis\":\"x4\",\"y\":[0.04069591197739794,-1.5387534862825873,-0.37054138227832717,0.42226759931628843,0.3126115498148938,0.8490945987665685,0.32657941317006145,-0.49107061022674736,-2.1507284205628596,-0.24408786953956163,-0.6520390343561558,-0.5252670649155886,-0.6648895358403708,-0.5337196496902474,2.5411528745491845,0.2721785495038353,0.3139632084051519,-0.5035017349764002,-0.6295298431031526,-0.9967697705581974,-0.3010684232864244,0.6526617395566436,0.6907035696708207,-0.29469416900060214,1.1535301811355754,-1.0100015678978271,-0.12069661348651797,0.8054776442724979,0.8389775988783994,0.7242360206836844,0.9947539832929825,-1.0297374004329243,1.273616985140703,0.0385151859114759,0.8766328063292678,0.596186279085301,-0.2676827420402636,1.6188897257768609,-0.5896403663629634,0.18206868764406353,0.3883297472018753,0.23541068732887283,-1.4667899496388717,0.22401979434166064,-0.24920165254461157,0.5864379214604486,-1.7867426348719786,-0.2388326424614991,-0.20700690841934505,-1.7418204632698755,-0.4975267325235522,-0.4383857315299486,-0.023908325805154496,-1.0099213450430722,1.3151743319977625,2.164235305837594,-1.559781794551808,0.15948892175662965,0.5369468612262032,0.3034419209406845,-0.8190508980320342,1.0613854718635283,-2.703085539999277,0.5993190210185522,-0.9769014482176318,1.677907800787111,-0.037964248402260675,0.4670173507050114,-0.019662592262844062,-0.568296779760827,0.04060896866941458,-1.209244924940564,-0.3209018867296929,2.4149477205376115,-0.25490330030542974,1.1797721447905096,0.8421878895000109,1.745102272056137,-1.071361491881029,-0.45008076881205805,0.42161710288352783,-1.7093741336754915,0.08909834069035083,0.29993713511028813,1.018646413711966,-0.6880074411425571,0.3452603917017754,0.2487633064244093,0.21135195131935697,0.33047551702590044,-0.43227148671025234,-0.2937569887054107,1.4680107137436962,0.19817518709820703,-0.08239264069950791,-1.5739263364676956,-0.5863039056329027,-0.0634286623026407,-0.5916518804306173,-0.12187591316350242],\"yaxis\":\"y4\",\"type\":\"scatter\"},{\"line\":{\"color\":\"rgba(128, 128, 128, 1.0)\",\"dash\":\"solid\",\"shape\":\"linear\",\"width\":1.3},\"marker\":{\"size\":2,\"symbol\":\"circle\"},\"mode\":\"markers\",\"name\":\"B\",\"text\":\"\",\"x\":[0.04069591197739794,-1.5387534862825873,-0.37054138227832717,0.42226759931628843,0.3126115498148938,0.8490945987665685,0.32657941317006145,-0.49107061022674736,-2.1507284205628596,-0.24408786953956163,-0.6520390343561558,-0.5252670649155886,-0.6648895358403708,-0.5337196496902474,2.5411528745491845,0.2721785495038353,0.3139632084051519,-0.5035017349764002,-0.6295298431031526,-0.9967697705581974,-0.3010684232864244,0.6526617395566436,0.6907035696708207,-0.29469416900060214,1.1535301811355754,-1.0100015678978271,-0.12069661348651797,0.8054776442724979,0.8389775988783994,0.7242360206836844,0.9947539832929825,-1.0297374004329243,1.273616985140703,0.0385151859114759,0.8766328063292678,0.596186279085301,-0.2676827420402636,1.6188897257768609,-0.5896403663629634,0.18206868764406353,0.3883297472018753,0.23541068732887283,-1.4667899496388717,0.22401979434166064,-0.24920165254461157,0.5864379214604486,-1.7867426348719786,-0.2388326424614991,-0.20700690841934505,-1.7418204632698755,-0.4975267325235522,-0.4383857315299486,-0.023908325805154496,-1.0099213450430722,1.3151743319977625,2.164235305837594,-1.559781794551808,0.15948892175662965,0.5369468612262032,0.3034419209406845,-0.8190508980320342,1.0613854718635283,-2.703085539999277,0.5993190210185522,-0.9769014482176318,1.677907800787111,-0.037964248402260675,0.4670173507050114,-0.019662592262844062,-0.568296779760827,0.04060896866941458,-1.209244924940564,-0.3209018867296929,2.4149477205376115,-0.25490330030542974,1.1797721447905096,0.8421878895000109,1.745102272056137,-1.071361491881029,-0.45008076881205805,0.42161710288352783,-1.7093741336754915,0.08909834069035083,0.29993713511028813,1.018646413711966,-0.6880074411425571,0.3452603917017754,0.2487633064244093,0.21135195131935697,0.33047551702590044,-0.43227148671025234,-0.2937569887054107,1.4680107137436962,0.19817518709820703,-0.08239264069950791,-1.5739263364676956,-0.5863039056329027,-0.0634286623026407,-0.5916518804306173,-0.12187591316350242],\"xaxis\":\"x5\",\"y\":[0.995826467880346,-0.7369617224098037,0.37127384864429896,1.4973374656255485,-0.5136756334794229,-0.16912706548129708,-2.0136478401254956,0.6590292067347793,0.5281735423979428,-0.22596764617781726,0.8179265840659411,-0.7675078258062362,1.5557993453415198,1.1764532616325682,0.48410024097701665,0.7245640901748778,-0.1743255957392895,0.12398933128539748,0.7714456731235291,0.4057913540833407,1.186256289895277,-0.02105445729321405,-0.08094294955411512,0.2334964169726154,-1.8516069705667002,0.730782588490572,-0.7489429321852894,0.2560040303932152,0.7382717289609817,-0.9038563922535384,-0.14304968680136568,-0.7362909814018258,2.4014638348495625,-0.9026406680150731,2.56264403068799,-1.5081115882613203,-0.8431226423071239,-0.13073570393892617,0.8996129861200042,1.1399824665465794,0.048426080024693695,0.1668940515774451,-0.08354431280016783,-0.18563155879013335,0.13989039833424813,-0.6733933082584179,1.6206985566519567,-1.20146237893275,-2.0022301652003573,-0.5543558182050398,-2.492083782632766,-2.653638610926458,1.0403224744840096,-1.2503717390785278,1.2484039627566348,-0.1815316960413127,-0.7612710351716687,-0.5500424255656814,0.28190325275693273,0.33361672883874766,1.0952631148175236,1.9310982225189801,-1.2124783622530837,-1.2862055362957667,-1.3330480187478047,0.3731780294861189,-0.10194186296865584,-0.9603560274610924,-2.970109852235134,1.1441009979146743,0.04271329041066948,-1.3752165049488514,0.23494443618611646,0.8056619087889803,-2.9041102254767166,-0.6848921718215347,1.594433615490069,-1.4615825894063526,-0.13199479952107832,-0.2149473654351705,0.009768856092341214,-0.4052730444685135,-0.568991920341303,-1.084975804825773,-0.2663777907791061,-0.4762543065114372,0.028773158565766913,-0.7850746849449068,-0.6945749900304474,0.8427544736504147,-0.08393240804690318,-1.627899725389288,-0.21845671984730042,-0.47356107511270346,0.4357599336028361,-0.70845175800104,1.7153318283877876,0.8496103465694999,-1.5572805557424916,2.0251386210861186],\"yaxis\":\"y5\",\"type\":\"scatter\"},{\"histfunc\":\"count\",\"histnorm\":\"\",\"marker\":{\"color\":\"rgba(55, 128, 191, 1.0)\",\"line\":{\"color\":\"#4D5663\",\"width\":1.3}},\"name\":\"B\",\"nbinsx\":10,\"opacity\":0.8,\"orientation\":\"v\",\"x\":[0.995826467880346,-0.7369617224098037,0.37127384864429896,1.4973374656255485,-0.5136756334794229,-0.16912706548129708,-2.0136478401254956,0.6590292067347793,0.5281735423979428,-0.22596764617781726,0.8179265840659411,-0.7675078258062362,1.5557993453415198,1.1764532616325682,0.48410024097701665,0.7245640901748778,-0.1743255957392895,0.12398933128539748,0.7714456731235291,0.4057913540833407,1.186256289895277,-0.02105445729321405,-0.08094294955411512,0.2334964169726154,-1.8516069705667002,0.730782588490572,-0.7489429321852894,0.2560040303932152,0.7382717289609817,-0.9038563922535384,-0.14304968680136568,-0.7362909814018258,2.4014638348495625,-0.9026406680150731,2.56264403068799,-1.5081115882613203,-0.8431226423071239,-0.13073570393892617,0.8996129861200042,1.1399824665465794,0.048426080024693695,0.1668940515774451,-0.08354431280016783,-0.18563155879013335,0.13989039833424813,-0.6733933082584179,1.6206985566519567,-1.20146237893275,-2.0022301652003573,-0.5543558182050398,-2.492083782632766,-2.653638610926458,1.0403224744840096,-1.2503717390785278,1.2484039627566348,-0.1815316960413127,-0.7612710351716687,-0.5500424255656814,0.28190325275693273,0.33361672883874766,1.0952631148175236,1.9310982225189801,-1.2124783622530837,-1.2862055362957667,-1.3330480187478047,0.3731780294861189,-0.10194186296865584,-0.9603560274610924,-2.970109852235134,1.1441009979146743,0.04271329041066948,-1.3752165049488514,0.23494443618611646,0.8056619087889803,-2.9041102254767166,-0.6848921718215347,1.594433615490069,-1.4615825894063526,-0.13199479952107832,-0.2149473654351705,0.009768856092341214,-0.4052730444685135,-0.568991920341303,-1.084975804825773,-0.2663777907791061,-0.4762543065114372,0.028773158565766913,-0.7850746849449068,-0.6945749900304474,0.8427544736504147,-0.08393240804690318,-1.627899725389288,-0.21845671984730042,-0.47356107511270346,0.4357599336028361,-0.70845175800104,1.7153318283877876,0.8496103465694999,-1.5572805557424916,2.0251386210861186],\"xaxis\":\"x6\",\"yaxis\":\"y6\",\"type\":\"histogram\"},{\"line\":{\"color\":\"rgba(128, 128, 128, 1.0)\",\"dash\":\"solid\",\"shape\":\"linear\",\"width\":1.3},\"marker\":{\"size\":2,\"symbol\":\"circle\"},\"mode\":\"markers\",\"name\":\"B\",\"text\":\"\",\"x\":[-0.09389924246810805,0.46693784219434303,1.5981105835428606,0.939579245061577,0.7353018080757163,0.646999790089509,-0.33768524482540635,0.8517183133690732,-0.3384120781905001,-0.3274608793784002,0.3611770364046952,-1.4324134965299424,-1.3423692799559948,0.6653145797092015,1.6654082381434867,-2.020428438095846,0.09521652455894322,-0.4203687326465551,0.27431514414201197,-0.042820910303760805,-1.8621475850762577,-0.1672421567112696,0.8990975423749583,-1.270119359829677,-0.5746895495068903,-0.31890119840212383,2.2781245825620626,-0.36013671693763616,0.8828486167671366,-0.3525176349246981,-1.038424938990193,-1.2571132847557838,-0.722802101739417,1.09652110251346,-0.4860419291434229,0.04831710062416164,0.6765773534698574,-1.8480362076705836,-0.45892892454316075,0.4285622114547675,-0.8266561357422507,-0.322348796606711,-0.8875048573626982,-1.4553460601722525,-0.2503900748624838,1.0481974368802498,0.12429421845735472,0.660838527309358,1.6285759733899243,2.320700153051851,-0.20727290897373735,-0.03537029993862725,0.202414319281178,-0.7773088877291788,1.2163903659622308,0.048352193156689226,0.31017736336031887,-0.5741650006672349,2.220593399617657,1.0426301077746036,0.01789033403987293,-0.21821945842542395,-0.6817997624610167,0.18781578841879995,-0.10048108951657567,-1.2091706254267716,2.100116509821881,1.5572668184385687,0.11149873271719092,-0.9289841087187439,-0.48639998626464015,-0.2357056005630904,0.1312857384290406,-0.6189075163619262,-1.517855238304068,-0.20063050415677747,-0.11154419808878213,-2.1543594541608555,0.5991817972692761,0.1874823907819667,-0.40855192884095826,-0.45544930558017094,-0.9779669239559734,-0.10539664895270522,-0.40806221877933696,1.3651121191971893,-0.6014893104206162,1.3156915791575803,-0.6587323985544884,-1.067454889181448,0.05353779844388949,0.050740582498669765,-0.3410220481473968,0.6939361774346295,0.3745983221830779,0.00390113269939864,-1.2778068397693865,-1.9045976637933393,0.23769910520867105,-1.2346184798868076],\"xaxis\":\"x7\",\"y\":[0.995826467880346,-0.7369617224098037,0.37127384864429896,1.4973374656255485,-0.5136756334794229,-0.16912706548129708,-2.0136478401254956,0.6590292067347793,0.5281735423979428,-0.22596764617781726,0.8179265840659411,-0.7675078258062362,1.5557993453415198,1.1764532616325682,0.48410024097701665,0.7245640901748778,-0.1743255957392895,0.12398933128539748,0.7714456731235291,0.4057913540833407,1.186256289895277,-0.02105445729321405,-0.08094294955411512,0.2334964169726154,-1.8516069705667002,0.730782588490572,-0.7489429321852894,0.2560040303932152,0.7382717289609817,-0.9038563922535384,-0.14304968680136568,-0.7362909814018258,2.4014638348495625,-0.9026406680150731,2.56264403068799,-1.5081115882613203,-0.8431226423071239,-0.13073570393892617,0.8996129861200042,1.1399824665465794,0.048426080024693695,0.1668940515774451,-0.08354431280016783,-0.18563155879013335,0.13989039833424813,-0.6733933082584179,1.6206985566519567,-1.20146237893275,-2.0022301652003573,-0.5543558182050398,-2.492083782632766,-2.653638610926458,1.0403224744840096,-1.2503717390785278,1.2484039627566348,-0.1815316960413127,-0.7612710351716687,-0.5500424255656814,0.28190325275693273,0.33361672883874766,1.0952631148175236,1.9310982225189801,-1.2124783622530837,-1.2862055362957667,-1.3330480187478047,0.3731780294861189,-0.10194186296865584,-0.9603560274610924,-2.970109852235134,1.1441009979146743,0.04271329041066948,-1.3752165049488514,0.23494443618611646,0.8056619087889803,-2.9041102254767166,-0.6848921718215347,1.594433615490069,-1.4615825894063526,-0.13199479952107832,-0.2149473654351705,0.009768856092341214,-0.4052730444685135,-0.568991920341303,-1.084975804825773,-0.2663777907791061,-0.4762543065114372,0.028773158565766913,-0.7850746849449068,-0.6945749900304474,0.8427544736504147,-0.08393240804690318,-1.627899725389288,-0.21845671984730042,-0.47356107511270346,0.4357599336028361,-0.70845175800104,1.7153318283877876,0.8496103465694999,-1.5572805557424916,2.0251386210861186],\"yaxis\":\"y7\",\"type\":\"scatter\"},{\"line\":{\"color\":\"rgba(128, 128, 128, 1.0)\",\"dash\":\"solid\",\"shape\":\"linear\",\"width\":1.3},\"marker\":{\"size\":2,\"symbol\":\"circle\"},\"mode\":\"markers\",\"name\":\"B\",\"text\":\"\",\"x\":[1.8536786587611707,0.31748701494719056,-1.5914137200326584,-1.8201446872430338,0.19942928864633003,-0.9179397030896396,-2.09783941616522,-1.500452381480773,0.921541813332476,-0.20283949702568466,-0.6224091041757651,-1.5309497626013673,2.3960370035120446,-0.798906464588825,2.6855530977557778,0.5220481471245186,-0.08582089303477562,-0.5847199205396268,0.3859634480227872,-0.4365193090897628,-0.8286648171246722,-0.08572601386447695,-1.3804843047424917,-1.0608984425490853,-0.6263509554355401,1.9859008957368793,-1.4489485453368747,0.5346258431159485,2.387929425784648,-0.3629636514626066,-1.606278511440651,-0.16083962877458965,1.4788501498787368,0.3690546302424768,-0.39434272594699243,-0.7204501129186216,-0.048470704701933834,0.3495814965023437,0.4434049265739363,-1.2219826611087121,-0.28550581198618147,-1.43564955517798,-1.0266421448996974,0.28182620745319154,0.650975407817685,-0.5523593168748906,-0.02826449419596439,0.5835488232553727,-0.45990628505108966,1.861942258383658,1.2247003424778167,-0.3926474871329264,-0.9872124239906978,0.18060257275506045,-3.1282202634719587,0.39015695867027855,-0.6032116714133441,1.5534065332882077,0.8076446774824714,-0.9466283913238981,0.2086053214047391,-1.5996173352620429,-0.5020738048324217,-0.885901490159055,0.435785110787616,-0.5052088166470903,-1.3757623133671353,-0.8472452639438817,-0.9119140192994585,0.31914466795431934,0.27656205648013976,0.7273345746414592,0.6274862198918303,-0.5336861185884401,-1.239705836405087,-0.14944745747340873,0.4664365322350763,0.576829998115034,1.1514488000990495,-0.32445430867609126,-0.5886129375934483,1.190812562297307,0.3207151318146256,-2.4099613330281167,0.9281084747609742,-1.4653632806521992,-1.1968090028828493,-0.43696814652571847,1.0470087389279674,-0.25243610009812334,-0.1715567422039336,-1.3064481634837306,0.31353487491155757,-0.906234469311814,-0.1554311832054045,0.04358606621245248,-1.232136715096742,-0.17106586593775666,1.3350788478359195,-0.6493521538932258],\"xaxis\":\"x8\",\"y\":[0.995826467880346,-0.7369617224098037,0.37127384864429896,1.4973374656255485,-0.5136756334794229,-0.16912706548129708,-2.0136478401254956,0.6590292067347793,0.5281735423979428,-0.22596764617781726,0.8179265840659411,-0.7675078258062362,1.5557993453415198,1.1764532616325682,0.48410024097701665,0.7245640901748778,-0.1743255957392895,0.12398933128539748,0.7714456731235291,0.4057913540833407,1.186256289895277,-0.02105445729321405,-0.08094294955411512,0.2334964169726154,-1.8516069705667002,0.730782588490572,-0.7489429321852894,0.2560040303932152,0.7382717289609817,-0.9038563922535384,-0.14304968680136568,-0.7362909814018258,2.4014638348495625,-0.9026406680150731,2.56264403068799,-1.5081115882613203,-0.8431226423071239,-0.13073570393892617,0.8996129861200042,1.1399824665465794,0.048426080024693695,0.1668940515774451,-0.08354431280016783,-0.18563155879013335,0.13989039833424813,-0.6733933082584179,1.6206985566519567,-1.20146237893275,-2.0022301652003573,-0.5543558182050398,-2.492083782632766,-2.653638610926458,1.0403224744840096,-1.2503717390785278,1.2484039627566348,-0.1815316960413127,-0.7612710351716687,-0.5500424255656814,0.28190325275693273,0.33361672883874766,1.0952631148175236,1.9310982225189801,-1.2124783622530837,-1.2862055362957667,-1.3330480187478047,0.3731780294861189,-0.10194186296865584,-0.9603560274610924,-2.970109852235134,1.1441009979146743,0.04271329041066948,-1.3752165049488514,0.23494443618611646,0.8056619087889803,-2.9041102254767166,-0.6848921718215347,1.594433615490069,-1.4615825894063526,-0.13199479952107832,-0.2149473654351705,0.009768856092341214,-0.4052730444685135,-0.568991920341303,-1.084975804825773,-0.2663777907791061,-0.4762543065114372,0.028773158565766913,-0.7850746849449068,-0.6945749900304474,0.8427544736504147,-0.08393240804690318,-1.627899725389288,-0.21845671984730042,-0.47356107511270346,0.4357599336028361,-0.70845175800104,1.7153318283877876,0.8496103465694999,-1.5572805557424916,2.0251386210861186],\"yaxis\":\"y8\",\"type\":\"scatter\"},{\"line\":{\"color\":\"rgba(128, 128, 128, 1.0)\",\"dash\":\"solid\",\"shape\":\"linear\",\"width\":1.3},\"marker\":{\"size\":2,\"symbol\":\"circle\"},\"mode\":\"markers\",\"name\":\"C\",\"text\":\"\",\"x\":[0.04069591197739794,-1.5387534862825873,-0.37054138227832717,0.42226759931628843,0.3126115498148938,0.8490945987665685,0.32657941317006145,-0.49107061022674736,-2.1507284205628596,-0.24408786953956163,-0.6520390343561558,-0.5252670649155886,-0.6648895358403708,-0.5337196496902474,2.5411528745491845,0.2721785495038353,0.3139632084051519,-0.5035017349764002,-0.6295298431031526,-0.9967697705581974,-0.3010684232864244,0.6526617395566436,0.6907035696708207,-0.29469416900060214,1.1535301811355754,-1.0100015678978271,-0.12069661348651797,0.8054776442724979,0.8389775988783994,0.7242360206836844,0.9947539832929825,-1.0297374004329243,1.273616985140703,0.0385151859114759,0.8766328063292678,0.596186279085301,-0.2676827420402636,1.6188897257768609,-0.5896403663629634,0.18206868764406353,0.3883297472018753,0.23541068732887283,-1.4667899496388717,0.22401979434166064,-0.24920165254461157,0.5864379214604486,-1.7867426348719786,-0.2388326424614991,-0.20700690841934505,-1.7418204632698755,-0.4975267325235522,-0.4383857315299486,-0.023908325805154496,-1.0099213450430722,1.3151743319977625,2.164235305837594,-1.559781794551808,0.15948892175662965,0.5369468612262032,0.3034419209406845,-0.8190508980320342,1.0613854718635283,-2.703085539999277,0.5993190210185522,-0.9769014482176318,1.677907800787111,-0.037964248402260675,0.4670173507050114,-0.019662592262844062,-0.568296779760827,0.04060896866941458,-1.209244924940564,-0.3209018867296929,2.4149477205376115,-0.25490330030542974,1.1797721447905096,0.8421878895000109,1.745102272056137,-1.071361491881029,-0.45008076881205805,0.42161710288352783,-1.7093741336754915,0.08909834069035083,0.29993713511028813,1.018646413711966,-0.6880074411425571,0.3452603917017754,0.2487633064244093,0.21135195131935697,0.33047551702590044,-0.43227148671025234,-0.2937569887054107,1.4680107137436962,0.19817518709820703,-0.08239264069950791,-1.5739263364676956,-0.5863039056329027,-0.0634286623026407,-0.5916518804306173,-0.12187591316350242],\"xaxis\":\"x9\",\"y\":[-0.09389924246810805,0.46693784219434303,1.5981105835428606,0.939579245061577,0.7353018080757163,0.646999790089509,-0.33768524482540635,0.8517183133690732,-0.3384120781905001,-0.3274608793784002,0.3611770364046952,-1.4324134965299424,-1.3423692799559948,0.6653145797092015,1.6654082381434867,-2.020428438095846,0.09521652455894322,-0.4203687326465551,0.27431514414201197,-0.042820910303760805,-1.8621475850762577,-0.1672421567112696,0.8990975423749583,-1.270119359829677,-0.5746895495068903,-0.31890119840212383,2.2781245825620626,-0.36013671693763616,0.8828486167671366,-0.3525176349246981,-1.038424938990193,-1.2571132847557838,-0.722802101739417,1.09652110251346,-0.4860419291434229,0.04831710062416164,0.6765773534698574,-1.8480362076705836,-0.45892892454316075,0.4285622114547675,-0.8266561357422507,-0.322348796606711,-0.8875048573626982,-1.4553460601722525,-0.2503900748624838,1.0481974368802498,0.12429421845735472,0.660838527309358,1.6285759733899243,2.320700153051851,-0.20727290897373735,-0.03537029993862725,0.202414319281178,-0.7773088877291788,1.2163903659622308,0.048352193156689226,0.31017736336031887,-0.5741650006672349,2.220593399617657,1.0426301077746036,0.01789033403987293,-0.21821945842542395,-0.6817997624610167,0.18781578841879995,-0.10048108951657567,-1.2091706254267716,2.100116509821881,1.5572668184385687,0.11149873271719092,-0.9289841087187439,-0.48639998626464015,-0.2357056005630904,0.1312857384290406,-0.6189075163619262,-1.517855238304068,-0.20063050415677747,-0.11154419808878213,-2.1543594541608555,0.5991817972692761,0.1874823907819667,-0.40855192884095826,-0.45544930558017094,-0.9779669239559734,-0.10539664895270522,-0.40806221877933696,1.3651121191971893,-0.6014893104206162,1.3156915791575803,-0.6587323985544884,-1.067454889181448,0.05353779844388949,0.050740582498669765,-0.3410220481473968,0.6939361774346295,0.3745983221830779,0.00390113269939864,-1.2778068397693865,-1.9045976637933393,0.23769910520867105,-1.2346184798868076],\"yaxis\":\"y9\",\"type\":\"scatter\"},{\"line\":{\"color\":\"rgba(128, 128, 128, 1.0)\",\"dash\":\"solid\",\"shape\":\"linear\",\"width\":1.3},\"marker\":{\"size\":2,\"symbol\":\"circle\"},\"mode\":\"markers\",\"name\":\"C\",\"text\":\"\",\"x\":[0.995826467880346,-0.7369617224098037,0.37127384864429896,1.4973374656255485,-0.5136756334794229,-0.16912706548129708,-2.0136478401254956,0.6590292067347793,0.5281735423979428,-0.22596764617781726,0.8179265840659411,-0.7675078258062362,1.5557993453415198,1.1764532616325682,0.48410024097701665,0.7245640901748778,-0.1743255957392895,0.12398933128539748,0.7714456731235291,0.4057913540833407,1.186256289895277,-0.02105445729321405,-0.08094294955411512,0.2334964169726154,-1.8516069705667002,0.730782588490572,-0.7489429321852894,0.2560040303932152,0.7382717289609817,-0.9038563922535384,-0.14304968680136568,-0.7362909814018258,2.4014638348495625,-0.9026406680150731,2.56264403068799,-1.5081115882613203,-0.8431226423071239,-0.13073570393892617,0.8996129861200042,1.1399824665465794,0.048426080024693695,0.1668940515774451,-0.08354431280016783,-0.18563155879013335,0.13989039833424813,-0.6733933082584179,1.6206985566519567,-1.20146237893275,-2.0022301652003573,-0.5543558182050398,-2.492083782632766,-2.653638610926458,1.0403224744840096,-1.2503717390785278,1.2484039627566348,-0.1815316960413127,-0.7612710351716687,-0.5500424255656814,0.28190325275693273,0.33361672883874766,1.0952631148175236,1.9310982225189801,-1.2124783622530837,-1.2862055362957667,-1.3330480187478047,0.3731780294861189,-0.10194186296865584,-0.9603560274610924,-2.970109852235134,1.1441009979146743,0.04271329041066948,-1.3752165049488514,0.23494443618611646,0.8056619087889803,-2.9041102254767166,-0.6848921718215347,1.594433615490069,-1.4615825894063526,-0.13199479952107832,-0.2149473654351705,0.009768856092341214,-0.4052730444685135,-0.568991920341303,-1.084975804825773,-0.2663777907791061,-0.4762543065114372,0.028773158565766913,-0.7850746849449068,-0.6945749900304474,0.8427544736504147,-0.08393240804690318,-1.627899725389288,-0.21845671984730042,-0.47356107511270346,0.4357599336028361,-0.70845175800104,1.7153318283877876,0.8496103465694999,-1.5572805557424916,2.0251386210861186],\"xaxis\":\"x10\",\"y\":[-0.09389924246810805,0.46693784219434303,1.5981105835428606,0.939579245061577,0.7353018080757163,0.646999790089509,-0.33768524482540635,0.8517183133690732,-0.3384120781905001,-0.3274608793784002,0.3611770364046952,-1.4324134965299424,-1.3423692799559948,0.6653145797092015,1.6654082381434867,-2.020428438095846,0.09521652455894322,-0.4203687326465551,0.27431514414201197,-0.042820910303760805,-1.8621475850762577,-0.1672421567112696,0.8990975423749583,-1.270119359829677,-0.5746895495068903,-0.31890119840212383,2.2781245825620626,-0.36013671693763616,0.8828486167671366,-0.3525176349246981,-1.038424938990193,-1.2571132847557838,-0.722802101739417,1.09652110251346,-0.4860419291434229,0.04831710062416164,0.6765773534698574,-1.8480362076705836,-0.45892892454316075,0.4285622114547675,-0.8266561357422507,-0.322348796606711,-0.8875048573626982,-1.4553460601722525,-0.2503900748624838,1.0481974368802498,0.12429421845735472,0.660838527309358,1.6285759733899243,2.320700153051851,-0.20727290897373735,-0.03537029993862725,0.202414319281178,-0.7773088877291788,1.2163903659622308,0.048352193156689226,0.31017736336031887,-0.5741650006672349,2.220593399617657,1.0426301077746036,0.01789033403987293,-0.21821945842542395,-0.6817997624610167,0.18781578841879995,-0.10048108951657567,-1.2091706254267716,2.100116509821881,1.5572668184385687,0.11149873271719092,-0.9289841087187439,-0.48639998626464015,-0.2357056005630904,0.1312857384290406,-0.6189075163619262,-1.517855238304068,-0.20063050415677747,-0.11154419808878213,-2.1543594541608555,0.5991817972692761,0.1874823907819667,-0.40855192884095826,-0.45544930558017094,-0.9779669239559734,-0.10539664895270522,-0.40806221877933696,1.3651121191971893,-0.6014893104206162,1.3156915791575803,-0.6587323985544884,-1.067454889181448,0.05353779844388949,0.050740582498669765,-0.3410220481473968,0.6939361774346295,0.3745983221830779,0.00390113269939864,-1.2778068397693865,-1.9045976637933393,0.23769910520867105,-1.2346184798868076],\"yaxis\":\"y10\",\"type\":\"scatter\"},{\"histfunc\":\"count\",\"histnorm\":\"\",\"marker\":{\"color\":\"rgba(50, 171, 96, 1.0)\",\"line\":{\"color\":\"#4D5663\",\"width\":1.3}},\"name\":\"C\",\"nbinsx\":10,\"opacity\":0.8,\"orientation\":\"v\",\"x\":[-0.09389924246810805,0.46693784219434303,1.5981105835428606,0.939579245061577,0.7353018080757163,0.646999790089509,-0.33768524482540635,0.8517183133690732,-0.3384120781905001,-0.3274608793784002,0.3611770364046952,-1.4324134965299424,-1.3423692799559948,0.6653145797092015,1.6654082381434867,-2.020428438095846,0.09521652455894322,-0.4203687326465551,0.27431514414201197,-0.042820910303760805,-1.8621475850762577,-0.1672421567112696,0.8990975423749583,-1.270119359829677,-0.5746895495068903,-0.31890119840212383,2.2781245825620626,-0.36013671693763616,0.8828486167671366,-0.3525176349246981,-1.038424938990193,-1.2571132847557838,-0.722802101739417,1.09652110251346,-0.4860419291434229,0.04831710062416164,0.6765773534698574,-1.8480362076705836,-0.45892892454316075,0.4285622114547675,-0.8266561357422507,-0.322348796606711,-0.8875048573626982,-1.4553460601722525,-0.2503900748624838,1.0481974368802498,0.12429421845735472,0.660838527309358,1.6285759733899243,2.320700153051851,-0.20727290897373735,-0.03537029993862725,0.202414319281178,-0.7773088877291788,1.2163903659622308,0.048352193156689226,0.31017736336031887,-0.5741650006672349,2.220593399617657,1.0426301077746036,0.01789033403987293,-0.21821945842542395,-0.6817997624610167,0.18781578841879995,-0.10048108951657567,-1.2091706254267716,2.100116509821881,1.5572668184385687,0.11149873271719092,-0.9289841087187439,-0.48639998626464015,-0.2357056005630904,0.1312857384290406,-0.6189075163619262,-1.517855238304068,-0.20063050415677747,-0.11154419808878213,-2.1543594541608555,0.5991817972692761,0.1874823907819667,-0.40855192884095826,-0.45544930558017094,-0.9779669239559734,-0.10539664895270522,-0.40806221877933696,1.3651121191971893,-0.6014893104206162,1.3156915791575803,-0.6587323985544884,-1.067454889181448,0.05353779844388949,0.050740582498669765,-0.3410220481473968,0.6939361774346295,0.3745983221830779,0.00390113269939864,-1.2778068397693865,-1.9045976637933393,0.23769910520867105,-1.2346184798868076],\"xaxis\":\"x11\",\"yaxis\":\"y11\",\"type\":\"histogram\"},{\"line\":{\"color\":\"rgba(128, 128, 128, 1.0)\",\"dash\":\"solid\",\"shape\":\"linear\",\"width\":1.3},\"marker\":{\"size\":2,\"symbol\":\"circle\"},\"mode\":\"markers\",\"name\":\"C\",\"text\":\"\",\"x\":[1.8536786587611707,0.31748701494719056,-1.5914137200326584,-1.8201446872430338,0.19942928864633003,-0.9179397030896396,-2.09783941616522,-1.500452381480773,0.921541813332476,-0.20283949702568466,-0.6224091041757651,-1.5309497626013673,2.3960370035120446,-0.798906464588825,2.6855530977557778,0.5220481471245186,-0.08582089303477562,-0.5847199205396268,0.3859634480227872,-0.4365193090897628,-0.8286648171246722,-0.08572601386447695,-1.3804843047424917,-1.0608984425490853,-0.6263509554355401,1.9859008957368793,-1.4489485453368747,0.5346258431159485,2.387929425784648,-0.3629636514626066,-1.606278511440651,-0.16083962877458965,1.4788501498787368,0.3690546302424768,-0.39434272594699243,-0.7204501129186216,-0.048470704701933834,0.3495814965023437,0.4434049265739363,-1.2219826611087121,-0.28550581198618147,-1.43564955517798,-1.0266421448996974,0.28182620745319154,0.650975407817685,-0.5523593168748906,-0.02826449419596439,0.5835488232553727,-0.45990628505108966,1.861942258383658,1.2247003424778167,-0.3926474871329264,-0.9872124239906978,0.18060257275506045,-3.1282202634719587,0.39015695867027855,-0.6032116714133441,1.5534065332882077,0.8076446774824714,-0.9466283913238981,0.2086053214047391,-1.5996173352620429,-0.5020738048324217,-0.885901490159055,0.435785110787616,-0.5052088166470903,-1.3757623133671353,-0.8472452639438817,-0.9119140192994585,0.31914466795431934,0.27656205648013976,0.7273345746414592,0.6274862198918303,-0.5336861185884401,-1.239705836405087,-0.14944745747340873,0.4664365322350763,0.576829998115034,1.1514488000990495,-0.32445430867609126,-0.5886129375934483,1.190812562297307,0.3207151318146256,-2.4099613330281167,0.9281084747609742,-1.4653632806521992,-1.1968090028828493,-0.43696814652571847,1.0470087389279674,-0.25243610009812334,-0.1715567422039336,-1.3064481634837306,0.31353487491155757,-0.906234469311814,-0.1554311832054045,0.04358606621245248,-1.232136715096742,-0.17106586593775666,1.3350788478359195,-0.6493521538932258],\"xaxis\":\"x12\",\"y\":[-0.09389924246810805,0.46693784219434303,1.5981105835428606,0.939579245061577,0.7353018080757163,0.646999790089509,-0.33768524482540635,0.8517183133690732,-0.3384120781905001,-0.3274608793784002,0.3611770364046952,-1.4324134965299424,-1.3423692799559948,0.6653145797092015,1.6654082381434867,-2.020428438095846,0.09521652455894322,-0.4203687326465551,0.27431514414201197,-0.042820910303760805,-1.8621475850762577,-0.1672421567112696,0.8990975423749583,-1.270119359829677,-0.5746895495068903,-0.31890119840212383,2.2781245825620626,-0.36013671693763616,0.8828486167671366,-0.3525176349246981,-1.038424938990193,-1.2571132847557838,-0.722802101739417,1.09652110251346,-0.4860419291434229,0.04831710062416164,0.6765773534698574,-1.8480362076705836,-0.45892892454316075,0.4285622114547675,-0.8266561357422507,-0.322348796606711,-0.8875048573626982,-1.4553460601722525,-0.2503900748624838,1.0481974368802498,0.12429421845735472,0.660838527309358,1.6285759733899243,2.320700153051851,-0.20727290897373735,-0.03537029993862725,0.202414319281178,-0.7773088877291788,1.2163903659622308,0.048352193156689226,0.31017736336031887,-0.5741650006672349,2.220593399617657,1.0426301077746036,0.01789033403987293,-0.21821945842542395,-0.6817997624610167,0.18781578841879995,-0.10048108951657567,-1.2091706254267716,2.100116509821881,1.5572668184385687,0.11149873271719092,-0.9289841087187439,-0.48639998626464015,-0.2357056005630904,0.1312857384290406,-0.6189075163619262,-1.517855238304068,-0.20063050415677747,-0.11154419808878213,-2.1543594541608555,0.5991817972692761,0.1874823907819667,-0.40855192884095826,-0.45544930558017094,-0.9779669239559734,-0.10539664895270522,-0.40806221877933696,1.3651121191971893,-0.6014893104206162,1.3156915791575803,-0.6587323985544884,-1.067454889181448,0.05353779844388949,0.050740582498669765,-0.3410220481473968,0.6939361774346295,0.3745983221830779,0.00390113269939864,-1.2778068397693865,-1.9045976637933393,0.23769910520867105,-1.2346184798868076],\"yaxis\":\"y12\",\"type\":\"scatter\"},{\"line\":{\"color\":\"rgba(128, 128, 128, 1.0)\",\"dash\":\"solid\",\"shape\":\"linear\",\"width\":1.3},\"marker\":{\"size\":2,\"symbol\":\"circle\"},\"mode\":\"markers\",\"name\":\"D\",\"text\":\"\",\"x\":[0.04069591197739794,-1.5387534862825873,-0.37054138227832717,0.42226759931628843,0.3126115498148938,0.8490945987665685,0.32657941317006145,-0.49107061022674736,-2.1507284205628596,-0.24408786953956163,-0.6520390343561558,-0.5252670649155886,-0.6648895358403708,-0.5337196496902474,2.5411528745491845,0.2721785495038353,0.3139632084051519,-0.5035017349764002,-0.6295298431031526,-0.9967697705581974,-0.3010684232864244,0.6526617395566436,0.6907035696708207,-0.29469416900060214,1.1535301811355754,-1.0100015678978271,-0.12069661348651797,0.8054776442724979,0.8389775988783994,0.7242360206836844,0.9947539832929825,-1.0297374004329243,1.273616985140703,0.0385151859114759,0.8766328063292678,0.596186279085301,-0.2676827420402636,1.6188897257768609,-0.5896403663629634,0.18206868764406353,0.3883297472018753,0.23541068732887283,-1.4667899496388717,0.22401979434166064,-0.24920165254461157,0.5864379214604486,-1.7867426348719786,-0.2388326424614991,-0.20700690841934505,-1.7418204632698755,-0.4975267325235522,-0.4383857315299486,-0.023908325805154496,-1.0099213450430722,1.3151743319977625,2.164235305837594,-1.559781794551808,0.15948892175662965,0.5369468612262032,0.3034419209406845,-0.8190508980320342,1.0613854718635283,-2.703085539999277,0.5993190210185522,-0.9769014482176318,1.677907800787111,-0.037964248402260675,0.4670173507050114,-0.019662592262844062,-0.568296779760827,0.04060896866941458,-1.209244924940564,-0.3209018867296929,2.4149477205376115,-0.25490330030542974,1.1797721447905096,0.8421878895000109,1.745102272056137,-1.071361491881029,-0.45008076881205805,0.42161710288352783,-1.7093741336754915,0.08909834069035083,0.29993713511028813,1.018646413711966,-0.6880074411425571,0.3452603917017754,0.2487633064244093,0.21135195131935697,0.33047551702590044,-0.43227148671025234,-0.2937569887054107,1.4680107137436962,0.19817518709820703,-0.08239264069950791,-1.5739263364676956,-0.5863039056329027,-0.0634286623026407,-0.5916518804306173,-0.12187591316350242],\"xaxis\":\"x13\",\"y\":[1.8536786587611707,0.31748701494719056,-1.5914137200326584,-1.8201446872430338,0.19942928864633003,-0.9179397030896396,-2.09783941616522,-1.500452381480773,0.921541813332476,-0.20283949702568466,-0.6224091041757651,-1.5309497626013673,2.3960370035120446,-0.798906464588825,2.6855530977557778,0.5220481471245186,-0.08582089303477562,-0.5847199205396268,0.3859634480227872,-0.4365193090897628,-0.8286648171246722,-0.08572601386447695,-1.3804843047424917,-1.0608984425490853,-0.6263509554355401,1.9859008957368793,-1.4489485453368747,0.5346258431159485,2.387929425784648,-0.3629636514626066,-1.606278511440651,-0.16083962877458965,1.4788501498787368,0.3690546302424768,-0.39434272594699243,-0.7204501129186216,-0.048470704701933834,0.3495814965023437,0.4434049265739363,-1.2219826611087121,-0.28550581198618147,-1.43564955517798,-1.0266421448996974,0.28182620745319154,0.650975407817685,-0.5523593168748906,-0.02826449419596439,0.5835488232553727,-0.45990628505108966,1.861942258383658,1.2247003424778167,-0.3926474871329264,-0.9872124239906978,0.18060257275506045,-3.1282202634719587,0.39015695867027855,-0.6032116714133441,1.5534065332882077,0.8076446774824714,-0.9466283913238981,0.2086053214047391,-1.5996173352620429,-0.5020738048324217,-0.885901490159055,0.435785110787616,-0.5052088166470903,-1.3757623133671353,-0.8472452639438817,-0.9119140192994585,0.31914466795431934,0.27656205648013976,0.7273345746414592,0.6274862198918303,-0.5336861185884401,-1.239705836405087,-0.14944745747340873,0.4664365322350763,0.576829998115034,1.1514488000990495,-0.32445430867609126,-0.5886129375934483,1.190812562297307,0.3207151318146256,-2.4099613330281167,0.9281084747609742,-1.4653632806521992,-1.1968090028828493,-0.43696814652571847,1.0470087389279674,-0.25243610009812334,-0.1715567422039336,-1.3064481634837306,0.31353487491155757,-0.906234469311814,-0.1554311832054045,0.04358606621245248,-1.232136715096742,-0.17106586593775666,1.3350788478359195,-0.6493521538932258],\"yaxis\":\"y13\",\"type\":\"scatter\"},{\"line\":{\"color\":\"rgba(128, 128, 128, 1.0)\",\"dash\":\"solid\",\"shape\":\"linear\",\"width\":1.3},\"marker\":{\"size\":2,\"symbol\":\"circle\"},\"mode\":\"markers\",\"name\":\"D\",\"text\":\"\",\"x\":[0.995826467880346,-0.7369617224098037,0.37127384864429896,1.4973374656255485,-0.5136756334794229,-0.16912706548129708,-2.0136478401254956,0.6590292067347793,0.5281735423979428,-0.22596764617781726,0.8179265840659411,-0.7675078258062362,1.5557993453415198,1.1764532616325682,0.48410024097701665,0.7245640901748778,-0.1743255957392895,0.12398933128539748,0.7714456731235291,0.4057913540833407,1.186256289895277,-0.02105445729321405,-0.08094294955411512,0.2334964169726154,-1.8516069705667002,0.730782588490572,-0.7489429321852894,0.2560040303932152,0.7382717289609817,-0.9038563922535384,-0.14304968680136568,-0.7362909814018258,2.4014638348495625,-0.9026406680150731,2.56264403068799,-1.5081115882613203,-0.8431226423071239,-0.13073570393892617,0.8996129861200042,1.1399824665465794,0.048426080024693695,0.1668940515774451,-0.08354431280016783,-0.18563155879013335,0.13989039833424813,-0.6733933082584179,1.6206985566519567,-1.20146237893275,-2.0022301652003573,-0.5543558182050398,-2.492083782632766,-2.653638610926458,1.0403224744840096,-1.2503717390785278,1.2484039627566348,-0.1815316960413127,-0.7612710351716687,-0.5500424255656814,0.28190325275693273,0.33361672883874766,1.0952631148175236,1.9310982225189801,-1.2124783622530837,-1.2862055362957667,-1.3330480187478047,0.3731780294861189,-0.10194186296865584,-0.9603560274610924,-2.970109852235134,1.1441009979146743,0.04271329041066948,-1.3752165049488514,0.23494443618611646,0.8056619087889803,-2.9041102254767166,-0.6848921718215347,1.594433615490069,-1.4615825894063526,-0.13199479952107832,-0.2149473654351705,0.009768856092341214,-0.4052730444685135,-0.568991920341303,-1.084975804825773,-0.2663777907791061,-0.4762543065114372,0.028773158565766913,-0.7850746849449068,-0.6945749900304474,0.8427544736504147,-0.08393240804690318,-1.627899725389288,-0.21845671984730042,-0.47356107511270346,0.4357599336028361,-0.70845175800104,1.7153318283877876,0.8496103465694999,-1.5572805557424916,2.0251386210861186],\"xaxis\":\"x14\",\"y\":[1.8536786587611707,0.31748701494719056,-1.5914137200326584,-1.8201446872430338,0.19942928864633003,-0.9179397030896396,-2.09783941616522,-1.500452381480773,0.921541813332476,-0.20283949702568466,-0.6224091041757651,-1.5309497626013673,2.3960370035120446,-0.798906464588825,2.6855530977557778,0.5220481471245186,-0.08582089303477562,-0.5847199205396268,0.3859634480227872,-0.4365193090897628,-0.8286648171246722,-0.08572601386447695,-1.3804843047424917,-1.0608984425490853,-0.6263509554355401,1.9859008957368793,-1.4489485453368747,0.5346258431159485,2.387929425784648,-0.3629636514626066,-1.606278511440651,-0.16083962877458965,1.4788501498787368,0.3690546302424768,-0.39434272594699243,-0.7204501129186216,-0.048470704701933834,0.3495814965023437,0.4434049265739363,-1.2219826611087121,-0.28550581198618147,-1.43564955517798,-1.0266421448996974,0.28182620745319154,0.650975407817685,-0.5523593168748906,-0.02826449419596439,0.5835488232553727,-0.45990628505108966,1.861942258383658,1.2247003424778167,-0.3926474871329264,-0.9872124239906978,0.18060257275506045,-3.1282202634719587,0.39015695867027855,-0.6032116714133441,1.5534065332882077,0.8076446774824714,-0.9466283913238981,0.2086053214047391,-1.5996173352620429,-0.5020738048324217,-0.885901490159055,0.435785110787616,-0.5052088166470903,-1.3757623133671353,-0.8472452639438817,-0.9119140192994585,0.31914466795431934,0.27656205648013976,0.7273345746414592,0.6274862198918303,-0.5336861185884401,-1.239705836405087,-0.14944745747340873,0.4664365322350763,0.576829998115034,1.1514488000990495,-0.32445430867609126,-0.5886129375934483,1.190812562297307,0.3207151318146256,-2.4099613330281167,0.9281084747609742,-1.4653632806521992,-1.1968090028828493,-0.43696814652571847,1.0470087389279674,-0.25243610009812334,-0.1715567422039336,-1.3064481634837306,0.31353487491155757,-0.906234469311814,-0.1554311832054045,0.04358606621245248,-1.232136715096742,-0.17106586593775666,1.3350788478359195,-0.6493521538932258],\"yaxis\":\"y14\",\"type\":\"scatter\"},{\"line\":{\"color\":\"rgba(128, 128, 128, 1.0)\",\"dash\":\"solid\",\"shape\":\"linear\",\"width\":1.3},\"marker\":{\"size\":2,\"symbol\":\"circle\"},\"mode\":\"markers\",\"name\":\"D\",\"text\":\"\",\"x\":[-0.09389924246810805,0.46693784219434303,1.5981105835428606,0.939579245061577,0.7353018080757163,0.646999790089509,-0.33768524482540635,0.8517183133690732,-0.3384120781905001,-0.3274608793784002,0.3611770364046952,-1.4324134965299424,-1.3423692799559948,0.6653145797092015,1.6654082381434867,-2.020428438095846,0.09521652455894322,-0.4203687326465551,0.27431514414201197,-0.042820910303760805,-1.8621475850762577,-0.1672421567112696,0.8990975423749583,-1.270119359829677,-0.5746895495068903,-0.31890119840212383,2.2781245825620626,-0.36013671693763616,0.8828486167671366,-0.3525176349246981,-1.038424938990193,-1.2571132847557838,-0.722802101739417,1.09652110251346,-0.4860419291434229,0.04831710062416164,0.6765773534698574,-1.8480362076705836,-0.45892892454316075,0.4285622114547675,-0.8266561357422507,-0.322348796606711,-0.8875048573626982,-1.4553460601722525,-0.2503900748624838,1.0481974368802498,0.12429421845735472,0.660838527309358,1.6285759733899243,2.320700153051851,-0.20727290897373735,-0.03537029993862725,0.202414319281178,-0.7773088877291788,1.2163903659622308,0.048352193156689226,0.31017736336031887,-0.5741650006672349,2.220593399617657,1.0426301077746036,0.01789033403987293,-0.21821945842542395,-0.6817997624610167,0.18781578841879995,-0.10048108951657567,-1.2091706254267716,2.100116509821881,1.5572668184385687,0.11149873271719092,-0.9289841087187439,-0.48639998626464015,-0.2357056005630904,0.1312857384290406,-0.6189075163619262,-1.517855238304068,-0.20063050415677747,-0.11154419808878213,-2.1543594541608555,0.5991817972692761,0.1874823907819667,-0.40855192884095826,-0.45544930558017094,-0.9779669239559734,-0.10539664895270522,-0.40806221877933696,1.3651121191971893,-0.6014893104206162,1.3156915791575803,-0.6587323985544884,-1.067454889181448,0.05353779844388949,0.050740582498669765,-0.3410220481473968,0.6939361774346295,0.3745983221830779,0.00390113269939864,-1.2778068397693865,-1.9045976637933393,0.23769910520867105,-1.2346184798868076],\"xaxis\":\"x15\",\"y\":[1.8536786587611707,0.31748701494719056,-1.5914137200326584,-1.8201446872430338,0.19942928864633003,-0.9179397030896396,-2.09783941616522,-1.500452381480773,0.921541813332476,-0.20283949702568466,-0.6224091041757651,-1.5309497626013673,2.3960370035120446,-0.798906464588825,2.6855530977557778,0.5220481471245186,-0.08582089303477562,-0.5847199205396268,0.3859634480227872,-0.4365193090897628,-0.8286648171246722,-0.08572601386447695,-1.3804843047424917,-1.0608984425490853,-0.6263509554355401,1.9859008957368793,-1.4489485453368747,0.5346258431159485,2.387929425784648,-0.3629636514626066,-1.606278511440651,-0.16083962877458965,1.4788501498787368,0.3690546302424768,-0.39434272594699243,-0.7204501129186216,-0.048470704701933834,0.3495814965023437,0.4434049265739363,-1.2219826611087121,-0.28550581198618147,-1.43564955517798,-1.0266421448996974,0.28182620745319154,0.650975407817685,-0.5523593168748906,-0.02826449419596439,0.5835488232553727,-0.45990628505108966,1.861942258383658,1.2247003424778167,-0.3926474871329264,-0.9872124239906978,0.18060257275506045,-3.1282202634719587,0.39015695867027855,-0.6032116714133441,1.5534065332882077,0.8076446774824714,-0.9466283913238981,0.2086053214047391,-1.5996173352620429,-0.5020738048324217,-0.885901490159055,0.435785110787616,-0.5052088166470903,-1.3757623133671353,-0.8472452639438817,-0.9119140192994585,0.31914466795431934,0.27656205648013976,0.7273345746414592,0.6274862198918303,-0.5336861185884401,-1.239705836405087,-0.14944745747340873,0.4664365322350763,0.576829998115034,1.1514488000990495,-0.32445430867609126,-0.5886129375934483,1.190812562297307,0.3207151318146256,-2.4099613330281167,0.9281084747609742,-1.4653632806521992,-1.1968090028828493,-0.43696814652571847,1.0470087389279674,-0.25243610009812334,-0.1715567422039336,-1.3064481634837306,0.31353487491155757,-0.906234469311814,-0.1554311832054045,0.04358606621245248,-1.232136715096742,-0.17106586593775666,1.3350788478359195,-0.6493521538932258],\"yaxis\":\"y15\",\"type\":\"scatter\"},{\"histfunc\":\"count\",\"histnorm\":\"\",\"marker\":{\"color\":\"rgba(128, 0, 128, 1.0)\",\"line\":{\"color\":\"#4D5663\",\"width\":1.3}},\"name\":\"D\",\"nbinsx\":10,\"opacity\":0.8,\"orientation\":\"v\",\"x\":[1.8536786587611707,0.31748701494719056,-1.5914137200326584,-1.8201446872430338,0.19942928864633003,-0.9179397030896396,-2.09783941616522,-1.500452381480773,0.921541813332476,-0.20283949702568466,-0.6224091041757651,-1.5309497626013673,2.3960370035120446,-0.798906464588825,2.6855530977557778,0.5220481471245186,-0.08582089303477562,-0.5847199205396268,0.3859634480227872,-0.4365193090897628,-0.8286648171246722,-0.08572601386447695,-1.3804843047424917,-1.0608984425490853,-0.6263509554355401,1.9859008957368793,-1.4489485453368747,0.5346258431159485,2.387929425784648,-0.3629636514626066,-1.606278511440651,-0.16083962877458965,1.4788501498787368,0.3690546302424768,-0.39434272594699243,-0.7204501129186216,-0.048470704701933834,0.3495814965023437,0.4434049265739363,-1.2219826611087121,-0.28550581198618147,-1.43564955517798,-1.0266421448996974,0.28182620745319154,0.650975407817685,-0.5523593168748906,-0.02826449419596439,0.5835488232553727,-0.45990628505108966,1.861942258383658,1.2247003424778167,-0.3926474871329264,-0.9872124239906978,0.18060257275506045,-3.1282202634719587,0.39015695867027855,-0.6032116714133441,1.5534065332882077,0.8076446774824714,-0.9466283913238981,0.2086053214047391,-1.5996173352620429,-0.5020738048324217,-0.885901490159055,0.435785110787616,-0.5052088166470903,-1.3757623133671353,-0.8472452639438817,-0.9119140192994585,0.31914466795431934,0.27656205648013976,0.7273345746414592,0.6274862198918303,-0.5336861185884401,-1.239705836405087,-0.14944745747340873,0.4664365322350763,0.576829998115034,1.1514488000990495,-0.32445430867609126,-0.5886129375934483,1.190812562297307,0.3207151318146256,-2.4099613330281167,0.9281084747609742,-1.4653632806521992,-1.1968090028828493,-0.43696814652571847,1.0470087389279674,-0.25243610009812334,-0.1715567422039336,-1.3064481634837306,0.31353487491155757,-0.906234469311814,-0.1554311832054045,0.04358606621245248,-1.232136715096742,-0.17106586593775666,1.3350788478359195,-0.6493521538932258],\"xaxis\":\"x16\",\"yaxis\":\"y16\",\"type\":\"histogram\"}],                        {\"bargap\":0.02,\"legend\":{\"bgcolor\":\"#F5F6F9\",\"font\":{\"color\":\"#4D5663\"}},\"paper_bgcolor\":\"#F5F6F9\",\"plot_bgcolor\":\"#F5F6F9\",\"showlegend\":false,\"template\":{\"data\":{\"barpolar\":[{\"marker\":{\"line\":{\"color\":\"#E5ECF6\",\"width\":0.5},\"pattern\":{\"fillmode\":\"overlay\",\"size\":10,\"solidity\":0.2}},\"type\":\"barpolar\"}],\"bar\":[{\"error_x\":{\"color\":\"#2a3f5f\"},\"error_y\":{\"color\":\"#2a3f5f\"},\"marker\":{\"line\":{\"color\":\"#E5ECF6\",\"width\":0.5},\"pattern\":{\"fillmode\":\"overlay\",\"size\":10,\"solidity\":0.2}},\"type\":\"bar\"}],\"carpet\":[{\"aaxis\":{\"endlinecolor\":\"#2a3f5f\",\"gridcolor\":\"white\",\"linecolor\":\"white\",\"minorgridcolor\":\"white\",\"startlinecolor\":\"#2a3f5f\"},\"baxis\":{\"endlinecolor\":\"#2a3f5f\",\"gridcolor\":\"white\",\"linecolor\":\"white\",\"minorgridcolor\":\"white\",\"startlinecolor\":\"#2a3f5f\"},\"type\":\"carpet\"}],\"choropleth\":[{\"colorbar\":{\"outlinewidth\":0,\"ticks\":\"\"},\"type\":\"choropleth\"}],\"contourcarpet\":[{\"colorbar\":{\"outlinewidth\":0,\"ticks\":\"\"},\"type\":\"contourcarpet\"}],\"contour\":[{\"colorbar\":{\"outlinewidth\":0,\"ticks\":\"\"},\"colorscale\":[[0.0,\"#0d0887\"],[0.1111111111111111,\"#46039f\"],[0.2222222222222222,\"#7201a8\"],[0.3333333333333333,\"#9c179e\"],[0.4444444444444444,\"#bd3786\"],[0.5555555555555556,\"#d8576b\"],[0.6666666666666666,\"#ed7953\"],[0.7777777777777778,\"#fb9f3a\"],[0.8888888888888888,\"#fdca26\"],[1.0,\"#f0f921\"]],\"type\":\"contour\"}],\"heatmapgl\":[{\"colorbar\":{\"outlinewidth\":0,\"ticks\":\"\"},\"colorscale\":[[0.0,\"#0d0887\"],[0.1111111111111111,\"#46039f\"],[0.2222222222222222,\"#7201a8\"],[0.3333333333333333,\"#9c179e\"],[0.4444444444444444,\"#bd3786\"],[0.5555555555555556,\"#d8576b\"],[0.6666666666666666,\"#ed7953\"],[0.7777777777777778,\"#fb9f3a\"],[0.8888888888888888,\"#fdca26\"],[1.0,\"#f0f921\"]],\"type\":\"heatmapgl\"}],\"heatmap\":[{\"colorbar\":{\"outlinewidth\":0,\"ticks\":\"\"},\"colorscale\":[[0.0,\"#0d0887\"],[0.1111111111111111,\"#46039f\"],[0.2222222222222222,\"#7201a8\"],[0.3333333333333333,\"#9c179e\"],[0.4444444444444444,\"#bd3786\"],[0.5555555555555556,\"#d8576b\"],[0.6666666666666666,\"#ed7953\"],[0.7777777777777778,\"#fb9f3a\"],[0.8888888888888888,\"#fdca26\"],[1.0,\"#f0f921\"]],\"type\":\"heatmap\"}],\"histogram2dcontour\":[{\"colorbar\":{\"outlinewidth\":0,\"ticks\":\"\"},\"colorscale\":[[0.0,\"#0d0887\"],[0.1111111111111111,\"#46039f\"],[0.2222222222222222,\"#7201a8\"],[0.3333333333333333,\"#9c179e\"],[0.4444444444444444,\"#bd3786\"],[0.5555555555555556,\"#d8576b\"],[0.6666666666666666,\"#ed7953\"],[0.7777777777777778,\"#fb9f3a\"],[0.8888888888888888,\"#fdca26\"],[1.0,\"#f0f921\"]],\"type\":\"histogram2dcontour\"}],\"histogram2d\":[{\"colorbar\":{\"outlinewidth\":0,\"ticks\":\"\"},\"colorscale\":[[0.0,\"#0d0887\"],[0.1111111111111111,\"#46039f\"],[0.2222222222222222,\"#7201a8\"],[0.3333333333333333,\"#9c179e\"],[0.4444444444444444,\"#bd3786\"],[0.5555555555555556,\"#d8576b\"],[0.6666666666666666,\"#ed7953\"],[0.7777777777777778,\"#fb9f3a\"],[0.8888888888888888,\"#fdca26\"],[1.0,\"#f0f921\"]],\"type\":\"histogram2d\"}],\"histogram\":[{\"marker\":{\"pattern\":{\"fillmode\":\"overlay\",\"size\":10,\"solidity\":0.2}},\"type\":\"histogram\"}],\"mesh3d\":[{\"colorbar\":{\"outlinewidth\":0,\"ticks\":\"\"},\"type\":\"mesh3d\"}],\"parcoords\":[{\"line\":{\"colorbar\":{\"outlinewidth\":0,\"ticks\":\"\"}},\"type\":\"parcoords\"}],\"pie\":[{\"automargin\":true,\"type\":\"pie\"}],\"scatter3d\":[{\"line\":{\"colorbar\":{\"outlinewidth\":0,\"ticks\":\"\"}},\"marker\":{\"colorbar\":{\"outlinewidth\":0,\"ticks\":\"\"}},\"type\":\"scatter3d\"}],\"scattercarpet\":[{\"marker\":{\"colorbar\":{\"outlinewidth\":0,\"ticks\":\"\"}},\"type\":\"scattercarpet\"}],\"scattergeo\":[{\"marker\":{\"colorbar\":{\"outlinewidth\":0,\"ticks\":\"\"}},\"type\":\"scattergeo\"}],\"scattergl\":[{\"marker\":{\"colorbar\":{\"outlinewidth\":0,\"ticks\":\"\"}},\"type\":\"scattergl\"}],\"scattermapbox\":[{\"marker\":{\"colorbar\":{\"outlinewidth\":0,\"ticks\":\"\"}},\"type\":\"scattermapbox\"}],\"scatterpolargl\":[{\"marker\":{\"colorbar\":{\"outlinewidth\":0,\"ticks\":\"\"}},\"type\":\"scatterpolargl\"}],\"scatterpolar\":[{\"marker\":{\"colorbar\":{\"outlinewidth\":0,\"ticks\":\"\"}},\"type\":\"scatterpolar\"}],\"scatter\":[{\"marker\":{\"colorbar\":{\"outlinewidth\":0,\"ticks\":\"\"}},\"type\":\"scatter\"}],\"scatterternary\":[{\"marker\":{\"colorbar\":{\"outlinewidth\":0,\"ticks\":\"\"}},\"type\":\"scatterternary\"}],\"surface\":[{\"colorbar\":{\"outlinewidth\":0,\"ticks\":\"\"},\"colorscale\":[[0.0,\"#0d0887\"],[0.1111111111111111,\"#46039f\"],[0.2222222222222222,\"#7201a8\"],[0.3333333333333333,\"#9c179e\"],[0.4444444444444444,\"#bd3786\"],[0.5555555555555556,\"#d8576b\"],[0.6666666666666666,\"#ed7953\"],[0.7777777777777778,\"#fb9f3a\"],[0.8888888888888888,\"#fdca26\"],[1.0,\"#f0f921\"]],\"type\":\"surface\"}],\"table\":[{\"cells\":{\"fill\":{\"color\":\"#EBF0F8\"},\"line\":{\"color\":\"white\"}},\"header\":{\"fill\":{\"color\":\"#C8D4E3\"},\"line\":{\"color\":\"white\"}},\"type\":\"table\"}]},\"layout\":{\"annotationdefaults\":{\"arrowcolor\":\"#2a3f5f\",\"arrowhead\":0,\"arrowwidth\":1},\"autotypenumbers\":\"strict\",\"coloraxis\":{\"colorbar\":{\"outlinewidth\":0,\"ticks\":\"\"}},\"colorscale\":{\"diverging\":[[0,\"#8e0152\"],[0.1,\"#c51b7d\"],[0.2,\"#de77ae\"],[0.3,\"#f1b6da\"],[0.4,\"#fde0ef\"],[0.5,\"#f7f7f7\"],[0.6,\"#e6f5d0\"],[0.7,\"#b8e186\"],[0.8,\"#7fbc41\"],[0.9,\"#4d9221\"],[1,\"#276419\"]],\"sequential\":[[0.0,\"#0d0887\"],[0.1111111111111111,\"#46039f\"],[0.2222222222222222,\"#7201a8\"],[0.3333333333333333,\"#9c179e\"],[0.4444444444444444,\"#bd3786\"],[0.5555555555555556,\"#d8576b\"],[0.6666666666666666,\"#ed7953\"],[0.7777777777777778,\"#fb9f3a\"],[0.8888888888888888,\"#fdca26\"],[1.0,\"#f0f921\"]],\"sequentialminus\":[[0.0,\"#0d0887\"],[0.1111111111111111,\"#46039f\"],[0.2222222222222222,\"#7201a8\"],[0.3333333333333333,\"#9c179e\"],[0.4444444444444444,\"#bd3786\"],[0.5555555555555556,\"#d8576b\"],[0.6666666666666666,\"#ed7953\"],[0.7777777777777778,\"#fb9f3a\"],[0.8888888888888888,\"#fdca26\"],[1.0,\"#f0f921\"]]},\"colorway\":[\"#636efa\",\"#EF553B\",\"#00cc96\",\"#ab63fa\",\"#FFA15A\",\"#19d3f3\",\"#FF6692\",\"#B6E880\",\"#FF97FF\",\"#FECB52\"],\"font\":{\"color\":\"#2a3f5f\"},\"geo\":{\"bgcolor\":\"white\",\"lakecolor\":\"white\",\"landcolor\":\"#E5ECF6\",\"showlakes\":true,\"showland\":true,\"subunitcolor\":\"white\"},\"hoverlabel\":{\"align\":\"left\"},\"hovermode\":\"closest\",\"mapbox\":{\"style\":\"light\"},\"paper_bgcolor\":\"white\",\"plot_bgcolor\":\"#E5ECF6\",\"polar\":{\"angularaxis\":{\"gridcolor\":\"white\",\"linecolor\":\"white\",\"ticks\":\"\"},\"bgcolor\":\"#E5ECF6\",\"radialaxis\":{\"gridcolor\":\"white\",\"linecolor\":\"white\",\"ticks\":\"\"}},\"scene\":{\"xaxis\":{\"backgroundcolor\":\"#E5ECF6\",\"gridcolor\":\"white\",\"gridwidth\":2,\"linecolor\":\"white\",\"showbackground\":true,\"ticks\":\"\",\"zerolinecolor\":\"white\"},\"yaxis\":{\"backgroundcolor\":\"#E5ECF6\",\"gridcolor\":\"white\",\"gridwidth\":2,\"linecolor\":\"white\",\"showbackground\":true,\"ticks\":\"\",\"zerolinecolor\":\"white\"},\"zaxis\":{\"backgroundcolor\":\"#E5ECF6\",\"gridcolor\":\"white\",\"gridwidth\":2,\"linecolor\":\"white\",\"showbackground\":true,\"ticks\":\"\",\"zerolinecolor\":\"white\"}},\"shapedefaults\":{\"line\":{\"color\":\"#2a3f5f\"}},\"ternary\":{\"aaxis\":{\"gridcolor\":\"white\",\"linecolor\":\"white\",\"ticks\":\"\"},\"baxis\":{\"gridcolor\":\"white\",\"linecolor\":\"white\",\"ticks\":\"\"},\"bgcolor\":\"#E5ECF6\",\"caxis\":{\"gridcolor\":\"white\",\"linecolor\":\"white\",\"ticks\":\"\"}},\"title\":{\"x\":0.05},\"xaxis\":{\"automargin\":true,\"gridcolor\":\"white\",\"linecolor\":\"white\",\"ticks\":\"\",\"title\":{\"standoff\":15},\"zerolinecolor\":\"white\",\"zerolinewidth\":2},\"yaxis\":{\"automargin\":true,\"gridcolor\":\"white\",\"linecolor\":\"white\",\"ticks\":\"\",\"title\":{\"standoff\":15},\"zerolinecolor\":\"white\",\"zerolinewidth\":2}}},\"title\":{\"font\":{\"color\":\"#4D5663\"}},\"xaxis\":{\"anchor\":\"y\",\"domain\":[0.0,0.2125],\"gridcolor\":\"#E1E5ED\",\"showgrid\":false,\"tickfont\":{\"color\":\"#4D5663\"},\"title\":{\"font\":{\"color\":\"#4D5663\"},\"text\":\"\"},\"zerolinecolor\":\"#E1E5ED\"},\"yaxis\":{\"anchor\":\"x\",\"domain\":[0.8025,1.0],\"gridcolor\":\"#E1E5ED\",\"showgrid\":false,\"tickfont\":{\"color\":\"#4D5663\"},\"title\":{\"font\":{\"color\":\"#4D5663\"},\"text\":\"\"},\"zerolinecolor\":\"#E1E5ED\"},\"xaxis2\":{\"anchor\":\"y2\",\"domain\":[0.2625,0.475],\"gridcolor\":\"#E1E5ED\",\"showgrid\":false,\"tickfont\":{\"color\":\"#4D5663\"},\"title\":{\"font\":{\"color\":\"#4D5663\"},\"text\":\"\"},\"zerolinecolor\":\"#E1E5ED\"},\"yaxis2\":{\"anchor\":\"x2\",\"domain\":[0.8025,1.0],\"gridcolor\":\"#E1E5ED\",\"showgrid\":false,\"tickfont\":{\"color\":\"#4D5663\"},\"title\":{\"font\":{\"color\":\"#4D5663\"},\"text\":\"\"},\"zerolinecolor\":\"#E1E5ED\"},\"xaxis3\":{\"anchor\":\"y3\",\"domain\":[0.525,0.7375],\"gridcolor\":\"#E1E5ED\",\"showgrid\":false,\"tickfont\":{\"color\":\"#4D5663\"},\"title\":{\"font\":{\"color\":\"#4D5663\"},\"text\":\"\"},\"zerolinecolor\":\"#E1E5ED\"},\"yaxis3\":{\"anchor\":\"x3\",\"domain\":[0.8025,1.0],\"gridcolor\":\"#E1E5ED\",\"showgrid\":false,\"tickfont\":{\"color\":\"#4D5663\"},\"title\":{\"font\":{\"color\":\"#4D5663\"},\"text\":\"\"},\"zerolinecolor\":\"#E1E5ED\"},\"xaxis4\":{\"anchor\":\"y4\",\"domain\":[0.7875,1.0],\"gridcolor\":\"#E1E5ED\",\"showgrid\":false,\"tickfont\":{\"color\":\"#4D5663\"},\"title\":{\"font\":{\"color\":\"#4D5663\"},\"text\":\"\"},\"zerolinecolor\":\"#E1E5ED\"},\"yaxis4\":{\"anchor\":\"x4\",\"domain\":[0.8025,1.0],\"gridcolor\":\"#E1E5ED\",\"showgrid\":false,\"tickfont\":{\"color\":\"#4D5663\"},\"title\":{\"font\":{\"color\":\"#4D5663\"},\"text\":\"\"},\"zerolinecolor\":\"#E1E5ED\"},\"xaxis5\":{\"anchor\":\"y5\",\"domain\":[0.0,0.2125],\"gridcolor\":\"#E1E5ED\",\"showgrid\":false,\"tickfont\":{\"color\":\"#4D5663\"},\"title\":{\"font\":{\"color\":\"#4D5663\"},\"text\":\"\"},\"zerolinecolor\":\"#E1E5ED\"},\"yaxis5\":{\"anchor\":\"x5\",\"domain\":[0.535,0.7325],\"gridcolor\":\"#E1E5ED\",\"showgrid\":false,\"tickfont\":{\"color\":\"#4D5663\"},\"title\":{\"font\":{\"color\":\"#4D5663\"},\"text\":\"\"},\"zerolinecolor\":\"#E1E5ED\"},\"xaxis6\":{\"anchor\":\"y6\",\"domain\":[0.2625,0.475],\"gridcolor\":\"#E1E5ED\",\"showgrid\":false,\"tickfont\":{\"color\":\"#4D5663\"},\"title\":{\"font\":{\"color\":\"#4D5663\"},\"text\":\"\"},\"zerolinecolor\":\"#E1E5ED\"},\"yaxis6\":{\"anchor\":\"x6\",\"domain\":[0.535,0.7325],\"gridcolor\":\"#E1E5ED\",\"showgrid\":false,\"tickfont\":{\"color\":\"#4D5663\"},\"title\":{\"font\":{\"color\":\"#4D5663\"},\"text\":\"\"},\"zerolinecolor\":\"#E1E5ED\"},\"xaxis7\":{\"anchor\":\"y7\",\"domain\":[0.525,0.7375],\"gridcolor\":\"#E1E5ED\",\"showgrid\":false,\"tickfont\":{\"color\":\"#4D5663\"},\"title\":{\"font\":{\"color\":\"#4D5663\"},\"text\":\"\"},\"zerolinecolor\":\"#E1E5ED\"},\"yaxis7\":{\"anchor\":\"x7\",\"domain\":[0.535,0.7325],\"gridcolor\":\"#E1E5ED\",\"showgrid\":false,\"tickfont\":{\"color\":\"#4D5663\"},\"title\":{\"font\":{\"color\":\"#4D5663\"},\"text\":\"\"},\"zerolinecolor\":\"#E1E5ED\"},\"xaxis8\":{\"anchor\":\"y8\",\"domain\":[0.7875,1.0],\"gridcolor\":\"#E1E5ED\",\"showgrid\":false,\"tickfont\":{\"color\":\"#4D5663\"},\"title\":{\"font\":{\"color\":\"#4D5663\"},\"text\":\"\"},\"zerolinecolor\":\"#E1E5ED\"},\"yaxis8\":{\"anchor\":\"x8\",\"domain\":[0.535,0.7325],\"gridcolor\":\"#E1E5ED\",\"showgrid\":false,\"tickfont\":{\"color\":\"#4D5663\"},\"title\":{\"font\":{\"color\":\"#4D5663\"},\"text\":\"\"},\"zerolinecolor\":\"#E1E5ED\"},\"xaxis9\":{\"anchor\":\"y9\",\"domain\":[0.0,0.2125],\"gridcolor\":\"#E1E5ED\",\"showgrid\":false,\"tickfont\":{\"color\":\"#4D5663\"},\"title\":{\"font\":{\"color\":\"#4D5663\"},\"text\":\"\"},\"zerolinecolor\":\"#E1E5ED\"},\"yaxis9\":{\"anchor\":\"x9\",\"domain\":[0.2675,0.465],\"gridcolor\":\"#E1E5ED\",\"showgrid\":false,\"tickfont\":{\"color\":\"#4D5663\"},\"title\":{\"font\":{\"color\":\"#4D5663\"},\"text\":\"\"},\"zerolinecolor\":\"#E1E5ED\"},\"xaxis10\":{\"anchor\":\"y10\",\"domain\":[0.2625,0.475],\"gridcolor\":\"#E1E5ED\",\"showgrid\":false,\"tickfont\":{\"color\":\"#4D5663\"},\"title\":{\"font\":{\"color\":\"#4D5663\"},\"text\":\"\"},\"zerolinecolor\":\"#E1E5ED\"},\"yaxis10\":{\"anchor\":\"x10\",\"domain\":[0.2675,0.465],\"gridcolor\":\"#E1E5ED\",\"showgrid\":false,\"tickfont\":{\"color\":\"#4D5663\"},\"title\":{\"font\":{\"color\":\"#4D5663\"},\"text\":\"\"},\"zerolinecolor\":\"#E1E5ED\"},\"xaxis11\":{\"anchor\":\"y11\",\"domain\":[0.525,0.7375],\"gridcolor\":\"#E1E5ED\",\"showgrid\":false,\"tickfont\":{\"color\":\"#4D5663\"},\"title\":{\"font\":{\"color\":\"#4D5663\"},\"text\":\"\"},\"zerolinecolor\":\"#E1E5ED\"},\"yaxis11\":{\"anchor\":\"x11\",\"domain\":[0.2675,0.465],\"gridcolor\":\"#E1E5ED\",\"showgrid\":false,\"tickfont\":{\"color\":\"#4D5663\"},\"title\":{\"font\":{\"color\":\"#4D5663\"},\"text\":\"\"},\"zerolinecolor\":\"#E1E5ED\"},\"xaxis12\":{\"anchor\":\"y12\",\"domain\":[0.7875,1.0],\"gridcolor\":\"#E1E5ED\",\"showgrid\":false,\"tickfont\":{\"color\":\"#4D5663\"},\"title\":{\"font\":{\"color\":\"#4D5663\"},\"text\":\"\"},\"zerolinecolor\":\"#E1E5ED\"},\"yaxis12\":{\"anchor\":\"x12\",\"domain\":[0.2675,0.465],\"gridcolor\":\"#E1E5ED\",\"showgrid\":false,\"tickfont\":{\"color\":\"#4D5663\"},\"title\":{\"font\":{\"color\":\"#4D5663\"},\"text\":\"\"},\"zerolinecolor\":\"#E1E5ED\"},\"xaxis13\":{\"anchor\":\"y13\",\"domain\":[0.0,0.2125],\"gridcolor\":\"#E1E5ED\",\"showgrid\":false,\"tickfont\":{\"color\":\"#4D5663\"},\"title\":{\"font\":{\"color\":\"#4D5663\"},\"text\":\"\"},\"zerolinecolor\":\"#E1E5ED\"},\"yaxis13\":{\"anchor\":\"x13\",\"domain\":[0.0,0.1975],\"gridcolor\":\"#E1E5ED\",\"showgrid\":false,\"tickfont\":{\"color\":\"#4D5663\"},\"title\":{\"font\":{\"color\":\"#4D5663\"},\"text\":\"\"},\"zerolinecolor\":\"#E1E5ED\"},\"xaxis14\":{\"anchor\":\"y14\",\"domain\":[0.2625,0.475],\"gridcolor\":\"#E1E5ED\",\"showgrid\":false,\"tickfont\":{\"color\":\"#4D5663\"},\"title\":{\"font\":{\"color\":\"#4D5663\"},\"text\":\"\"},\"zerolinecolor\":\"#E1E5ED\"},\"yaxis14\":{\"anchor\":\"x14\",\"domain\":[0.0,0.1975],\"gridcolor\":\"#E1E5ED\",\"showgrid\":false,\"tickfont\":{\"color\":\"#4D5663\"},\"title\":{\"font\":{\"color\":\"#4D5663\"},\"text\":\"\"},\"zerolinecolor\":\"#E1E5ED\"},\"xaxis15\":{\"anchor\":\"y15\",\"domain\":[0.525,0.7375],\"gridcolor\":\"#E1E5ED\",\"showgrid\":false,\"tickfont\":{\"color\":\"#4D5663\"},\"title\":{\"font\":{\"color\":\"#4D5663\"},\"text\":\"\"},\"zerolinecolor\":\"#E1E5ED\"},\"yaxis15\":{\"anchor\":\"x15\",\"domain\":[0.0,0.1975],\"gridcolor\":\"#E1E5ED\",\"showgrid\":false,\"tickfont\":{\"color\":\"#4D5663\"},\"title\":{\"font\":{\"color\":\"#4D5663\"},\"text\":\"\"},\"zerolinecolor\":\"#E1E5ED\"},\"xaxis16\":{\"anchor\":\"y16\",\"domain\":[0.7875,1.0],\"gridcolor\":\"#E1E5ED\",\"showgrid\":false,\"tickfont\":{\"color\":\"#4D5663\"},\"title\":{\"font\":{\"color\":\"#4D5663\"},\"text\":\"\"},\"zerolinecolor\":\"#E1E5ED\"},\"yaxis16\":{\"anchor\":\"x16\",\"domain\":[0.0,0.1975],\"gridcolor\":\"#E1E5ED\",\"showgrid\":false,\"tickfont\":{\"color\":\"#4D5663\"},\"title\":{\"font\":{\"color\":\"#4D5663\"},\"text\":\"\"},\"zerolinecolor\":\"#E1E5ED\"}},                        {\"showLink\": true, \"linkText\": \"Export to plot.ly\", \"plotlyServerURL\": \"https://plot.ly\", \"responsive\": true}                    ).then(function(){\n",
       "                            \n",
       "var gd = document.getElementById('aaac3827-08c3-400f-87a2-a3c021fac033');\n",
       "var x = new MutationObserver(function (mutations, observer) {{\n",
       "        var display = window.getComputedStyle(gd).display;\n",
       "        if (!display || display === 'none') {{\n",
       "            console.log([gd, 'removed!']);\n",
       "            Plotly.purge(gd);\n",
       "            observer.disconnect();\n",
       "        }}\n",
       "}});\n",
       "\n",
       "// Listen for the removal of the full notebook cells\n",
       "var notebookContainer = gd.closest('#notebook-container');\n",
       "if (notebookContainer) {{\n",
       "    x.observe(notebookContainer, {childList: true});\n",
       "}}\n",
       "\n",
       "// Listen for the clearing of the current output cell\n",
       "var outputEl = gd.closest('.output');\n",
       "if (outputEl) {{\n",
       "    x.observe(outputEl, {childList: true});\n",
       "}}\n",
       "\n",
       "                        })                };                });            </script>        </div>"
      ]
     },
     "metadata": {},
     "output_type": "display_data"
    }
   ],
   "source": [
    "df.scatter_matrix()"
   ]
  },
  {
   "cell_type": "code",
   "execution_count": null,
   "metadata": {},
   "outputs": [],
   "source": []
  },
  {
   "cell_type": "code",
   "execution_count": null,
   "metadata": {},
   "outputs": [],
   "source": []
  },
  {
   "cell_type": "code",
   "execution_count": null,
   "metadata": {},
   "outputs": [],
   "source": []
  },
  {
   "cell_type": "code",
   "execution_count": null,
   "metadata": {},
   "outputs": [],
   "source": []
  },
  {
   "cell_type": "code",
   "execution_count": null,
   "metadata": {},
   "outputs": [],
   "source": []
  },
  {
   "cell_type": "code",
   "execution_count": null,
   "metadata": {},
   "outputs": [],
   "source": []
  },
  {
   "cell_type": "code",
   "execution_count": null,
   "metadata": {},
   "outputs": [],
   "source": []
  },
  {
   "cell_type": "markdown",
   "metadata": {},
   "source": [
    "## Using Cufflinks and iplot()\n",
    "\n",
    "* scatter\n",
    "* bar\n",
    "* box\n",
    "* spread\n",
    "* ratio\n",
    "* heatmap\n",
    "* surface\n",
    "* histogram\n",
    "* bubble"
   ]
  },
  {
   "cell_type": "markdown",
   "metadata": {},
   "source": [
    "## Scatter"
   ]
  },
  {
   "cell_type": "code",
   "execution_count": 20,
   "metadata": {},
   "outputs": [
    {
     "data": {
      "text/html": [
       "<div id=\"6af44dac-de6e-4bca-b4a6-a5a4eb631d68\" style=\"height: 525px; width: 100%;\" class=\"plotly-graph-div\"></div><script type=\"text/javascript\">require([\"plotly\"], function(Plotly) { window.PLOTLYENV=window.PLOTLYENV || {};window.PLOTLYENV.BASE_URL=\"https://plot.ly\";Plotly.newPlot(\"6af44dac-de6e-4bca-b4a6-a5a4eb631d68\", [{\"mode\": \"markers\", \"text\": \"\", \"name\": \"B\", \"x\": [1.8787246669561561, 0.028733616663923985, -0.1587931161277573, -1.2219723462024636, 1.2531523973363488, 0.8312132082951045, 1.1740170898586173, -0.24393002059589958, -0.296966543277261, 0.7621695759158762, 0.04210347865555278, -0.7791970481917073, 0.3943032396655093, -1.0146190736152443, -0.4841710096782867, 0.5522466668361006, -2.77187556758784, -0.5181226698708166, -0.49722040792422156, -1.6534757596659548, -0.06027439377033132, 1.4769243769038323, 1.1796346669498379, -0.7816898015019265, 0.8630132212967984, 0.6590246731638996, -1.1013906677685679, -0.9446804895542242, -1.788022470413331, 0.8775002821729455, 0.3546715768521251, -0.16532125735222183, 1.8914747239632839, -1.1251772915449791, 0.8888981026894395, -0.6066117727706714, 0.8314777742724779, 0.3830457069359529, -0.937459527593053, -0.844561047334305, 1.1280232245052606, -1.640427972598561, 0.8971269652786067, 0.4848047458342485, 0.19373507090654035, -0.7387091317560727, -0.3566733282792827, -0.43158335134818315, -0.4899640124314907, 0.5488715658495908, 0.2821768987731658, -0.8832439438038343, 1.271863067044618, 0.10680856505919414, 0.8269478103679717, -0.03266751467505833, -0.34021520002722894, -0.6769186069469743, 0.7126188256918854, 1.8871150025438166, -0.06742662656190869, -1.4789736197389265, 0.346978601690099, -0.3757389938313092, 0.715285859520045, 1.5994858611908638, -0.3692558358591885, 0.13827360227735647, -0.40690530542342296, 0.636973800943974, 0.14658752987818605, -0.3949906255692418, 1.5076392623927681, -0.15486042602397807, 0.22159940179664614, -1.0878244818277978, -0.03354417910293162, 1.2258839316932069, -0.048951028800266715, -1.1089870994157809, 0.021452684803338333, 1.2548854256528554, -1.0913797662237141, -0.539059741192553, 0.6901269187662552, -1.4810451728120602, -0.8468654201203714, 0.3763927872506507, 0.8120568488462931, 0.0031767062628090745, 0.697742291538818, -0.7429703118062226, -0.842231117346612, -0.0666718362166121, 1.8829720647783421, 1.320112956074407, 0.42394324402947475, 0.466299928509142, 0.9415282138953815, -0.7707938096473991], \"line\": {\"dash\": \"solid\", \"width\": 1.3, \"color\": \"rgba(226, 74, 51, 1.0)\"}, \"type\": \"scatter\", \"marker\": {\"size\": 10, \"symbol\": \"dot\"}, \"y\": [0.6887194376286498, 0.1040535242504629, 0.38792642015276635, 1.3934230260395444, -0.5375976688704683, -1.1493608786796612, 0.01342890849383506, -0.47231861415738574, 0.24793169472844812, -0.6232083144122951, -1.2121596694710122, -2.4542371001007464, 0.29855785553142483, 1.2997620162676498, 0.9168047366909585, -0.41040614900130634, 1.3147531456519106, -0.12455263569370086, 0.9366143523054554, 0.23573463729990726, -0.8244746170540388, -0.32685668230128845, 1.501781503113865, 0.9830012153240587, 0.6020112305361386, 0.3688304138086671, 1.0090827131320237, -0.5811720111587422, 0.0512884505619472, -1.6917643070157176, -0.25322144257612356, -0.2937357494665306, 0.7368726362448421, 0.5763424997076779, 0.16472110066593693, -0.374254076023172, 1.1280304809680426, 0.6455371548668151, -0.18000225503004413, -0.9128911232313937, -0.5670695205365133, 0.16138491502455474, 1.2118733837294762, 0.4444506280024997, 0.6834767601409083, 1.8020727241195935, 2.4230878273709062, 0.27701889696287213, 1.4067122280705426, -0.33728919328412016, 0.5154870435338148, 0.7751019637809062, 1.400130435077449, 0.8276591566099151, 1.1268119555303864, 0.7016118169589718, 0.476169530704683, -0.5261125753709399, -1.2129692872143456, 0.6126338497954396, 1.5825905557818922, -0.8173630045970658, 0.1075602248072928, 1.2716988894407462, -0.15615948990467535, -0.2968566839654392, 1.7204934641303604, -0.869876624137026, 0.28935077735906545, -1.2052876742800458, -0.263979336251353, -0.02815365780209253, -0.04062347728476395, 0.943760296027789, -1.7797735906553165, 0.4485755919087686, 0.14778332986993048, 0.5305019463041807, 1.6359913516932165, -0.3437427119285297, 1.9109783094330681, 0.6818924480193401, -0.42214824562337705, 0.8935317581184008, 1.2587495288352297, -0.5992845246668753, 2.7851237345776405, -1.5158096238899554, 0.04177421570103183, 0.48980398157362903, 1.063643861677667, -0.8486329162129157, -1.86936339853131, 0.24761777046722996, 1.290606988097702, 0.17046338292604407, 0.14181179559597848, 0.6505415244850333, -2.5850581533594545, -0.30813091794721653]}], {\"legend\": {\"font\": {\"color\": \"#666666\"}, \"bgcolor\": \"#FFFFFF\"}, \"titlefont\": {\"color\": \"#151516\"}, \"xaxis1\": {\"titlefont\": {\"color\": \"#666666\"}, \"zerolinecolor\": \"#F6F6F6\", \"title\": \"\", \"tickfont\": {\"color\": \"#666666\"}, \"showgrid\": true, \"gridcolor\": \"#F6F6F6\"}, \"paper_bgcolor\": \"#FFFFFF\", \"plot_bgcolor\": \"#E5E5E5\", \"yaxis1\": {\"titlefont\": {\"color\": \"#666666\"}, \"zerolinecolor\": \"#F6F6F6\", \"title\": \"\", \"tickfont\": {\"color\": \"#666666\"}, \"showgrid\": true, \"gridcolor\": \"#F6F6F6\"}}, {\"showLink\": true, \"linkText\": \"Export to plot.ly\"})});</script>"
      ],
      "text/plain": [
       "<IPython.core.display.HTML object>"
      ]
     },
     "metadata": {},
     "output_type": "display_data"
    }
   ],
   "source": [
    "df.iplot(kind='scatter',x='A',y='B',mode='markers',size=10)"
   ]
  },
  {
   "cell_type": "markdown",
   "metadata": {},
   "source": [
    "## Bar Plots"
   ]
  },
  {
   "cell_type": "code",
   "execution_count": 28,
   "metadata": {},
   "outputs": [
    {
     "data": {
      "text/html": [
       "<div id=\"316c2996-ca86-4faf-82a5-fb1d12abc321\" style=\"height: 525px; width: 100%;\" class=\"plotly-graph-div\"></div><script type=\"text/javascript\">require([\"plotly\"], function(Plotly) { window.PLOTLYENV=window.PLOTLYENV || {};window.PLOTLYENV.BASE_URL=\"https://plot.ly\";Plotly.newPlot(\"316c2996-ca86-4faf-82a5-fb1d12abc321\", [{\"x\": [\"A\", \"B\", \"C\"], \"text\": \"\", \"orientation\": \"v\", \"name\": \"Values\", \"type\": \"bar\", \"marker\": {\"line\": {\"width\": 1, \"color\": \"rgba(226, 74, 51, 1.0)\"}, \"color\": \"rgba(226, 74, 51, 0.6)\"}, \"y\": [32, 43, 50]}], {\"legend\": {\"font\": {\"color\": \"#666666\"}, \"bgcolor\": \"#FFFFFF\"}, \"titlefont\": {\"color\": \"#151516\"}, \"xaxis1\": {\"titlefont\": {\"color\": \"#666666\"}, \"zerolinecolor\": \"#F6F6F6\", \"title\": \"\", \"tickfont\": {\"color\": \"#666666\"}, \"showgrid\": true, \"gridcolor\": \"#F6F6F6\"}, \"paper_bgcolor\": \"#FFFFFF\", \"plot_bgcolor\": \"#E5E5E5\", \"yaxis1\": {\"titlefont\": {\"color\": \"#666666\"}, \"zerolinecolor\": \"#F6F6F6\", \"title\": \"\", \"tickfont\": {\"color\": \"#666666\"}, \"showgrid\": true, \"gridcolor\": \"#F6F6F6\"}}, {\"showLink\": true, \"linkText\": \"Export to plot.ly\"})});</script>"
      ],
      "text/plain": [
       "<IPython.core.display.HTML object>"
      ]
     },
     "metadata": {},
     "output_type": "display_data"
    }
   ],
   "source": [
    "df2.iplot(kind='bar',x='Category',y='Values')"
   ]
  },
  {
   "cell_type": "code",
   "execution_count": 25,
   "metadata": {},
   "outputs": [
    {
     "data": {
      "application/vnd.plotly.v1+json": {
       "config": {
        "linkText": "Export to plot.ly",
        "plotlyServerURL": "https://plot.ly",
        "showLink": true
       },
       "data": [
        {
         "marker": {
          "color": "rgba(255, 153, 51, 0.6)",
          "line": {
           "color": "rgba(255, 153, 51, 1.0)",
           "width": 1
          }
         },
         "name": "None",
         "orientation": "v",
         "text": "",
         "type": "bar",
         "x": [
          "A",
          "B",
          "C",
          "D"
         ],
         "y": [
          100,
          100,
          100,
          100
         ]
        }
       ],
       "layout": {
        "legend": {
         "bgcolor": "#F5F6F9",
         "font": {
          "color": "#4D5663"
         }
        },
        "paper_bgcolor": "#F5F6F9",
        "plot_bgcolor": "#F5F6F9",
        "template": {
         "data": {
          "bar": [
           {
            "error_x": {
             "color": "#2a3f5f"
            },
            "error_y": {
             "color": "#2a3f5f"
            },
            "marker": {
             "line": {
              "color": "#E5ECF6",
              "width": 0.5
             },
             "pattern": {
              "fillmode": "overlay",
              "size": 10,
              "solidity": 0.2
             }
            },
            "type": "bar"
           }
          ],
          "barpolar": [
           {
            "marker": {
             "line": {
              "color": "#E5ECF6",
              "width": 0.5
             },
             "pattern": {
              "fillmode": "overlay",
              "size": 10,
              "solidity": 0.2
             }
            },
            "type": "barpolar"
           }
          ],
          "carpet": [
           {
            "aaxis": {
             "endlinecolor": "#2a3f5f",
             "gridcolor": "white",
             "linecolor": "white",
             "minorgridcolor": "white",
             "startlinecolor": "#2a3f5f"
            },
            "baxis": {
             "endlinecolor": "#2a3f5f",
             "gridcolor": "white",
             "linecolor": "white",
             "minorgridcolor": "white",
             "startlinecolor": "#2a3f5f"
            },
            "type": "carpet"
           }
          ],
          "choropleth": [
           {
            "colorbar": {
             "outlinewidth": 0,
             "ticks": ""
            },
            "type": "choropleth"
           }
          ],
          "contour": [
           {
            "colorbar": {
             "outlinewidth": 0,
             "ticks": ""
            },
            "colorscale": [
             [
              0,
              "#0d0887"
             ],
             [
              0.1111111111111111,
              "#46039f"
             ],
             [
              0.2222222222222222,
              "#7201a8"
             ],
             [
              0.3333333333333333,
              "#9c179e"
             ],
             [
              0.4444444444444444,
              "#bd3786"
             ],
             [
              0.5555555555555556,
              "#d8576b"
             ],
             [
              0.6666666666666666,
              "#ed7953"
             ],
             [
              0.7777777777777778,
              "#fb9f3a"
             ],
             [
              0.8888888888888888,
              "#fdca26"
             ],
             [
              1,
              "#f0f921"
             ]
            ],
            "type": "contour"
           }
          ],
          "contourcarpet": [
           {
            "colorbar": {
             "outlinewidth": 0,
             "ticks": ""
            },
            "type": "contourcarpet"
           }
          ],
          "heatmap": [
           {
            "colorbar": {
             "outlinewidth": 0,
             "ticks": ""
            },
            "colorscale": [
             [
              0,
              "#0d0887"
             ],
             [
              0.1111111111111111,
              "#46039f"
             ],
             [
              0.2222222222222222,
              "#7201a8"
             ],
             [
              0.3333333333333333,
              "#9c179e"
             ],
             [
              0.4444444444444444,
              "#bd3786"
             ],
             [
              0.5555555555555556,
              "#d8576b"
             ],
             [
              0.6666666666666666,
              "#ed7953"
             ],
             [
              0.7777777777777778,
              "#fb9f3a"
             ],
             [
              0.8888888888888888,
              "#fdca26"
             ],
             [
              1,
              "#f0f921"
             ]
            ],
            "type": "heatmap"
           }
          ],
          "heatmapgl": [
           {
            "colorbar": {
             "outlinewidth": 0,
             "ticks": ""
            },
            "colorscale": [
             [
              0,
              "#0d0887"
             ],
             [
              0.1111111111111111,
              "#46039f"
             ],
             [
              0.2222222222222222,
              "#7201a8"
             ],
             [
              0.3333333333333333,
              "#9c179e"
             ],
             [
              0.4444444444444444,
              "#bd3786"
             ],
             [
              0.5555555555555556,
              "#d8576b"
             ],
             [
              0.6666666666666666,
              "#ed7953"
             ],
             [
              0.7777777777777778,
              "#fb9f3a"
             ],
             [
              0.8888888888888888,
              "#fdca26"
             ],
             [
              1,
              "#f0f921"
             ]
            ],
            "type": "heatmapgl"
           }
          ],
          "histogram": [
           {
            "marker": {
             "pattern": {
              "fillmode": "overlay",
              "size": 10,
              "solidity": 0.2
             }
            },
            "type": "histogram"
           }
          ],
          "histogram2d": [
           {
            "colorbar": {
             "outlinewidth": 0,
             "ticks": ""
            },
            "colorscale": [
             [
              0,
              "#0d0887"
             ],
             [
              0.1111111111111111,
              "#46039f"
             ],
             [
              0.2222222222222222,
              "#7201a8"
             ],
             [
              0.3333333333333333,
              "#9c179e"
             ],
             [
              0.4444444444444444,
              "#bd3786"
             ],
             [
              0.5555555555555556,
              "#d8576b"
             ],
             [
              0.6666666666666666,
              "#ed7953"
             ],
             [
              0.7777777777777778,
              "#fb9f3a"
             ],
             [
              0.8888888888888888,
              "#fdca26"
             ],
             [
              1,
              "#f0f921"
             ]
            ],
            "type": "histogram2d"
           }
          ],
          "histogram2dcontour": [
           {
            "colorbar": {
             "outlinewidth": 0,
             "ticks": ""
            },
            "colorscale": [
             [
              0,
              "#0d0887"
             ],
             [
              0.1111111111111111,
              "#46039f"
             ],
             [
              0.2222222222222222,
              "#7201a8"
             ],
             [
              0.3333333333333333,
              "#9c179e"
             ],
             [
              0.4444444444444444,
              "#bd3786"
             ],
             [
              0.5555555555555556,
              "#d8576b"
             ],
             [
              0.6666666666666666,
              "#ed7953"
             ],
             [
              0.7777777777777778,
              "#fb9f3a"
             ],
             [
              0.8888888888888888,
              "#fdca26"
             ],
             [
              1,
              "#f0f921"
             ]
            ],
            "type": "histogram2dcontour"
           }
          ],
          "mesh3d": [
           {
            "colorbar": {
             "outlinewidth": 0,
             "ticks": ""
            },
            "type": "mesh3d"
           }
          ],
          "parcoords": [
           {
            "line": {
             "colorbar": {
              "outlinewidth": 0,
              "ticks": ""
             }
            },
            "type": "parcoords"
           }
          ],
          "pie": [
           {
            "automargin": true,
            "type": "pie"
           }
          ],
          "scatter": [
           {
            "marker": {
             "colorbar": {
              "outlinewidth": 0,
              "ticks": ""
             }
            },
            "type": "scatter"
           }
          ],
          "scatter3d": [
           {
            "line": {
             "colorbar": {
              "outlinewidth": 0,
              "ticks": ""
             }
            },
            "marker": {
             "colorbar": {
              "outlinewidth": 0,
              "ticks": ""
             }
            },
            "type": "scatter3d"
           }
          ],
          "scattercarpet": [
           {
            "marker": {
             "colorbar": {
              "outlinewidth": 0,
              "ticks": ""
             }
            },
            "type": "scattercarpet"
           }
          ],
          "scattergeo": [
           {
            "marker": {
             "colorbar": {
              "outlinewidth": 0,
              "ticks": ""
             }
            },
            "type": "scattergeo"
           }
          ],
          "scattergl": [
           {
            "marker": {
             "colorbar": {
              "outlinewidth": 0,
              "ticks": ""
             }
            },
            "type": "scattergl"
           }
          ],
          "scattermapbox": [
           {
            "marker": {
             "colorbar": {
              "outlinewidth": 0,
              "ticks": ""
             }
            },
            "type": "scattermapbox"
           }
          ],
          "scatterpolar": [
           {
            "marker": {
             "colorbar": {
              "outlinewidth": 0,
              "ticks": ""
             }
            },
            "type": "scatterpolar"
           }
          ],
          "scatterpolargl": [
           {
            "marker": {
             "colorbar": {
              "outlinewidth": 0,
              "ticks": ""
             }
            },
            "type": "scatterpolargl"
           }
          ],
          "scatterternary": [
           {
            "marker": {
             "colorbar": {
              "outlinewidth": 0,
              "ticks": ""
             }
            },
            "type": "scatterternary"
           }
          ],
          "surface": [
           {
            "colorbar": {
             "outlinewidth": 0,
             "ticks": ""
            },
            "colorscale": [
             [
              0,
              "#0d0887"
             ],
             [
              0.1111111111111111,
              "#46039f"
             ],
             [
              0.2222222222222222,
              "#7201a8"
             ],
             [
              0.3333333333333333,
              "#9c179e"
             ],
             [
              0.4444444444444444,
              "#bd3786"
             ],
             [
              0.5555555555555556,
              "#d8576b"
             ],
             [
              0.6666666666666666,
              "#ed7953"
             ],
             [
              0.7777777777777778,
              "#fb9f3a"
             ],
             [
              0.8888888888888888,
              "#fdca26"
             ],
             [
              1,
              "#f0f921"
             ]
            ],
            "type": "surface"
           }
          ],
          "table": [
           {
            "cells": {
             "fill": {
              "color": "#EBF0F8"
             },
             "line": {
              "color": "white"
             }
            },
            "header": {
             "fill": {
              "color": "#C8D4E3"
             },
             "line": {
              "color": "white"
             }
            },
            "type": "table"
           }
          ]
         },
         "layout": {
          "annotationdefaults": {
           "arrowcolor": "#2a3f5f",
           "arrowhead": 0,
           "arrowwidth": 1
          },
          "autotypenumbers": "strict",
          "coloraxis": {
           "colorbar": {
            "outlinewidth": 0,
            "ticks": ""
           }
          },
          "colorscale": {
           "diverging": [
            [
             0,
             "#8e0152"
            ],
            [
             0.1,
             "#c51b7d"
            ],
            [
             0.2,
             "#de77ae"
            ],
            [
             0.3,
             "#f1b6da"
            ],
            [
             0.4,
             "#fde0ef"
            ],
            [
             0.5,
             "#f7f7f7"
            ],
            [
             0.6,
             "#e6f5d0"
            ],
            [
             0.7,
             "#b8e186"
            ],
            [
             0.8,
             "#7fbc41"
            ],
            [
             0.9,
             "#4d9221"
            ],
            [
             1,
             "#276419"
            ]
           ],
           "sequential": [
            [
             0,
             "#0d0887"
            ],
            [
             0.1111111111111111,
             "#46039f"
            ],
            [
             0.2222222222222222,
             "#7201a8"
            ],
            [
             0.3333333333333333,
             "#9c179e"
            ],
            [
             0.4444444444444444,
             "#bd3786"
            ],
            [
             0.5555555555555556,
             "#d8576b"
            ],
            [
             0.6666666666666666,
             "#ed7953"
            ],
            [
             0.7777777777777778,
             "#fb9f3a"
            ],
            [
             0.8888888888888888,
             "#fdca26"
            ],
            [
             1,
             "#f0f921"
            ]
           ],
           "sequentialminus": [
            [
             0,
             "#0d0887"
            ],
            [
             0.1111111111111111,
             "#46039f"
            ],
            [
             0.2222222222222222,
             "#7201a8"
            ],
            [
             0.3333333333333333,
             "#9c179e"
            ],
            [
             0.4444444444444444,
             "#bd3786"
            ],
            [
             0.5555555555555556,
             "#d8576b"
            ],
            [
             0.6666666666666666,
             "#ed7953"
            ],
            [
             0.7777777777777778,
             "#fb9f3a"
            ],
            [
             0.8888888888888888,
             "#fdca26"
            ],
            [
             1,
             "#f0f921"
            ]
           ]
          },
          "colorway": [
           "#636efa",
           "#EF553B",
           "#00cc96",
           "#ab63fa",
           "#FFA15A",
           "#19d3f3",
           "#FF6692",
           "#B6E880",
           "#FF97FF",
           "#FECB52"
          ],
          "font": {
           "color": "#2a3f5f"
          },
          "geo": {
           "bgcolor": "white",
           "lakecolor": "white",
           "landcolor": "#E5ECF6",
           "showlakes": true,
           "showland": true,
           "subunitcolor": "white"
          },
          "hoverlabel": {
           "align": "left"
          },
          "hovermode": "closest",
          "mapbox": {
           "style": "light"
          },
          "paper_bgcolor": "white",
          "plot_bgcolor": "#E5ECF6",
          "polar": {
           "angularaxis": {
            "gridcolor": "white",
            "linecolor": "white",
            "ticks": ""
           },
           "bgcolor": "#E5ECF6",
           "radialaxis": {
            "gridcolor": "white",
            "linecolor": "white",
            "ticks": ""
           }
          },
          "scene": {
           "xaxis": {
            "backgroundcolor": "#E5ECF6",
            "gridcolor": "white",
            "gridwidth": 2,
            "linecolor": "white",
            "showbackground": true,
            "ticks": "",
            "zerolinecolor": "white"
           },
           "yaxis": {
            "backgroundcolor": "#E5ECF6",
            "gridcolor": "white",
            "gridwidth": 2,
            "linecolor": "white",
            "showbackground": true,
            "ticks": "",
            "zerolinecolor": "white"
           },
           "zaxis": {
            "backgroundcolor": "#E5ECF6",
            "gridcolor": "white",
            "gridwidth": 2,
            "linecolor": "white",
            "showbackground": true,
            "ticks": "",
            "zerolinecolor": "white"
           }
          },
          "shapedefaults": {
           "line": {
            "color": "#2a3f5f"
           }
          },
          "ternary": {
           "aaxis": {
            "gridcolor": "white",
            "linecolor": "white",
            "ticks": ""
           },
           "baxis": {
            "gridcolor": "white",
            "linecolor": "white",
            "ticks": ""
           },
           "bgcolor": "#E5ECF6",
           "caxis": {
            "gridcolor": "white",
            "linecolor": "white",
            "ticks": ""
           }
          },
          "title": {
           "x": 0.05
          },
          "xaxis": {
           "automargin": true,
           "gridcolor": "white",
           "linecolor": "white",
           "ticks": "",
           "title": {
            "standoff": 15
           },
           "zerolinecolor": "white",
           "zerolinewidth": 2
          },
          "yaxis": {
           "automargin": true,
           "gridcolor": "white",
           "linecolor": "white",
           "ticks": "",
           "title": {
            "standoff": 15
           },
           "zerolinecolor": "white",
           "zerolinewidth": 2
          }
         }
        },
        "title": {
         "font": {
          "color": "#4D5663"
         }
        },
        "xaxis": {
         "gridcolor": "#E1E5ED",
         "showgrid": true,
         "tickfont": {
          "color": "#4D5663"
         },
         "title": {
          "font": {
           "color": "#4D5663"
          },
          "text": ""
         },
         "zerolinecolor": "#E1E5ED"
        },
        "yaxis": {
         "gridcolor": "#E1E5ED",
         "showgrid": true,
         "tickfont": {
          "color": "#4D5663"
         },
         "title": {
          "font": {
           "color": "#4D5663"
          },
          "text": ""
         },
         "zerolinecolor": "#E1E5ED"
        }
       }
      },
      "text/html": [
       "<div>                            <div id=\"2eac8b0c-95c3-4b32-85c6-5f3c34d12e0d\" class=\"plotly-graph-div\" style=\"height:525px; width:100%;\"></div>            <script type=\"text/javascript\">                require([\"plotly\"], function(Plotly) {                    window.PLOTLYENV=window.PLOTLYENV || {};\n",
       "                    window.PLOTLYENV.BASE_URL='https://plot.ly';                                    if (document.getElementById(\"2eac8b0c-95c3-4b32-85c6-5f3c34d12e0d\")) {                    Plotly.newPlot(                        \"2eac8b0c-95c3-4b32-85c6-5f3c34d12e0d\",                        [{\"marker\":{\"color\":\"rgba(255, 153, 51, 0.6)\",\"line\":{\"color\":\"rgba(255, 153, 51, 1.0)\",\"width\":1}},\"name\":\"None\",\"orientation\":\"v\",\"text\":\"\",\"x\":[\"A\",\"B\",\"C\",\"D\"],\"y\":[100,100,100,100],\"type\":\"bar\"}],                        {\"legend\":{\"bgcolor\":\"#F5F6F9\",\"font\":{\"color\":\"#4D5663\"}},\"paper_bgcolor\":\"#F5F6F9\",\"plot_bgcolor\":\"#F5F6F9\",\"template\":{\"data\":{\"barpolar\":[{\"marker\":{\"line\":{\"color\":\"#E5ECF6\",\"width\":0.5},\"pattern\":{\"fillmode\":\"overlay\",\"size\":10,\"solidity\":0.2}},\"type\":\"barpolar\"}],\"bar\":[{\"error_x\":{\"color\":\"#2a3f5f\"},\"error_y\":{\"color\":\"#2a3f5f\"},\"marker\":{\"line\":{\"color\":\"#E5ECF6\",\"width\":0.5},\"pattern\":{\"fillmode\":\"overlay\",\"size\":10,\"solidity\":0.2}},\"type\":\"bar\"}],\"carpet\":[{\"aaxis\":{\"endlinecolor\":\"#2a3f5f\",\"gridcolor\":\"white\",\"linecolor\":\"white\",\"minorgridcolor\":\"white\",\"startlinecolor\":\"#2a3f5f\"},\"baxis\":{\"endlinecolor\":\"#2a3f5f\",\"gridcolor\":\"white\",\"linecolor\":\"white\",\"minorgridcolor\":\"white\",\"startlinecolor\":\"#2a3f5f\"},\"type\":\"carpet\"}],\"choropleth\":[{\"colorbar\":{\"outlinewidth\":0,\"ticks\":\"\"},\"type\":\"choropleth\"}],\"contourcarpet\":[{\"colorbar\":{\"outlinewidth\":0,\"ticks\":\"\"},\"type\":\"contourcarpet\"}],\"contour\":[{\"colorbar\":{\"outlinewidth\":0,\"ticks\":\"\"},\"colorscale\":[[0.0,\"#0d0887\"],[0.1111111111111111,\"#46039f\"],[0.2222222222222222,\"#7201a8\"],[0.3333333333333333,\"#9c179e\"],[0.4444444444444444,\"#bd3786\"],[0.5555555555555556,\"#d8576b\"],[0.6666666666666666,\"#ed7953\"],[0.7777777777777778,\"#fb9f3a\"],[0.8888888888888888,\"#fdca26\"],[1.0,\"#f0f921\"]],\"type\":\"contour\"}],\"heatmapgl\":[{\"colorbar\":{\"outlinewidth\":0,\"ticks\":\"\"},\"colorscale\":[[0.0,\"#0d0887\"],[0.1111111111111111,\"#46039f\"],[0.2222222222222222,\"#7201a8\"],[0.3333333333333333,\"#9c179e\"],[0.4444444444444444,\"#bd3786\"],[0.5555555555555556,\"#d8576b\"],[0.6666666666666666,\"#ed7953\"],[0.7777777777777778,\"#fb9f3a\"],[0.8888888888888888,\"#fdca26\"],[1.0,\"#f0f921\"]],\"type\":\"heatmapgl\"}],\"heatmap\":[{\"colorbar\":{\"outlinewidth\":0,\"ticks\":\"\"},\"colorscale\":[[0.0,\"#0d0887\"],[0.1111111111111111,\"#46039f\"],[0.2222222222222222,\"#7201a8\"],[0.3333333333333333,\"#9c179e\"],[0.4444444444444444,\"#bd3786\"],[0.5555555555555556,\"#d8576b\"],[0.6666666666666666,\"#ed7953\"],[0.7777777777777778,\"#fb9f3a\"],[0.8888888888888888,\"#fdca26\"],[1.0,\"#f0f921\"]],\"type\":\"heatmap\"}],\"histogram2dcontour\":[{\"colorbar\":{\"outlinewidth\":0,\"ticks\":\"\"},\"colorscale\":[[0.0,\"#0d0887\"],[0.1111111111111111,\"#46039f\"],[0.2222222222222222,\"#7201a8\"],[0.3333333333333333,\"#9c179e\"],[0.4444444444444444,\"#bd3786\"],[0.5555555555555556,\"#d8576b\"],[0.6666666666666666,\"#ed7953\"],[0.7777777777777778,\"#fb9f3a\"],[0.8888888888888888,\"#fdca26\"],[1.0,\"#f0f921\"]],\"type\":\"histogram2dcontour\"}],\"histogram2d\":[{\"colorbar\":{\"outlinewidth\":0,\"ticks\":\"\"},\"colorscale\":[[0.0,\"#0d0887\"],[0.1111111111111111,\"#46039f\"],[0.2222222222222222,\"#7201a8\"],[0.3333333333333333,\"#9c179e\"],[0.4444444444444444,\"#bd3786\"],[0.5555555555555556,\"#d8576b\"],[0.6666666666666666,\"#ed7953\"],[0.7777777777777778,\"#fb9f3a\"],[0.8888888888888888,\"#fdca26\"],[1.0,\"#f0f921\"]],\"type\":\"histogram2d\"}],\"histogram\":[{\"marker\":{\"pattern\":{\"fillmode\":\"overlay\",\"size\":10,\"solidity\":0.2}},\"type\":\"histogram\"}],\"mesh3d\":[{\"colorbar\":{\"outlinewidth\":0,\"ticks\":\"\"},\"type\":\"mesh3d\"}],\"parcoords\":[{\"line\":{\"colorbar\":{\"outlinewidth\":0,\"ticks\":\"\"}},\"type\":\"parcoords\"}],\"pie\":[{\"automargin\":true,\"type\":\"pie\"}],\"scatter3d\":[{\"line\":{\"colorbar\":{\"outlinewidth\":0,\"ticks\":\"\"}},\"marker\":{\"colorbar\":{\"outlinewidth\":0,\"ticks\":\"\"}},\"type\":\"scatter3d\"}],\"scattercarpet\":[{\"marker\":{\"colorbar\":{\"outlinewidth\":0,\"ticks\":\"\"}},\"type\":\"scattercarpet\"}],\"scattergeo\":[{\"marker\":{\"colorbar\":{\"outlinewidth\":0,\"ticks\":\"\"}},\"type\":\"scattergeo\"}],\"scattergl\":[{\"marker\":{\"colorbar\":{\"outlinewidth\":0,\"ticks\":\"\"}},\"type\":\"scattergl\"}],\"scattermapbox\":[{\"marker\":{\"colorbar\":{\"outlinewidth\":0,\"ticks\":\"\"}},\"type\":\"scattermapbox\"}],\"scatterpolargl\":[{\"marker\":{\"colorbar\":{\"outlinewidth\":0,\"ticks\":\"\"}},\"type\":\"scatterpolargl\"}],\"scatterpolar\":[{\"marker\":{\"colorbar\":{\"outlinewidth\":0,\"ticks\":\"\"}},\"type\":\"scatterpolar\"}],\"scatter\":[{\"marker\":{\"colorbar\":{\"outlinewidth\":0,\"ticks\":\"\"}},\"type\":\"scatter\"}],\"scatterternary\":[{\"marker\":{\"colorbar\":{\"outlinewidth\":0,\"ticks\":\"\"}},\"type\":\"scatterternary\"}],\"surface\":[{\"colorbar\":{\"outlinewidth\":0,\"ticks\":\"\"},\"colorscale\":[[0.0,\"#0d0887\"],[0.1111111111111111,\"#46039f\"],[0.2222222222222222,\"#7201a8\"],[0.3333333333333333,\"#9c179e\"],[0.4444444444444444,\"#bd3786\"],[0.5555555555555556,\"#d8576b\"],[0.6666666666666666,\"#ed7953\"],[0.7777777777777778,\"#fb9f3a\"],[0.8888888888888888,\"#fdca26\"],[1.0,\"#f0f921\"]],\"type\":\"surface\"}],\"table\":[{\"cells\":{\"fill\":{\"color\":\"#EBF0F8\"},\"line\":{\"color\":\"white\"}},\"header\":{\"fill\":{\"color\":\"#C8D4E3\"},\"line\":{\"color\":\"white\"}},\"type\":\"table\"}]},\"layout\":{\"annotationdefaults\":{\"arrowcolor\":\"#2a3f5f\",\"arrowhead\":0,\"arrowwidth\":1},\"autotypenumbers\":\"strict\",\"coloraxis\":{\"colorbar\":{\"outlinewidth\":0,\"ticks\":\"\"}},\"colorscale\":{\"diverging\":[[0,\"#8e0152\"],[0.1,\"#c51b7d\"],[0.2,\"#de77ae\"],[0.3,\"#f1b6da\"],[0.4,\"#fde0ef\"],[0.5,\"#f7f7f7\"],[0.6,\"#e6f5d0\"],[0.7,\"#b8e186\"],[0.8,\"#7fbc41\"],[0.9,\"#4d9221\"],[1,\"#276419\"]],\"sequential\":[[0.0,\"#0d0887\"],[0.1111111111111111,\"#46039f\"],[0.2222222222222222,\"#7201a8\"],[0.3333333333333333,\"#9c179e\"],[0.4444444444444444,\"#bd3786\"],[0.5555555555555556,\"#d8576b\"],[0.6666666666666666,\"#ed7953\"],[0.7777777777777778,\"#fb9f3a\"],[0.8888888888888888,\"#fdca26\"],[1.0,\"#f0f921\"]],\"sequentialminus\":[[0.0,\"#0d0887\"],[0.1111111111111111,\"#46039f\"],[0.2222222222222222,\"#7201a8\"],[0.3333333333333333,\"#9c179e\"],[0.4444444444444444,\"#bd3786\"],[0.5555555555555556,\"#d8576b\"],[0.6666666666666666,\"#ed7953\"],[0.7777777777777778,\"#fb9f3a\"],[0.8888888888888888,\"#fdca26\"],[1.0,\"#f0f921\"]]},\"colorway\":[\"#636efa\",\"#EF553B\",\"#00cc96\",\"#ab63fa\",\"#FFA15A\",\"#19d3f3\",\"#FF6692\",\"#B6E880\",\"#FF97FF\",\"#FECB52\"],\"font\":{\"color\":\"#2a3f5f\"},\"geo\":{\"bgcolor\":\"white\",\"lakecolor\":\"white\",\"landcolor\":\"#E5ECF6\",\"showlakes\":true,\"showland\":true,\"subunitcolor\":\"white\"},\"hoverlabel\":{\"align\":\"left\"},\"hovermode\":\"closest\",\"mapbox\":{\"style\":\"light\"},\"paper_bgcolor\":\"white\",\"plot_bgcolor\":\"#E5ECF6\",\"polar\":{\"angularaxis\":{\"gridcolor\":\"white\",\"linecolor\":\"white\",\"ticks\":\"\"},\"bgcolor\":\"#E5ECF6\",\"radialaxis\":{\"gridcolor\":\"white\",\"linecolor\":\"white\",\"ticks\":\"\"}},\"scene\":{\"xaxis\":{\"backgroundcolor\":\"#E5ECF6\",\"gridcolor\":\"white\",\"gridwidth\":2,\"linecolor\":\"white\",\"showbackground\":true,\"ticks\":\"\",\"zerolinecolor\":\"white\"},\"yaxis\":{\"backgroundcolor\":\"#E5ECF6\",\"gridcolor\":\"white\",\"gridwidth\":2,\"linecolor\":\"white\",\"showbackground\":true,\"ticks\":\"\",\"zerolinecolor\":\"white\"},\"zaxis\":{\"backgroundcolor\":\"#E5ECF6\",\"gridcolor\":\"white\",\"gridwidth\":2,\"linecolor\":\"white\",\"showbackground\":true,\"ticks\":\"\",\"zerolinecolor\":\"white\"}},\"shapedefaults\":{\"line\":{\"color\":\"#2a3f5f\"}},\"ternary\":{\"aaxis\":{\"gridcolor\":\"white\",\"linecolor\":\"white\",\"ticks\":\"\"},\"baxis\":{\"gridcolor\":\"white\",\"linecolor\":\"white\",\"ticks\":\"\"},\"bgcolor\":\"#E5ECF6\",\"caxis\":{\"gridcolor\":\"white\",\"linecolor\":\"white\",\"ticks\":\"\"}},\"title\":{\"x\":0.05},\"xaxis\":{\"automargin\":true,\"gridcolor\":\"white\",\"linecolor\":\"white\",\"ticks\":\"\",\"title\":{\"standoff\":15},\"zerolinecolor\":\"white\",\"zerolinewidth\":2},\"yaxis\":{\"automargin\":true,\"gridcolor\":\"white\",\"linecolor\":\"white\",\"ticks\":\"\",\"title\":{\"standoff\":15},\"zerolinecolor\":\"white\",\"zerolinewidth\":2}}},\"title\":{\"font\":{\"color\":\"#4D5663\"}},\"xaxis\":{\"gridcolor\":\"#E1E5ED\",\"showgrid\":true,\"tickfont\":{\"color\":\"#4D5663\"},\"title\":{\"font\":{\"color\":\"#4D5663\"},\"text\":\"\"},\"zerolinecolor\":\"#E1E5ED\"},\"yaxis\":{\"gridcolor\":\"#E1E5ED\",\"showgrid\":true,\"tickfont\":{\"color\":\"#4D5663\"},\"title\":{\"font\":{\"color\":\"#4D5663\"},\"text\":\"\"},\"zerolinecolor\":\"#E1E5ED\"}},                        {\"showLink\": true, \"linkText\": \"Export to plot.ly\", \"plotlyServerURL\": \"https://plot.ly\", \"responsive\": true}                    ).then(function(){\n",
       "                            \n",
       "var gd = document.getElementById('2eac8b0c-95c3-4b32-85c6-5f3c34d12e0d');\n",
       "var x = new MutationObserver(function (mutations, observer) {{\n",
       "        var display = window.getComputedStyle(gd).display;\n",
       "        if (!display || display === 'none') {{\n",
       "            console.log([gd, 'removed!']);\n",
       "            Plotly.purge(gd);\n",
       "            observer.disconnect();\n",
       "        }}\n",
       "}});\n",
       "\n",
       "// Listen for the removal of the full notebook cells\n",
       "var notebookContainer = gd.closest('#notebook-container');\n",
       "if (notebookContainer) {{\n",
       "    x.observe(notebookContainer, {childList: true});\n",
       "}}\n",
       "\n",
       "// Listen for the clearing of the current output cell\n",
       "var outputEl = gd.closest('.output');\n",
       "if (outputEl) {{\n",
       "    x.observe(outputEl, {childList: true});\n",
       "}}\n",
       "\n",
       "                        })                };                });            </script>        </div>"
      ]
     },
     "metadata": {},
     "output_type": "display_data"
    }
   ],
   "source": [
    "df.count().iplot(kind='bar')"
   ]
  },
  {
   "cell_type": "code",
   "execution_count": null,
   "metadata": {},
   "outputs": [],
   "source": []
  },
  {
   "cell_type": "markdown",
   "metadata": {},
   "source": [
    "## Boxplots"
   ]
  },
  {
   "cell_type": "code",
   "execution_count": 24,
   "metadata": {},
   "outputs": [
    {
     "data": {
      "application/vnd.plotly.v1+json": {
       "config": {
        "linkText": "Export to plot.ly",
        "plotlyServerURL": "https://plot.ly",
        "showLink": true
       },
       "data": [
        {
         "boxpoints": false,
         "line": {
          "width": 1.3
         },
         "marker": {
          "color": "rgba(255, 153, 51, 1.0)"
         },
         "name": "A",
         "orientation": "v",
         "type": "box",
         "y": [
          0.04069591197739794,
          -1.5387534862825873,
          -0.37054138227832717,
          0.42226759931628843,
          0.3126115498148938,
          0.8490945987665685,
          0.32657941317006145,
          -0.49107061022674736,
          -2.1507284205628596,
          -0.24408786953956163,
          -0.6520390343561558,
          -0.5252670649155886,
          -0.6648895358403708,
          -0.5337196496902474,
          2.5411528745491845,
          0.2721785495038353,
          0.3139632084051519,
          -0.5035017349764002,
          -0.6295298431031526,
          -0.9967697705581974,
          -0.3010684232864244,
          0.6526617395566436,
          0.6907035696708207,
          -0.29469416900060214,
          1.1535301811355754,
          -1.0100015678978271,
          -0.12069661348651797,
          0.8054776442724979,
          0.8389775988783994,
          0.7242360206836844,
          0.9947539832929825,
          -1.0297374004329243,
          1.273616985140703,
          0.0385151859114759,
          0.8766328063292678,
          0.596186279085301,
          -0.2676827420402636,
          1.6188897257768609,
          -0.5896403663629634,
          0.18206868764406353,
          0.3883297472018753,
          0.23541068732887283,
          -1.4667899496388717,
          0.22401979434166064,
          -0.24920165254461157,
          0.5864379214604486,
          -1.7867426348719786,
          -0.2388326424614991,
          -0.20700690841934505,
          -1.7418204632698755,
          -0.4975267325235522,
          -0.4383857315299486,
          -0.023908325805154496,
          -1.0099213450430722,
          1.3151743319977625,
          2.164235305837594,
          -1.559781794551808,
          0.15948892175662965,
          0.5369468612262032,
          0.3034419209406845,
          -0.8190508980320342,
          1.0613854718635283,
          -2.703085539999277,
          0.5993190210185522,
          -0.9769014482176318,
          1.677907800787111,
          -0.037964248402260675,
          0.4670173507050114,
          -0.019662592262844062,
          -0.568296779760827,
          0.04060896866941458,
          -1.209244924940564,
          -0.3209018867296929,
          2.4149477205376115,
          -0.25490330030542974,
          1.1797721447905096,
          0.8421878895000109,
          1.745102272056137,
          -1.071361491881029,
          -0.45008076881205805,
          0.42161710288352783,
          -1.7093741336754915,
          0.08909834069035083,
          0.29993713511028813,
          1.018646413711966,
          -0.6880074411425571,
          0.3452603917017754,
          0.2487633064244093,
          0.21135195131935697,
          0.33047551702590044,
          -0.43227148671025234,
          -0.2937569887054107,
          1.4680107137436962,
          0.19817518709820703,
          -0.08239264069950791,
          -1.5739263364676956,
          -0.5863039056329027,
          -0.0634286623026407,
          -0.5916518804306173,
          -0.12187591316350242
         ]
        },
        {
         "boxpoints": false,
         "line": {
          "width": 1.3
         },
         "marker": {
          "color": "rgba(55, 128, 191, 1.0)"
         },
         "name": "B",
         "orientation": "v",
         "type": "box",
         "y": [
          0.995826467880346,
          -0.7369617224098037,
          0.37127384864429896,
          1.4973374656255485,
          -0.5136756334794229,
          -0.16912706548129708,
          -2.0136478401254956,
          0.6590292067347793,
          0.5281735423979428,
          -0.22596764617781726,
          0.8179265840659411,
          -0.7675078258062362,
          1.5557993453415198,
          1.1764532616325682,
          0.48410024097701665,
          0.7245640901748778,
          -0.1743255957392895,
          0.12398933128539748,
          0.7714456731235291,
          0.4057913540833407,
          1.186256289895277,
          -0.02105445729321405,
          -0.08094294955411512,
          0.2334964169726154,
          -1.8516069705667002,
          0.730782588490572,
          -0.7489429321852894,
          0.2560040303932152,
          0.7382717289609817,
          -0.9038563922535384,
          -0.14304968680136568,
          -0.7362909814018258,
          2.4014638348495625,
          -0.9026406680150731,
          2.56264403068799,
          -1.5081115882613203,
          -0.8431226423071239,
          -0.13073570393892617,
          0.8996129861200042,
          1.1399824665465794,
          0.048426080024693695,
          0.1668940515774451,
          -0.08354431280016783,
          -0.18563155879013335,
          0.13989039833424813,
          -0.6733933082584179,
          1.6206985566519567,
          -1.20146237893275,
          -2.0022301652003573,
          -0.5543558182050398,
          -2.492083782632766,
          -2.653638610926458,
          1.0403224744840096,
          -1.2503717390785278,
          1.2484039627566348,
          -0.1815316960413127,
          -0.7612710351716687,
          -0.5500424255656814,
          0.28190325275693273,
          0.33361672883874766,
          1.0952631148175236,
          1.9310982225189801,
          -1.2124783622530837,
          -1.2862055362957667,
          -1.3330480187478047,
          0.3731780294861189,
          -0.10194186296865584,
          -0.9603560274610924,
          -2.970109852235134,
          1.1441009979146743,
          0.04271329041066948,
          -1.3752165049488514,
          0.23494443618611646,
          0.8056619087889803,
          -2.9041102254767166,
          -0.6848921718215347,
          1.594433615490069,
          -1.4615825894063526,
          -0.13199479952107832,
          -0.2149473654351705,
          0.009768856092341214,
          -0.4052730444685135,
          -0.568991920341303,
          -1.084975804825773,
          -0.2663777907791061,
          -0.4762543065114372,
          0.028773158565766913,
          -0.7850746849449068,
          -0.6945749900304474,
          0.8427544736504147,
          -0.08393240804690318,
          -1.627899725389288,
          -0.21845671984730042,
          -0.47356107511270346,
          0.4357599336028361,
          -0.70845175800104,
          1.7153318283877876,
          0.8496103465694999,
          -1.5572805557424916,
          2.0251386210861186
         ]
        },
        {
         "boxpoints": false,
         "line": {
          "width": 1.3
         },
         "marker": {
          "color": "rgba(50, 171, 96, 1.0)"
         },
         "name": "C",
         "orientation": "v",
         "type": "box",
         "y": [
          -0.09389924246810805,
          0.46693784219434303,
          1.5981105835428606,
          0.939579245061577,
          0.7353018080757163,
          0.646999790089509,
          -0.33768524482540635,
          0.8517183133690732,
          -0.3384120781905001,
          -0.3274608793784002,
          0.3611770364046952,
          -1.4324134965299424,
          -1.3423692799559948,
          0.6653145797092015,
          1.6654082381434867,
          -2.020428438095846,
          0.09521652455894322,
          -0.4203687326465551,
          0.27431514414201197,
          -0.042820910303760805,
          -1.8621475850762577,
          -0.1672421567112696,
          0.8990975423749583,
          -1.270119359829677,
          -0.5746895495068903,
          -0.31890119840212383,
          2.2781245825620626,
          -0.36013671693763616,
          0.8828486167671366,
          -0.3525176349246981,
          -1.038424938990193,
          -1.2571132847557838,
          -0.722802101739417,
          1.09652110251346,
          -0.4860419291434229,
          0.04831710062416164,
          0.6765773534698574,
          -1.8480362076705836,
          -0.45892892454316075,
          0.4285622114547675,
          -0.8266561357422507,
          -0.322348796606711,
          -0.8875048573626982,
          -1.4553460601722525,
          -0.2503900748624838,
          1.0481974368802498,
          0.12429421845735472,
          0.660838527309358,
          1.6285759733899243,
          2.320700153051851,
          -0.20727290897373735,
          -0.03537029993862725,
          0.202414319281178,
          -0.7773088877291788,
          1.2163903659622308,
          0.048352193156689226,
          0.31017736336031887,
          -0.5741650006672349,
          2.220593399617657,
          1.0426301077746036,
          0.01789033403987293,
          -0.21821945842542395,
          -0.6817997624610167,
          0.18781578841879995,
          -0.10048108951657567,
          -1.2091706254267716,
          2.100116509821881,
          1.5572668184385687,
          0.11149873271719092,
          -0.9289841087187439,
          -0.48639998626464015,
          -0.2357056005630904,
          0.1312857384290406,
          -0.6189075163619262,
          -1.517855238304068,
          -0.20063050415677747,
          -0.11154419808878213,
          -2.1543594541608555,
          0.5991817972692761,
          0.1874823907819667,
          -0.40855192884095826,
          -0.45544930558017094,
          -0.9779669239559734,
          -0.10539664895270522,
          -0.40806221877933696,
          1.3651121191971893,
          -0.6014893104206162,
          1.3156915791575803,
          -0.6587323985544884,
          -1.067454889181448,
          0.05353779844388949,
          0.050740582498669765,
          -0.3410220481473968,
          0.6939361774346295,
          0.3745983221830779,
          0.00390113269939864,
          -1.2778068397693865,
          -1.9045976637933393,
          0.23769910520867105,
          -1.2346184798868076
         ]
        },
        {
         "boxpoints": false,
         "line": {
          "width": 1.3
         },
         "marker": {
          "color": "rgba(128, 0, 128, 1.0)"
         },
         "name": "D",
         "orientation": "v",
         "type": "box",
         "y": [
          1.8536786587611707,
          0.31748701494719056,
          -1.5914137200326584,
          -1.8201446872430338,
          0.19942928864633003,
          -0.9179397030896396,
          -2.09783941616522,
          -1.500452381480773,
          0.921541813332476,
          -0.20283949702568466,
          -0.6224091041757651,
          -1.5309497626013673,
          2.3960370035120446,
          -0.798906464588825,
          2.6855530977557778,
          0.5220481471245186,
          -0.08582089303477562,
          -0.5847199205396268,
          0.3859634480227872,
          -0.4365193090897628,
          -0.8286648171246722,
          -0.08572601386447695,
          -1.3804843047424917,
          -1.0608984425490853,
          -0.6263509554355401,
          1.9859008957368793,
          -1.4489485453368747,
          0.5346258431159485,
          2.387929425784648,
          -0.3629636514626066,
          -1.606278511440651,
          -0.16083962877458965,
          1.4788501498787368,
          0.3690546302424768,
          -0.39434272594699243,
          -0.7204501129186216,
          -0.048470704701933834,
          0.3495814965023437,
          0.4434049265739363,
          -1.2219826611087121,
          -0.28550581198618147,
          -1.43564955517798,
          -1.0266421448996974,
          0.28182620745319154,
          0.650975407817685,
          -0.5523593168748906,
          -0.02826449419596439,
          0.5835488232553727,
          -0.45990628505108966,
          1.861942258383658,
          1.2247003424778167,
          -0.3926474871329264,
          -0.9872124239906978,
          0.18060257275506045,
          -3.1282202634719587,
          0.39015695867027855,
          -0.6032116714133441,
          1.5534065332882077,
          0.8076446774824714,
          -0.9466283913238981,
          0.2086053214047391,
          -1.5996173352620429,
          -0.5020738048324217,
          -0.885901490159055,
          0.435785110787616,
          -0.5052088166470903,
          -1.3757623133671353,
          -0.8472452639438817,
          -0.9119140192994585,
          0.31914466795431934,
          0.27656205648013976,
          0.7273345746414592,
          0.6274862198918303,
          -0.5336861185884401,
          -1.239705836405087,
          -0.14944745747340873,
          0.4664365322350763,
          0.576829998115034,
          1.1514488000990495,
          -0.32445430867609126,
          -0.5886129375934483,
          1.190812562297307,
          0.3207151318146256,
          -2.4099613330281167,
          0.9281084747609742,
          -1.4653632806521992,
          -1.1968090028828493,
          -0.43696814652571847,
          1.0470087389279674,
          -0.25243610009812334,
          -0.1715567422039336,
          -1.3064481634837306,
          0.31353487491155757,
          -0.906234469311814,
          -0.1554311832054045,
          0.04358606621245248,
          -1.232136715096742,
          -0.17106586593775666,
          1.3350788478359195,
          -0.6493521538932258
         ]
        }
       ],
       "layout": {
        "legend": {
         "bgcolor": "#F5F6F9",
         "font": {
          "color": "#4D5663"
         }
        },
        "paper_bgcolor": "#F5F6F9",
        "plot_bgcolor": "#F5F6F9",
        "template": {
         "data": {
          "bar": [
           {
            "error_x": {
             "color": "#2a3f5f"
            },
            "error_y": {
             "color": "#2a3f5f"
            },
            "marker": {
             "line": {
              "color": "#E5ECF6",
              "width": 0.5
             },
             "pattern": {
              "fillmode": "overlay",
              "size": 10,
              "solidity": 0.2
             }
            },
            "type": "bar"
           }
          ],
          "barpolar": [
           {
            "marker": {
             "line": {
              "color": "#E5ECF6",
              "width": 0.5
             },
             "pattern": {
              "fillmode": "overlay",
              "size": 10,
              "solidity": 0.2
             }
            },
            "type": "barpolar"
           }
          ],
          "carpet": [
           {
            "aaxis": {
             "endlinecolor": "#2a3f5f",
             "gridcolor": "white",
             "linecolor": "white",
             "minorgridcolor": "white",
             "startlinecolor": "#2a3f5f"
            },
            "baxis": {
             "endlinecolor": "#2a3f5f",
             "gridcolor": "white",
             "linecolor": "white",
             "minorgridcolor": "white",
             "startlinecolor": "#2a3f5f"
            },
            "type": "carpet"
           }
          ],
          "choropleth": [
           {
            "colorbar": {
             "outlinewidth": 0,
             "ticks": ""
            },
            "type": "choropleth"
           }
          ],
          "contour": [
           {
            "colorbar": {
             "outlinewidth": 0,
             "ticks": ""
            },
            "colorscale": [
             [
              0,
              "#0d0887"
             ],
             [
              0.1111111111111111,
              "#46039f"
             ],
             [
              0.2222222222222222,
              "#7201a8"
             ],
             [
              0.3333333333333333,
              "#9c179e"
             ],
             [
              0.4444444444444444,
              "#bd3786"
             ],
             [
              0.5555555555555556,
              "#d8576b"
             ],
             [
              0.6666666666666666,
              "#ed7953"
             ],
             [
              0.7777777777777778,
              "#fb9f3a"
             ],
             [
              0.8888888888888888,
              "#fdca26"
             ],
             [
              1,
              "#f0f921"
             ]
            ],
            "type": "contour"
           }
          ],
          "contourcarpet": [
           {
            "colorbar": {
             "outlinewidth": 0,
             "ticks": ""
            },
            "type": "contourcarpet"
           }
          ],
          "heatmap": [
           {
            "colorbar": {
             "outlinewidth": 0,
             "ticks": ""
            },
            "colorscale": [
             [
              0,
              "#0d0887"
             ],
             [
              0.1111111111111111,
              "#46039f"
             ],
             [
              0.2222222222222222,
              "#7201a8"
             ],
             [
              0.3333333333333333,
              "#9c179e"
             ],
             [
              0.4444444444444444,
              "#bd3786"
             ],
             [
              0.5555555555555556,
              "#d8576b"
             ],
             [
              0.6666666666666666,
              "#ed7953"
             ],
             [
              0.7777777777777778,
              "#fb9f3a"
             ],
             [
              0.8888888888888888,
              "#fdca26"
             ],
             [
              1,
              "#f0f921"
             ]
            ],
            "type": "heatmap"
           }
          ],
          "heatmapgl": [
           {
            "colorbar": {
             "outlinewidth": 0,
             "ticks": ""
            },
            "colorscale": [
             [
              0,
              "#0d0887"
             ],
             [
              0.1111111111111111,
              "#46039f"
             ],
             [
              0.2222222222222222,
              "#7201a8"
             ],
             [
              0.3333333333333333,
              "#9c179e"
             ],
             [
              0.4444444444444444,
              "#bd3786"
             ],
             [
              0.5555555555555556,
              "#d8576b"
             ],
             [
              0.6666666666666666,
              "#ed7953"
             ],
             [
              0.7777777777777778,
              "#fb9f3a"
             ],
             [
              0.8888888888888888,
              "#fdca26"
             ],
             [
              1,
              "#f0f921"
             ]
            ],
            "type": "heatmapgl"
           }
          ],
          "histogram": [
           {
            "marker": {
             "pattern": {
              "fillmode": "overlay",
              "size": 10,
              "solidity": 0.2
             }
            },
            "type": "histogram"
           }
          ],
          "histogram2d": [
           {
            "colorbar": {
             "outlinewidth": 0,
             "ticks": ""
            },
            "colorscale": [
             [
              0,
              "#0d0887"
             ],
             [
              0.1111111111111111,
              "#46039f"
             ],
             [
              0.2222222222222222,
              "#7201a8"
             ],
             [
              0.3333333333333333,
              "#9c179e"
             ],
             [
              0.4444444444444444,
              "#bd3786"
             ],
             [
              0.5555555555555556,
              "#d8576b"
             ],
             [
              0.6666666666666666,
              "#ed7953"
             ],
             [
              0.7777777777777778,
              "#fb9f3a"
             ],
             [
              0.8888888888888888,
              "#fdca26"
             ],
             [
              1,
              "#f0f921"
             ]
            ],
            "type": "histogram2d"
           }
          ],
          "histogram2dcontour": [
           {
            "colorbar": {
             "outlinewidth": 0,
             "ticks": ""
            },
            "colorscale": [
             [
              0,
              "#0d0887"
             ],
             [
              0.1111111111111111,
              "#46039f"
             ],
             [
              0.2222222222222222,
              "#7201a8"
             ],
             [
              0.3333333333333333,
              "#9c179e"
             ],
             [
              0.4444444444444444,
              "#bd3786"
             ],
             [
              0.5555555555555556,
              "#d8576b"
             ],
             [
              0.6666666666666666,
              "#ed7953"
             ],
             [
              0.7777777777777778,
              "#fb9f3a"
             ],
             [
              0.8888888888888888,
              "#fdca26"
             ],
             [
              1,
              "#f0f921"
             ]
            ],
            "type": "histogram2dcontour"
           }
          ],
          "mesh3d": [
           {
            "colorbar": {
             "outlinewidth": 0,
             "ticks": ""
            },
            "type": "mesh3d"
           }
          ],
          "parcoords": [
           {
            "line": {
             "colorbar": {
              "outlinewidth": 0,
              "ticks": ""
             }
            },
            "type": "parcoords"
           }
          ],
          "pie": [
           {
            "automargin": true,
            "type": "pie"
           }
          ],
          "scatter": [
           {
            "marker": {
             "colorbar": {
              "outlinewidth": 0,
              "ticks": ""
             }
            },
            "type": "scatter"
           }
          ],
          "scatter3d": [
           {
            "line": {
             "colorbar": {
              "outlinewidth": 0,
              "ticks": ""
             }
            },
            "marker": {
             "colorbar": {
              "outlinewidth": 0,
              "ticks": ""
             }
            },
            "type": "scatter3d"
           }
          ],
          "scattercarpet": [
           {
            "marker": {
             "colorbar": {
              "outlinewidth": 0,
              "ticks": ""
             }
            },
            "type": "scattercarpet"
           }
          ],
          "scattergeo": [
           {
            "marker": {
             "colorbar": {
              "outlinewidth": 0,
              "ticks": ""
             }
            },
            "type": "scattergeo"
           }
          ],
          "scattergl": [
           {
            "marker": {
             "colorbar": {
              "outlinewidth": 0,
              "ticks": ""
             }
            },
            "type": "scattergl"
           }
          ],
          "scattermapbox": [
           {
            "marker": {
             "colorbar": {
              "outlinewidth": 0,
              "ticks": ""
             }
            },
            "type": "scattermapbox"
           }
          ],
          "scatterpolar": [
           {
            "marker": {
             "colorbar": {
              "outlinewidth": 0,
              "ticks": ""
             }
            },
            "type": "scatterpolar"
           }
          ],
          "scatterpolargl": [
           {
            "marker": {
             "colorbar": {
              "outlinewidth": 0,
              "ticks": ""
             }
            },
            "type": "scatterpolargl"
           }
          ],
          "scatterternary": [
           {
            "marker": {
             "colorbar": {
              "outlinewidth": 0,
              "ticks": ""
             }
            },
            "type": "scatterternary"
           }
          ],
          "surface": [
           {
            "colorbar": {
             "outlinewidth": 0,
             "ticks": ""
            },
            "colorscale": [
             [
              0,
              "#0d0887"
             ],
             [
              0.1111111111111111,
              "#46039f"
             ],
             [
              0.2222222222222222,
              "#7201a8"
             ],
             [
              0.3333333333333333,
              "#9c179e"
             ],
             [
              0.4444444444444444,
              "#bd3786"
             ],
             [
              0.5555555555555556,
              "#d8576b"
             ],
             [
              0.6666666666666666,
              "#ed7953"
             ],
             [
              0.7777777777777778,
              "#fb9f3a"
             ],
             [
              0.8888888888888888,
              "#fdca26"
             ],
             [
              1,
              "#f0f921"
             ]
            ],
            "type": "surface"
           }
          ],
          "table": [
           {
            "cells": {
             "fill": {
              "color": "#EBF0F8"
             },
             "line": {
              "color": "white"
             }
            },
            "header": {
             "fill": {
              "color": "#C8D4E3"
             },
             "line": {
              "color": "white"
             }
            },
            "type": "table"
           }
          ]
         },
         "layout": {
          "annotationdefaults": {
           "arrowcolor": "#2a3f5f",
           "arrowhead": 0,
           "arrowwidth": 1
          },
          "autotypenumbers": "strict",
          "coloraxis": {
           "colorbar": {
            "outlinewidth": 0,
            "ticks": ""
           }
          },
          "colorscale": {
           "diverging": [
            [
             0,
             "#8e0152"
            ],
            [
             0.1,
             "#c51b7d"
            ],
            [
             0.2,
             "#de77ae"
            ],
            [
             0.3,
             "#f1b6da"
            ],
            [
             0.4,
             "#fde0ef"
            ],
            [
             0.5,
             "#f7f7f7"
            ],
            [
             0.6,
             "#e6f5d0"
            ],
            [
             0.7,
             "#b8e186"
            ],
            [
             0.8,
             "#7fbc41"
            ],
            [
             0.9,
             "#4d9221"
            ],
            [
             1,
             "#276419"
            ]
           ],
           "sequential": [
            [
             0,
             "#0d0887"
            ],
            [
             0.1111111111111111,
             "#46039f"
            ],
            [
             0.2222222222222222,
             "#7201a8"
            ],
            [
             0.3333333333333333,
             "#9c179e"
            ],
            [
             0.4444444444444444,
             "#bd3786"
            ],
            [
             0.5555555555555556,
             "#d8576b"
            ],
            [
             0.6666666666666666,
             "#ed7953"
            ],
            [
             0.7777777777777778,
             "#fb9f3a"
            ],
            [
             0.8888888888888888,
             "#fdca26"
            ],
            [
             1,
             "#f0f921"
            ]
           ],
           "sequentialminus": [
            [
             0,
             "#0d0887"
            ],
            [
             0.1111111111111111,
             "#46039f"
            ],
            [
             0.2222222222222222,
             "#7201a8"
            ],
            [
             0.3333333333333333,
             "#9c179e"
            ],
            [
             0.4444444444444444,
             "#bd3786"
            ],
            [
             0.5555555555555556,
             "#d8576b"
            ],
            [
             0.6666666666666666,
             "#ed7953"
            ],
            [
             0.7777777777777778,
             "#fb9f3a"
            ],
            [
             0.8888888888888888,
             "#fdca26"
            ],
            [
             1,
             "#f0f921"
            ]
           ]
          },
          "colorway": [
           "#636efa",
           "#EF553B",
           "#00cc96",
           "#ab63fa",
           "#FFA15A",
           "#19d3f3",
           "#FF6692",
           "#B6E880",
           "#FF97FF",
           "#FECB52"
          ],
          "font": {
           "color": "#2a3f5f"
          },
          "geo": {
           "bgcolor": "white",
           "lakecolor": "white",
           "landcolor": "#E5ECF6",
           "showlakes": true,
           "showland": true,
           "subunitcolor": "white"
          },
          "hoverlabel": {
           "align": "left"
          },
          "hovermode": "closest",
          "mapbox": {
           "style": "light"
          },
          "paper_bgcolor": "white",
          "plot_bgcolor": "#E5ECF6",
          "polar": {
           "angularaxis": {
            "gridcolor": "white",
            "linecolor": "white",
            "ticks": ""
           },
           "bgcolor": "#E5ECF6",
           "radialaxis": {
            "gridcolor": "white",
            "linecolor": "white",
            "ticks": ""
           }
          },
          "scene": {
           "xaxis": {
            "backgroundcolor": "#E5ECF6",
            "gridcolor": "white",
            "gridwidth": 2,
            "linecolor": "white",
            "showbackground": true,
            "ticks": "",
            "zerolinecolor": "white"
           },
           "yaxis": {
            "backgroundcolor": "#E5ECF6",
            "gridcolor": "white",
            "gridwidth": 2,
            "linecolor": "white",
            "showbackground": true,
            "ticks": "",
            "zerolinecolor": "white"
           },
           "zaxis": {
            "backgroundcolor": "#E5ECF6",
            "gridcolor": "white",
            "gridwidth": 2,
            "linecolor": "white",
            "showbackground": true,
            "ticks": "",
            "zerolinecolor": "white"
           }
          },
          "shapedefaults": {
           "line": {
            "color": "#2a3f5f"
           }
          },
          "ternary": {
           "aaxis": {
            "gridcolor": "white",
            "linecolor": "white",
            "ticks": ""
           },
           "baxis": {
            "gridcolor": "white",
            "linecolor": "white",
            "ticks": ""
           },
           "bgcolor": "#E5ECF6",
           "caxis": {
            "gridcolor": "white",
            "linecolor": "white",
            "ticks": ""
           }
          },
          "title": {
           "x": 0.05
          },
          "xaxis": {
           "automargin": true,
           "gridcolor": "white",
           "linecolor": "white",
           "ticks": "",
           "title": {
            "standoff": 15
           },
           "zerolinecolor": "white",
           "zerolinewidth": 2
          },
          "yaxis": {
           "automargin": true,
           "gridcolor": "white",
           "linecolor": "white",
           "ticks": "",
           "title": {
            "standoff": 15
           },
           "zerolinecolor": "white",
           "zerolinewidth": 2
          }
         }
        },
        "title": {
         "font": {
          "color": "#4D5663"
         }
        },
        "xaxis": {
         "gridcolor": "#E1E5ED",
         "showgrid": true,
         "tickfont": {
          "color": "#4D5663"
         },
         "title": {
          "font": {
           "color": "#4D5663"
          },
          "text": ""
         },
         "zerolinecolor": "#E1E5ED"
        },
        "yaxis": {
         "gridcolor": "#E1E5ED",
         "showgrid": true,
         "tickfont": {
          "color": "#4D5663"
         },
         "title": {
          "font": {
           "color": "#4D5663"
          },
          "text": ""
         },
         "zerolinecolor": "#E1E5ED"
        }
       }
      },
      "text/html": [
       "<div>                            <div id=\"743a1ee0-729e-4368-80cc-afc5481dc3e6\" class=\"plotly-graph-div\" style=\"height:525px; width:100%;\"></div>            <script type=\"text/javascript\">                require([\"plotly\"], function(Plotly) {                    window.PLOTLYENV=window.PLOTLYENV || {};\n",
       "                    window.PLOTLYENV.BASE_URL='https://plot.ly';                                    if (document.getElementById(\"743a1ee0-729e-4368-80cc-afc5481dc3e6\")) {                    Plotly.newPlot(                        \"743a1ee0-729e-4368-80cc-afc5481dc3e6\",                        [{\"boxpoints\":false,\"line\":{\"width\":1.3},\"marker\":{\"color\":\"rgba(255, 153, 51, 1.0)\"},\"name\":\"A\",\"orientation\":\"v\",\"y\":[0.04069591197739794,-1.5387534862825873,-0.37054138227832717,0.42226759931628843,0.3126115498148938,0.8490945987665685,0.32657941317006145,-0.49107061022674736,-2.1507284205628596,-0.24408786953956163,-0.6520390343561558,-0.5252670649155886,-0.6648895358403708,-0.5337196496902474,2.5411528745491845,0.2721785495038353,0.3139632084051519,-0.5035017349764002,-0.6295298431031526,-0.9967697705581974,-0.3010684232864244,0.6526617395566436,0.6907035696708207,-0.29469416900060214,1.1535301811355754,-1.0100015678978271,-0.12069661348651797,0.8054776442724979,0.8389775988783994,0.7242360206836844,0.9947539832929825,-1.0297374004329243,1.273616985140703,0.0385151859114759,0.8766328063292678,0.596186279085301,-0.2676827420402636,1.6188897257768609,-0.5896403663629634,0.18206868764406353,0.3883297472018753,0.23541068732887283,-1.4667899496388717,0.22401979434166064,-0.24920165254461157,0.5864379214604486,-1.7867426348719786,-0.2388326424614991,-0.20700690841934505,-1.7418204632698755,-0.4975267325235522,-0.4383857315299486,-0.023908325805154496,-1.0099213450430722,1.3151743319977625,2.164235305837594,-1.559781794551808,0.15948892175662965,0.5369468612262032,0.3034419209406845,-0.8190508980320342,1.0613854718635283,-2.703085539999277,0.5993190210185522,-0.9769014482176318,1.677907800787111,-0.037964248402260675,0.4670173507050114,-0.019662592262844062,-0.568296779760827,0.04060896866941458,-1.209244924940564,-0.3209018867296929,2.4149477205376115,-0.25490330030542974,1.1797721447905096,0.8421878895000109,1.745102272056137,-1.071361491881029,-0.45008076881205805,0.42161710288352783,-1.7093741336754915,0.08909834069035083,0.29993713511028813,1.018646413711966,-0.6880074411425571,0.3452603917017754,0.2487633064244093,0.21135195131935697,0.33047551702590044,-0.43227148671025234,-0.2937569887054107,1.4680107137436962,0.19817518709820703,-0.08239264069950791,-1.5739263364676956,-0.5863039056329027,-0.0634286623026407,-0.5916518804306173,-0.12187591316350242],\"type\":\"box\"},{\"boxpoints\":false,\"line\":{\"width\":1.3},\"marker\":{\"color\":\"rgba(55, 128, 191, 1.0)\"},\"name\":\"B\",\"orientation\":\"v\",\"y\":[0.995826467880346,-0.7369617224098037,0.37127384864429896,1.4973374656255485,-0.5136756334794229,-0.16912706548129708,-2.0136478401254956,0.6590292067347793,0.5281735423979428,-0.22596764617781726,0.8179265840659411,-0.7675078258062362,1.5557993453415198,1.1764532616325682,0.48410024097701665,0.7245640901748778,-0.1743255957392895,0.12398933128539748,0.7714456731235291,0.4057913540833407,1.186256289895277,-0.02105445729321405,-0.08094294955411512,0.2334964169726154,-1.8516069705667002,0.730782588490572,-0.7489429321852894,0.2560040303932152,0.7382717289609817,-0.9038563922535384,-0.14304968680136568,-0.7362909814018258,2.4014638348495625,-0.9026406680150731,2.56264403068799,-1.5081115882613203,-0.8431226423071239,-0.13073570393892617,0.8996129861200042,1.1399824665465794,0.048426080024693695,0.1668940515774451,-0.08354431280016783,-0.18563155879013335,0.13989039833424813,-0.6733933082584179,1.6206985566519567,-1.20146237893275,-2.0022301652003573,-0.5543558182050398,-2.492083782632766,-2.653638610926458,1.0403224744840096,-1.2503717390785278,1.2484039627566348,-0.1815316960413127,-0.7612710351716687,-0.5500424255656814,0.28190325275693273,0.33361672883874766,1.0952631148175236,1.9310982225189801,-1.2124783622530837,-1.2862055362957667,-1.3330480187478047,0.3731780294861189,-0.10194186296865584,-0.9603560274610924,-2.970109852235134,1.1441009979146743,0.04271329041066948,-1.3752165049488514,0.23494443618611646,0.8056619087889803,-2.9041102254767166,-0.6848921718215347,1.594433615490069,-1.4615825894063526,-0.13199479952107832,-0.2149473654351705,0.009768856092341214,-0.4052730444685135,-0.568991920341303,-1.084975804825773,-0.2663777907791061,-0.4762543065114372,0.028773158565766913,-0.7850746849449068,-0.6945749900304474,0.8427544736504147,-0.08393240804690318,-1.627899725389288,-0.21845671984730042,-0.47356107511270346,0.4357599336028361,-0.70845175800104,1.7153318283877876,0.8496103465694999,-1.5572805557424916,2.0251386210861186],\"type\":\"box\"},{\"boxpoints\":false,\"line\":{\"width\":1.3},\"marker\":{\"color\":\"rgba(50, 171, 96, 1.0)\"},\"name\":\"C\",\"orientation\":\"v\",\"y\":[-0.09389924246810805,0.46693784219434303,1.5981105835428606,0.939579245061577,0.7353018080757163,0.646999790089509,-0.33768524482540635,0.8517183133690732,-0.3384120781905001,-0.3274608793784002,0.3611770364046952,-1.4324134965299424,-1.3423692799559948,0.6653145797092015,1.6654082381434867,-2.020428438095846,0.09521652455894322,-0.4203687326465551,0.27431514414201197,-0.042820910303760805,-1.8621475850762577,-0.1672421567112696,0.8990975423749583,-1.270119359829677,-0.5746895495068903,-0.31890119840212383,2.2781245825620626,-0.36013671693763616,0.8828486167671366,-0.3525176349246981,-1.038424938990193,-1.2571132847557838,-0.722802101739417,1.09652110251346,-0.4860419291434229,0.04831710062416164,0.6765773534698574,-1.8480362076705836,-0.45892892454316075,0.4285622114547675,-0.8266561357422507,-0.322348796606711,-0.8875048573626982,-1.4553460601722525,-0.2503900748624838,1.0481974368802498,0.12429421845735472,0.660838527309358,1.6285759733899243,2.320700153051851,-0.20727290897373735,-0.03537029993862725,0.202414319281178,-0.7773088877291788,1.2163903659622308,0.048352193156689226,0.31017736336031887,-0.5741650006672349,2.220593399617657,1.0426301077746036,0.01789033403987293,-0.21821945842542395,-0.6817997624610167,0.18781578841879995,-0.10048108951657567,-1.2091706254267716,2.100116509821881,1.5572668184385687,0.11149873271719092,-0.9289841087187439,-0.48639998626464015,-0.2357056005630904,0.1312857384290406,-0.6189075163619262,-1.517855238304068,-0.20063050415677747,-0.11154419808878213,-2.1543594541608555,0.5991817972692761,0.1874823907819667,-0.40855192884095826,-0.45544930558017094,-0.9779669239559734,-0.10539664895270522,-0.40806221877933696,1.3651121191971893,-0.6014893104206162,1.3156915791575803,-0.6587323985544884,-1.067454889181448,0.05353779844388949,0.050740582498669765,-0.3410220481473968,0.6939361774346295,0.3745983221830779,0.00390113269939864,-1.2778068397693865,-1.9045976637933393,0.23769910520867105,-1.2346184798868076],\"type\":\"box\"},{\"boxpoints\":false,\"line\":{\"width\":1.3},\"marker\":{\"color\":\"rgba(128, 0, 128, 1.0)\"},\"name\":\"D\",\"orientation\":\"v\",\"y\":[1.8536786587611707,0.31748701494719056,-1.5914137200326584,-1.8201446872430338,0.19942928864633003,-0.9179397030896396,-2.09783941616522,-1.500452381480773,0.921541813332476,-0.20283949702568466,-0.6224091041757651,-1.5309497626013673,2.3960370035120446,-0.798906464588825,2.6855530977557778,0.5220481471245186,-0.08582089303477562,-0.5847199205396268,0.3859634480227872,-0.4365193090897628,-0.8286648171246722,-0.08572601386447695,-1.3804843047424917,-1.0608984425490853,-0.6263509554355401,1.9859008957368793,-1.4489485453368747,0.5346258431159485,2.387929425784648,-0.3629636514626066,-1.606278511440651,-0.16083962877458965,1.4788501498787368,0.3690546302424768,-0.39434272594699243,-0.7204501129186216,-0.048470704701933834,0.3495814965023437,0.4434049265739363,-1.2219826611087121,-0.28550581198618147,-1.43564955517798,-1.0266421448996974,0.28182620745319154,0.650975407817685,-0.5523593168748906,-0.02826449419596439,0.5835488232553727,-0.45990628505108966,1.861942258383658,1.2247003424778167,-0.3926474871329264,-0.9872124239906978,0.18060257275506045,-3.1282202634719587,0.39015695867027855,-0.6032116714133441,1.5534065332882077,0.8076446774824714,-0.9466283913238981,0.2086053214047391,-1.5996173352620429,-0.5020738048324217,-0.885901490159055,0.435785110787616,-0.5052088166470903,-1.3757623133671353,-0.8472452639438817,-0.9119140192994585,0.31914466795431934,0.27656205648013976,0.7273345746414592,0.6274862198918303,-0.5336861185884401,-1.239705836405087,-0.14944745747340873,0.4664365322350763,0.576829998115034,1.1514488000990495,-0.32445430867609126,-0.5886129375934483,1.190812562297307,0.3207151318146256,-2.4099613330281167,0.9281084747609742,-1.4653632806521992,-1.1968090028828493,-0.43696814652571847,1.0470087389279674,-0.25243610009812334,-0.1715567422039336,-1.3064481634837306,0.31353487491155757,-0.906234469311814,-0.1554311832054045,0.04358606621245248,-1.232136715096742,-0.17106586593775666,1.3350788478359195,-0.6493521538932258],\"type\":\"box\"}],                        {\"legend\":{\"bgcolor\":\"#F5F6F9\",\"font\":{\"color\":\"#4D5663\"}},\"paper_bgcolor\":\"#F5F6F9\",\"plot_bgcolor\":\"#F5F6F9\",\"template\":{\"data\":{\"barpolar\":[{\"marker\":{\"line\":{\"color\":\"#E5ECF6\",\"width\":0.5},\"pattern\":{\"fillmode\":\"overlay\",\"size\":10,\"solidity\":0.2}},\"type\":\"barpolar\"}],\"bar\":[{\"error_x\":{\"color\":\"#2a3f5f\"},\"error_y\":{\"color\":\"#2a3f5f\"},\"marker\":{\"line\":{\"color\":\"#E5ECF6\",\"width\":0.5},\"pattern\":{\"fillmode\":\"overlay\",\"size\":10,\"solidity\":0.2}},\"type\":\"bar\"}],\"carpet\":[{\"aaxis\":{\"endlinecolor\":\"#2a3f5f\",\"gridcolor\":\"white\",\"linecolor\":\"white\",\"minorgridcolor\":\"white\",\"startlinecolor\":\"#2a3f5f\"},\"baxis\":{\"endlinecolor\":\"#2a3f5f\",\"gridcolor\":\"white\",\"linecolor\":\"white\",\"minorgridcolor\":\"white\",\"startlinecolor\":\"#2a3f5f\"},\"type\":\"carpet\"}],\"choropleth\":[{\"colorbar\":{\"outlinewidth\":0,\"ticks\":\"\"},\"type\":\"choropleth\"}],\"contourcarpet\":[{\"colorbar\":{\"outlinewidth\":0,\"ticks\":\"\"},\"type\":\"contourcarpet\"}],\"contour\":[{\"colorbar\":{\"outlinewidth\":0,\"ticks\":\"\"},\"colorscale\":[[0.0,\"#0d0887\"],[0.1111111111111111,\"#46039f\"],[0.2222222222222222,\"#7201a8\"],[0.3333333333333333,\"#9c179e\"],[0.4444444444444444,\"#bd3786\"],[0.5555555555555556,\"#d8576b\"],[0.6666666666666666,\"#ed7953\"],[0.7777777777777778,\"#fb9f3a\"],[0.8888888888888888,\"#fdca26\"],[1.0,\"#f0f921\"]],\"type\":\"contour\"}],\"heatmapgl\":[{\"colorbar\":{\"outlinewidth\":0,\"ticks\":\"\"},\"colorscale\":[[0.0,\"#0d0887\"],[0.1111111111111111,\"#46039f\"],[0.2222222222222222,\"#7201a8\"],[0.3333333333333333,\"#9c179e\"],[0.4444444444444444,\"#bd3786\"],[0.5555555555555556,\"#d8576b\"],[0.6666666666666666,\"#ed7953\"],[0.7777777777777778,\"#fb9f3a\"],[0.8888888888888888,\"#fdca26\"],[1.0,\"#f0f921\"]],\"type\":\"heatmapgl\"}],\"heatmap\":[{\"colorbar\":{\"outlinewidth\":0,\"ticks\":\"\"},\"colorscale\":[[0.0,\"#0d0887\"],[0.1111111111111111,\"#46039f\"],[0.2222222222222222,\"#7201a8\"],[0.3333333333333333,\"#9c179e\"],[0.4444444444444444,\"#bd3786\"],[0.5555555555555556,\"#d8576b\"],[0.6666666666666666,\"#ed7953\"],[0.7777777777777778,\"#fb9f3a\"],[0.8888888888888888,\"#fdca26\"],[1.0,\"#f0f921\"]],\"type\":\"heatmap\"}],\"histogram2dcontour\":[{\"colorbar\":{\"outlinewidth\":0,\"ticks\":\"\"},\"colorscale\":[[0.0,\"#0d0887\"],[0.1111111111111111,\"#46039f\"],[0.2222222222222222,\"#7201a8\"],[0.3333333333333333,\"#9c179e\"],[0.4444444444444444,\"#bd3786\"],[0.5555555555555556,\"#d8576b\"],[0.6666666666666666,\"#ed7953\"],[0.7777777777777778,\"#fb9f3a\"],[0.8888888888888888,\"#fdca26\"],[1.0,\"#f0f921\"]],\"type\":\"histogram2dcontour\"}],\"histogram2d\":[{\"colorbar\":{\"outlinewidth\":0,\"ticks\":\"\"},\"colorscale\":[[0.0,\"#0d0887\"],[0.1111111111111111,\"#46039f\"],[0.2222222222222222,\"#7201a8\"],[0.3333333333333333,\"#9c179e\"],[0.4444444444444444,\"#bd3786\"],[0.5555555555555556,\"#d8576b\"],[0.6666666666666666,\"#ed7953\"],[0.7777777777777778,\"#fb9f3a\"],[0.8888888888888888,\"#fdca26\"],[1.0,\"#f0f921\"]],\"type\":\"histogram2d\"}],\"histogram\":[{\"marker\":{\"pattern\":{\"fillmode\":\"overlay\",\"size\":10,\"solidity\":0.2}},\"type\":\"histogram\"}],\"mesh3d\":[{\"colorbar\":{\"outlinewidth\":0,\"ticks\":\"\"},\"type\":\"mesh3d\"}],\"parcoords\":[{\"line\":{\"colorbar\":{\"outlinewidth\":0,\"ticks\":\"\"}},\"type\":\"parcoords\"}],\"pie\":[{\"automargin\":true,\"type\":\"pie\"}],\"scatter3d\":[{\"line\":{\"colorbar\":{\"outlinewidth\":0,\"ticks\":\"\"}},\"marker\":{\"colorbar\":{\"outlinewidth\":0,\"ticks\":\"\"}},\"type\":\"scatter3d\"}],\"scattercarpet\":[{\"marker\":{\"colorbar\":{\"outlinewidth\":0,\"ticks\":\"\"}},\"type\":\"scattercarpet\"}],\"scattergeo\":[{\"marker\":{\"colorbar\":{\"outlinewidth\":0,\"ticks\":\"\"}},\"type\":\"scattergeo\"}],\"scattergl\":[{\"marker\":{\"colorbar\":{\"outlinewidth\":0,\"ticks\":\"\"}},\"type\":\"scattergl\"}],\"scattermapbox\":[{\"marker\":{\"colorbar\":{\"outlinewidth\":0,\"ticks\":\"\"}},\"type\":\"scattermapbox\"}],\"scatterpolargl\":[{\"marker\":{\"colorbar\":{\"outlinewidth\":0,\"ticks\":\"\"}},\"type\":\"scatterpolargl\"}],\"scatterpolar\":[{\"marker\":{\"colorbar\":{\"outlinewidth\":0,\"ticks\":\"\"}},\"type\":\"scatterpolar\"}],\"scatter\":[{\"marker\":{\"colorbar\":{\"outlinewidth\":0,\"ticks\":\"\"}},\"type\":\"scatter\"}],\"scatterternary\":[{\"marker\":{\"colorbar\":{\"outlinewidth\":0,\"ticks\":\"\"}},\"type\":\"scatterternary\"}],\"surface\":[{\"colorbar\":{\"outlinewidth\":0,\"ticks\":\"\"},\"colorscale\":[[0.0,\"#0d0887\"],[0.1111111111111111,\"#46039f\"],[0.2222222222222222,\"#7201a8\"],[0.3333333333333333,\"#9c179e\"],[0.4444444444444444,\"#bd3786\"],[0.5555555555555556,\"#d8576b\"],[0.6666666666666666,\"#ed7953\"],[0.7777777777777778,\"#fb9f3a\"],[0.8888888888888888,\"#fdca26\"],[1.0,\"#f0f921\"]],\"type\":\"surface\"}],\"table\":[{\"cells\":{\"fill\":{\"color\":\"#EBF0F8\"},\"line\":{\"color\":\"white\"}},\"header\":{\"fill\":{\"color\":\"#C8D4E3\"},\"line\":{\"color\":\"white\"}},\"type\":\"table\"}]},\"layout\":{\"annotationdefaults\":{\"arrowcolor\":\"#2a3f5f\",\"arrowhead\":0,\"arrowwidth\":1},\"autotypenumbers\":\"strict\",\"coloraxis\":{\"colorbar\":{\"outlinewidth\":0,\"ticks\":\"\"}},\"colorscale\":{\"diverging\":[[0,\"#8e0152\"],[0.1,\"#c51b7d\"],[0.2,\"#de77ae\"],[0.3,\"#f1b6da\"],[0.4,\"#fde0ef\"],[0.5,\"#f7f7f7\"],[0.6,\"#e6f5d0\"],[0.7,\"#b8e186\"],[0.8,\"#7fbc41\"],[0.9,\"#4d9221\"],[1,\"#276419\"]],\"sequential\":[[0.0,\"#0d0887\"],[0.1111111111111111,\"#46039f\"],[0.2222222222222222,\"#7201a8\"],[0.3333333333333333,\"#9c179e\"],[0.4444444444444444,\"#bd3786\"],[0.5555555555555556,\"#d8576b\"],[0.6666666666666666,\"#ed7953\"],[0.7777777777777778,\"#fb9f3a\"],[0.8888888888888888,\"#fdca26\"],[1.0,\"#f0f921\"]],\"sequentialminus\":[[0.0,\"#0d0887\"],[0.1111111111111111,\"#46039f\"],[0.2222222222222222,\"#7201a8\"],[0.3333333333333333,\"#9c179e\"],[0.4444444444444444,\"#bd3786\"],[0.5555555555555556,\"#d8576b\"],[0.6666666666666666,\"#ed7953\"],[0.7777777777777778,\"#fb9f3a\"],[0.8888888888888888,\"#fdca26\"],[1.0,\"#f0f921\"]]},\"colorway\":[\"#636efa\",\"#EF553B\",\"#00cc96\",\"#ab63fa\",\"#FFA15A\",\"#19d3f3\",\"#FF6692\",\"#B6E880\",\"#FF97FF\",\"#FECB52\"],\"font\":{\"color\":\"#2a3f5f\"},\"geo\":{\"bgcolor\":\"white\",\"lakecolor\":\"white\",\"landcolor\":\"#E5ECF6\",\"showlakes\":true,\"showland\":true,\"subunitcolor\":\"white\"},\"hoverlabel\":{\"align\":\"left\"},\"hovermode\":\"closest\",\"mapbox\":{\"style\":\"light\"},\"paper_bgcolor\":\"white\",\"plot_bgcolor\":\"#E5ECF6\",\"polar\":{\"angularaxis\":{\"gridcolor\":\"white\",\"linecolor\":\"white\",\"ticks\":\"\"},\"bgcolor\":\"#E5ECF6\",\"radialaxis\":{\"gridcolor\":\"white\",\"linecolor\":\"white\",\"ticks\":\"\"}},\"scene\":{\"xaxis\":{\"backgroundcolor\":\"#E5ECF6\",\"gridcolor\":\"white\",\"gridwidth\":2,\"linecolor\":\"white\",\"showbackground\":true,\"ticks\":\"\",\"zerolinecolor\":\"white\"},\"yaxis\":{\"backgroundcolor\":\"#E5ECF6\",\"gridcolor\":\"white\",\"gridwidth\":2,\"linecolor\":\"white\",\"showbackground\":true,\"ticks\":\"\",\"zerolinecolor\":\"white\"},\"zaxis\":{\"backgroundcolor\":\"#E5ECF6\",\"gridcolor\":\"white\",\"gridwidth\":2,\"linecolor\":\"white\",\"showbackground\":true,\"ticks\":\"\",\"zerolinecolor\":\"white\"}},\"shapedefaults\":{\"line\":{\"color\":\"#2a3f5f\"}},\"ternary\":{\"aaxis\":{\"gridcolor\":\"white\",\"linecolor\":\"white\",\"ticks\":\"\"},\"baxis\":{\"gridcolor\":\"white\",\"linecolor\":\"white\",\"ticks\":\"\"},\"bgcolor\":\"#E5ECF6\",\"caxis\":{\"gridcolor\":\"white\",\"linecolor\":\"white\",\"ticks\":\"\"}},\"title\":{\"x\":0.05},\"xaxis\":{\"automargin\":true,\"gridcolor\":\"white\",\"linecolor\":\"white\",\"ticks\":\"\",\"title\":{\"standoff\":15},\"zerolinecolor\":\"white\",\"zerolinewidth\":2},\"yaxis\":{\"automargin\":true,\"gridcolor\":\"white\",\"linecolor\":\"white\",\"ticks\":\"\",\"title\":{\"standoff\":15},\"zerolinecolor\":\"white\",\"zerolinewidth\":2}}},\"title\":{\"font\":{\"color\":\"#4D5663\"}},\"xaxis\":{\"gridcolor\":\"#E1E5ED\",\"showgrid\":true,\"tickfont\":{\"color\":\"#4D5663\"},\"title\":{\"font\":{\"color\":\"#4D5663\"},\"text\":\"\"},\"zerolinecolor\":\"#E1E5ED\"},\"yaxis\":{\"gridcolor\":\"#E1E5ED\",\"showgrid\":true,\"tickfont\":{\"color\":\"#4D5663\"},\"title\":{\"font\":{\"color\":\"#4D5663\"},\"text\":\"\"},\"zerolinecolor\":\"#E1E5ED\"}},                        {\"showLink\": true, \"linkText\": \"Export to plot.ly\", \"plotlyServerURL\": \"https://plot.ly\", \"responsive\": true}                    ).then(function(){\n",
       "                            \n",
       "var gd = document.getElementById('743a1ee0-729e-4368-80cc-afc5481dc3e6');\n",
       "var x = new MutationObserver(function (mutations, observer) {{\n",
       "        var display = window.getComputedStyle(gd).display;\n",
       "        if (!display || display === 'none') {{\n",
       "            console.log([gd, 'removed!']);\n",
       "            Plotly.purge(gd);\n",
       "            observer.disconnect();\n",
       "        }}\n",
       "}});\n",
       "\n",
       "// Listen for the removal of the full notebook cells\n",
       "var notebookContainer = gd.closest('#notebook-container');\n",
       "if (notebookContainer) {{\n",
       "    x.observe(notebookContainer, {childList: true});\n",
       "}}\n",
       "\n",
       "// Listen for the clearing of the current output cell\n",
       "var outputEl = gd.closest('.output');\n",
       "if (outputEl) {{\n",
       "    x.observe(outputEl, {childList: true});\n",
       "}}\n",
       "\n",
       "                        })                };                });            </script>        </div>"
      ]
     },
     "metadata": {},
     "output_type": "display_data"
    }
   ],
   "source": [
    "df.iplot(kind='box')"
   ]
  },
  {
   "cell_type": "code",
   "execution_count": null,
   "metadata": {},
   "outputs": [],
   "source": []
  },
  {
   "cell_type": "markdown",
   "metadata": {},
   "source": [
    "## 3d Surface"
   ]
  },
  {
   "cell_type": "code",
   "execution_count": 21,
   "metadata": {
    "scrolled": false
   },
   "outputs": [
    {
     "data": {
      "application/vnd.plotly.v1+json": {
       "config": {
        "linkText": "Export to plot.ly",
        "plotlyServerURL": "https://plot.ly",
        "showLink": true
       },
       "data": [
        {
         "colorscale": [
          [
           0,
           "rgb(165,0,38)"
          ],
          [
           0.1,
           "rgb(215,48,39)"
          ],
          [
           0.2,
           "rgb(244,109,67)"
          ],
          [
           0.3,
           "rgb(253,174,97)"
          ],
          [
           0.4,
           "rgb(254,224,144)"
          ],
          [
           0.5,
           "rgb(255,255,191)"
          ],
          [
           0.6,
           "rgb(224,243,248)"
          ],
          [
           0.7,
           "rgb(171,217,233)"
          ],
          [
           0.8,
           "rgb(116,173,209)"
          ],
          [
           0.9,
           "rgb(69,117,180)"
          ],
          [
           1,
           "rgb(49,54,149)"
          ]
         ],
         "type": "surface",
         "x": [
          0,
          1,
          2,
          3,
          4
         ],
         "y": [
          "x",
          "y",
          "z"
         ],
         "z": [
          [
           1,
           2,
           3,
           4,
           5
          ],
          [
           10,
           20,
           30,
           20,
           10
          ],
          [
           5,
           4,
           3,
           2,
           1
          ]
         ]
        }
       ],
       "layout": {
        "legend": {
         "bgcolor": "#F5F6F9",
         "font": {
          "color": "#4D5663"
         }
        },
        "paper_bgcolor": "#F5F6F9",
        "plot_bgcolor": "#F5F6F9",
        "template": {
         "data": {
          "bar": [
           {
            "error_x": {
             "color": "#2a3f5f"
            },
            "error_y": {
             "color": "#2a3f5f"
            },
            "marker": {
             "line": {
              "color": "#E5ECF6",
              "width": 0.5
             },
             "pattern": {
              "fillmode": "overlay",
              "size": 10,
              "solidity": 0.2
             }
            },
            "type": "bar"
           }
          ],
          "barpolar": [
           {
            "marker": {
             "line": {
              "color": "#E5ECF6",
              "width": 0.5
             },
             "pattern": {
              "fillmode": "overlay",
              "size": 10,
              "solidity": 0.2
             }
            },
            "type": "barpolar"
           }
          ],
          "carpet": [
           {
            "aaxis": {
             "endlinecolor": "#2a3f5f",
             "gridcolor": "white",
             "linecolor": "white",
             "minorgridcolor": "white",
             "startlinecolor": "#2a3f5f"
            },
            "baxis": {
             "endlinecolor": "#2a3f5f",
             "gridcolor": "white",
             "linecolor": "white",
             "minorgridcolor": "white",
             "startlinecolor": "#2a3f5f"
            },
            "type": "carpet"
           }
          ],
          "choropleth": [
           {
            "colorbar": {
             "outlinewidth": 0,
             "ticks": ""
            },
            "type": "choropleth"
           }
          ],
          "contour": [
           {
            "colorbar": {
             "outlinewidth": 0,
             "ticks": ""
            },
            "colorscale": [
             [
              0,
              "#0d0887"
             ],
             [
              0.1111111111111111,
              "#46039f"
             ],
             [
              0.2222222222222222,
              "#7201a8"
             ],
             [
              0.3333333333333333,
              "#9c179e"
             ],
             [
              0.4444444444444444,
              "#bd3786"
             ],
             [
              0.5555555555555556,
              "#d8576b"
             ],
             [
              0.6666666666666666,
              "#ed7953"
             ],
             [
              0.7777777777777778,
              "#fb9f3a"
             ],
             [
              0.8888888888888888,
              "#fdca26"
             ],
             [
              1,
              "#f0f921"
             ]
            ],
            "type": "contour"
           }
          ],
          "contourcarpet": [
           {
            "colorbar": {
             "outlinewidth": 0,
             "ticks": ""
            },
            "type": "contourcarpet"
           }
          ],
          "heatmap": [
           {
            "colorbar": {
             "outlinewidth": 0,
             "ticks": ""
            },
            "colorscale": [
             [
              0,
              "#0d0887"
             ],
             [
              0.1111111111111111,
              "#46039f"
             ],
             [
              0.2222222222222222,
              "#7201a8"
             ],
             [
              0.3333333333333333,
              "#9c179e"
             ],
             [
              0.4444444444444444,
              "#bd3786"
             ],
             [
              0.5555555555555556,
              "#d8576b"
             ],
             [
              0.6666666666666666,
              "#ed7953"
             ],
             [
              0.7777777777777778,
              "#fb9f3a"
             ],
             [
              0.8888888888888888,
              "#fdca26"
             ],
             [
              1,
              "#f0f921"
             ]
            ],
            "type": "heatmap"
           }
          ],
          "heatmapgl": [
           {
            "colorbar": {
             "outlinewidth": 0,
             "ticks": ""
            },
            "colorscale": [
             [
              0,
              "#0d0887"
             ],
             [
              0.1111111111111111,
              "#46039f"
             ],
             [
              0.2222222222222222,
              "#7201a8"
             ],
             [
              0.3333333333333333,
              "#9c179e"
             ],
             [
              0.4444444444444444,
              "#bd3786"
             ],
             [
              0.5555555555555556,
              "#d8576b"
             ],
             [
              0.6666666666666666,
              "#ed7953"
             ],
             [
              0.7777777777777778,
              "#fb9f3a"
             ],
             [
              0.8888888888888888,
              "#fdca26"
             ],
             [
              1,
              "#f0f921"
             ]
            ],
            "type": "heatmapgl"
           }
          ],
          "histogram": [
           {
            "marker": {
             "pattern": {
              "fillmode": "overlay",
              "size": 10,
              "solidity": 0.2
             }
            },
            "type": "histogram"
           }
          ],
          "histogram2d": [
           {
            "colorbar": {
             "outlinewidth": 0,
             "ticks": ""
            },
            "colorscale": [
             [
              0,
              "#0d0887"
             ],
             [
              0.1111111111111111,
              "#46039f"
             ],
             [
              0.2222222222222222,
              "#7201a8"
             ],
             [
              0.3333333333333333,
              "#9c179e"
             ],
             [
              0.4444444444444444,
              "#bd3786"
             ],
             [
              0.5555555555555556,
              "#d8576b"
             ],
             [
              0.6666666666666666,
              "#ed7953"
             ],
             [
              0.7777777777777778,
              "#fb9f3a"
             ],
             [
              0.8888888888888888,
              "#fdca26"
             ],
             [
              1,
              "#f0f921"
             ]
            ],
            "type": "histogram2d"
           }
          ],
          "histogram2dcontour": [
           {
            "colorbar": {
             "outlinewidth": 0,
             "ticks": ""
            },
            "colorscale": [
             [
              0,
              "#0d0887"
             ],
             [
              0.1111111111111111,
              "#46039f"
             ],
             [
              0.2222222222222222,
              "#7201a8"
             ],
             [
              0.3333333333333333,
              "#9c179e"
             ],
             [
              0.4444444444444444,
              "#bd3786"
             ],
             [
              0.5555555555555556,
              "#d8576b"
             ],
             [
              0.6666666666666666,
              "#ed7953"
             ],
             [
              0.7777777777777778,
              "#fb9f3a"
             ],
             [
              0.8888888888888888,
              "#fdca26"
             ],
             [
              1,
              "#f0f921"
             ]
            ],
            "type": "histogram2dcontour"
           }
          ],
          "mesh3d": [
           {
            "colorbar": {
             "outlinewidth": 0,
             "ticks": ""
            },
            "type": "mesh3d"
           }
          ],
          "parcoords": [
           {
            "line": {
             "colorbar": {
              "outlinewidth": 0,
              "ticks": ""
             }
            },
            "type": "parcoords"
           }
          ],
          "pie": [
           {
            "automargin": true,
            "type": "pie"
           }
          ],
          "scatter": [
           {
            "marker": {
             "colorbar": {
              "outlinewidth": 0,
              "ticks": ""
             }
            },
            "type": "scatter"
           }
          ],
          "scatter3d": [
           {
            "line": {
             "colorbar": {
              "outlinewidth": 0,
              "ticks": ""
             }
            },
            "marker": {
             "colorbar": {
              "outlinewidth": 0,
              "ticks": ""
             }
            },
            "type": "scatter3d"
           }
          ],
          "scattercarpet": [
           {
            "marker": {
             "colorbar": {
              "outlinewidth": 0,
              "ticks": ""
             }
            },
            "type": "scattercarpet"
           }
          ],
          "scattergeo": [
           {
            "marker": {
             "colorbar": {
              "outlinewidth": 0,
              "ticks": ""
             }
            },
            "type": "scattergeo"
           }
          ],
          "scattergl": [
           {
            "marker": {
             "colorbar": {
              "outlinewidth": 0,
              "ticks": ""
             }
            },
            "type": "scattergl"
           }
          ],
          "scattermapbox": [
           {
            "marker": {
             "colorbar": {
              "outlinewidth": 0,
              "ticks": ""
             }
            },
            "type": "scattermapbox"
           }
          ],
          "scatterpolar": [
           {
            "marker": {
             "colorbar": {
              "outlinewidth": 0,
              "ticks": ""
             }
            },
            "type": "scatterpolar"
           }
          ],
          "scatterpolargl": [
           {
            "marker": {
             "colorbar": {
              "outlinewidth": 0,
              "ticks": ""
             }
            },
            "type": "scatterpolargl"
           }
          ],
          "scatterternary": [
           {
            "marker": {
             "colorbar": {
              "outlinewidth": 0,
              "ticks": ""
             }
            },
            "type": "scatterternary"
           }
          ],
          "surface": [
           {
            "colorbar": {
             "outlinewidth": 0,
             "ticks": ""
            },
            "colorscale": [
             [
              0,
              "#0d0887"
             ],
             [
              0.1111111111111111,
              "#46039f"
             ],
             [
              0.2222222222222222,
              "#7201a8"
             ],
             [
              0.3333333333333333,
              "#9c179e"
             ],
             [
              0.4444444444444444,
              "#bd3786"
             ],
             [
              0.5555555555555556,
              "#d8576b"
             ],
             [
              0.6666666666666666,
              "#ed7953"
             ],
             [
              0.7777777777777778,
              "#fb9f3a"
             ],
             [
              0.8888888888888888,
              "#fdca26"
             ],
             [
              1,
              "#f0f921"
             ]
            ],
            "type": "surface"
           }
          ],
          "table": [
           {
            "cells": {
             "fill": {
              "color": "#EBF0F8"
             },
             "line": {
              "color": "white"
             }
            },
            "header": {
             "fill": {
              "color": "#C8D4E3"
             },
             "line": {
              "color": "white"
             }
            },
            "type": "table"
           }
          ]
         },
         "layout": {
          "annotationdefaults": {
           "arrowcolor": "#2a3f5f",
           "arrowhead": 0,
           "arrowwidth": 1
          },
          "autotypenumbers": "strict",
          "coloraxis": {
           "colorbar": {
            "outlinewidth": 0,
            "ticks": ""
           }
          },
          "colorscale": {
           "diverging": [
            [
             0,
             "#8e0152"
            ],
            [
             0.1,
             "#c51b7d"
            ],
            [
             0.2,
             "#de77ae"
            ],
            [
             0.3,
             "#f1b6da"
            ],
            [
             0.4,
             "#fde0ef"
            ],
            [
             0.5,
             "#f7f7f7"
            ],
            [
             0.6,
             "#e6f5d0"
            ],
            [
             0.7,
             "#b8e186"
            ],
            [
             0.8,
             "#7fbc41"
            ],
            [
             0.9,
             "#4d9221"
            ],
            [
             1,
             "#276419"
            ]
           ],
           "sequential": [
            [
             0,
             "#0d0887"
            ],
            [
             0.1111111111111111,
             "#46039f"
            ],
            [
             0.2222222222222222,
             "#7201a8"
            ],
            [
             0.3333333333333333,
             "#9c179e"
            ],
            [
             0.4444444444444444,
             "#bd3786"
            ],
            [
             0.5555555555555556,
             "#d8576b"
            ],
            [
             0.6666666666666666,
             "#ed7953"
            ],
            [
             0.7777777777777778,
             "#fb9f3a"
            ],
            [
             0.8888888888888888,
             "#fdca26"
            ],
            [
             1,
             "#f0f921"
            ]
           ],
           "sequentialminus": [
            [
             0,
             "#0d0887"
            ],
            [
             0.1111111111111111,
             "#46039f"
            ],
            [
             0.2222222222222222,
             "#7201a8"
            ],
            [
             0.3333333333333333,
             "#9c179e"
            ],
            [
             0.4444444444444444,
             "#bd3786"
            ],
            [
             0.5555555555555556,
             "#d8576b"
            ],
            [
             0.6666666666666666,
             "#ed7953"
            ],
            [
             0.7777777777777778,
             "#fb9f3a"
            ],
            [
             0.8888888888888888,
             "#fdca26"
            ],
            [
             1,
             "#f0f921"
            ]
           ]
          },
          "colorway": [
           "#636efa",
           "#EF553B",
           "#00cc96",
           "#ab63fa",
           "#FFA15A",
           "#19d3f3",
           "#FF6692",
           "#B6E880",
           "#FF97FF",
           "#FECB52"
          ],
          "font": {
           "color": "#2a3f5f"
          },
          "geo": {
           "bgcolor": "white",
           "lakecolor": "white",
           "landcolor": "#E5ECF6",
           "showlakes": true,
           "showland": true,
           "subunitcolor": "white"
          },
          "hoverlabel": {
           "align": "left"
          },
          "hovermode": "closest",
          "mapbox": {
           "style": "light"
          },
          "paper_bgcolor": "white",
          "plot_bgcolor": "#E5ECF6",
          "polar": {
           "angularaxis": {
            "gridcolor": "white",
            "linecolor": "white",
            "ticks": ""
           },
           "bgcolor": "#E5ECF6",
           "radialaxis": {
            "gridcolor": "white",
            "linecolor": "white",
            "ticks": ""
           }
          },
          "scene": {
           "xaxis": {
            "backgroundcolor": "#E5ECF6",
            "gridcolor": "white",
            "gridwidth": 2,
            "linecolor": "white",
            "showbackground": true,
            "ticks": "",
            "zerolinecolor": "white"
           },
           "yaxis": {
            "backgroundcolor": "#E5ECF6",
            "gridcolor": "white",
            "gridwidth": 2,
            "linecolor": "white",
            "showbackground": true,
            "ticks": "",
            "zerolinecolor": "white"
           },
           "zaxis": {
            "backgroundcolor": "#E5ECF6",
            "gridcolor": "white",
            "gridwidth": 2,
            "linecolor": "white",
            "showbackground": true,
            "ticks": "",
            "zerolinecolor": "white"
           }
          },
          "shapedefaults": {
           "line": {
            "color": "#2a3f5f"
           }
          },
          "ternary": {
           "aaxis": {
            "gridcolor": "white",
            "linecolor": "white",
            "ticks": ""
           },
           "baxis": {
            "gridcolor": "white",
            "linecolor": "white",
            "ticks": ""
           },
           "bgcolor": "#E5ECF6",
           "caxis": {
            "gridcolor": "white",
            "linecolor": "white",
            "ticks": ""
           }
          },
          "title": {
           "x": 0.05
          },
          "xaxis": {
           "automargin": true,
           "gridcolor": "white",
           "linecolor": "white",
           "ticks": "",
           "title": {
            "standoff": 15
           },
           "zerolinecolor": "white",
           "zerolinewidth": 2
          },
          "yaxis": {
           "automargin": true,
           "gridcolor": "white",
           "linecolor": "white",
           "ticks": "",
           "title": {
            "standoff": 15
           },
           "zerolinecolor": "white",
           "zerolinewidth": 2
          }
         }
        },
        "title": {
         "font": {
          "color": "#4D5663"
         }
        },
        "xaxis": {
         "gridcolor": "#E1E5ED",
         "showgrid": true,
         "tickfont": {
          "color": "#4D5663"
         },
         "title": {
          "font": {
           "color": "#4D5663"
          },
          "text": ""
         },
         "zerolinecolor": "#E1E5ED"
        },
        "yaxis": {
         "gridcolor": "#E1E5ED",
         "showgrid": true,
         "tickfont": {
          "color": "#4D5663"
         },
         "title": {
          "font": {
           "color": "#4D5663"
          },
          "text": ""
         },
         "zerolinecolor": "#E1E5ED"
        }
       }
      },
      "text/html": [
       "<div>                            <div id=\"b917b240-b84a-4de4-b0b3-ebad30e049f5\" class=\"plotly-graph-div\" style=\"height:525px; width:100%;\"></div>            <script type=\"text/javascript\">                require([\"plotly\"], function(Plotly) {                    window.PLOTLYENV=window.PLOTLYENV || {};\n",
       "                    window.PLOTLYENV.BASE_URL='https://plot.ly';                                    if (document.getElementById(\"b917b240-b84a-4de4-b0b3-ebad30e049f5\")) {                    Plotly.newPlot(                        \"b917b240-b84a-4de4-b0b3-ebad30e049f5\",                        [{\"colorscale\":[[0.0,\"rgb(165,0,38)\"],[0.1,\"rgb(215,48,39)\"],[0.2,\"rgb(244,109,67)\"],[0.3,\"rgb(253,174,97)\"],[0.4,\"rgb(254,224,144)\"],[0.5,\"rgb(255,255,191)\"],[0.6,\"rgb(224,243,248)\"],[0.7,\"rgb(171,217,233)\"],[0.8,\"rgb(116,173,209)\"],[0.9,\"rgb(69,117,180)\"],[1.0,\"rgb(49,54,149)\"]],\"x\":[0,1,2,3,4],\"y\":[\"x\",\"y\",\"z\"],\"z\":[[1,2,3,4,5],[10,20,30,20,10],[5,4,3,2,1]],\"type\":\"surface\"}],                        {\"legend\":{\"bgcolor\":\"#F5F6F9\",\"font\":{\"color\":\"#4D5663\"}},\"paper_bgcolor\":\"#F5F6F9\",\"plot_bgcolor\":\"#F5F6F9\",\"template\":{\"data\":{\"barpolar\":[{\"marker\":{\"line\":{\"color\":\"#E5ECF6\",\"width\":0.5},\"pattern\":{\"fillmode\":\"overlay\",\"size\":10,\"solidity\":0.2}},\"type\":\"barpolar\"}],\"bar\":[{\"error_x\":{\"color\":\"#2a3f5f\"},\"error_y\":{\"color\":\"#2a3f5f\"},\"marker\":{\"line\":{\"color\":\"#E5ECF6\",\"width\":0.5},\"pattern\":{\"fillmode\":\"overlay\",\"size\":10,\"solidity\":0.2}},\"type\":\"bar\"}],\"carpet\":[{\"aaxis\":{\"endlinecolor\":\"#2a3f5f\",\"gridcolor\":\"white\",\"linecolor\":\"white\",\"minorgridcolor\":\"white\",\"startlinecolor\":\"#2a3f5f\"},\"baxis\":{\"endlinecolor\":\"#2a3f5f\",\"gridcolor\":\"white\",\"linecolor\":\"white\",\"minorgridcolor\":\"white\",\"startlinecolor\":\"#2a3f5f\"},\"type\":\"carpet\"}],\"choropleth\":[{\"colorbar\":{\"outlinewidth\":0,\"ticks\":\"\"},\"type\":\"choropleth\"}],\"contourcarpet\":[{\"colorbar\":{\"outlinewidth\":0,\"ticks\":\"\"},\"type\":\"contourcarpet\"}],\"contour\":[{\"colorbar\":{\"outlinewidth\":0,\"ticks\":\"\"},\"colorscale\":[[0.0,\"#0d0887\"],[0.1111111111111111,\"#46039f\"],[0.2222222222222222,\"#7201a8\"],[0.3333333333333333,\"#9c179e\"],[0.4444444444444444,\"#bd3786\"],[0.5555555555555556,\"#d8576b\"],[0.6666666666666666,\"#ed7953\"],[0.7777777777777778,\"#fb9f3a\"],[0.8888888888888888,\"#fdca26\"],[1.0,\"#f0f921\"]],\"type\":\"contour\"}],\"heatmapgl\":[{\"colorbar\":{\"outlinewidth\":0,\"ticks\":\"\"},\"colorscale\":[[0.0,\"#0d0887\"],[0.1111111111111111,\"#46039f\"],[0.2222222222222222,\"#7201a8\"],[0.3333333333333333,\"#9c179e\"],[0.4444444444444444,\"#bd3786\"],[0.5555555555555556,\"#d8576b\"],[0.6666666666666666,\"#ed7953\"],[0.7777777777777778,\"#fb9f3a\"],[0.8888888888888888,\"#fdca26\"],[1.0,\"#f0f921\"]],\"type\":\"heatmapgl\"}],\"heatmap\":[{\"colorbar\":{\"outlinewidth\":0,\"ticks\":\"\"},\"colorscale\":[[0.0,\"#0d0887\"],[0.1111111111111111,\"#46039f\"],[0.2222222222222222,\"#7201a8\"],[0.3333333333333333,\"#9c179e\"],[0.4444444444444444,\"#bd3786\"],[0.5555555555555556,\"#d8576b\"],[0.6666666666666666,\"#ed7953\"],[0.7777777777777778,\"#fb9f3a\"],[0.8888888888888888,\"#fdca26\"],[1.0,\"#f0f921\"]],\"type\":\"heatmap\"}],\"histogram2dcontour\":[{\"colorbar\":{\"outlinewidth\":0,\"ticks\":\"\"},\"colorscale\":[[0.0,\"#0d0887\"],[0.1111111111111111,\"#46039f\"],[0.2222222222222222,\"#7201a8\"],[0.3333333333333333,\"#9c179e\"],[0.4444444444444444,\"#bd3786\"],[0.5555555555555556,\"#d8576b\"],[0.6666666666666666,\"#ed7953\"],[0.7777777777777778,\"#fb9f3a\"],[0.8888888888888888,\"#fdca26\"],[1.0,\"#f0f921\"]],\"type\":\"histogram2dcontour\"}],\"histogram2d\":[{\"colorbar\":{\"outlinewidth\":0,\"ticks\":\"\"},\"colorscale\":[[0.0,\"#0d0887\"],[0.1111111111111111,\"#46039f\"],[0.2222222222222222,\"#7201a8\"],[0.3333333333333333,\"#9c179e\"],[0.4444444444444444,\"#bd3786\"],[0.5555555555555556,\"#d8576b\"],[0.6666666666666666,\"#ed7953\"],[0.7777777777777778,\"#fb9f3a\"],[0.8888888888888888,\"#fdca26\"],[1.0,\"#f0f921\"]],\"type\":\"histogram2d\"}],\"histogram\":[{\"marker\":{\"pattern\":{\"fillmode\":\"overlay\",\"size\":10,\"solidity\":0.2}},\"type\":\"histogram\"}],\"mesh3d\":[{\"colorbar\":{\"outlinewidth\":0,\"ticks\":\"\"},\"type\":\"mesh3d\"}],\"parcoords\":[{\"line\":{\"colorbar\":{\"outlinewidth\":0,\"ticks\":\"\"}},\"type\":\"parcoords\"}],\"pie\":[{\"automargin\":true,\"type\":\"pie\"}],\"scatter3d\":[{\"line\":{\"colorbar\":{\"outlinewidth\":0,\"ticks\":\"\"}},\"marker\":{\"colorbar\":{\"outlinewidth\":0,\"ticks\":\"\"}},\"type\":\"scatter3d\"}],\"scattercarpet\":[{\"marker\":{\"colorbar\":{\"outlinewidth\":0,\"ticks\":\"\"}},\"type\":\"scattercarpet\"}],\"scattergeo\":[{\"marker\":{\"colorbar\":{\"outlinewidth\":0,\"ticks\":\"\"}},\"type\":\"scattergeo\"}],\"scattergl\":[{\"marker\":{\"colorbar\":{\"outlinewidth\":0,\"ticks\":\"\"}},\"type\":\"scattergl\"}],\"scattermapbox\":[{\"marker\":{\"colorbar\":{\"outlinewidth\":0,\"ticks\":\"\"}},\"type\":\"scattermapbox\"}],\"scatterpolargl\":[{\"marker\":{\"colorbar\":{\"outlinewidth\":0,\"ticks\":\"\"}},\"type\":\"scatterpolargl\"}],\"scatterpolar\":[{\"marker\":{\"colorbar\":{\"outlinewidth\":0,\"ticks\":\"\"}},\"type\":\"scatterpolar\"}],\"scatter\":[{\"marker\":{\"colorbar\":{\"outlinewidth\":0,\"ticks\":\"\"}},\"type\":\"scatter\"}],\"scatterternary\":[{\"marker\":{\"colorbar\":{\"outlinewidth\":0,\"ticks\":\"\"}},\"type\":\"scatterternary\"}],\"surface\":[{\"colorbar\":{\"outlinewidth\":0,\"ticks\":\"\"},\"colorscale\":[[0.0,\"#0d0887\"],[0.1111111111111111,\"#46039f\"],[0.2222222222222222,\"#7201a8\"],[0.3333333333333333,\"#9c179e\"],[0.4444444444444444,\"#bd3786\"],[0.5555555555555556,\"#d8576b\"],[0.6666666666666666,\"#ed7953\"],[0.7777777777777778,\"#fb9f3a\"],[0.8888888888888888,\"#fdca26\"],[1.0,\"#f0f921\"]],\"type\":\"surface\"}],\"table\":[{\"cells\":{\"fill\":{\"color\":\"#EBF0F8\"},\"line\":{\"color\":\"white\"}},\"header\":{\"fill\":{\"color\":\"#C8D4E3\"},\"line\":{\"color\":\"white\"}},\"type\":\"table\"}]},\"layout\":{\"annotationdefaults\":{\"arrowcolor\":\"#2a3f5f\",\"arrowhead\":0,\"arrowwidth\":1},\"autotypenumbers\":\"strict\",\"coloraxis\":{\"colorbar\":{\"outlinewidth\":0,\"ticks\":\"\"}},\"colorscale\":{\"diverging\":[[0,\"#8e0152\"],[0.1,\"#c51b7d\"],[0.2,\"#de77ae\"],[0.3,\"#f1b6da\"],[0.4,\"#fde0ef\"],[0.5,\"#f7f7f7\"],[0.6,\"#e6f5d0\"],[0.7,\"#b8e186\"],[0.8,\"#7fbc41\"],[0.9,\"#4d9221\"],[1,\"#276419\"]],\"sequential\":[[0.0,\"#0d0887\"],[0.1111111111111111,\"#46039f\"],[0.2222222222222222,\"#7201a8\"],[0.3333333333333333,\"#9c179e\"],[0.4444444444444444,\"#bd3786\"],[0.5555555555555556,\"#d8576b\"],[0.6666666666666666,\"#ed7953\"],[0.7777777777777778,\"#fb9f3a\"],[0.8888888888888888,\"#fdca26\"],[1.0,\"#f0f921\"]],\"sequentialminus\":[[0.0,\"#0d0887\"],[0.1111111111111111,\"#46039f\"],[0.2222222222222222,\"#7201a8\"],[0.3333333333333333,\"#9c179e\"],[0.4444444444444444,\"#bd3786\"],[0.5555555555555556,\"#d8576b\"],[0.6666666666666666,\"#ed7953\"],[0.7777777777777778,\"#fb9f3a\"],[0.8888888888888888,\"#fdca26\"],[1.0,\"#f0f921\"]]},\"colorway\":[\"#636efa\",\"#EF553B\",\"#00cc96\",\"#ab63fa\",\"#FFA15A\",\"#19d3f3\",\"#FF6692\",\"#B6E880\",\"#FF97FF\",\"#FECB52\"],\"font\":{\"color\":\"#2a3f5f\"},\"geo\":{\"bgcolor\":\"white\",\"lakecolor\":\"white\",\"landcolor\":\"#E5ECF6\",\"showlakes\":true,\"showland\":true,\"subunitcolor\":\"white\"},\"hoverlabel\":{\"align\":\"left\"},\"hovermode\":\"closest\",\"mapbox\":{\"style\":\"light\"},\"paper_bgcolor\":\"white\",\"plot_bgcolor\":\"#E5ECF6\",\"polar\":{\"angularaxis\":{\"gridcolor\":\"white\",\"linecolor\":\"white\",\"ticks\":\"\"},\"bgcolor\":\"#E5ECF6\",\"radialaxis\":{\"gridcolor\":\"white\",\"linecolor\":\"white\",\"ticks\":\"\"}},\"scene\":{\"xaxis\":{\"backgroundcolor\":\"#E5ECF6\",\"gridcolor\":\"white\",\"gridwidth\":2,\"linecolor\":\"white\",\"showbackground\":true,\"ticks\":\"\",\"zerolinecolor\":\"white\"},\"yaxis\":{\"backgroundcolor\":\"#E5ECF6\",\"gridcolor\":\"white\",\"gridwidth\":2,\"linecolor\":\"white\",\"showbackground\":true,\"ticks\":\"\",\"zerolinecolor\":\"white\"},\"zaxis\":{\"backgroundcolor\":\"#E5ECF6\",\"gridcolor\":\"white\",\"gridwidth\":2,\"linecolor\":\"white\",\"showbackground\":true,\"ticks\":\"\",\"zerolinecolor\":\"white\"}},\"shapedefaults\":{\"line\":{\"color\":\"#2a3f5f\"}},\"ternary\":{\"aaxis\":{\"gridcolor\":\"white\",\"linecolor\":\"white\",\"ticks\":\"\"},\"baxis\":{\"gridcolor\":\"white\",\"linecolor\":\"white\",\"ticks\":\"\"},\"bgcolor\":\"#E5ECF6\",\"caxis\":{\"gridcolor\":\"white\",\"linecolor\":\"white\",\"ticks\":\"\"}},\"title\":{\"x\":0.05},\"xaxis\":{\"automargin\":true,\"gridcolor\":\"white\",\"linecolor\":\"white\",\"ticks\":\"\",\"title\":{\"standoff\":15},\"zerolinecolor\":\"white\",\"zerolinewidth\":2},\"yaxis\":{\"automargin\":true,\"gridcolor\":\"white\",\"linecolor\":\"white\",\"ticks\":\"\",\"title\":{\"standoff\":15},\"zerolinecolor\":\"white\",\"zerolinewidth\":2}}},\"title\":{\"font\":{\"color\":\"#4D5663\"}},\"xaxis\":{\"gridcolor\":\"#E1E5ED\",\"showgrid\":true,\"tickfont\":{\"color\":\"#4D5663\"},\"title\":{\"font\":{\"color\":\"#4D5663\"},\"text\":\"\"},\"zerolinecolor\":\"#E1E5ED\"},\"yaxis\":{\"gridcolor\":\"#E1E5ED\",\"showgrid\":true,\"tickfont\":{\"color\":\"#4D5663\"},\"title\":{\"font\":{\"color\":\"#4D5663\"},\"text\":\"\"},\"zerolinecolor\":\"#E1E5ED\"}},                        {\"showLink\": true, \"linkText\": \"Export to plot.ly\", \"plotlyServerURL\": \"https://plot.ly\", \"responsive\": true}                    ).then(function(){\n",
       "                            \n",
       "var gd = document.getElementById('b917b240-b84a-4de4-b0b3-ebad30e049f5');\n",
       "var x = new MutationObserver(function (mutations, observer) {{\n",
       "        var display = window.getComputedStyle(gd).display;\n",
       "        if (!display || display === 'none') {{\n",
       "            console.log([gd, 'removed!']);\n",
       "            Plotly.purge(gd);\n",
       "            observer.disconnect();\n",
       "        }}\n",
       "}});\n",
       "\n",
       "// Listen for the removal of the full notebook cells\n",
       "var notebookContainer = gd.closest('#notebook-container');\n",
       "if (notebookContainer) {{\n",
       "    x.observe(notebookContainer, {childList: true});\n",
       "}}\n",
       "\n",
       "// Listen for the clearing of the current output cell\n",
       "var outputEl = gd.closest('.output');\n",
       "if (outputEl) {{\n",
       "    x.observe(outputEl, {childList: true});\n",
       "}}\n",
       "\n",
       "                        })                };                });            </script>        </div>"
      ]
     },
     "metadata": {},
     "output_type": "display_data"
    }
   ],
   "source": [
    "df3 = pd.DataFrame({'x':[1,2,3,4,5],'y':[10,20,30,20,10],'z':[5,4,3,2,1]})\n",
    "df3.iplot(kind='surface',colorscale='rdylbu')"
   ]
  },
  {
   "cell_type": "code",
   "execution_count": null,
   "metadata": {},
   "outputs": [],
   "source": []
  },
  {
   "cell_type": "markdown",
   "metadata": {},
   "source": [
    "## Spread"
   ]
  },
  {
   "cell_type": "code",
   "execution_count": 22,
   "metadata": {},
   "outputs": [
    {
     "name": "stderr",
     "output_type": "stream",
     "text": [
      "C:\\Users\\shhdh\\anaconda3\\lib\\site-packages\\cufflinks\\plotlytools.py:849: FutureWarning:\n",
      "\n",
      "The pandas.np module is deprecated and will be removed from pandas in a future version. Import numpy directly instead.\n",
      "\n",
      "C:\\Users\\shhdh\\anaconda3\\lib\\site-packages\\cufflinks\\plotlytools.py:850: FutureWarning:\n",
      "\n",
      "The pandas.np module is deprecated and will be removed from pandas in a future version. Import numpy directly instead.\n",
      "\n"
     ]
    },
    {
     "data": {
      "application/vnd.plotly.v1+json": {
       "config": {
        "linkText": "Export to plot.ly",
        "plotlyServerURL": "https://plot.ly",
        "showLink": true
       },
       "data": [
        {
         "line": {
          "color": "rgba(255, 153, 51, 1.0)",
          "dash": "solid",
          "shape": "linear",
          "width": 1.3
         },
         "mode": "lines",
         "name": "A",
         "text": "",
         "type": "scatter",
         "x": [
          0,
          1,
          2,
          3,
          4,
          5,
          6,
          7,
          8,
          9,
          10,
          11,
          12,
          13,
          14,
          15,
          16,
          17,
          18,
          19,
          20,
          21,
          22,
          23,
          24,
          25,
          26,
          27,
          28,
          29,
          30,
          31,
          32,
          33,
          34,
          35,
          36,
          37,
          38,
          39,
          40,
          41,
          42,
          43,
          44,
          45,
          46,
          47,
          48,
          49,
          50,
          51,
          52,
          53,
          54,
          55,
          56,
          57,
          58,
          59,
          60,
          61,
          62,
          63,
          64,
          65,
          66,
          67,
          68,
          69,
          70,
          71,
          72,
          73,
          74,
          75,
          76,
          77,
          78,
          79,
          80,
          81,
          82,
          83,
          84,
          85,
          86,
          87,
          88,
          89,
          90,
          91,
          92,
          93,
          94,
          95,
          96,
          97,
          98,
          99
         ],
         "y": [
          0.04069591197739794,
          -1.5387534862825873,
          -0.37054138227832717,
          0.42226759931628843,
          0.3126115498148938,
          0.8490945987665685,
          0.32657941317006145,
          -0.49107061022674736,
          -2.1507284205628596,
          -0.24408786953956163,
          -0.6520390343561558,
          -0.5252670649155886,
          -0.6648895358403708,
          -0.5337196496902474,
          2.5411528745491845,
          0.2721785495038353,
          0.3139632084051519,
          -0.5035017349764002,
          -0.6295298431031526,
          -0.9967697705581974,
          -0.3010684232864244,
          0.6526617395566436,
          0.6907035696708207,
          -0.29469416900060214,
          1.1535301811355754,
          -1.0100015678978271,
          -0.12069661348651797,
          0.8054776442724979,
          0.8389775988783994,
          0.7242360206836844,
          0.9947539832929825,
          -1.0297374004329243,
          1.273616985140703,
          0.0385151859114759,
          0.8766328063292678,
          0.596186279085301,
          -0.2676827420402636,
          1.6188897257768609,
          -0.5896403663629634,
          0.18206868764406353,
          0.3883297472018753,
          0.23541068732887283,
          -1.4667899496388717,
          0.22401979434166064,
          -0.24920165254461157,
          0.5864379214604486,
          -1.7867426348719786,
          -0.2388326424614991,
          -0.20700690841934505,
          -1.7418204632698755,
          -0.4975267325235522,
          -0.4383857315299486,
          -0.023908325805154496,
          -1.0099213450430722,
          1.3151743319977625,
          2.164235305837594,
          -1.559781794551808,
          0.15948892175662965,
          0.5369468612262032,
          0.3034419209406845,
          -0.8190508980320342,
          1.0613854718635283,
          -2.703085539999277,
          0.5993190210185522,
          -0.9769014482176318,
          1.677907800787111,
          -0.037964248402260675,
          0.4670173507050114,
          -0.019662592262844062,
          -0.568296779760827,
          0.04060896866941458,
          -1.209244924940564,
          -0.3209018867296929,
          2.4149477205376115,
          -0.25490330030542974,
          1.1797721447905096,
          0.8421878895000109,
          1.745102272056137,
          -1.071361491881029,
          -0.45008076881205805,
          0.42161710288352783,
          -1.7093741336754915,
          0.08909834069035083,
          0.29993713511028813,
          1.018646413711966,
          -0.6880074411425571,
          0.3452603917017754,
          0.2487633064244093,
          0.21135195131935697,
          0.33047551702590044,
          -0.43227148671025234,
          -0.2937569887054107,
          1.4680107137436962,
          0.19817518709820703,
          -0.08239264069950791,
          -1.5739263364676956,
          -0.5863039056329027,
          -0.0634286623026407,
          -0.5916518804306173,
          -0.12187591316350242
         ]
        },
        {
         "line": {
          "color": "rgba(55, 128, 191, 1.0)",
          "dash": "solid",
          "shape": "linear",
          "width": 1.3
         },
         "mode": "lines",
         "name": "B",
         "text": "",
         "type": "scatter",
         "x": [
          0,
          1,
          2,
          3,
          4,
          5,
          6,
          7,
          8,
          9,
          10,
          11,
          12,
          13,
          14,
          15,
          16,
          17,
          18,
          19,
          20,
          21,
          22,
          23,
          24,
          25,
          26,
          27,
          28,
          29,
          30,
          31,
          32,
          33,
          34,
          35,
          36,
          37,
          38,
          39,
          40,
          41,
          42,
          43,
          44,
          45,
          46,
          47,
          48,
          49,
          50,
          51,
          52,
          53,
          54,
          55,
          56,
          57,
          58,
          59,
          60,
          61,
          62,
          63,
          64,
          65,
          66,
          67,
          68,
          69,
          70,
          71,
          72,
          73,
          74,
          75,
          76,
          77,
          78,
          79,
          80,
          81,
          82,
          83,
          84,
          85,
          86,
          87,
          88,
          89,
          90,
          91,
          92,
          93,
          94,
          95,
          96,
          97,
          98,
          99
         ],
         "y": [
          0.995826467880346,
          -0.7369617224098037,
          0.37127384864429896,
          1.4973374656255485,
          -0.5136756334794229,
          -0.16912706548129708,
          -2.0136478401254956,
          0.6590292067347793,
          0.5281735423979428,
          -0.22596764617781726,
          0.8179265840659411,
          -0.7675078258062362,
          1.5557993453415198,
          1.1764532616325682,
          0.48410024097701665,
          0.7245640901748778,
          -0.1743255957392895,
          0.12398933128539748,
          0.7714456731235291,
          0.4057913540833407,
          1.186256289895277,
          -0.02105445729321405,
          -0.08094294955411512,
          0.2334964169726154,
          -1.8516069705667002,
          0.730782588490572,
          -0.7489429321852894,
          0.2560040303932152,
          0.7382717289609817,
          -0.9038563922535384,
          -0.14304968680136568,
          -0.7362909814018258,
          2.4014638348495625,
          -0.9026406680150731,
          2.56264403068799,
          -1.5081115882613203,
          -0.8431226423071239,
          -0.13073570393892617,
          0.8996129861200042,
          1.1399824665465794,
          0.048426080024693695,
          0.1668940515774451,
          -0.08354431280016783,
          -0.18563155879013335,
          0.13989039833424813,
          -0.6733933082584179,
          1.6206985566519567,
          -1.20146237893275,
          -2.0022301652003573,
          -0.5543558182050398,
          -2.492083782632766,
          -2.653638610926458,
          1.0403224744840096,
          -1.2503717390785278,
          1.2484039627566348,
          -0.1815316960413127,
          -0.7612710351716687,
          -0.5500424255656814,
          0.28190325275693273,
          0.33361672883874766,
          1.0952631148175236,
          1.9310982225189801,
          -1.2124783622530837,
          -1.2862055362957667,
          -1.3330480187478047,
          0.3731780294861189,
          -0.10194186296865584,
          -0.9603560274610924,
          -2.970109852235134,
          1.1441009979146743,
          0.04271329041066948,
          -1.3752165049488514,
          0.23494443618611646,
          0.8056619087889803,
          -2.9041102254767166,
          -0.6848921718215347,
          1.594433615490069,
          -1.4615825894063526,
          -0.13199479952107832,
          -0.2149473654351705,
          0.009768856092341214,
          -0.4052730444685135,
          -0.568991920341303,
          -1.084975804825773,
          -0.2663777907791061,
          -0.4762543065114372,
          0.028773158565766913,
          -0.7850746849449068,
          -0.6945749900304474,
          0.8427544736504147,
          -0.08393240804690318,
          -1.627899725389288,
          -0.21845671984730042,
          -0.47356107511270346,
          0.4357599336028361,
          -0.70845175800104,
          1.7153318283877876,
          0.8496103465694999,
          -1.5572805557424916,
          2.0251386210861186
         ]
        },
        {
         "connectgaps": false,
         "fill": "tozeroy",
         "line": {
          "color": "green",
          "dash": "solid",
          "shape": "linear",
          "width": 0.5
         },
         "mode": "lines",
         "name": "Spread",
         "showlegend": false,
         "type": "scatter",
         "x": [
          0,
          1,
          2,
          3,
          4,
          5,
          6,
          7,
          8,
          9,
          10,
          11,
          12,
          13,
          14,
          15,
          16,
          17,
          18,
          19,
          20,
          21,
          22,
          23,
          24,
          25,
          26,
          27,
          28,
          29,
          30,
          31,
          32,
          33,
          34,
          35,
          36,
          37,
          38,
          39,
          40,
          41,
          42,
          43,
          44,
          45,
          46,
          47,
          48,
          49,
          50,
          51,
          52,
          53,
          54,
          55,
          56,
          57,
          58,
          59,
          60,
          61,
          62,
          63,
          64,
          65,
          66,
          67,
          68,
          69,
          70,
          71,
          72,
          73,
          74,
          75,
          76,
          77,
          78,
          79,
          80,
          81,
          82,
          83,
          84,
          85,
          86,
          87,
          88,
          89,
          90,
          91,
          92,
          93,
          94,
          95,
          96,
          97,
          98,
          99
         ],
         "xaxis": "x2",
         "y": [
          "",
          "",
          "",
          "",
          0.8262871832943167,
          1.0182216642478656,
          2.340227253295557,
          "",
          "",
          "",
          "",
          0.2422407608906476,
          "",
          "",
          2.0570526335721677,
          "",
          0.4882888041444414,
          "",
          "",
          "",
          "",
          0.6737161968498577,
          0.7716465192249358,
          "",
          3.0051371517022756,
          "",
          0.6282463186987715,
          0.5494736138792827,
          0.1007058699174177,
          1.6280924129372227,
          1.1378036700943481,
          "",
          "",
          0.941155853926549,
          "",
          2.104297867346621,
          0.5754399002668602,
          1.749625429715787,
          "",
          "",
          0.3399036671771816,
          0.06851663575142772,
          "",
          0.409651353131794,
          "",
          1.2598312297188665,
          "",
          0.962629736471251,
          1.7952232567810122,
          "",
          1.994557050109214,
          2.2152528793965094,
          "",
          0.24045039403545565,
          0.06677036924112767,
          2.3457670018789067,
          "",
          0.709531347322311,
          0.25504360846927043,
          "",
          "",
          "",
          "",
          1.885524557314319,
          0.35614657053017285,
          1.3047297713009922,
          0.06397761456639517,
          1.4273733781661038,
          2.95044725997229,
          "",
          "",
          0.1659715800082875,
          "",
          1.6092858117486313,
          2.6492069251712866,
          1.8646643166120445,
          "",
          3.20668486146249,
          "",
          "",
          0.4118482467911866,
          "",
          0.6580902610316538,
          1.3849129399360611,
          1.285024204491072,
          "",
          0.3164872331360085,
          1.033837991369316,
          0.9059269413498043,
          "",
          "",
          1.3341427366838772,
          1.6864674335909966,
          0.6717362622109104,
          "",
          "",
          "",
          "",
          0.9656286753118742,
          ""
         ],
         "yaxis": "y2"
        },
        {
         "connectgaps": false,
         "fill": "tozeroy",
         "line": {
          "color": "red",
          "dash": "solid",
          "shape": "linear",
          "width": 0.5
         },
         "mode": "lines",
         "name": "Spread",
         "showlegend": false,
         "type": "scatter",
         "x": [
          0,
          1,
          2,
          3,
          4,
          5,
          6,
          7,
          8,
          9,
          10,
          11,
          12,
          13,
          14,
          15,
          16,
          17,
          18,
          19,
          20,
          21,
          22,
          23,
          24,
          25,
          26,
          27,
          28,
          29,
          30,
          31,
          32,
          33,
          34,
          35,
          36,
          37,
          38,
          39,
          40,
          41,
          42,
          43,
          44,
          45,
          46,
          47,
          48,
          49,
          50,
          51,
          52,
          53,
          54,
          55,
          56,
          57,
          58,
          59,
          60,
          61,
          62,
          63,
          64,
          65,
          66,
          67,
          68,
          69,
          70,
          71,
          72,
          73,
          74,
          75,
          76,
          77,
          78,
          79,
          80,
          81,
          82,
          83,
          84,
          85,
          86,
          87,
          88,
          89,
          90,
          91,
          92,
          93,
          94,
          95,
          96,
          97,
          98,
          99
         ],
         "xaxis": "x2",
         "y": [
          -0.955130555902948,
          -0.8017917638727836,
          -0.7418152309226261,
          -1.07506986630926,
          "",
          "",
          "",
          -1.1500998169615266,
          -2.6789019629608024,
          -0.018120223361744375,
          -1.4699656184220968,
          "",
          -2.2206888811818906,
          -1.7101729113228157,
          "",
          -0.4523855406710425,
          "",
          -0.6274910662617976,
          -1.4009755162266817,
          -1.4025611246415381,
          -1.4873247131817016,
          "",
          "",
          -0.5281905859732176,
          "",
          -1.7407841563883992,
          "",
          "",
          "",
          "",
          "",
          -0.29344641903109847,
          -1.1278468497088594,
          "",
          -1.6860112243587224,
          "",
          "",
          "",
          -1.4892533524829674,
          -0.9579137789025158,
          "",
          "",
          -1.3832456368387038,
          "",
          -0.3890920508788597,
          "",
          -3.4074411915239353,
          "",
          "",
          -1.1874646450648356,
          "",
          "",
          -1.064230800289164,
          "",
          "",
          "",
          -0.7985107593801393,
          "",
          "",
          -0.03017480789806315,
          -1.914314012849558,
          -0.8697127506554518,
          -1.4906071777461933,
          "",
          "",
          "",
          "",
          "",
          "",
          -1.7123977776755015,
          -0.002104321741254897,
          "",
          -0.5558463229158094,
          "",
          "",
          "",
          -0.752245725990058,
          "",
          -0.9393666923599507,
          -0.23513340337688754,
          "",
          -1.304101089206978,
          "",
          "",
          "",
          -0.2117531346311199,
          "",
          "",
          "",
          -0.5122789566245143,
          -0.3483390786633492,
          "",
          "",
          "",
          -0.5181525743023441,
          -0.8654745784666557,
          -2.3016357340206905,
          -0.9130390088721405,
          "",
          -2.147014534249621
         ],
         "yaxis": "y2"
        }
       ],
       "layout": {
        "hovermode": "x",
        "legend": {
         "bgcolor": "#F5F6F9",
         "font": {
          "color": "#4D5663"
         }
        },
        "paper_bgcolor": "#F5F6F9",
        "plot_bgcolor": "#F5F6F9",
        "template": {
         "data": {
          "bar": [
           {
            "error_x": {
             "color": "#2a3f5f"
            },
            "error_y": {
             "color": "#2a3f5f"
            },
            "marker": {
             "line": {
              "color": "#E5ECF6",
              "width": 0.5
             },
             "pattern": {
              "fillmode": "overlay",
              "size": 10,
              "solidity": 0.2
             }
            },
            "type": "bar"
           }
          ],
          "barpolar": [
           {
            "marker": {
             "line": {
              "color": "#E5ECF6",
              "width": 0.5
             },
             "pattern": {
              "fillmode": "overlay",
              "size": 10,
              "solidity": 0.2
             }
            },
            "type": "barpolar"
           }
          ],
          "carpet": [
           {
            "aaxis": {
             "endlinecolor": "#2a3f5f",
             "gridcolor": "white",
             "linecolor": "white",
             "minorgridcolor": "white",
             "startlinecolor": "#2a3f5f"
            },
            "baxis": {
             "endlinecolor": "#2a3f5f",
             "gridcolor": "white",
             "linecolor": "white",
             "minorgridcolor": "white",
             "startlinecolor": "#2a3f5f"
            },
            "type": "carpet"
           }
          ],
          "choropleth": [
           {
            "colorbar": {
             "outlinewidth": 0,
             "ticks": ""
            },
            "type": "choropleth"
           }
          ],
          "contour": [
           {
            "colorbar": {
             "outlinewidth": 0,
             "ticks": ""
            },
            "colorscale": [
             [
              0,
              "#0d0887"
             ],
             [
              0.1111111111111111,
              "#46039f"
             ],
             [
              0.2222222222222222,
              "#7201a8"
             ],
             [
              0.3333333333333333,
              "#9c179e"
             ],
             [
              0.4444444444444444,
              "#bd3786"
             ],
             [
              0.5555555555555556,
              "#d8576b"
             ],
             [
              0.6666666666666666,
              "#ed7953"
             ],
             [
              0.7777777777777778,
              "#fb9f3a"
             ],
             [
              0.8888888888888888,
              "#fdca26"
             ],
             [
              1,
              "#f0f921"
             ]
            ],
            "type": "contour"
           }
          ],
          "contourcarpet": [
           {
            "colorbar": {
             "outlinewidth": 0,
             "ticks": ""
            },
            "type": "contourcarpet"
           }
          ],
          "heatmap": [
           {
            "colorbar": {
             "outlinewidth": 0,
             "ticks": ""
            },
            "colorscale": [
             [
              0,
              "#0d0887"
             ],
             [
              0.1111111111111111,
              "#46039f"
             ],
             [
              0.2222222222222222,
              "#7201a8"
             ],
             [
              0.3333333333333333,
              "#9c179e"
             ],
             [
              0.4444444444444444,
              "#bd3786"
             ],
             [
              0.5555555555555556,
              "#d8576b"
             ],
             [
              0.6666666666666666,
              "#ed7953"
             ],
             [
              0.7777777777777778,
              "#fb9f3a"
             ],
             [
              0.8888888888888888,
              "#fdca26"
             ],
             [
              1,
              "#f0f921"
             ]
            ],
            "type": "heatmap"
           }
          ],
          "heatmapgl": [
           {
            "colorbar": {
             "outlinewidth": 0,
             "ticks": ""
            },
            "colorscale": [
             [
              0,
              "#0d0887"
             ],
             [
              0.1111111111111111,
              "#46039f"
             ],
             [
              0.2222222222222222,
              "#7201a8"
             ],
             [
              0.3333333333333333,
              "#9c179e"
             ],
             [
              0.4444444444444444,
              "#bd3786"
             ],
             [
              0.5555555555555556,
              "#d8576b"
             ],
             [
              0.6666666666666666,
              "#ed7953"
             ],
             [
              0.7777777777777778,
              "#fb9f3a"
             ],
             [
              0.8888888888888888,
              "#fdca26"
             ],
             [
              1,
              "#f0f921"
             ]
            ],
            "type": "heatmapgl"
           }
          ],
          "histogram": [
           {
            "marker": {
             "pattern": {
              "fillmode": "overlay",
              "size": 10,
              "solidity": 0.2
             }
            },
            "type": "histogram"
           }
          ],
          "histogram2d": [
           {
            "colorbar": {
             "outlinewidth": 0,
             "ticks": ""
            },
            "colorscale": [
             [
              0,
              "#0d0887"
             ],
             [
              0.1111111111111111,
              "#46039f"
             ],
             [
              0.2222222222222222,
              "#7201a8"
             ],
             [
              0.3333333333333333,
              "#9c179e"
             ],
             [
              0.4444444444444444,
              "#bd3786"
             ],
             [
              0.5555555555555556,
              "#d8576b"
             ],
             [
              0.6666666666666666,
              "#ed7953"
             ],
             [
              0.7777777777777778,
              "#fb9f3a"
             ],
             [
              0.8888888888888888,
              "#fdca26"
             ],
             [
              1,
              "#f0f921"
             ]
            ],
            "type": "histogram2d"
           }
          ],
          "histogram2dcontour": [
           {
            "colorbar": {
             "outlinewidth": 0,
             "ticks": ""
            },
            "colorscale": [
             [
              0,
              "#0d0887"
             ],
             [
              0.1111111111111111,
              "#46039f"
             ],
             [
              0.2222222222222222,
              "#7201a8"
             ],
             [
              0.3333333333333333,
              "#9c179e"
             ],
             [
              0.4444444444444444,
              "#bd3786"
             ],
             [
              0.5555555555555556,
              "#d8576b"
             ],
             [
              0.6666666666666666,
              "#ed7953"
             ],
             [
              0.7777777777777778,
              "#fb9f3a"
             ],
             [
              0.8888888888888888,
              "#fdca26"
             ],
             [
              1,
              "#f0f921"
             ]
            ],
            "type": "histogram2dcontour"
           }
          ],
          "mesh3d": [
           {
            "colorbar": {
             "outlinewidth": 0,
             "ticks": ""
            },
            "type": "mesh3d"
           }
          ],
          "parcoords": [
           {
            "line": {
             "colorbar": {
              "outlinewidth": 0,
              "ticks": ""
             }
            },
            "type": "parcoords"
           }
          ],
          "pie": [
           {
            "automargin": true,
            "type": "pie"
           }
          ],
          "scatter": [
           {
            "marker": {
             "colorbar": {
              "outlinewidth": 0,
              "ticks": ""
             }
            },
            "type": "scatter"
           }
          ],
          "scatter3d": [
           {
            "line": {
             "colorbar": {
              "outlinewidth": 0,
              "ticks": ""
             }
            },
            "marker": {
             "colorbar": {
              "outlinewidth": 0,
              "ticks": ""
             }
            },
            "type": "scatter3d"
           }
          ],
          "scattercarpet": [
           {
            "marker": {
             "colorbar": {
              "outlinewidth": 0,
              "ticks": ""
             }
            },
            "type": "scattercarpet"
           }
          ],
          "scattergeo": [
           {
            "marker": {
             "colorbar": {
              "outlinewidth": 0,
              "ticks": ""
             }
            },
            "type": "scattergeo"
           }
          ],
          "scattergl": [
           {
            "marker": {
             "colorbar": {
              "outlinewidth": 0,
              "ticks": ""
             }
            },
            "type": "scattergl"
           }
          ],
          "scattermapbox": [
           {
            "marker": {
             "colorbar": {
              "outlinewidth": 0,
              "ticks": ""
             }
            },
            "type": "scattermapbox"
           }
          ],
          "scatterpolar": [
           {
            "marker": {
             "colorbar": {
              "outlinewidth": 0,
              "ticks": ""
             }
            },
            "type": "scatterpolar"
           }
          ],
          "scatterpolargl": [
           {
            "marker": {
             "colorbar": {
              "outlinewidth": 0,
              "ticks": ""
             }
            },
            "type": "scatterpolargl"
           }
          ],
          "scatterternary": [
           {
            "marker": {
             "colorbar": {
              "outlinewidth": 0,
              "ticks": ""
             }
            },
            "type": "scatterternary"
           }
          ],
          "surface": [
           {
            "colorbar": {
             "outlinewidth": 0,
             "ticks": ""
            },
            "colorscale": [
             [
              0,
              "#0d0887"
             ],
             [
              0.1111111111111111,
              "#46039f"
             ],
             [
              0.2222222222222222,
              "#7201a8"
             ],
             [
              0.3333333333333333,
              "#9c179e"
             ],
             [
              0.4444444444444444,
              "#bd3786"
             ],
             [
              0.5555555555555556,
              "#d8576b"
             ],
             [
              0.6666666666666666,
              "#ed7953"
             ],
             [
              0.7777777777777778,
              "#fb9f3a"
             ],
             [
              0.8888888888888888,
              "#fdca26"
             ],
             [
              1,
              "#f0f921"
             ]
            ],
            "type": "surface"
           }
          ],
          "table": [
           {
            "cells": {
             "fill": {
              "color": "#EBF0F8"
             },
             "line": {
              "color": "white"
             }
            },
            "header": {
             "fill": {
              "color": "#C8D4E3"
             },
             "line": {
              "color": "white"
             }
            },
            "type": "table"
           }
          ]
         },
         "layout": {
          "annotationdefaults": {
           "arrowcolor": "#2a3f5f",
           "arrowhead": 0,
           "arrowwidth": 1
          },
          "autotypenumbers": "strict",
          "coloraxis": {
           "colorbar": {
            "outlinewidth": 0,
            "ticks": ""
           }
          },
          "colorscale": {
           "diverging": [
            [
             0,
             "#8e0152"
            ],
            [
             0.1,
             "#c51b7d"
            ],
            [
             0.2,
             "#de77ae"
            ],
            [
             0.3,
             "#f1b6da"
            ],
            [
             0.4,
             "#fde0ef"
            ],
            [
             0.5,
             "#f7f7f7"
            ],
            [
             0.6,
             "#e6f5d0"
            ],
            [
             0.7,
             "#b8e186"
            ],
            [
             0.8,
             "#7fbc41"
            ],
            [
             0.9,
             "#4d9221"
            ],
            [
             1,
             "#276419"
            ]
           ],
           "sequential": [
            [
             0,
             "#0d0887"
            ],
            [
             0.1111111111111111,
             "#46039f"
            ],
            [
             0.2222222222222222,
             "#7201a8"
            ],
            [
             0.3333333333333333,
             "#9c179e"
            ],
            [
             0.4444444444444444,
             "#bd3786"
            ],
            [
             0.5555555555555556,
             "#d8576b"
            ],
            [
             0.6666666666666666,
             "#ed7953"
            ],
            [
             0.7777777777777778,
             "#fb9f3a"
            ],
            [
             0.8888888888888888,
             "#fdca26"
            ],
            [
             1,
             "#f0f921"
            ]
           ],
           "sequentialminus": [
            [
             0,
             "#0d0887"
            ],
            [
             0.1111111111111111,
             "#46039f"
            ],
            [
             0.2222222222222222,
             "#7201a8"
            ],
            [
             0.3333333333333333,
             "#9c179e"
            ],
            [
             0.4444444444444444,
             "#bd3786"
            ],
            [
             0.5555555555555556,
             "#d8576b"
            ],
            [
             0.6666666666666666,
             "#ed7953"
            ],
            [
             0.7777777777777778,
             "#fb9f3a"
            ],
            [
             0.8888888888888888,
             "#fdca26"
            ],
            [
             1,
             "#f0f921"
            ]
           ]
          },
          "colorway": [
           "#636efa",
           "#EF553B",
           "#00cc96",
           "#ab63fa",
           "#FFA15A",
           "#19d3f3",
           "#FF6692",
           "#B6E880",
           "#FF97FF",
           "#FECB52"
          ],
          "font": {
           "color": "#2a3f5f"
          },
          "geo": {
           "bgcolor": "white",
           "lakecolor": "white",
           "landcolor": "#E5ECF6",
           "showlakes": true,
           "showland": true,
           "subunitcolor": "white"
          },
          "hoverlabel": {
           "align": "left"
          },
          "hovermode": "closest",
          "mapbox": {
           "style": "light"
          },
          "paper_bgcolor": "white",
          "plot_bgcolor": "#E5ECF6",
          "polar": {
           "angularaxis": {
            "gridcolor": "white",
            "linecolor": "white",
            "ticks": ""
           },
           "bgcolor": "#E5ECF6",
           "radialaxis": {
            "gridcolor": "white",
            "linecolor": "white",
            "ticks": ""
           }
          },
          "scene": {
           "xaxis": {
            "backgroundcolor": "#E5ECF6",
            "gridcolor": "white",
            "gridwidth": 2,
            "linecolor": "white",
            "showbackground": true,
            "ticks": "",
            "zerolinecolor": "white"
           },
           "yaxis": {
            "backgroundcolor": "#E5ECF6",
            "gridcolor": "white",
            "gridwidth": 2,
            "linecolor": "white",
            "showbackground": true,
            "ticks": "",
            "zerolinecolor": "white"
           },
           "zaxis": {
            "backgroundcolor": "#E5ECF6",
            "gridcolor": "white",
            "gridwidth": 2,
            "linecolor": "white",
            "showbackground": true,
            "ticks": "",
            "zerolinecolor": "white"
           }
          },
          "shapedefaults": {
           "line": {
            "color": "#2a3f5f"
           }
          },
          "ternary": {
           "aaxis": {
            "gridcolor": "white",
            "linecolor": "white",
            "ticks": ""
           },
           "baxis": {
            "gridcolor": "white",
            "linecolor": "white",
            "ticks": ""
           },
           "bgcolor": "#E5ECF6",
           "caxis": {
            "gridcolor": "white",
            "linecolor": "white",
            "ticks": ""
           }
          },
          "title": {
           "x": 0.05
          },
          "xaxis": {
           "automargin": true,
           "gridcolor": "white",
           "linecolor": "white",
           "ticks": "",
           "title": {
            "standoff": 15
           },
           "zerolinecolor": "white",
           "zerolinewidth": 2
          },
          "yaxis": {
           "automargin": true,
           "gridcolor": "white",
           "linecolor": "white",
           "ticks": "",
           "title": {
            "standoff": 15
           },
           "zerolinecolor": "white",
           "zerolinewidth": 2
          }
         }
        },
        "title": {
         "font": {
          "color": "#4D5663"
         }
        },
        "xaxis": {
         "gridcolor": "#E1E5ED",
         "showgrid": true,
         "tickfont": {
          "color": "#4D5663"
         },
         "title": {
          "font": {
           "color": "#4D5663"
          },
          "text": ""
         },
         "zerolinecolor": "#E1E5ED"
        },
        "xaxis2": {
         "anchor": "y2",
         "gridcolor": "#E1E5ED",
         "showgrid": true,
         "showticklabels": false,
         "tickfont": {
          "color": "#4D5663"
         },
         "title": {
          "font": {
           "color": "#4D5663"
          },
          "text": ""
         },
         "zerolinecolor": "#E1E5ED"
        },
        "yaxis": {
         "domain": [
          0.3,
          1
         ],
         "gridcolor": "#E1E5ED",
         "showgrid": true,
         "tickfont": {
          "color": "#4D5663"
         },
         "title": {
          "font": {
           "color": "#4D5663"
          },
          "text": ""
         },
         "zerolinecolor": "#E1E5ED"
        },
        "yaxis2": {
         "domain": [
          0,
          0.25
         ],
         "gridcolor": "#E1E5ED",
         "showgrid": true,
         "tickfont": {
          "color": "#4D5663"
         },
         "title": {
          "font": {
           "color": "#4D5663"
          },
          "text": "Spread"
         },
         "zerolinecolor": "#E1E5ED"
        }
       }
      },
      "text/html": [
       "<div>                            <div id=\"bfc1becc-e51a-4630-be60-f2e9c86f42e1\" class=\"plotly-graph-div\" style=\"height:525px; width:100%;\"></div>            <script type=\"text/javascript\">                require([\"plotly\"], function(Plotly) {                    window.PLOTLYENV=window.PLOTLYENV || {};\n",
       "                    window.PLOTLYENV.BASE_URL='https://plot.ly';                                    if (document.getElementById(\"bfc1becc-e51a-4630-be60-f2e9c86f42e1\")) {                    Plotly.newPlot(                        \"bfc1becc-e51a-4630-be60-f2e9c86f42e1\",                        [{\"line\":{\"color\":\"rgba(255, 153, 51, 1.0)\",\"dash\":\"solid\",\"shape\":\"linear\",\"width\":1.3},\"mode\":\"lines\",\"name\":\"A\",\"text\":\"\",\"x\":[0,1,2,3,4,5,6,7,8,9,10,11,12,13,14,15,16,17,18,19,20,21,22,23,24,25,26,27,28,29,30,31,32,33,34,35,36,37,38,39,40,41,42,43,44,45,46,47,48,49,50,51,52,53,54,55,56,57,58,59,60,61,62,63,64,65,66,67,68,69,70,71,72,73,74,75,76,77,78,79,80,81,82,83,84,85,86,87,88,89,90,91,92,93,94,95,96,97,98,99],\"y\":[0.04069591197739794,-1.5387534862825873,-0.37054138227832717,0.42226759931628843,0.3126115498148938,0.8490945987665685,0.32657941317006145,-0.49107061022674736,-2.1507284205628596,-0.24408786953956163,-0.6520390343561558,-0.5252670649155886,-0.6648895358403708,-0.5337196496902474,2.5411528745491845,0.2721785495038353,0.3139632084051519,-0.5035017349764002,-0.6295298431031526,-0.9967697705581974,-0.3010684232864244,0.6526617395566436,0.6907035696708207,-0.29469416900060214,1.1535301811355754,-1.0100015678978271,-0.12069661348651797,0.8054776442724979,0.8389775988783994,0.7242360206836844,0.9947539832929825,-1.0297374004329243,1.273616985140703,0.0385151859114759,0.8766328063292678,0.596186279085301,-0.2676827420402636,1.6188897257768609,-0.5896403663629634,0.18206868764406353,0.3883297472018753,0.23541068732887283,-1.4667899496388717,0.22401979434166064,-0.24920165254461157,0.5864379214604486,-1.7867426348719786,-0.2388326424614991,-0.20700690841934505,-1.7418204632698755,-0.4975267325235522,-0.4383857315299486,-0.023908325805154496,-1.0099213450430722,1.3151743319977625,2.164235305837594,-1.559781794551808,0.15948892175662965,0.5369468612262032,0.3034419209406845,-0.8190508980320342,1.0613854718635283,-2.703085539999277,0.5993190210185522,-0.9769014482176318,1.677907800787111,-0.037964248402260675,0.4670173507050114,-0.019662592262844062,-0.568296779760827,0.04060896866941458,-1.209244924940564,-0.3209018867296929,2.4149477205376115,-0.25490330030542974,1.1797721447905096,0.8421878895000109,1.745102272056137,-1.071361491881029,-0.45008076881205805,0.42161710288352783,-1.7093741336754915,0.08909834069035083,0.29993713511028813,1.018646413711966,-0.6880074411425571,0.3452603917017754,0.2487633064244093,0.21135195131935697,0.33047551702590044,-0.43227148671025234,-0.2937569887054107,1.4680107137436962,0.19817518709820703,-0.08239264069950791,-1.5739263364676956,-0.5863039056329027,-0.0634286623026407,-0.5916518804306173,-0.12187591316350242],\"type\":\"scatter\"},{\"line\":{\"color\":\"rgba(55, 128, 191, 1.0)\",\"dash\":\"solid\",\"shape\":\"linear\",\"width\":1.3},\"mode\":\"lines\",\"name\":\"B\",\"text\":\"\",\"x\":[0,1,2,3,4,5,6,7,8,9,10,11,12,13,14,15,16,17,18,19,20,21,22,23,24,25,26,27,28,29,30,31,32,33,34,35,36,37,38,39,40,41,42,43,44,45,46,47,48,49,50,51,52,53,54,55,56,57,58,59,60,61,62,63,64,65,66,67,68,69,70,71,72,73,74,75,76,77,78,79,80,81,82,83,84,85,86,87,88,89,90,91,92,93,94,95,96,97,98,99],\"y\":[0.995826467880346,-0.7369617224098037,0.37127384864429896,1.4973374656255485,-0.5136756334794229,-0.16912706548129708,-2.0136478401254956,0.6590292067347793,0.5281735423979428,-0.22596764617781726,0.8179265840659411,-0.7675078258062362,1.5557993453415198,1.1764532616325682,0.48410024097701665,0.7245640901748778,-0.1743255957392895,0.12398933128539748,0.7714456731235291,0.4057913540833407,1.186256289895277,-0.02105445729321405,-0.08094294955411512,0.2334964169726154,-1.8516069705667002,0.730782588490572,-0.7489429321852894,0.2560040303932152,0.7382717289609817,-0.9038563922535384,-0.14304968680136568,-0.7362909814018258,2.4014638348495625,-0.9026406680150731,2.56264403068799,-1.5081115882613203,-0.8431226423071239,-0.13073570393892617,0.8996129861200042,1.1399824665465794,0.048426080024693695,0.1668940515774451,-0.08354431280016783,-0.18563155879013335,0.13989039833424813,-0.6733933082584179,1.6206985566519567,-1.20146237893275,-2.0022301652003573,-0.5543558182050398,-2.492083782632766,-2.653638610926458,1.0403224744840096,-1.2503717390785278,1.2484039627566348,-0.1815316960413127,-0.7612710351716687,-0.5500424255656814,0.28190325275693273,0.33361672883874766,1.0952631148175236,1.9310982225189801,-1.2124783622530837,-1.2862055362957667,-1.3330480187478047,0.3731780294861189,-0.10194186296865584,-0.9603560274610924,-2.970109852235134,1.1441009979146743,0.04271329041066948,-1.3752165049488514,0.23494443618611646,0.8056619087889803,-2.9041102254767166,-0.6848921718215347,1.594433615490069,-1.4615825894063526,-0.13199479952107832,-0.2149473654351705,0.009768856092341214,-0.4052730444685135,-0.568991920341303,-1.084975804825773,-0.2663777907791061,-0.4762543065114372,0.028773158565766913,-0.7850746849449068,-0.6945749900304474,0.8427544736504147,-0.08393240804690318,-1.627899725389288,-0.21845671984730042,-0.47356107511270346,0.4357599336028361,-0.70845175800104,1.7153318283877876,0.8496103465694999,-1.5572805557424916,2.0251386210861186],\"type\":\"scatter\"},{\"connectgaps\":false,\"fill\":\"tozeroy\",\"line\":{\"color\":\"green\",\"dash\":\"solid\",\"shape\":\"linear\",\"width\":0.5},\"mode\":\"lines\",\"name\":\"Spread\",\"showlegend\":false,\"x\":[0,1,2,3,4,5,6,7,8,9,10,11,12,13,14,15,16,17,18,19,20,21,22,23,24,25,26,27,28,29,30,31,32,33,34,35,36,37,38,39,40,41,42,43,44,45,46,47,48,49,50,51,52,53,54,55,56,57,58,59,60,61,62,63,64,65,66,67,68,69,70,71,72,73,74,75,76,77,78,79,80,81,82,83,84,85,86,87,88,89,90,91,92,93,94,95,96,97,98,99],\"xaxis\":\"x2\",\"y\":[\"\",\"\",\"\",\"\",0.8262871832943167,1.0182216642478656,2.340227253295557,\"\",\"\",\"\",\"\",0.2422407608906476,\"\",\"\",2.0570526335721677,\"\",0.4882888041444414,\"\",\"\",\"\",\"\",0.6737161968498577,0.7716465192249358,\"\",3.0051371517022756,\"\",0.6282463186987715,0.5494736138792827,0.1007058699174177,1.6280924129372227,1.1378036700943481,\"\",\"\",0.941155853926549,\"\",2.104297867346621,0.5754399002668602,1.749625429715787,\"\",\"\",0.3399036671771816,0.06851663575142772,\"\",0.409651353131794,\"\",1.2598312297188665,\"\",0.962629736471251,1.7952232567810122,\"\",1.994557050109214,2.2152528793965094,\"\",0.24045039403545565,0.06677036924112767,2.3457670018789067,\"\",0.709531347322311,0.25504360846927043,\"\",\"\",\"\",\"\",1.885524557314319,0.35614657053017285,1.3047297713009922,0.06397761456639517,1.4273733781661038,2.95044725997229,\"\",\"\",0.1659715800082875,\"\",1.6092858117486313,2.6492069251712866,1.8646643166120445,\"\",3.20668486146249,\"\",\"\",0.4118482467911866,\"\",0.6580902610316538,1.3849129399360611,1.285024204491072,\"\",0.3164872331360085,1.033837991369316,0.9059269413498043,\"\",\"\",1.3341427366838772,1.6864674335909966,0.6717362622109104,\"\",\"\",\"\",\"\",0.9656286753118742,\"\"],\"yaxis\":\"y2\",\"type\":\"scatter\"},{\"connectgaps\":false,\"fill\":\"tozeroy\",\"line\":{\"color\":\"red\",\"dash\":\"solid\",\"shape\":\"linear\",\"width\":0.5},\"mode\":\"lines\",\"name\":\"Spread\",\"showlegend\":false,\"x\":[0,1,2,3,4,5,6,7,8,9,10,11,12,13,14,15,16,17,18,19,20,21,22,23,24,25,26,27,28,29,30,31,32,33,34,35,36,37,38,39,40,41,42,43,44,45,46,47,48,49,50,51,52,53,54,55,56,57,58,59,60,61,62,63,64,65,66,67,68,69,70,71,72,73,74,75,76,77,78,79,80,81,82,83,84,85,86,87,88,89,90,91,92,93,94,95,96,97,98,99],\"xaxis\":\"x2\",\"y\":[-0.955130555902948,-0.8017917638727836,-0.7418152309226261,-1.07506986630926,\"\",\"\",\"\",-1.1500998169615266,-2.6789019629608024,-0.018120223361744375,-1.4699656184220968,\"\",-2.2206888811818906,-1.7101729113228157,\"\",-0.4523855406710425,\"\",-0.6274910662617976,-1.4009755162266817,-1.4025611246415381,-1.4873247131817016,\"\",\"\",-0.5281905859732176,\"\",-1.7407841563883992,\"\",\"\",\"\",\"\",\"\",-0.29344641903109847,-1.1278468497088594,\"\",-1.6860112243587224,\"\",\"\",\"\",-1.4892533524829674,-0.9579137789025158,\"\",\"\",-1.3832456368387038,\"\",-0.3890920508788597,\"\",-3.4074411915239353,\"\",\"\",-1.1874646450648356,\"\",\"\",-1.064230800289164,\"\",\"\",\"\",-0.7985107593801393,\"\",\"\",-0.03017480789806315,-1.914314012849558,-0.8697127506554518,-1.4906071777461933,\"\",\"\",\"\",\"\",\"\",\"\",-1.7123977776755015,-0.002104321741254897,\"\",-0.5558463229158094,\"\",\"\",\"\",-0.752245725990058,\"\",-0.9393666923599507,-0.23513340337688754,\"\",-1.304101089206978,\"\",\"\",\"\",-0.2117531346311199,\"\",\"\",\"\",-0.5122789566245143,-0.3483390786633492,\"\",\"\",\"\",-0.5181525743023441,-0.8654745784666557,-2.3016357340206905,-0.9130390088721405,\"\",-2.147014534249621],\"yaxis\":\"y2\",\"type\":\"scatter\"}],                        {\"hovermode\":\"x\",\"legend\":{\"bgcolor\":\"#F5F6F9\",\"font\":{\"color\":\"#4D5663\"}},\"paper_bgcolor\":\"#F5F6F9\",\"plot_bgcolor\":\"#F5F6F9\",\"template\":{\"data\":{\"barpolar\":[{\"marker\":{\"line\":{\"color\":\"#E5ECF6\",\"width\":0.5},\"pattern\":{\"fillmode\":\"overlay\",\"size\":10,\"solidity\":0.2}},\"type\":\"barpolar\"}],\"bar\":[{\"error_x\":{\"color\":\"#2a3f5f\"},\"error_y\":{\"color\":\"#2a3f5f\"},\"marker\":{\"line\":{\"color\":\"#E5ECF6\",\"width\":0.5},\"pattern\":{\"fillmode\":\"overlay\",\"size\":10,\"solidity\":0.2}},\"type\":\"bar\"}],\"carpet\":[{\"aaxis\":{\"endlinecolor\":\"#2a3f5f\",\"gridcolor\":\"white\",\"linecolor\":\"white\",\"minorgridcolor\":\"white\",\"startlinecolor\":\"#2a3f5f\"},\"baxis\":{\"endlinecolor\":\"#2a3f5f\",\"gridcolor\":\"white\",\"linecolor\":\"white\",\"minorgridcolor\":\"white\",\"startlinecolor\":\"#2a3f5f\"},\"type\":\"carpet\"}],\"choropleth\":[{\"colorbar\":{\"outlinewidth\":0,\"ticks\":\"\"},\"type\":\"choropleth\"}],\"contourcarpet\":[{\"colorbar\":{\"outlinewidth\":0,\"ticks\":\"\"},\"type\":\"contourcarpet\"}],\"contour\":[{\"colorbar\":{\"outlinewidth\":0,\"ticks\":\"\"},\"colorscale\":[[0.0,\"#0d0887\"],[0.1111111111111111,\"#46039f\"],[0.2222222222222222,\"#7201a8\"],[0.3333333333333333,\"#9c179e\"],[0.4444444444444444,\"#bd3786\"],[0.5555555555555556,\"#d8576b\"],[0.6666666666666666,\"#ed7953\"],[0.7777777777777778,\"#fb9f3a\"],[0.8888888888888888,\"#fdca26\"],[1.0,\"#f0f921\"]],\"type\":\"contour\"}],\"heatmapgl\":[{\"colorbar\":{\"outlinewidth\":0,\"ticks\":\"\"},\"colorscale\":[[0.0,\"#0d0887\"],[0.1111111111111111,\"#46039f\"],[0.2222222222222222,\"#7201a8\"],[0.3333333333333333,\"#9c179e\"],[0.4444444444444444,\"#bd3786\"],[0.5555555555555556,\"#d8576b\"],[0.6666666666666666,\"#ed7953\"],[0.7777777777777778,\"#fb9f3a\"],[0.8888888888888888,\"#fdca26\"],[1.0,\"#f0f921\"]],\"type\":\"heatmapgl\"}],\"heatmap\":[{\"colorbar\":{\"outlinewidth\":0,\"ticks\":\"\"},\"colorscale\":[[0.0,\"#0d0887\"],[0.1111111111111111,\"#46039f\"],[0.2222222222222222,\"#7201a8\"],[0.3333333333333333,\"#9c179e\"],[0.4444444444444444,\"#bd3786\"],[0.5555555555555556,\"#d8576b\"],[0.6666666666666666,\"#ed7953\"],[0.7777777777777778,\"#fb9f3a\"],[0.8888888888888888,\"#fdca26\"],[1.0,\"#f0f921\"]],\"type\":\"heatmap\"}],\"histogram2dcontour\":[{\"colorbar\":{\"outlinewidth\":0,\"ticks\":\"\"},\"colorscale\":[[0.0,\"#0d0887\"],[0.1111111111111111,\"#46039f\"],[0.2222222222222222,\"#7201a8\"],[0.3333333333333333,\"#9c179e\"],[0.4444444444444444,\"#bd3786\"],[0.5555555555555556,\"#d8576b\"],[0.6666666666666666,\"#ed7953\"],[0.7777777777777778,\"#fb9f3a\"],[0.8888888888888888,\"#fdca26\"],[1.0,\"#f0f921\"]],\"type\":\"histogram2dcontour\"}],\"histogram2d\":[{\"colorbar\":{\"outlinewidth\":0,\"ticks\":\"\"},\"colorscale\":[[0.0,\"#0d0887\"],[0.1111111111111111,\"#46039f\"],[0.2222222222222222,\"#7201a8\"],[0.3333333333333333,\"#9c179e\"],[0.4444444444444444,\"#bd3786\"],[0.5555555555555556,\"#d8576b\"],[0.6666666666666666,\"#ed7953\"],[0.7777777777777778,\"#fb9f3a\"],[0.8888888888888888,\"#fdca26\"],[1.0,\"#f0f921\"]],\"type\":\"histogram2d\"}],\"histogram\":[{\"marker\":{\"pattern\":{\"fillmode\":\"overlay\",\"size\":10,\"solidity\":0.2}},\"type\":\"histogram\"}],\"mesh3d\":[{\"colorbar\":{\"outlinewidth\":0,\"ticks\":\"\"},\"type\":\"mesh3d\"}],\"parcoords\":[{\"line\":{\"colorbar\":{\"outlinewidth\":0,\"ticks\":\"\"}},\"type\":\"parcoords\"}],\"pie\":[{\"automargin\":true,\"type\":\"pie\"}],\"scatter3d\":[{\"line\":{\"colorbar\":{\"outlinewidth\":0,\"ticks\":\"\"}},\"marker\":{\"colorbar\":{\"outlinewidth\":0,\"ticks\":\"\"}},\"type\":\"scatter3d\"}],\"scattercarpet\":[{\"marker\":{\"colorbar\":{\"outlinewidth\":0,\"ticks\":\"\"}},\"type\":\"scattercarpet\"}],\"scattergeo\":[{\"marker\":{\"colorbar\":{\"outlinewidth\":0,\"ticks\":\"\"}},\"type\":\"scattergeo\"}],\"scattergl\":[{\"marker\":{\"colorbar\":{\"outlinewidth\":0,\"ticks\":\"\"}},\"type\":\"scattergl\"}],\"scattermapbox\":[{\"marker\":{\"colorbar\":{\"outlinewidth\":0,\"ticks\":\"\"}},\"type\":\"scattermapbox\"}],\"scatterpolargl\":[{\"marker\":{\"colorbar\":{\"outlinewidth\":0,\"ticks\":\"\"}},\"type\":\"scatterpolargl\"}],\"scatterpolar\":[{\"marker\":{\"colorbar\":{\"outlinewidth\":0,\"ticks\":\"\"}},\"type\":\"scatterpolar\"}],\"scatter\":[{\"marker\":{\"colorbar\":{\"outlinewidth\":0,\"ticks\":\"\"}},\"type\":\"scatter\"}],\"scatterternary\":[{\"marker\":{\"colorbar\":{\"outlinewidth\":0,\"ticks\":\"\"}},\"type\":\"scatterternary\"}],\"surface\":[{\"colorbar\":{\"outlinewidth\":0,\"ticks\":\"\"},\"colorscale\":[[0.0,\"#0d0887\"],[0.1111111111111111,\"#46039f\"],[0.2222222222222222,\"#7201a8\"],[0.3333333333333333,\"#9c179e\"],[0.4444444444444444,\"#bd3786\"],[0.5555555555555556,\"#d8576b\"],[0.6666666666666666,\"#ed7953\"],[0.7777777777777778,\"#fb9f3a\"],[0.8888888888888888,\"#fdca26\"],[1.0,\"#f0f921\"]],\"type\":\"surface\"}],\"table\":[{\"cells\":{\"fill\":{\"color\":\"#EBF0F8\"},\"line\":{\"color\":\"white\"}},\"header\":{\"fill\":{\"color\":\"#C8D4E3\"},\"line\":{\"color\":\"white\"}},\"type\":\"table\"}]},\"layout\":{\"annotationdefaults\":{\"arrowcolor\":\"#2a3f5f\",\"arrowhead\":0,\"arrowwidth\":1},\"autotypenumbers\":\"strict\",\"coloraxis\":{\"colorbar\":{\"outlinewidth\":0,\"ticks\":\"\"}},\"colorscale\":{\"diverging\":[[0,\"#8e0152\"],[0.1,\"#c51b7d\"],[0.2,\"#de77ae\"],[0.3,\"#f1b6da\"],[0.4,\"#fde0ef\"],[0.5,\"#f7f7f7\"],[0.6,\"#e6f5d0\"],[0.7,\"#b8e186\"],[0.8,\"#7fbc41\"],[0.9,\"#4d9221\"],[1,\"#276419\"]],\"sequential\":[[0.0,\"#0d0887\"],[0.1111111111111111,\"#46039f\"],[0.2222222222222222,\"#7201a8\"],[0.3333333333333333,\"#9c179e\"],[0.4444444444444444,\"#bd3786\"],[0.5555555555555556,\"#d8576b\"],[0.6666666666666666,\"#ed7953\"],[0.7777777777777778,\"#fb9f3a\"],[0.8888888888888888,\"#fdca26\"],[1.0,\"#f0f921\"]],\"sequentialminus\":[[0.0,\"#0d0887\"],[0.1111111111111111,\"#46039f\"],[0.2222222222222222,\"#7201a8\"],[0.3333333333333333,\"#9c179e\"],[0.4444444444444444,\"#bd3786\"],[0.5555555555555556,\"#d8576b\"],[0.6666666666666666,\"#ed7953\"],[0.7777777777777778,\"#fb9f3a\"],[0.8888888888888888,\"#fdca26\"],[1.0,\"#f0f921\"]]},\"colorway\":[\"#636efa\",\"#EF553B\",\"#00cc96\",\"#ab63fa\",\"#FFA15A\",\"#19d3f3\",\"#FF6692\",\"#B6E880\",\"#FF97FF\",\"#FECB52\"],\"font\":{\"color\":\"#2a3f5f\"},\"geo\":{\"bgcolor\":\"white\",\"lakecolor\":\"white\",\"landcolor\":\"#E5ECF6\",\"showlakes\":true,\"showland\":true,\"subunitcolor\":\"white\"},\"hoverlabel\":{\"align\":\"left\"},\"hovermode\":\"closest\",\"mapbox\":{\"style\":\"light\"},\"paper_bgcolor\":\"white\",\"plot_bgcolor\":\"#E5ECF6\",\"polar\":{\"angularaxis\":{\"gridcolor\":\"white\",\"linecolor\":\"white\",\"ticks\":\"\"},\"bgcolor\":\"#E5ECF6\",\"radialaxis\":{\"gridcolor\":\"white\",\"linecolor\":\"white\",\"ticks\":\"\"}},\"scene\":{\"xaxis\":{\"backgroundcolor\":\"#E5ECF6\",\"gridcolor\":\"white\",\"gridwidth\":2,\"linecolor\":\"white\",\"showbackground\":true,\"ticks\":\"\",\"zerolinecolor\":\"white\"},\"yaxis\":{\"backgroundcolor\":\"#E5ECF6\",\"gridcolor\":\"white\",\"gridwidth\":2,\"linecolor\":\"white\",\"showbackground\":true,\"ticks\":\"\",\"zerolinecolor\":\"white\"},\"zaxis\":{\"backgroundcolor\":\"#E5ECF6\",\"gridcolor\":\"white\",\"gridwidth\":2,\"linecolor\":\"white\",\"showbackground\":true,\"ticks\":\"\",\"zerolinecolor\":\"white\"}},\"shapedefaults\":{\"line\":{\"color\":\"#2a3f5f\"}},\"ternary\":{\"aaxis\":{\"gridcolor\":\"white\",\"linecolor\":\"white\",\"ticks\":\"\"},\"baxis\":{\"gridcolor\":\"white\",\"linecolor\":\"white\",\"ticks\":\"\"},\"bgcolor\":\"#E5ECF6\",\"caxis\":{\"gridcolor\":\"white\",\"linecolor\":\"white\",\"ticks\":\"\"}},\"title\":{\"x\":0.05},\"xaxis\":{\"automargin\":true,\"gridcolor\":\"white\",\"linecolor\":\"white\",\"ticks\":\"\",\"title\":{\"standoff\":15},\"zerolinecolor\":\"white\",\"zerolinewidth\":2},\"yaxis\":{\"automargin\":true,\"gridcolor\":\"white\",\"linecolor\":\"white\",\"ticks\":\"\",\"title\":{\"standoff\":15},\"zerolinecolor\":\"white\",\"zerolinewidth\":2}}},\"title\":{\"font\":{\"color\":\"#4D5663\"}},\"xaxis\":{\"gridcolor\":\"#E1E5ED\",\"showgrid\":true,\"tickfont\":{\"color\":\"#4D5663\"},\"title\":{\"font\":{\"color\":\"#4D5663\"},\"text\":\"\"},\"zerolinecolor\":\"#E1E5ED\"},\"yaxis\":{\"domain\":[0.3,1],\"gridcolor\":\"#E1E5ED\",\"showgrid\":true,\"tickfont\":{\"color\":\"#4D5663\"},\"title\":{\"font\":{\"color\":\"#4D5663\"},\"text\":\"\"},\"zerolinecolor\":\"#E1E5ED\"},\"yaxis2\":{\"domain\":[0,0.25],\"gridcolor\":\"#E1E5ED\",\"showgrid\":true,\"tickfont\":{\"color\":\"#4D5663\"},\"title\":{\"font\":{\"color\":\"#4D5663\"},\"text\":\"Spread\"},\"zerolinecolor\":\"#E1E5ED\"},\"xaxis2\":{\"anchor\":\"y2\",\"gridcolor\":\"#E1E5ED\",\"showgrid\":true,\"showticklabels\":false,\"tickfont\":{\"color\":\"#4D5663\"},\"title\":{\"font\":{\"color\":\"#4D5663\"},\"text\":\"\"},\"zerolinecolor\":\"#E1E5ED\"}},                        {\"showLink\": true, \"linkText\": \"Export to plot.ly\", \"plotlyServerURL\": \"https://plot.ly\", \"responsive\": true}                    ).then(function(){\n",
       "                            \n",
       "var gd = document.getElementById('bfc1becc-e51a-4630-be60-f2e9c86f42e1');\n",
       "var x = new MutationObserver(function (mutations, observer) {{\n",
       "        var display = window.getComputedStyle(gd).display;\n",
       "        if (!display || display === 'none') {{\n",
       "            console.log([gd, 'removed!']);\n",
       "            Plotly.purge(gd);\n",
       "            observer.disconnect();\n",
       "        }}\n",
       "}});\n",
       "\n",
       "// Listen for the removal of the full notebook cells\n",
       "var notebookContainer = gd.closest('#notebook-container');\n",
       "if (notebookContainer) {{\n",
       "    x.observe(notebookContainer, {childList: true});\n",
       "}}\n",
       "\n",
       "// Listen for the clearing of the current output cell\n",
       "var outputEl = gd.closest('.output');\n",
       "if (outputEl) {{\n",
       "    x.observe(outputEl, {childList: true});\n",
       "}}\n",
       "\n",
       "                        })                };                });            </script>        </div>"
      ]
     },
     "metadata": {},
     "output_type": "display_data"
    }
   ],
   "source": [
    "df[['A','B']].iplot(kind='spread')"
   ]
  },
  {
   "cell_type": "code",
   "execution_count": null,
   "metadata": {},
   "outputs": [],
   "source": []
  },
  {
   "cell_type": "markdown",
   "metadata": {},
   "source": [
    "## histogram"
   ]
  },
  {
   "cell_type": "code",
   "execution_count": 23,
   "metadata": {},
   "outputs": [
    {
     "data": {
      "application/vnd.plotly.v1+json": {
       "config": {
        "linkText": "Export to plot.ly",
        "plotlyServerURL": "https://plot.ly",
        "showLink": true
       },
       "data": [
        {
         "histfunc": "count",
         "histnorm": "",
         "marker": {
          "color": "rgba(255, 153, 51, 1.0)",
          "line": {
           "color": "#4D5663",
           "width": 1.3
          }
         },
         "name": "A",
         "nbinsx": 25,
         "opacity": 0.8,
         "orientation": "v",
         "type": "histogram",
         "x": [
          0.04069591197739794,
          -1.5387534862825873,
          -0.37054138227832717,
          0.42226759931628843,
          0.3126115498148938,
          0.8490945987665685,
          0.32657941317006145,
          -0.49107061022674736,
          -2.1507284205628596,
          -0.24408786953956163,
          -0.6520390343561558,
          -0.5252670649155886,
          -0.6648895358403708,
          -0.5337196496902474,
          2.5411528745491845,
          0.2721785495038353,
          0.3139632084051519,
          -0.5035017349764002,
          -0.6295298431031526,
          -0.9967697705581974,
          -0.3010684232864244,
          0.6526617395566436,
          0.6907035696708207,
          -0.29469416900060214,
          1.1535301811355754,
          -1.0100015678978271,
          -0.12069661348651797,
          0.8054776442724979,
          0.8389775988783994,
          0.7242360206836844,
          0.9947539832929825,
          -1.0297374004329243,
          1.273616985140703,
          0.0385151859114759,
          0.8766328063292678,
          0.596186279085301,
          -0.2676827420402636,
          1.6188897257768609,
          -0.5896403663629634,
          0.18206868764406353,
          0.3883297472018753,
          0.23541068732887283,
          -1.4667899496388717,
          0.22401979434166064,
          -0.24920165254461157,
          0.5864379214604486,
          -1.7867426348719786,
          -0.2388326424614991,
          -0.20700690841934505,
          -1.7418204632698755,
          -0.4975267325235522,
          -0.4383857315299486,
          -0.023908325805154496,
          -1.0099213450430722,
          1.3151743319977625,
          2.164235305837594,
          -1.559781794551808,
          0.15948892175662965,
          0.5369468612262032,
          0.3034419209406845,
          -0.8190508980320342,
          1.0613854718635283,
          -2.703085539999277,
          0.5993190210185522,
          -0.9769014482176318,
          1.677907800787111,
          -0.037964248402260675,
          0.4670173507050114,
          -0.019662592262844062,
          -0.568296779760827,
          0.04060896866941458,
          -1.209244924940564,
          -0.3209018867296929,
          2.4149477205376115,
          -0.25490330030542974,
          1.1797721447905096,
          0.8421878895000109,
          1.745102272056137,
          -1.071361491881029,
          -0.45008076881205805,
          0.42161710288352783,
          -1.7093741336754915,
          0.08909834069035083,
          0.29993713511028813,
          1.018646413711966,
          -0.6880074411425571,
          0.3452603917017754,
          0.2487633064244093,
          0.21135195131935697,
          0.33047551702590044,
          -0.43227148671025234,
          -0.2937569887054107,
          1.4680107137436962,
          0.19817518709820703,
          -0.08239264069950791,
          -1.5739263364676956,
          -0.5863039056329027,
          -0.0634286623026407,
          -0.5916518804306173,
          -0.12187591316350242
         ]
        }
       ],
       "layout": {
        "barmode": "overlay",
        "legend": {
         "bgcolor": "#F5F6F9",
         "font": {
          "color": "#4D5663"
         }
        },
        "paper_bgcolor": "#F5F6F9",
        "plot_bgcolor": "#F5F6F9",
        "template": {
         "data": {
          "bar": [
           {
            "error_x": {
             "color": "#2a3f5f"
            },
            "error_y": {
             "color": "#2a3f5f"
            },
            "marker": {
             "line": {
              "color": "#E5ECF6",
              "width": 0.5
             },
             "pattern": {
              "fillmode": "overlay",
              "size": 10,
              "solidity": 0.2
             }
            },
            "type": "bar"
           }
          ],
          "barpolar": [
           {
            "marker": {
             "line": {
              "color": "#E5ECF6",
              "width": 0.5
             },
             "pattern": {
              "fillmode": "overlay",
              "size": 10,
              "solidity": 0.2
             }
            },
            "type": "barpolar"
           }
          ],
          "carpet": [
           {
            "aaxis": {
             "endlinecolor": "#2a3f5f",
             "gridcolor": "white",
             "linecolor": "white",
             "minorgridcolor": "white",
             "startlinecolor": "#2a3f5f"
            },
            "baxis": {
             "endlinecolor": "#2a3f5f",
             "gridcolor": "white",
             "linecolor": "white",
             "minorgridcolor": "white",
             "startlinecolor": "#2a3f5f"
            },
            "type": "carpet"
           }
          ],
          "choropleth": [
           {
            "colorbar": {
             "outlinewidth": 0,
             "ticks": ""
            },
            "type": "choropleth"
           }
          ],
          "contour": [
           {
            "colorbar": {
             "outlinewidth": 0,
             "ticks": ""
            },
            "colorscale": [
             [
              0,
              "#0d0887"
             ],
             [
              0.1111111111111111,
              "#46039f"
             ],
             [
              0.2222222222222222,
              "#7201a8"
             ],
             [
              0.3333333333333333,
              "#9c179e"
             ],
             [
              0.4444444444444444,
              "#bd3786"
             ],
             [
              0.5555555555555556,
              "#d8576b"
             ],
             [
              0.6666666666666666,
              "#ed7953"
             ],
             [
              0.7777777777777778,
              "#fb9f3a"
             ],
             [
              0.8888888888888888,
              "#fdca26"
             ],
             [
              1,
              "#f0f921"
             ]
            ],
            "type": "contour"
           }
          ],
          "contourcarpet": [
           {
            "colorbar": {
             "outlinewidth": 0,
             "ticks": ""
            },
            "type": "contourcarpet"
           }
          ],
          "heatmap": [
           {
            "colorbar": {
             "outlinewidth": 0,
             "ticks": ""
            },
            "colorscale": [
             [
              0,
              "#0d0887"
             ],
             [
              0.1111111111111111,
              "#46039f"
             ],
             [
              0.2222222222222222,
              "#7201a8"
             ],
             [
              0.3333333333333333,
              "#9c179e"
             ],
             [
              0.4444444444444444,
              "#bd3786"
             ],
             [
              0.5555555555555556,
              "#d8576b"
             ],
             [
              0.6666666666666666,
              "#ed7953"
             ],
             [
              0.7777777777777778,
              "#fb9f3a"
             ],
             [
              0.8888888888888888,
              "#fdca26"
             ],
             [
              1,
              "#f0f921"
             ]
            ],
            "type": "heatmap"
           }
          ],
          "heatmapgl": [
           {
            "colorbar": {
             "outlinewidth": 0,
             "ticks": ""
            },
            "colorscale": [
             [
              0,
              "#0d0887"
             ],
             [
              0.1111111111111111,
              "#46039f"
             ],
             [
              0.2222222222222222,
              "#7201a8"
             ],
             [
              0.3333333333333333,
              "#9c179e"
             ],
             [
              0.4444444444444444,
              "#bd3786"
             ],
             [
              0.5555555555555556,
              "#d8576b"
             ],
             [
              0.6666666666666666,
              "#ed7953"
             ],
             [
              0.7777777777777778,
              "#fb9f3a"
             ],
             [
              0.8888888888888888,
              "#fdca26"
             ],
             [
              1,
              "#f0f921"
             ]
            ],
            "type": "heatmapgl"
           }
          ],
          "histogram": [
           {
            "marker": {
             "pattern": {
              "fillmode": "overlay",
              "size": 10,
              "solidity": 0.2
             }
            },
            "type": "histogram"
           }
          ],
          "histogram2d": [
           {
            "colorbar": {
             "outlinewidth": 0,
             "ticks": ""
            },
            "colorscale": [
             [
              0,
              "#0d0887"
             ],
             [
              0.1111111111111111,
              "#46039f"
             ],
             [
              0.2222222222222222,
              "#7201a8"
             ],
             [
              0.3333333333333333,
              "#9c179e"
             ],
             [
              0.4444444444444444,
              "#bd3786"
             ],
             [
              0.5555555555555556,
              "#d8576b"
             ],
             [
              0.6666666666666666,
              "#ed7953"
             ],
             [
              0.7777777777777778,
              "#fb9f3a"
             ],
             [
              0.8888888888888888,
              "#fdca26"
             ],
             [
              1,
              "#f0f921"
             ]
            ],
            "type": "histogram2d"
           }
          ],
          "histogram2dcontour": [
           {
            "colorbar": {
             "outlinewidth": 0,
             "ticks": ""
            },
            "colorscale": [
             [
              0,
              "#0d0887"
             ],
             [
              0.1111111111111111,
              "#46039f"
             ],
             [
              0.2222222222222222,
              "#7201a8"
             ],
             [
              0.3333333333333333,
              "#9c179e"
             ],
             [
              0.4444444444444444,
              "#bd3786"
             ],
             [
              0.5555555555555556,
              "#d8576b"
             ],
             [
              0.6666666666666666,
              "#ed7953"
             ],
             [
              0.7777777777777778,
              "#fb9f3a"
             ],
             [
              0.8888888888888888,
              "#fdca26"
             ],
             [
              1,
              "#f0f921"
             ]
            ],
            "type": "histogram2dcontour"
           }
          ],
          "mesh3d": [
           {
            "colorbar": {
             "outlinewidth": 0,
             "ticks": ""
            },
            "type": "mesh3d"
           }
          ],
          "parcoords": [
           {
            "line": {
             "colorbar": {
              "outlinewidth": 0,
              "ticks": ""
             }
            },
            "type": "parcoords"
           }
          ],
          "pie": [
           {
            "automargin": true,
            "type": "pie"
           }
          ],
          "scatter": [
           {
            "marker": {
             "colorbar": {
              "outlinewidth": 0,
              "ticks": ""
             }
            },
            "type": "scatter"
           }
          ],
          "scatter3d": [
           {
            "line": {
             "colorbar": {
              "outlinewidth": 0,
              "ticks": ""
             }
            },
            "marker": {
             "colorbar": {
              "outlinewidth": 0,
              "ticks": ""
             }
            },
            "type": "scatter3d"
           }
          ],
          "scattercarpet": [
           {
            "marker": {
             "colorbar": {
              "outlinewidth": 0,
              "ticks": ""
             }
            },
            "type": "scattercarpet"
           }
          ],
          "scattergeo": [
           {
            "marker": {
             "colorbar": {
              "outlinewidth": 0,
              "ticks": ""
             }
            },
            "type": "scattergeo"
           }
          ],
          "scattergl": [
           {
            "marker": {
             "colorbar": {
              "outlinewidth": 0,
              "ticks": ""
             }
            },
            "type": "scattergl"
           }
          ],
          "scattermapbox": [
           {
            "marker": {
             "colorbar": {
              "outlinewidth": 0,
              "ticks": ""
             }
            },
            "type": "scattermapbox"
           }
          ],
          "scatterpolar": [
           {
            "marker": {
             "colorbar": {
              "outlinewidth": 0,
              "ticks": ""
             }
            },
            "type": "scatterpolar"
           }
          ],
          "scatterpolargl": [
           {
            "marker": {
             "colorbar": {
              "outlinewidth": 0,
              "ticks": ""
             }
            },
            "type": "scatterpolargl"
           }
          ],
          "scatterternary": [
           {
            "marker": {
             "colorbar": {
              "outlinewidth": 0,
              "ticks": ""
             }
            },
            "type": "scatterternary"
           }
          ],
          "surface": [
           {
            "colorbar": {
             "outlinewidth": 0,
             "ticks": ""
            },
            "colorscale": [
             [
              0,
              "#0d0887"
             ],
             [
              0.1111111111111111,
              "#46039f"
             ],
             [
              0.2222222222222222,
              "#7201a8"
             ],
             [
              0.3333333333333333,
              "#9c179e"
             ],
             [
              0.4444444444444444,
              "#bd3786"
             ],
             [
              0.5555555555555556,
              "#d8576b"
             ],
             [
              0.6666666666666666,
              "#ed7953"
             ],
             [
              0.7777777777777778,
              "#fb9f3a"
             ],
             [
              0.8888888888888888,
              "#fdca26"
             ],
             [
              1,
              "#f0f921"
             ]
            ],
            "type": "surface"
           }
          ],
          "table": [
           {
            "cells": {
             "fill": {
              "color": "#EBF0F8"
             },
             "line": {
              "color": "white"
             }
            },
            "header": {
             "fill": {
              "color": "#C8D4E3"
             },
             "line": {
              "color": "white"
             }
            },
            "type": "table"
           }
          ]
         },
         "layout": {
          "annotationdefaults": {
           "arrowcolor": "#2a3f5f",
           "arrowhead": 0,
           "arrowwidth": 1
          },
          "autotypenumbers": "strict",
          "coloraxis": {
           "colorbar": {
            "outlinewidth": 0,
            "ticks": ""
           }
          },
          "colorscale": {
           "diverging": [
            [
             0,
             "#8e0152"
            ],
            [
             0.1,
             "#c51b7d"
            ],
            [
             0.2,
             "#de77ae"
            ],
            [
             0.3,
             "#f1b6da"
            ],
            [
             0.4,
             "#fde0ef"
            ],
            [
             0.5,
             "#f7f7f7"
            ],
            [
             0.6,
             "#e6f5d0"
            ],
            [
             0.7,
             "#b8e186"
            ],
            [
             0.8,
             "#7fbc41"
            ],
            [
             0.9,
             "#4d9221"
            ],
            [
             1,
             "#276419"
            ]
           ],
           "sequential": [
            [
             0,
             "#0d0887"
            ],
            [
             0.1111111111111111,
             "#46039f"
            ],
            [
             0.2222222222222222,
             "#7201a8"
            ],
            [
             0.3333333333333333,
             "#9c179e"
            ],
            [
             0.4444444444444444,
             "#bd3786"
            ],
            [
             0.5555555555555556,
             "#d8576b"
            ],
            [
             0.6666666666666666,
             "#ed7953"
            ],
            [
             0.7777777777777778,
             "#fb9f3a"
            ],
            [
             0.8888888888888888,
             "#fdca26"
            ],
            [
             1,
             "#f0f921"
            ]
           ],
           "sequentialminus": [
            [
             0,
             "#0d0887"
            ],
            [
             0.1111111111111111,
             "#46039f"
            ],
            [
             0.2222222222222222,
             "#7201a8"
            ],
            [
             0.3333333333333333,
             "#9c179e"
            ],
            [
             0.4444444444444444,
             "#bd3786"
            ],
            [
             0.5555555555555556,
             "#d8576b"
            ],
            [
             0.6666666666666666,
             "#ed7953"
            ],
            [
             0.7777777777777778,
             "#fb9f3a"
            ],
            [
             0.8888888888888888,
             "#fdca26"
            ],
            [
             1,
             "#f0f921"
            ]
           ]
          },
          "colorway": [
           "#636efa",
           "#EF553B",
           "#00cc96",
           "#ab63fa",
           "#FFA15A",
           "#19d3f3",
           "#FF6692",
           "#B6E880",
           "#FF97FF",
           "#FECB52"
          ],
          "font": {
           "color": "#2a3f5f"
          },
          "geo": {
           "bgcolor": "white",
           "lakecolor": "white",
           "landcolor": "#E5ECF6",
           "showlakes": true,
           "showland": true,
           "subunitcolor": "white"
          },
          "hoverlabel": {
           "align": "left"
          },
          "hovermode": "closest",
          "mapbox": {
           "style": "light"
          },
          "paper_bgcolor": "white",
          "plot_bgcolor": "#E5ECF6",
          "polar": {
           "angularaxis": {
            "gridcolor": "white",
            "linecolor": "white",
            "ticks": ""
           },
           "bgcolor": "#E5ECF6",
           "radialaxis": {
            "gridcolor": "white",
            "linecolor": "white",
            "ticks": ""
           }
          },
          "scene": {
           "xaxis": {
            "backgroundcolor": "#E5ECF6",
            "gridcolor": "white",
            "gridwidth": 2,
            "linecolor": "white",
            "showbackground": true,
            "ticks": "",
            "zerolinecolor": "white"
           },
           "yaxis": {
            "backgroundcolor": "#E5ECF6",
            "gridcolor": "white",
            "gridwidth": 2,
            "linecolor": "white",
            "showbackground": true,
            "ticks": "",
            "zerolinecolor": "white"
           },
           "zaxis": {
            "backgroundcolor": "#E5ECF6",
            "gridcolor": "white",
            "gridwidth": 2,
            "linecolor": "white",
            "showbackground": true,
            "ticks": "",
            "zerolinecolor": "white"
           }
          },
          "shapedefaults": {
           "line": {
            "color": "#2a3f5f"
           }
          },
          "ternary": {
           "aaxis": {
            "gridcolor": "white",
            "linecolor": "white",
            "ticks": ""
           },
           "baxis": {
            "gridcolor": "white",
            "linecolor": "white",
            "ticks": ""
           },
           "bgcolor": "#E5ECF6",
           "caxis": {
            "gridcolor": "white",
            "linecolor": "white",
            "ticks": ""
           }
          },
          "title": {
           "x": 0.05
          },
          "xaxis": {
           "automargin": true,
           "gridcolor": "white",
           "linecolor": "white",
           "ticks": "",
           "title": {
            "standoff": 15
           },
           "zerolinecolor": "white",
           "zerolinewidth": 2
          },
          "yaxis": {
           "automargin": true,
           "gridcolor": "white",
           "linecolor": "white",
           "ticks": "",
           "title": {
            "standoff": 15
           },
           "zerolinecolor": "white",
           "zerolinewidth": 2
          }
         }
        },
        "title": {
         "font": {
          "color": "#4D5663"
         }
        },
        "xaxis": {
         "gridcolor": "#E1E5ED",
         "showgrid": true,
         "tickfont": {
          "color": "#4D5663"
         },
         "title": {
          "font": {
           "color": "#4D5663"
          },
          "text": ""
         },
         "zerolinecolor": "#E1E5ED"
        },
        "yaxis": {
         "gridcolor": "#E1E5ED",
         "showgrid": true,
         "tickfont": {
          "color": "#4D5663"
         },
         "title": {
          "font": {
           "color": "#4D5663"
          },
          "text": ""
         },
         "zerolinecolor": "#E1E5ED"
        }
       }
      },
      "text/html": [
       "<div>                            <div id=\"9c44f030-6763-415b-9142-9905914d89a3\" class=\"plotly-graph-div\" style=\"height:525px; width:100%;\"></div>            <script type=\"text/javascript\">                require([\"plotly\"], function(Plotly) {                    window.PLOTLYENV=window.PLOTLYENV || {};\n",
       "                    window.PLOTLYENV.BASE_URL='https://plot.ly';                                    if (document.getElementById(\"9c44f030-6763-415b-9142-9905914d89a3\")) {                    Plotly.newPlot(                        \"9c44f030-6763-415b-9142-9905914d89a3\",                        [{\"histfunc\":\"count\",\"histnorm\":\"\",\"marker\":{\"color\":\"rgba(255, 153, 51, 1.0)\",\"line\":{\"color\":\"#4D5663\",\"width\":1.3}},\"name\":\"A\",\"nbinsx\":25,\"opacity\":0.8,\"orientation\":\"v\",\"x\":[0.04069591197739794,-1.5387534862825873,-0.37054138227832717,0.42226759931628843,0.3126115498148938,0.8490945987665685,0.32657941317006145,-0.49107061022674736,-2.1507284205628596,-0.24408786953956163,-0.6520390343561558,-0.5252670649155886,-0.6648895358403708,-0.5337196496902474,2.5411528745491845,0.2721785495038353,0.3139632084051519,-0.5035017349764002,-0.6295298431031526,-0.9967697705581974,-0.3010684232864244,0.6526617395566436,0.6907035696708207,-0.29469416900060214,1.1535301811355754,-1.0100015678978271,-0.12069661348651797,0.8054776442724979,0.8389775988783994,0.7242360206836844,0.9947539832929825,-1.0297374004329243,1.273616985140703,0.0385151859114759,0.8766328063292678,0.596186279085301,-0.2676827420402636,1.6188897257768609,-0.5896403663629634,0.18206868764406353,0.3883297472018753,0.23541068732887283,-1.4667899496388717,0.22401979434166064,-0.24920165254461157,0.5864379214604486,-1.7867426348719786,-0.2388326424614991,-0.20700690841934505,-1.7418204632698755,-0.4975267325235522,-0.4383857315299486,-0.023908325805154496,-1.0099213450430722,1.3151743319977625,2.164235305837594,-1.559781794551808,0.15948892175662965,0.5369468612262032,0.3034419209406845,-0.8190508980320342,1.0613854718635283,-2.703085539999277,0.5993190210185522,-0.9769014482176318,1.677907800787111,-0.037964248402260675,0.4670173507050114,-0.019662592262844062,-0.568296779760827,0.04060896866941458,-1.209244924940564,-0.3209018867296929,2.4149477205376115,-0.25490330030542974,1.1797721447905096,0.8421878895000109,1.745102272056137,-1.071361491881029,-0.45008076881205805,0.42161710288352783,-1.7093741336754915,0.08909834069035083,0.29993713511028813,1.018646413711966,-0.6880074411425571,0.3452603917017754,0.2487633064244093,0.21135195131935697,0.33047551702590044,-0.43227148671025234,-0.2937569887054107,1.4680107137436962,0.19817518709820703,-0.08239264069950791,-1.5739263364676956,-0.5863039056329027,-0.0634286623026407,-0.5916518804306173,-0.12187591316350242],\"type\":\"histogram\"}],                        {\"barmode\":\"overlay\",\"legend\":{\"bgcolor\":\"#F5F6F9\",\"font\":{\"color\":\"#4D5663\"}},\"paper_bgcolor\":\"#F5F6F9\",\"plot_bgcolor\":\"#F5F6F9\",\"template\":{\"data\":{\"barpolar\":[{\"marker\":{\"line\":{\"color\":\"#E5ECF6\",\"width\":0.5},\"pattern\":{\"fillmode\":\"overlay\",\"size\":10,\"solidity\":0.2}},\"type\":\"barpolar\"}],\"bar\":[{\"error_x\":{\"color\":\"#2a3f5f\"},\"error_y\":{\"color\":\"#2a3f5f\"},\"marker\":{\"line\":{\"color\":\"#E5ECF6\",\"width\":0.5},\"pattern\":{\"fillmode\":\"overlay\",\"size\":10,\"solidity\":0.2}},\"type\":\"bar\"}],\"carpet\":[{\"aaxis\":{\"endlinecolor\":\"#2a3f5f\",\"gridcolor\":\"white\",\"linecolor\":\"white\",\"minorgridcolor\":\"white\",\"startlinecolor\":\"#2a3f5f\"},\"baxis\":{\"endlinecolor\":\"#2a3f5f\",\"gridcolor\":\"white\",\"linecolor\":\"white\",\"minorgridcolor\":\"white\",\"startlinecolor\":\"#2a3f5f\"},\"type\":\"carpet\"}],\"choropleth\":[{\"colorbar\":{\"outlinewidth\":0,\"ticks\":\"\"},\"type\":\"choropleth\"}],\"contourcarpet\":[{\"colorbar\":{\"outlinewidth\":0,\"ticks\":\"\"},\"type\":\"contourcarpet\"}],\"contour\":[{\"colorbar\":{\"outlinewidth\":0,\"ticks\":\"\"},\"colorscale\":[[0.0,\"#0d0887\"],[0.1111111111111111,\"#46039f\"],[0.2222222222222222,\"#7201a8\"],[0.3333333333333333,\"#9c179e\"],[0.4444444444444444,\"#bd3786\"],[0.5555555555555556,\"#d8576b\"],[0.6666666666666666,\"#ed7953\"],[0.7777777777777778,\"#fb9f3a\"],[0.8888888888888888,\"#fdca26\"],[1.0,\"#f0f921\"]],\"type\":\"contour\"}],\"heatmapgl\":[{\"colorbar\":{\"outlinewidth\":0,\"ticks\":\"\"},\"colorscale\":[[0.0,\"#0d0887\"],[0.1111111111111111,\"#46039f\"],[0.2222222222222222,\"#7201a8\"],[0.3333333333333333,\"#9c179e\"],[0.4444444444444444,\"#bd3786\"],[0.5555555555555556,\"#d8576b\"],[0.6666666666666666,\"#ed7953\"],[0.7777777777777778,\"#fb9f3a\"],[0.8888888888888888,\"#fdca26\"],[1.0,\"#f0f921\"]],\"type\":\"heatmapgl\"}],\"heatmap\":[{\"colorbar\":{\"outlinewidth\":0,\"ticks\":\"\"},\"colorscale\":[[0.0,\"#0d0887\"],[0.1111111111111111,\"#46039f\"],[0.2222222222222222,\"#7201a8\"],[0.3333333333333333,\"#9c179e\"],[0.4444444444444444,\"#bd3786\"],[0.5555555555555556,\"#d8576b\"],[0.6666666666666666,\"#ed7953\"],[0.7777777777777778,\"#fb9f3a\"],[0.8888888888888888,\"#fdca26\"],[1.0,\"#f0f921\"]],\"type\":\"heatmap\"}],\"histogram2dcontour\":[{\"colorbar\":{\"outlinewidth\":0,\"ticks\":\"\"},\"colorscale\":[[0.0,\"#0d0887\"],[0.1111111111111111,\"#46039f\"],[0.2222222222222222,\"#7201a8\"],[0.3333333333333333,\"#9c179e\"],[0.4444444444444444,\"#bd3786\"],[0.5555555555555556,\"#d8576b\"],[0.6666666666666666,\"#ed7953\"],[0.7777777777777778,\"#fb9f3a\"],[0.8888888888888888,\"#fdca26\"],[1.0,\"#f0f921\"]],\"type\":\"histogram2dcontour\"}],\"histogram2d\":[{\"colorbar\":{\"outlinewidth\":0,\"ticks\":\"\"},\"colorscale\":[[0.0,\"#0d0887\"],[0.1111111111111111,\"#46039f\"],[0.2222222222222222,\"#7201a8\"],[0.3333333333333333,\"#9c179e\"],[0.4444444444444444,\"#bd3786\"],[0.5555555555555556,\"#d8576b\"],[0.6666666666666666,\"#ed7953\"],[0.7777777777777778,\"#fb9f3a\"],[0.8888888888888888,\"#fdca26\"],[1.0,\"#f0f921\"]],\"type\":\"histogram2d\"}],\"histogram\":[{\"marker\":{\"pattern\":{\"fillmode\":\"overlay\",\"size\":10,\"solidity\":0.2}},\"type\":\"histogram\"}],\"mesh3d\":[{\"colorbar\":{\"outlinewidth\":0,\"ticks\":\"\"},\"type\":\"mesh3d\"}],\"parcoords\":[{\"line\":{\"colorbar\":{\"outlinewidth\":0,\"ticks\":\"\"}},\"type\":\"parcoords\"}],\"pie\":[{\"automargin\":true,\"type\":\"pie\"}],\"scatter3d\":[{\"line\":{\"colorbar\":{\"outlinewidth\":0,\"ticks\":\"\"}},\"marker\":{\"colorbar\":{\"outlinewidth\":0,\"ticks\":\"\"}},\"type\":\"scatter3d\"}],\"scattercarpet\":[{\"marker\":{\"colorbar\":{\"outlinewidth\":0,\"ticks\":\"\"}},\"type\":\"scattercarpet\"}],\"scattergeo\":[{\"marker\":{\"colorbar\":{\"outlinewidth\":0,\"ticks\":\"\"}},\"type\":\"scattergeo\"}],\"scattergl\":[{\"marker\":{\"colorbar\":{\"outlinewidth\":0,\"ticks\":\"\"}},\"type\":\"scattergl\"}],\"scattermapbox\":[{\"marker\":{\"colorbar\":{\"outlinewidth\":0,\"ticks\":\"\"}},\"type\":\"scattermapbox\"}],\"scatterpolargl\":[{\"marker\":{\"colorbar\":{\"outlinewidth\":0,\"ticks\":\"\"}},\"type\":\"scatterpolargl\"}],\"scatterpolar\":[{\"marker\":{\"colorbar\":{\"outlinewidth\":0,\"ticks\":\"\"}},\"type\":\"scatterpolar\"}],\"scatter\":[{\"marker\":{\"colorbar\":{\"outlinewidth\":0,\"ticks\":\"\"}},\"type\":\"scatter\"}],\"scatterternary\":[{\"marker\":{\"colorbar\":{\"outlinewidth\":0,\"ticks\":\"\"}},\"type\":\"scatterternary\"}],\"surface\":[{\"colorbar\":{\"outlinewidth\":0,\"ticks\":\"\"},\"colorscale\":[[0.0,\"#0d0887\"],[0.1111111111111111,\"#46039f\"],[0.2222222222222222,\"#7201a8\"],[0.3333333333333333,\"#9c179e\"],[0.4444444444444444,\"#bd3786\"],[0.5555555555555556,\"#d8576b\"],[0.6666666666666666,\"#ed7953\"],[0.7777777777777778,\"#fb9f3a\"],[0.8888888888888888,\"#fdca26\"],[1.0,\"#f0f921\"]],\"type\":\"surface\"}],\"table\":[{\"cells\":{\"fill\":{\"color\":\"#EBF0F8\"},\"line\":{\"color\":\"white\"}},\"header\":{\"fill\":{\"color\":\"#C8D4E3\"},\"line\":{\"color\":\"white\"}},\"type\":\"table\"}]},\"layout\":{\"annotationdefaults\":{\"arrowcolor\":\"#2a3f5f\",\"arrowhead\":0,\"arrowwidth\":1},\"autotypenumbers\":\"strict\",\"coloraxis\":{\"colorbar\":{\"outlinewidth\":0,\"ticks\":\"\"}},\"colorscale\":{\"diverging\":[[0,\"#8e0152\"],[0.1,\"#c51b7d\"],[0.2,\"#de77ae\"],[0.3,\"#f1b6da\"],[0.4,\"#fde0ef\"],[0.5,\"#f7f7f7\"],[0.6,\"#e6f5d0\"],[0.7,\"#b8e186\"],[0.8,\"#7fbc41\"],[0.9,\"#4d9221\"],[1,\"#276419\"]],\"sequential\":[[0.0,\"#0d0887\"],[0.1111111111111111,\"#46039f\"],[0.2222222222222222,\"#7201a8\"],[0.3333333333333333,\"#9c179e\"],[0.4444444444444444,\"#bd3786\"],[0.5555555555555556,\"#d8576b\"],[0.6666666666666666,\"#ed7953\"],[0.7777777777777778,\"#fb9f3a\"],[0.8888888888888888,\"#fdca26\"],[1.0,\"#f0f921\"]],\"sequentialminus\":[[0.0,\"#0d0887\"],[0.1111111111111111,\"#46039f\"],[0.2222222222222222,\"#7201a8\"],[0.3333333333333333,\"#9c179e\"],[0.4444444444444444,\"#bd3786\"],[0.5555555555555556,\"#d8576b\"],[0.6666666666666666,\"#ed7953\"],[0.7777777777777778,\"#fb9f3a\"],[0.8888888888888888,\"#fdca26\"],[1.0,\"#f0f921\"]]},\"colorway\":[\"#636efa\",\"#EF553B\",\"#00cc96\",\"#ab63fa\",\"#FFA15A\",\"#19d3f3\",\"#FF6692\",\"#B6E880\",\"#FF97FF\",\"#FECB52\"],\"font\":{\"color\":\"#2a3f5f\"},\"geo\":{\"bgcolor\":\"white\",\"lakecolor\":\"white\",\"landcolor\":\"#E5ECF6\",\"showlakes\":true,\"showland\":true,\"subunitcolor\":\"white\"},\"hoverlabel\":{\"align\":\"left\"},\"hovermode\":\"closest\",\"mapbox\":{\"style\":\"light\"},\"paper_bgcolor\":\"white\",\"plot_bgcolor\":\"#E5ECF6\",\"polar\":{\"angularaxis\":{\"gridcolor\":\"white\",\"linecolor\":\"white\",\"ticks\":\"\"},\"bgcolor\":\"#E5ECF6\",\"radialaxis\":{\"gridcolor\":\"white\",\"linecolor\":\"white\",\"ticks\":\"\"}},\"scene\":{\"xaxis\":{\"backgroundcolor\":\"#E5ECF6\",\"gridcolor\":\"white\",\"gridwidth\":2,\"linecolor\":\"white\",\"showbackground\":true,\"ticks\":\"\",\"zerolinecolor\":\"white\"},\"yaxis\":{\"backgroundcolor\":\"#E5ECF6\",\"gridcolor\":\"white\",\"gridwidth\":2,\"linecolor\":\"white\",\"showbackground\":true,\"ticks\":\"\",\"zerolinecolor\":\"white\"},\"zaxis\":{\"backgroundcolor\":\"#E5ECF6\",\"gridcolor\":\"white\",\"gridwidth\":2,\"linecolor\":\"white\",\"showbackground\":true,\"ticks\":\"\",\"zerolinecolor\":\"white\"}},\"shapedefaults\":{\"line\":{\"color\":\"#2a3f5f\"}},\"ternary\":{\"aaxis\":{\"gridcolor\":\"white\",\"linecolor\":\"white\",\"ticks\":\"\"},\"baxis\":{\"gridcolor\":\"white\",\"linecolor\":\"white\",\"ticks\":\"\"},\"bgcolor\":\"#E5ECF6\",\"caxis\":{\"gridcolor\":\"white\",\"linecolor\":\"white\",\"ticks\":\"\"}},\"title\":{\"x\":0.05},\"xaxis\":{\"automargin\":true,\"gridcolor\":\"white\",\"linecolor\":\"white\",\"ticks\":\"\",\"title\":{\"standoff\":15},\"zerolinecolor\":\"white\",\"zerolinewidth\":2},\"yaxis\":{\"automargin\":true,\"gridcolor\":\"white\",\"linecolor\":\"white\",\"ticks\":\"\",\"title\":{\"standoff\":15},\"zerolinecolor\":\"white\",\"zerolinewidth\":2}}},\"title\":{\"font\":{\"color\":\"#4D5663\"}},\"xaxis\":{\"gridcolor\":\"#E1E5ED\",\"showgrid\":true,\"tickfont\":{\"color\":\"#4D5663\"},\"title\":{\"font\":{\"color\":\"#4D5663\"},\"text\":\"\"},\"zerolinecolor\":\"#E1E5ED\"},\"yaxis\":{\"gridcolor\":\"#E1E5ED\",\"showgrid\":true,\"tickfont\":{\"color\":\"#4D5663\"},\"title\":{\"font\":{\"color\":\"#4D5663\"},\"text\":\"\"},\"zerolinecolor\":\"#E1E5ED\"}},                        {\"showLink\": true, \"linkText\": \"Export to plot.ly\", \"plotlyServerURL\": \"https://plot.ly\", \"responsive\": true}                    ).then(function(){\n",
       "                            \n",
       "var gd = document.getElementById('9c44f030-6763-415b-9142-9905914d89a3');\n",
       "var x = new MutationObserver(function (mutations, observer) {{\n",
       "        var display = window.getComputedStyle(gd).display;\n",
       "        if (!display || display === 'none') {{\n",
       "            console.log([gd, 'removed!']);\n",
       "            Plotly.purge(gd);\n",
       "            observer.disconnect();\n",
       "        }}\n",
       "}});\n",
       "\n",
       "// Listen for the removal of the full notebook cells\n",
       "var notebookContainer = gd.closest('#notebook-container');\n",
       "if (notebookContainer) {{\n",
       "    x.observe(notebookContainer, {childList: true});\n",
       "}}\n",
       "\n",
       "// Listen for the clearing of the current output cell\n",
       "var outputEl = gd.closest('.output');\n",
       "if (outputEl) {{\n",
       "    x.observe(outputEl, {childList: true});\n",
       "}}\n",
       "\n",
       "                        })                };                });            </script>        </div>"
      ]
     },
     "metadata": {},
     "output_type": "display_data"
    }
   ],
   "source": [
    "df['A'].iplot(kind='hist',bins=25)"
   ]
  },
  {
   "cell_type": "code",
   "execution_count": null,
   "metadata": {},
   "outputs": [],
   "source": []
  },
  {
   "cell_type": "code",
   "execution_count": 60,
   "metadata": {},
   "outputs": [
    {
     "data": {
      "text/html": [
       "<div id=\"e508143e-bcba-4c40-9488-bfdc4040e078\" style=\"height: 525px; width: 100%;\" class=\"plotly-graph-div\"></div><script type=\"text/javascript\">require([\"plotly\"], function(Plotly) { window.PLOTLYENV=window.PLOTLYENV || {};window.PLOTLYENV.BASE_URL=\"https://plot.ly\";Plotly.newPlot(\"e508143e-bcba-4c40-9488-bfdc4040e078\", [{\"mode\": \"markers\", \"text\": \"\", \"y\": [0.6887194376286498, 0.1040535242504629, 0.38792642015276635, 1.3934230260395444, -0.5375976688704683, -1.1493608786796612, 0.01342890849383506, -0.47231861415738574, 0.24793169472844812, -0.6232083144122951, -1.2121596694710122, -2.4542371001007464, 0.29855785553142483, 1.2997620162676498, 0.9168047366909585, -0.41040614900130634, 1.3147531456519106, -0.12455263569370086, 0.9366143523054554, 0.23573463729990726, -0.8244746170540388, -0.32685668230128845, 1.501781503113865, 0.9830012153240587, 0.6020112305361386, 0.3688304138086671, 1.0090827131320237, -0.5811720111587422, 0.0512884505619472, -1.6917643070157176, -0.25322144257612356, -0.2937357494665306, 0.7368726362448421, 0.5763424997076779, 0.16472110066593693, -0.374254076023172, 1.1280304809680426, 0.6455371548668151, -0.18000225503004413, -0.9128911232313937, -0.5670695205365133, 0.16138491502455474, 1.2118733837294762, 0.4444506280024997, 0.6834767601409083, 1.8020727241195935, 2.4230878273709062, 0.27701889696287213, 1.4067122280705426, -0.33728919328412016, 0.5154870435338148, 0.7751019637809062, 1.400130435077449, 0.8276591566099151, 1.1268119555303864, 0.7016118169589718, 0.476169530704683, -0.5261125753709399, -1.2129692872143456, 0.6126338497954396, 1.5825905557818922, -0.8173630045970658, 0.1075602248072928, 1.2716988894407462, -0.15615948990467535, -0.2968566839654392, 1.7204934641303604, -0.869876624137026, 0.28935077735906545, -1.2052876742800458, -0.263979336251353, -0.02815365780209253, -0.04062347728476395, 0.943760296027789, -1.7797735906553165, 0.4485755919087686, 0.14778332986993048, 0.5305019463041807, 1.6359913516932165, -0.3437427119285297, 1.9109783094330681, 0.6818924480193401, -0.42214824562337705, 0.8935317581184008, 1.2587495288352297, -0.5992845246668753, 2.7851237345776405, -1.5158096238899554, 0.04177421570103183, 0.48980398157362903, 1.063643861677667, -0.8486329162129157, -1.86936339853131, 0.24761777046722996, 1.290606988097702, 0.17046338292604407, 0.14181179559597848, 0.6505415244850333, -2.5850581533594545, -0.30813091794721653], \"x\": [1.8787246669561561, 0.028733616663923985, -0.1587931161277573, -1.2219723462024636, 1.2531523973363488, 0.8312132082951045, 1.1740170898586173, -0.24393002059589958, -0.296966543277261, 0.7621695759158762, 0.04210347865555278, -0.7791970481917073, 0.3943032396655093, -1.0146190736152443, -0.4841710096782867, 0.5522466668361006, -2.77187556758784, -0.5181226698708166, -0.49722040792422156, -1.6534757596659548, -0.06027439377033132, 1.4769243769038323, 1.1796346669498379, -0.7816898015019265, 0.8630132212967984, 0.6590246731638996, -1.1013906677685679, -0.9446804895542242, -1.788022470413331, 0.8775002821729455, 0.3546715768521251, -0.16532125735222183, 1.8914747239632839, -1.1251772915449791, 0.8888981026894395, -0.6066117727706714, 0.8314777742724779, 0.3830457069359529, -0.937459527593053, -0.844561047334305, 1.1280232245052606, -1.640427972598561, 0.8971269652786067, 0.4848047458342485, 0.19373507090654035, -0.7387091317560727, -0.3566733282792827, -0.43158335134818315, -0.4899640124314907, 0.5488715658495908, 0.2821768987731658, -0.8832439438038343, 1.271863067044618, 0.10680856505919414, 0.8269478103679717, -0.03266751467505833, -0.34021520002722894, -0.6769186069469743, 0.7126188256918854, 1.8871150025438166, -0.06742662656190869, -1.4789736197389265, 0.346978601690099, -0.3757389938313092, 0.715285859520045, 1.5994858611908638, -0.3692558358591885, 0.13827360227735647, -0.40690530542342296, 0.636973800943974, 0.14658752987818605, -0.3949906255692418, 1.5076392623927681, -0.15486042602397807, 0.22159940179664614, -1.0878244818277978, -0.03354417910293162, 1.2258839316932069, -0.048951028800266715, -1.1089870994157809, 0.021452684803338333, 1.2548854256528554, -1.0913797662237141, -0.539059741192553, 0.6901269187662552, -1.4810451728120602, -0.8468654201203714, 0.3763927872506507, 0.8120568488462931, 0.0031767062628090745, 0.697742291538818, -0.7429703118062226, -0.842231117346612, -0.0666718362166121, 1.8829720647783421, 1.320112956074407, 0.42394324402947475, 0.466299928509142, 0.9415282138953815, -0.7707938096473991], \"type\": \"scatter\", \"marker\": {\"size\": [90, 70, 57, 64, 75, 45, 79, 60, 101, 50, 41, 59, 68, 84, 87, 12, 62, 71, 75, 47, 64, 96, 63, 84, 80, 61, 54, 67, 83, 52, 81, 66, 72, 68, 86, 86, 74, 46, 88, 88, 74, 51, 66, 62, 79, 60, 27, 109, 80, 90, 64, 72, 50, 112, 67, 77, 84, 56, 54, 74, 94, 88, 64, 61, 44, 87, 109, 74, 86, 77, 75, 88, 77, 90, 96, 66, 52, 75, 77, 52, 37, 69, 49, 60, 77, 71, 55, 66, 78, 32, 40, 85, 69, 80, 61, 67, 67, 67, 56, 64], \"line\": {\"width\": 1.3}, \"color\": [\"rgb(226, 74, 51)\", \"rgb(226, 74, 51)\", \"rgb(226, 74, 51)\", \"rgb(226, 74, 51)\", \"rgb(226, 74, 51)\", \"rgb(226, 74, 51)\", \"rgb(226, 74, 51)\", \"rgb(226, 74, 51)\", \"rgb(226, 74, 51)\", \"rgb(226, 74, 51)\", \"rgb(226, 74, 51)\", \"rgb(226, 74, 51)\", \"rgb(226, 74, 51)\", \"rgb(226, 74, 51)\", \"rgb(226, 74, 51)\", \"rgb(226, 74, 51)\", \"rgb(226, 74, 51)\", \"rgb(226, 74, 51)\", \"rgb(226, 74, 51)\", \"rgb(226, 74, 51)\", \"rgb(226, 74, 51)\", \"rgb(226, 74, 51)\", \"rgb(226, 74, 51)\", \"rgb(226, 74, 51)\", \"rgb(226, 74, 51)\", \"rgb(226, 74, 51)\", \"rgb(226, 74, 51)\", \"rgb(226, 74, 51)\", \"rgb(226, 74, 51)\", \"rgb(226, 74, 51)\", \"rgb(226, 74, 51)\", \"rgb(226, 74, 51)\", \"rgb(226, 74, 51)\", \"rgb(226, 74, 51)\", \"rgb(226, 74, 51)\", \"rgb(226, 74, 51)\", \"rgb(226, 74, 51)\", \"rgb(226, 74, 51)\", \"rgb(226, 74, 51)\", \"rgb(226, 74, 51)\", \"rgb(226, 74, 51)\", \"rgb(226, 74, 51)\", \"rgb(226, 74, 51)\", \"rgb(226, 74, 51)\", \"rgb(226, 74, 51)\", \"rgb(226, 74, 51)\", \"rgb(226, 74, 51)\", \"rgb(226, 74, 51)\", \"rgb(226, 74, 51)\", \"rgb(226, 74, 51)\", \"rgb(226, 74, 51)\", \"rgb(226, 74, 51)\", \"rgb(226, 74, 51)\", \"rgb(226, 74, 51)\", \"rgb(226, 74, 51)\", \"rgb(226, 74, 51)\", \"rgb(226, 74, 51)\", \"rgb(226, 74, 51)\", \"rgb(226, 74, 51)\", \"rgb(226, 74, 51)\", \"rgb(226, 74, 51)\", \"rgb(226, 74, 51)\", \"rgb(226, 74, 51)\", \"rgb(226, 74, 51)\", \"rgb(226, 74, 51)\", \"rgb(226, 74, 51)\", \"rgb(226, 74, 51)\", \"rgb(226, 74, 51)\", \"rgb(226, 74, 51)\", \"rgb(226, 74, 51)\", \"rgb(226, 74, 51)\", \"rgb(226, 74, 51)\", \"rgb(226, 74, 51)\", \"rgb(226, 74, 51)\", \"rgb(226, 74, 51)\", \"rgb(226, 74, 51)\", \"rgb(226, 74, 51)\", \"rgb(226, 74, 51)\", \"rgb(226, 74, 51)\", \"rgb(226, 74, 51)\", \"rgb(226, 74, 51)\", \"rgb(226, 74, 51)\", \"rgb(226, 74, 51)\", \"rgb(226, 74, 51)\", \"rgb(226, 74, 51)\", \"rgb(226, 74, 51)\", \"rgb(226, 74, 51)\", \"rgb(226, 74, 51)\", \"rgb(226, 74, 51)\", \"rgb(226, 74, 51)\", \"rgb(226, 74, 51)\", \"rgb(226, 74, 51)\", \"rgb(226, 74, 51)\", \"rgb(226, 74, 51)\", \"rgb(226, 74, 51)\", \"rgb(226, 74, 51)\", \"rgb(226, 74, 51)\", \"rgb(226, 74, 51)\", \"rgb(226, 74, 51)\", \"rgb(226, 74, 51)\"], \"symbol\": \"dot\"}}], {\"legend\": {\"font\": {\"color\": \"#666666\"}, \"bgcolor\": \"#FFFFFF\"}, \"titlefont\": {\"color\": \"#151516\"}, \"xaxis1\": {\"titlefont\": {\"color\": \"#666666\"}, \"zerolinecolor\": \"#F6F6F6\", \"title\": \"\", \"tickfont\": {\"color\": \"#666666\"}, \"showgrid\": true, \"gridcolor\": \"#F6F6F6\"}, \"paper_bgcolor\": \"#FFFFFF\", \"plot_bgcolor\": \"#E5E5E5\", \"yaxis1\": {\"titlefont\": {\"color\": \"#666666\"}, \"zerolinecolor\": \"#F6F6F6\", \"title\": \"\", \"tickfont\": {\"color\": \"#666666\"}, \"showgrid\": true, \"gridcolor\": \"#F6F6F6\"}}, {\"showLink\": true, \"linkText\": \"Export to plot.ly\"})});</script>"
      ],
      "text/plain": [
       "<IPython.core.display.HTML object>"
      ]
     },
     "metadata": {},
     "output_type": "display_data"
    }
   ],
   "source": [
    "df.iplot(kind='bubble',x='A',y='B',size='C')"
   ]
  },
  {
   "cell_type": "markdown",
   "metadata": {},
   "source": [
    "## scatter_matrix()\n",
    "\n",
    "Similar to sns.pairplot()"
   ]
  },
  {
   "cell_type": "code",
   "execution_count": 13,
   "metadata": {},
   "outputs": [
    {
     "data": {
      "text/html": [
       "<div id=\"86d216e5-0500-405c-9cd1-7e410922bc7b\" style=\"height: 525px; width: 100%;\" class=\"plotly-graph-div\"></div><script type=\"text/javascript\">require([\"plotly\"], function(Plotly) { window.PLOTLYENV=window.PLOTLYENV || {};window.PLOTLYENV.BASE_URL=\"https://plot.ly\";Plotly.newPlot(\"86d216e5-0500-405c-9cd1-7e410922bc7b\", [{\"yaxis\": \"y1\", \"x\": [1.8787246669561561, 0.028733616663923985, -0.1587931161277573, -1.2219723462024636, 1.2531523973363488, 0.8312132082951045, 1.1740170898586173, -0.24393002059589958, -0.296966543277261, 0.7621695759158762, 0.04210347865555278, -0.7791970481917073, 0.3943032396655093, -1.0146190736152443, -0.4841710096782867, 0.5522466668361006, -2.77187556758784, -0.5181226698708166, -0.49722040792422156, -1.6534757596659548, -0.06027439377033132, 1.4769243769038323, 1.1796346669498379, -0.7816898015019265, 0.8630132212967984, 0.6590246731638996, -1.1013906677685679, -0.9446804895542242, -1.788022470413331, 0.8775002821729455, 0.3546715768521251, -0.16532125735222183, 1.8914747239632839, -1.1251772915449791, 0.8888981026894395, -0.6066117727706714, 0.8314777742724779, 0.3830457069359529, -0.937459527593053, -0.844561047334305, 1.1280232245052606, -1.640427972598561, 0.8971269652786067, 0.4848047458342485, 0.19373507090654035, -0.7387091317560727, -0.3566733282792827, -0.43158335134818315, -0.4899640124314907, 0.5488715658495908, 0.2821768987731658, -0.8832439438038343, 1.271863067044618, 0.10680856505919414, 0.8269478103679717, -0.03266751467505833, -0.34021520002722894, -0.6769186069469743, 0.7126188256918854, 1.8871150025438166, -0.06742662656190869, -1.4789736197389265, 0.346978601690099, -0.3757389938313092, 0.715285859520045, 1.5994858611908638, -0.3692558358591885, 0.13827360227735647, -0.40690530542342296, 0.636973800943974, 0.14658752987818605, -0.3949906255692418, 1.5076392623927681, -0.15486042602397807, 0.22159940179664614, -1.0878244818277978, -0.03354417910293162, 1.2258839316932069, -0.048951028800266715, -1.1089870994157809, 0.021452684803338333, 1.2548854256528554, -1.0913797662237141, -0.539059741192553, 0.6901269187662552, -1.4810451728120602, -0.8468654201203714, 0.3763927872506507, 0.8120568488462931, 0.0031767062628090745, 0.697742291538818, -0.7429703118062226, -0.842231117346612, -0.0666718362166121, 1.8829720647783421, 1.320112956074407, 0.42394324402947475, 0.466299928509142, 0.9415282138953815, -0.7707938096473991], \"orientation\": \"v\", \"name\": \"A\", \"opacity\": 0.8, \"histfunc\": \"count\", \"type\": \"histogram\", \"histnorm\": \"\", \"nbinsx\": 10, \"marker\": {\"line\": {\"width\": 1.3, \"color\": \"#D9D9D9\"}, \"color\": \"rgba(226, 74, 51, 1.0)\"}, \"xaxis\": \"x1\"}, {\"yaxis\": \"y2\", \"mode\": \"markers\", \"text\": \"\", \"xaxis\": \"x2\", \"x\": [0.6887194376286498, 0.1040535242504629, 0.38792642015276635, 1.3934230260395444, -0.5375976688704683, -1.1493608786796612, 0.01342890849383506, -0.47231861415738574, 0.24793169472844812, -0.6232083144122951, -1.2121596694710122, -2.4542371001007464, 0.29855785553142483, 1.2997620162676498, 0.9168047366909585, -0.41040614900130634, 1.3147531456519106, -0.12455263569370086, 0.9366143523054554, 0.23573463729990726, -0.8244746170540388, -0.32685668230128845, 1.501781503113865, 0.9830012153240587, 0.6020112305361386, 0.3688304138086671, 1.0090827131320237, -0.5811720111587422, 0.0512884505619472, -1.6917643070157176, -0.25322144257612356, -0.2937357494665306, 0.7368726362448421, 0.5763424997076779, 0.16472110066593693, -0.374254076023172, 1.1280304809680426, 0.6455371548668151, -0.18000225503004413, -0.9128911232313937, -0.5670695205365133, 0.16138491502455474, 1.2118733837294762, 0.4444506280024997, 0.6834767601409083, 1.8020727241195935, 2.4230878273709062, 0.27701889696287213, 1.4067122280705426, -0.33728919328412016, 0.5154870435338148, 0.7751019637809062, 1.400130435077449, 0.8276591566099151, 1.1268119555303864, 0.7016118169589718, 0.476169530704683, -0.5261125753709399, -1.2129692872143456, 0.6126338497954396, 1.5825905557818922, -0.8173630045970658, 0.1075602248072928, 1.2716988894407462, -0.15615948990467535, -0.2968566839654392, 1.7204934641303604, -0.869876624137026, 0.28935077735906545, -1.2052876742800458, -0.263979336251353, -0.02815365780209253, -0.04062347728476395, 0.943760296027789, -1.7797735906553165, 0.4485755919087686, 0.14778332986993048, 0.5305019463041807, 1.6359913516932165, -0.3437427119285297, 1.9109783094330681, 0.6818924480193401, -0.42214824562337705, 0.8935317581184008, 1.2587495288352297, -0.5992845246668753, 2.7851237345776405, -1.5158096238899554, 0.04177421570103183, 0.48980398157362903, 1.063643861677667, -0.8486329162129157, -1.86936339853131, 0.24761777046722996, 1.290606988097702, 0.17046338292604407, 0.14181179559597848, 0.6505415244850333, -2.5850581533594545, -0.30813091794721653], \"y\": [1.8787246669561561, 0.028733616663923985, -0.1587931161277573, -1.2219723462024636, 1.2531523973363488, 0.8312132082951045, 1.1740170898586173, -0.24393002059589958, -0.296966543277261, 0.7621695759158762, 0.04210347865555278, -0.7791970481917073, 0.3943032396655093, -1.0146190736152443, -0.4841710096782867, 0.5522466668361006, -2.77187556758784, -0.5181226698708166, -0.49722040792422156, -1.6534757596659548, -0.06027439377033132, 1.4769243769038323, 1.1796346669498379, -0.7816898015019265, 0.8630132212967984, 0.6590246731638996, -1.1013906677685679, -0.9446804895542242, -1.788022470413331, 0.8775002821729455, 0.3546715768521251, -0.16532125735222183, 1.8914747239632839, -1.1251772915449791, 0.8888981026894395, -0.6066117727706714, 0.8314777742724779, 0.3830457069359529, -0.937459527593053, -0.844561047334305, 1.1280232245052606, -1.640427972598561, 0.8971269652786067, 0.4848047458342485, 0.19373507090654035, -0.7387091317560727, -0.3566733282792827, -0.43158335134818315, -0.4899640124314907, 0.5488715658495908, 0.2821768987731658, -0.8832439438038343, 1.271863067044618, 0.10680856505919414, 0.8269478103679717, -0.03266751467505833, -0.34021520002722894, -0.6769186069469743, 0.7126188256918854, 1.8871150025438166, -0.06742662656190869, -1.4789736197389265, 0.346978601690099, -0.3757389938313092, 0.715285859520045, 1.5994858611908638, -0.3692558358591885, 0.13827360227735647, -0.40690530542342296, 0.636973800943974, 0.14658752987818605, -0.3949906255692418, 1.5076392623927681, -0.15486042602397807, 0.22159940179664614, -1.0878244818277978, -0.03354417910293162, 1.2258839316932069, -0.048951028800266715, -1.1089870994157809, 0.021452684803338333, 1.2548854256528554, -1.0913797662237141, -0.539059741192553, 0.6901269187662552, -1.4810451728120602, -0.8468654201203714, 0.3763927872506507, 0.8120568488462931, 0.0031767062628090745, 0.697742291538818, -0.7429703118062226, -0.842231117346612, -0.0666718362166121, 1.8829720647783421, 1.320112956074407, 0.42394324402947475, 0.466299928509142, 0.9415282138953815, -0.7707938096473991], \"type\": \"scatter\", \"line\": {\"dash\": \"solid\", \"width\": 1.3, \"color\": \"rgba(128, 128, 128, 1.0)\"}, \"marker\": {\"size\": 2, \"symbol\": \"dot\"}, \"name\": \"A\"}, {\"yaxis\": \"y3\", \"mode\": \"markers\", \"text\": \"\", \"xaxis\": \"x3\", \"x\": [1.0667334168325768, 0.04817571551860875, -0.6353709157290994, -0.29979428249659507, 0.30291706303457033, -1.2658520234759039, 0.4984256330100474, -0.4813817437844393, 1.6528819231392327, -1.0387894611418347, -1.4866253379043493, -0.5281135473322252, -0.061645252730345844, 0.7876423965771268, 0.9285191892602837, -3.0483938246413547, -0.371184208418135, 0.11169331199774239, 0.30352330980386477, -1.1851393464396252, -0.3023997655692267, 1.4199893168847753, -0.332851303404407, 0.7955908630250091, 0.5869705278914006, -0.45090328668726354, -0.7814566611757896, -0.1261200409144497, 0.7060858452328673, -0.8894721878843294, 0.6064992291432117, -0.1963991863666514, 0.16697094643083513, -0.06591707111576753, 0.8961422265850149, 0.8939803073905991, 0.2526177880230376, -1.2523243277936627, 0.9749672569040144, 0.9687477057343876, 0.26351967435246515, -0.9517261189215155, -0.18707956459088698, -0.39391833601946274, 0.5273775265831957, -0.48180251718398176, -2.2230374431929953, 2.0999928572789828, 0.5496483529576708, 1.067298459209482, -0.3040289105606048, 0.1352094843666391, -0.9944404721270197, 2.2258275006902912, -0.11689955437978636, 0.41231462999024887, 0.7856039151273921, -0.6894731524779986, -0.8276899193670904, 0.23638272241448607, 1.3266743967632526, 0.9626096963262857, -0.28379390855690406, -0.417413711892243, -1.3341211120615861, 0.9298055489835776, 2.106720126861483, 0.23150307059926345, 0.8864836518334782, 0.4193977048083098, 0.3190869644200757, 0.9673541346062681, 0.42245148076732175, 1.0906377526894717, 1.3887188298690671, -0.19507483218944058, -0.9347090401182315, 0.30126885232107575, 0.42495072953595375, -0.9170212042816844, -1.6965969381460768, -0.011576471618042839, -1.0479065708976978, -0.4749222730814971, 0.4229046102099884, 0.08254929486846736, -0.7783883617548714, -0.17950878512595098, 0.4391940123110264, -1.9667304216807953, -1.5652802021531136, 0.8163770970520242, -0.008375093041838632, 0.5510487504106222, -0.4239325998518183, -0.1297116221823799, -0.10728910870450034, -0.12169367361116121, -0.6905111268638191, -0.2653540299125418], \"y\": [1.8787246669561561, 0.028733616663923985, -0.1587931161277573, -1.2219723462024636, 1.2531523973363488, 0.8312132082951045, 1.1740170898586173, -0.24393002059589958, -0.296966543277261, 0.7621695759158762, 0.04210347865555278, -0.7791970481917073, 0.3943032396655093, -1.0146190736152443, -0.4841710096782867, 0.5522466668361006, -2.77187556758784, -0.5181226698708166, -0.49722040792422156, -1.6534757596659548, -0.06027439377033132, 1.4769243769038323, 1.1796346669498379, -0.7816898015019265, 0.8630132212967984, 0.6590246731638996, -1.1013906677685679, -0.9446804895542242, -1.788022470413331, 0.8775002821729455, 0.3546715768521251, -0.16532125735222183, 1.8914747239632839, -1.1251772915449791, 0.8888981026894395, -0.6066117727706714, 0.8314777742724779, 0.3830457069359529, -0.937459527593053, -0.844561047334305, 1.1280232245052606, -1.640427972598561, 0.8971269652786067, 0.4848047458342485, 0.19373507090654035, -0.7387091317560727, -0.3566733282792827, -0.43158335134818315, -0.4899640124314907, 0.5488715658495908, 0.2821768987731658, -0.8832439438038343, 1.271863067044618, 0.10680856505919414, 0.8269478103679717, -0.03266751467505833, -0.34021520002722894, -0.6769186069469743, 0.7126188256918854, 1.8871150025438166, -0.06742662656190869, -1.4789736197389265, 0.346978601690099, -0.3757389938313092, 0.715285859520045, 1.5994858611908638, -0.3692558358591885, 0.13827360227735647, -0.40690530542342296, 0.636973800943974, 0.14658752987818605, -0.3949906255692418, 1.5076392623927681, -0.15486042602397807, 0.22159940179664614, -1.0878244818277978, -0.03354417910293162, 1.2258839316932069, -0.048951028800266715, -1.1089870994157809, 0.021452684803338333, 1.2548854256528554, -1.0913797662237141, -0.539059741192553, 0.6901269187662552, -1.4810451728120602, -0.8468654201203714, 0.3763927872506507, 0.8120568488462931, 0.0031767062628090745, 0.697742291538818, -0.7429703118062226, -0.842231117346612, -0.0666718362166121, 1.8829720647783421, 1.320112956074407, 0.42394324402947475, 0.466299928509142, 0.9415282138953815, -0.7707938096473991], \"type\": \"scatter\", \"line\": {\"dash\": \"solid\", \"width\": 1.3, \"color\": \"rgba(128, 128, 128, 1.0)\"}, \"marker\": {\"size\": 2, \"symbol\": \"dot\"}, \"name\": \"A\"}, {\"yaxis\": \"y4\", \"mode\": \"markers\", \"text\": \"\", \"xaxis\": \"x4\", \"x\": [0.5439560303056027, 1.8421879324257613, -0.6375584499267892, -1.113621595762316, -2.5460826344966634, -1.4694525849240658, 1.5284509091178395, -0.2389286047643509, -1.8771013496698048, 0.7967095179585106, -1.2751392945819797, -0.3919771719871495, 0.6960770780779357, 1.0829877919884603, -0.21798245190329507, 0.10031667681839129, 0.39551692710003933, 0.03022462233656908, -0.3327329523770193, -0.204819010502919, -0.498599044144297, -2.287561059130041, -0.2626249290420713, -2.7487145066091996, -0.666926270349069, -2.0379098459994895, 0.4076679798231559, 1.2245324594636484, -2.0903293143661017, 0.5730523735386692, -0.8155129116660126, -0.9572874252328925, 0.2646752398006613, -1.59152570791709, 0.0934028853207141, -2.602771223170992, 0.560010384592385, 0.449602390416327, -0.005796794476065169, 0.1829347250578045, -0.5607194705468903, -1.1999112237192675, -1.5750218946994066, 0.9111111432091317, -0.2530599561069696, -0.5460310452823662, -0.2531538203527998, 1.5968736605431069, 1.723507060923573, 0.38763182009739877, -1.5443680470309729, 1.2505835233573588, 0.0032375885699842803, 0.3870066878402003, -0.32906689091979147, 0.3856397258220775, -0.1654479720586817, 0.2232842423247386, -0.4418766853437538, -0.6751906059090874, -1.6521803078301385, 0.8305325757578166, 0.6577807720682736, -1.2851830040136305, 0.5089005765755124, 0.5962021316815027, 0.9573351203673642, -1.7458475655160375, -1.7131000048598244, 1.5732405203322046, -0.6605298861077683, -1.3437487967599893, 1.9772828633357302, -0.2856844646078326, 0.19293980157348012, 0.1628250911198371, 0.4208217295167736, 0.5627226183638288, -1.058090429960864, -1.3589615830656872, 2.138807050366944, 0.885718335515041, 0.8374040360650308, 0.49834346725709405, -1.3963572343750588, 2.2245606506923625, 0.19641383189506273, -0.3435398382353588, 0.7215114388529363, -0.8327583822270256, -2.039974975731211, 1.2859290252046311, -1.1577060578657161, 0.36795754346511866, 0.970791311065794, 0.496204293102698, -0.05627542841788665, 0.10113620396598295, 0.7547476274222054, 0.15433234934660506], \"y\": [1.8787246669561561, 0.028733616663923985, -0.1587931161277573, -1.2219723462024636, 1.2531523973363488, 0.8312132082951045, 1.1740170898586173, -0.24393002059589958, -0.296966543277261, 0.7621695759158762, 0.04210347865555278, -0.7791970481917073, 0.3943032396655093, -1.0146190736152443, -0.4841710096782867, 0.5522466668361006, -2.77187556758784, -0.5181226698708166, -0.49722040792422156, -1.6534757596659548, -0.06027439377033132, 1.4769243769038323, 1.1796346669498379, -0.7816898015019265, 0.8630132212967984, 0.6590246731638996, -1.1013906677685679, -0.9446804895542242, -1.788022470413331, 0.8775002821729455, 0.3546715768521251, -0.16532125735222183, 1.8914747239632839, -1.1251772915449791, 0.8888981026894395, -0.6066117727706714, 0.8314777742724779, 0.3830457069359529, -0.937459527593053, -0.844561047334305, 1.1280232245052606, -1.640427972598561, 0.8971269652786067, 0.4848047458342485, 0.19373507090654035, -0.7387091317560727, -0.3566733282792827, -0.43158335134818315, -0.4899640124314907, 0.5488715658495908, 0.2821768987731658, -0.8832439438038343, 1.271863067044618, 0.10680856505919414, 0.8269478103679717, -0.03266751467505833, -0.34021520002722894, -0.6769186069469743, 0.7126188256918854, 1.8871150025438166, -0.06742662656190869, -1.4789736197389265, 0.346978601690099, -0.3757389938313092, 0.715285859520045, 1.5994858611908638, -0.3692558358591885, 0.13827360227735647, -0.40690530542342296, 0.636973800943974, 0.14658752987818605, -0.3949906255692418, 1.5076392623927681, -0.15486042602397807, 0.22159940179664614, -1.0878244818277978, -0.03354417910293162, 1.2258839316932069, -0.048951028800266715, -1.1089870994157809, 0.021452684803338333, 1.2548854256528554, -1.0913797662237141, -0.539059741192553, 0.6901269187662552, -1.4810451728120602, -0.8468654201203714, 0.3763927872506507, 0.8120568488462931, 0.0031767062628090745, 0.697742291538818, -0.7429703118062226, -0.842231117346612, -0.0666718362166121, 1.8829720647783421, 1.320112956074407, 0.42394324402947475, 0.466299928509142, 0.9415282138953815, -0.7707938096473991], \"type\": \"scatter\", \"line\": {\"dash\": \"solid\", \"width\": 1.3, \"color\": \"rgba(128, 128, 128, 1.0)\"}, \"marker\": {\"size\": 2, \"symbol\": \"dot\"}, \"name\": \"A\"}, {\"yaxis\": \"y5\", \"mode\": \"markers\", \"text\": \"\", \"xaxis\": \"x5\", \"x\": [1.8787246669561561, 0.028733616663923985, -0.1587931161277573, -1.2219723462024636, 1.2531523973363488, 0.8312132082951045, 1.1740170898586173, -0.24393002059589958, -0.296966543277261, 0.7621695759158762, 0.04210347865555278, -0.7791970481917073, 0.3943032396655093, -1.0146190736152443, -0.4841710096782867, 0.5522466668361006, -2.77187556758784, -0.5181226698708166, -0.49722040792422156, -1.6534757596659548, -0.06027439377033132, 1.4769243769038323, 1.1796346669498379, -0.7816898015019265, 0.8630132212967984, 0.6590246731638996, -1.1013906677685679, -0.9446804895542242, -1.788022470413331, 0.8775002821729455, 0.3546715768521251, -0.16532125735222183, 1.8914747239632839, -1.1251772915449791, 0.8888981026894395, -0.6066117727706714, 0.8314777742724779, 0.3830457069359529, -0.937459527593053, -0.844561047334305, 1.1280232245052606, -1.640427972598561, 0.8971269652786067, 0.4848047458342485, 0.19373507090654035, -0.7387091317560727, -0.3566733282792827, -0.43158335134818315, -0.4899640124314907, 0.5488715658495908, 0.2821768987731658, -0.8832439438038343, 1.271863067044618, 0.10680856505919414, 0.8269478103679717, -0.03266751467505833, -0.34021520002722894, -0.6769186069469743, 0.7126188256918854, 1.8871150025438166, -0.06742662656190869, -1.4789736197389265, 0.346978601690099, -0.3757389938313092, 0.715285859520045, 1.5994858611908638, -0.3692558358591885, 0.13827360227735647, -0.40690530542342296, 0.636973800943974, 0.14658752987818605, -0.3949906255692418, 1.5076392623927681, -0.15486042602397807, 0.22159940179664614, -1.0878244818277978, -0.03354417910293162, 1.2258839316932069, -0.048951028800266715, -1.1089870994157809, 0.021452684803338333, 1.2548854256528554, -1.0913797662237141, -0.539059741192553, 0.6901269187662552, -1.4810451728120602, -0.8468654201203714, 0.3763927872506507, 0.8120568488462931, 0.0031767062628090745, 0.697742291538818, -0.7429703118062226, -0.842231117346612, -0.0666718362166121, 1.8829720647783421, 1.320112956074407, 0.42394324402947475, 0.466299928509142, 0.9415282138953815, -0.7707938096473991], \"y\": [0.6887194376286498, 0.1040535242504629, 0.38792642015276635, 1.3934230260395444, -0.5375976688704683, -1.1493608786796612, 0.01342890849383506, -0.47231861415738574, 0.24793169472844812, -0.6232083144122951, -1.2121596694710122, -2.4542371001007464, 0.29855785553142483, 1.2997620162676498, 0.9168047366909585, -0.41040614900130634, 1.3147531456519106, -0.12455263569370086, 0.9366143523054554, 0.23573463729990726, -0.8244746170540388, -0.32685668230128845, 1.501781503113865, 0.9830012153240587, 0.6020112305361386, 0.3688304138086671, 1.0090827131320237, -0.5811720111587422, 0.0512884505619472, -1.6917643070157176, -0.25322144257612356, -0.2937357494665306, 0.7368726362448421, 0.5763424997076779, 0.16472110066593693, -0.374254076023172, 1.1280304809680426, 0.6455371548668151, -0.18000225503004413, -0.9128911232313937, -0.5670695205365133, 0.16138491502455474, 1.2118733837294762, 0.4444506280024997, 0.6834767601409083, 1.8020727241195935, 2.4230878273709062, 0.27701889696287213, 1.4067122280705426, -0.33728919328412016, 0.5154870435338148, 0.7751019637809062, 1.400130435077449, 0.8276591566099151, 1.1268119555303864, 0.7016118169589718, 0.476169530704683, -0.5261125753709399, -1.2129692872143456, 0.6126338497954396, 1.5825905557818922, -0.8173630045970658, 0.1075602248072928, 1.2716988894407462, -0.15615948990467535, -0.2968566839654392, 1.7204934641303604, -0.869876624137026, 0.28935077735906545, -1.2052876742800458, -0.263979336251353, -0.02815365780209253, -0.04062347728476395, 0.943760296027789, -1.7797735906553165, 0.4485755919087686, 0.14778332986993048, 0.5305019463041807, 1.6359913516932165, -0.3437427119285297, 1.9109783094330681, 0.6818924480193401, -0.42214824562337705, 0.8935317581184008, 1.2587495288352297, -0.5992845246668753, 2.7851237345776405, -1.5158096238899554, 0.04177421570103183, 0.48980398157362903, 1.063643861677667, -0.8486329162129157, -1.86936339853131, 0.24761777046722996, 1.290606988097702, 0.17046338292604407, 0.14181179559597848, 0.6505415244850333, -2.5850581533594545, -0.30813091794721653], \"type\": \"scatter\", \"line\": {\"dash\": \"solid\", \"width\": 1.3, \"color\": \"rgba(128, 128, 128, 1.0)\"}, \"marker\": {\"size\": 2, \"symbol\": \"dot\"}, \"name\": \"B\"}, {\"yaxis\": \"y6\", \"x\": [0.6887194376286498, 0.1040535242504629, 0.38792642015276635, 1.3934230260395444, -0.5375976688704683, -1.1493608786796612, 0.01342890849383506, -0.47231861415738574, 0.24793169472844812, -0.6232083144122951, -1.2121596694710122, -2.4542371001007464, 0.29855785553142483, 1.2997620162676498, 0.9168047366909585, -0.41040614900130634, 1.3147531456519106, -0.12455263569370086, 0.9366143523054554, 0.23573463729990726, -0.8244746170540388, -0.32685668230128845, 1.501781503113865, 0.9830012153240587, 0.6020112305361386, 0.3688304138086671, 1.0090827131320237, -0.5811720111587422, 0.0512884505619472, -1.6917643070157176, -0.25322144257612356, -0.2937357494665306, 0.7368726362448421, 0.5763424997076779, 0.16472110066593693, -0.374254076023172, 1.1280304809680426, 0.6455371548668151, -0.18000225503004413, -0.9128911232313937, -0.5670695205365133, 0.16138491502455474, 1.2118733837294762, 0.4444506280024997, 0.6834767601409083, 1.8020727241195935, 2.4230878273709062, 0.27701889696287213, 1.4067122280705426, -0.33728919328412016, 0.5154870435338148, 0.7751019637809062, 1.400130435077449, 0.8276591566099151, 1.1268119555303864, 0.7016118169589718, 0.476169530704683, -0.5261125753709399, -1.2129692872143456, 0.6126338497954396, 1.5825905557818922, -0.8173630045970658, 0.1075602248072928, 1.2716988894407462, -0.15615948990467535, -0.2968566839654392, 1.7204934641303604, -0.869876624137026, 0.28935077735906545, -1.2052876742800458, -0.263979336251353, -0.02815365780209253, -0.04062347728476395, 0.943760296027789, -1.7797735906553165, 0.4485755919087686, 0.14778332986993048, 0.5305019463041807, 1.6359913516932165, -0.3437427119285297, 1.9109783094330681, 0.6818924480193401, -0.42214824562337705, 0.8935317581184008, 1.2587495288352297, -0.5992845246668753, 2.7851237345776405, -1.5158096238899554, 0.04177421570103183, 0.48980398157362903, 1.063643861677667, -0.8486329162129157, -1.86936339853131, 0.24761777046722996, 1.290606988097702, 0.17046338292604407, 0.14181179559597848, 0.6505415244850333, -2.5850581533594545, -0.30813091794721653], \"orientation\": \"v\", \"name\": \"B\", \"opacity\": 0.8, \"histfunc\": \"count\", \"type\": \"histogram\", \"histnorm\": \"\", \"nbinsx\": 10, \"marker\": {\"line\": {\"width\": 1.3, \"color\": \"#D9D9D9\"}, \"color\": \"rgba(62, 111, 176, 1.0)\"}, \"xaxis\": \"x6\"}, {\"yaxis\": \"y7\", \"mode\": \"markers\", \"text\": \"\", \"xaxis\": \"x7\", \"x\": [1.0667334168325768, 0.04817571551860875, -0.6353709157290994, -0.29979428249659507, 0.30291706303457033, -1.2658520234759039, 0.4984256330100474, -0.4813817437844393, 1.6528819231392327, -1.0387894611418347, -1.4866253379043493, -0.5281135473322252, -0.061645252730345844, 0.7876423965771268, 0.9285191892602837, -3.0483938246413547, -0.371184208418135, 0.11169331199774239, 0.30352330980386477, -1.1851393464396252, -0.3023997655692267, 1.4199893168847753, -0.332851303404407, 0.7955908630250091, 0.5869705278914006, -0.45090328668726354, -0.7814566611757896, -0.1261200409144497, 0.7060858452328673, -0.8894721878843294, 0.6064992291432117, -0.1963991863666514, 0.16697094643083513, -0.06591707111576753, 0.8961422265850149, 0.8939803073905991, 0.2526177880230376, -1.2523243277936627, 0.9749672569040144, 0.9687477057343876, 0.26351967435246515, -0.9517261189215155, -0.18707956459088698, -0.39391833601946274, 0.5273775265831957, -0.48180251718398176, -2.2230374431929953, 2.0999928572789828, 0.5496483529576708, 1.067298459209482, -0.3040289105606048, 0.1352094843666391, -0.9944404721270197, 2.2258275006902912, -0.11689955437978636, 0.41231462999024887, 0.7856039151273921, -0.6894731524779986, -0.8276899193670904, 0.23638272241448607, 1.3266743967632526, 0.9626096963262857, -0.28379390855690406, -0.417413711892243, -1.3341211120615861, 0.9298055489835776, 2.106720126861483, 0.23150307059926345, 0.8864836518334782, 0.4193977048083098, 0.3190869644200757, 0.9673541346062681, 0.42245148076732175, 1.0906377526894717, 1.3887188298690671, -0.19507483218944058, -0.9347090401182315, 0.30126885232107575, 0.42495072953595375, -0.9170212042816844, -1.6965969381460768, -0.011576471618042839, -1.0479065708976978, -0.4749222730814971, 0.4229046102099884, 0.08254929486846736, -0.7783883617548714, -0.17950878512595098, 0.4391940123110264, -1.9667304216807953, -1.5652802021531136, 0.8163770970520242, -0.008375093041838632, 0.5510487504106222, -0.4239325998518183, -0.1297116221823799, -0.10728910870450034, -0.12169367361116121, -0.6905111268638191, -0.2653540299125418], \"y\": [0.6887194376286498, 0.1040535242504629, 0.38792642015276635, 1.3934230260395444, -0.5375976688704683, -1.1493608786796612, 0.01342890849383506, -0.47231861415738574, 0.24793169472844812, -0.6232083144122951, -1.2121596694710122, -2.4542371001007464, 0.29855785553142483, 1.2997620162676498, 0.9168047366909585, -0.41040614900130634, 1.3147531456519106, -0.12455263569370086, 0.9366143523054554, 0.23573463729990726, -0.8244746170540388, -0.32685668230128845, 1.501781503113865, 0.9830012153240587, 0.6020112305361386, 0.3688304138086671, 1.0090827131320237, -0.5811720111587422, 0.0512884505619472, -1.6917643070157176, -0.25322144257612356, -0.2937357494665306, 0.7368726362448421, 0.5763424997076779, 0.16472110066593693, -0.374254076023172, 1.1280304809680426, 0.6455371548668151, -0.18000225503004413, -0.9128911232313937, -0.5670695205365133, 0.16138491502455474, 1.2118733837294762, 0.4444506280024997, 0.6834767601409083, 1.8020727241195935, 2.4230878273709062, 0.27701889696287213, 1.4067122280705426, -0.33728919328412016, 0.5154870435338148, 0.7751019637809062, 1.400130435077449, 0.8276591566099151, 1.1268119555303864, 0.7016118169589718, 0.476169530704683, -0.5261125753709399, -1.2129692872143456, 0.6126338497954396, 1.5825905557818922, -0.8173630045970658, 0.1075602248072928, 1.2716988894407462, -0.15615948990467535, -0.2968566839654392, 1.7204934641303604, -0.869876624137026, 0.28935077735906545, -1.2052876742800458, -0.263979336251353, -0.02815365780209253, -0.04062347728476395, 0.943760296027789, -1.7797735906553165, 0.4485755919087686, 0.14778332986993048, 0.5305019463041807, 1.6359913516932165, -0.3437427119285297, 1.9109783094330681, 0.6818924480193401, -0.42214824562337705, 0.8935317581184008, 1.2587495288352297, -0.5992845246668753, 2.7851237345776405, -1.5158096238899554, 0.04177421570103183, 0.48980398157362903, 1.063643861677667, -0.8486329162129157, -1.86936339853131, 0.24761777046722996, 1.290606988097702, 0.17046338292604407, 0.14181179559597848, 0.6505415244850333, -2.5850581533594545, -0.30813091794721653], \"type\": \"scatter\", \"line\": {\"dash\": \"solid\", \"width\": 1.3, \"color\": \"rgba(128, 128, 128, 1.0)\"}, \"marker\": {\"size\": 2, \"symbol\": \"dot\"}, \"name\": \"B\"}, {\"yaxis\": \"y8\", \"mode\": \"markers\", \"text\": \"\", \"xaxis\": \"x8\", \"x\": [0.5439560303056027, 1.8421879324257613, -0.6375584499267892, -1.113621595762316, -2.5460826344966634, -1.4694525849240658, 1.5284509091178395, -0.2389286047643509, -1.8771013496698048, 0.7967095179585106, -1.2751392945819797, -0.3919771719871495, 0.6960770780779357, 1.0829877919884603, -0.21798245190329507, 0.10031667681839129, 0.39551692710003933, 0.03022462233656908, -0.3327329523770193, -0.204819010502919, -0.498599044144297, -2.287561059130041, -0.2626249290420713, -2.7487145066091996, -0.666926270349069, -2.0379098459994895, 0.4076679798231559, 1.2245324594636484, -2.0903293143661017, 0.5730523735386692, -0.8155129116660126, -0.9572874252328925, 0.2646752398006613, -1.59152570791709, 0.0934028853207141, -2.602771223170992, 0.560010384592385, 0.449602390416327, -0.005796794476065169, 0.1829347250578045, -0.5607194705468903, -1.1999112237192675, -1.5750218946994066, 0.9111111432091317, -0.2530599561069696, -0.5460310452823662, -0.2531538203527998, 1.5968736605431069, 1.723507060923573, 0.38763182009739877, -1.5443680470309729, 1.2505835233573588, 0.0032375885699842803, 0.3870066878402003, -0.32906689091979147, 0.3856397258220775, -0.1654479720586817, 0.2232842423247386, -0.4418766853437538, -0.6751906059090874, -1.6521803078301385, 0.8305325757578166, 0.6577807720682736, -1.2851830040136305, 0.5089005765755124, 0.5962021316815027, 0.9573351203673642, -1.7458475655160375, -1.7131000048598244, 1.5732405203322046, -0.6605298861077683, -1.3437487967599893, 1.9772828633357302, -0.2856844646078326, 0.19293980157348012, 0.1628250911198371, 0.4208217295167736, 0.5627226183638288, -1.058090429960864, -1.3589615830656872, 2.138807050366944, 0.885718335515041, 0.8374040360650308, 0.49834346725709405, -1.3963572343750588, 2.2245606506923625, 0.19641383189506273, -0.3435398382353588, 0.7215114388529363, -0.8327583822270256, -2.039974975731211, 1.2859290252046311, -1.1577060578657161, 0.36795754346511866, 0.970791311065794, 0.496204293102698, -0.05627542841788665, 0.10113620396598295, 0.7547476274222054, 0.15433234934660506], \"y\": [0.6887194376286498, 0.1040535242504629, 0.38792642015276635, 1.3934230260395444, -0.5375976688704683, -1.1493608786796612, 0.01342890849383506, -0.47231861415738574, 0.24793169472844812, -0.6232083144122951, -1.2121596694710122, -2.4542371001007464, 0.29855785553142483, 1.2997620162676498, 0.9168047366909585, -0.41040614900130634, 1.3147531456519106, -0.12455263569370086, 0.9366143523054554, 0.23573463729990726, -0.8244746170540388, -0.32685668230128845, 1.501781503113865, 0.9830012153240587, 0.6020112305361386, 0.3688304138086671, 1.0090827131320237, -0.5811720111587422, 0.0512884505619472, -1.6917643070157176, -0.25322144257612356, -0.2937357494665306, 0.7368726362448421, 0.5763424997076779, 0.16472110066593693, -0.374254076023172, 1.1280304809680426, 0.6455371548668151, -0.18000225503004413, -0.9128911232313937, -0.5670695205365133, 0.16138491502455474, 1.2118733837294762, 0.4444506280024997, 0.6834767601409083, 1.8020727241195935, 2.4230878273709062, 0.27701889696287213, 1.4067122280705426, -0.33728919328412016, 0.5154870435338148, 0.7751019637809062, 1.400130435077449, 0.8276591566099151, 1.1268119555303864, 0.7016118169589718, 0.476169530704683, -0.5261125753709399, -1.2129692872143456, 0.6126338497954396, 1.5825905557818922, -0.8173630045970658, 0.1075602248072928, 1.2716988894407462, -0.15615948990467535, -0.2968566839654392, 1.7204934641303604, -0.869876624137026, 0.28935077735906545, -1.2052876742800458, -0.263979336251353, -0.02815365780209253, -0.04062347728476395, 0.943760296027789, -1.7797735906553165, 0.4485755919087686, 0.14778332986993048, 0.5305019463041807, 1.6359913516932165, -0.3437427119285297, 1.9109783094330681, 0.6818924480193401, -0.42214824562337705, 0.8935317581184008, 1.2587495288352297, -0.5992845246668753, 2.7851237345776405, -1.5158096238899554, 0.04177421570103183, 0.48980398157362903, 1.063643861677667, -0.8486329162129157, -1.86936339853131, 0.24761777046722996, 1.290606988097702, 0.17046338292604407, 0.14181179559597848, 0.6505415244850333, -2.5850581533594545, -0.30813091794721653], \"type\": \"scatter\", \"line\": {\"dash\": \"solid\", \"width\": 1.3, \"color\": \"rgba(128, 128, 128, 1.0)\"}, \"marker\": {\"size\": 2, \"symbol\": \"dot\"}, \"name\": \"B\"}, {\"yaxis\": \"y9\", \"mode\": \"markers\", \"text\": \"\", \"xaxis\": \"x9\", \"x\": [1.8787246669561561, 0.028733616663923985, -0.1587931161277573, -1.2219723462024636, 1.2531523973363488, 0.8312132082951045, 1.1740170898586173, -0.24393002059589958, -0.296966543277261, 0.7621695759158762, 0.04210347865555278, -0.7791970481917073, 0.3943032396655093, -1.0146190736152443, -0.4841710096782867, 0.5522466668361006, -2.77187556758784, -0.5181226698708166, -0.49722040792422156, -1.6534757596659548, -0.06027439377033132, 1.4769243769038323, 1.1796346669498379, -0.7816898015019265, 0.8630132212967984, 0.6590246731638996, -1.1013906677685679, -0.9446804895542242, -1.788022470413331, 0.8775002821729455, 0.3546715768521251, -0.16532125735222183, 1.8914747239632839, -1.1251772915449791, 0.8888981026894395, -0.6066117727706714, 0.8314777742724779, 0.3830457069359529, -0.937459527593053, -0.844561047334305, 1.1280232245052606, -1.640427972598561, 0.8971269652786067, 0.4848047458342485, 0.19373507090654035, -0.7387091317560727, -0.3566733282792827, -0.43158335134818315, -0.4899640124314907, 0.5488715658495908, 0.2821768987731658, -0.8832439438038343, 1.271863067044618, 0.10680856505919414, 0.8269478103679717, -0.03266751467505833, -0.34021520002722894, -0.6769186069469743, 0.7126188256918854, 1.8871150025438166, -0.06742662656190869, -1.4789736197389265, 0.346978601690099, -0.3757389938313092, 0.715285859520045, 1.5994858611908638, -0.3692558358591885, 0.13827360227735647, -0.40690530542342296, 0.636973800943974, 0.14658752987818605, -0.3949906255692418, 1.5076392623927681, -0.15486042602397807, 0.22159940179664614, -1.0878244818277978, -0.03354417910293162, 1.2258839316932069, -0.048951028800266715, -1.1089870994157809, 0.021452684803338333, 1.2548854256528554, -1.0913797662237141, -0.539059741192553, 0.6901269187662552, -1.4810451728120602, -0.8468654201203714, 0.3763927872506507, 0.8120568488462931, 0.0031767062628090745, 0.697742291538818, -0.7429703118062226, -0.842231117346612, -0.0666718362166121, 1.8829720647783421, 1.320112956074407, 0.42394324402947475, 0.466299928509142, 0.9415282138953815, -0.7707938096473991], \"y\": [1.0667334168325768, 0.04817571551860875, -0.6353709157290994, -0.29979428249659507, 0.30291706303457033, -1.2658520234759039, 0.4984256330100474, -0.4813817437844393, 1.6528819231392327, -1.0387894611418347, -1.4866253379043493, -0.5281135473322252, -0.061645252730345844, 0.7876423965771268, 0.9285191892602837, -3.0483938246413547, -0.371184208418135, 0.11169331199774239, 0.30352330980386477, -1.1851393464396252, -0.3023997655692267, 1.4199893168847753, -0.332851303404407, 0.7955908630250091, 0.5869705278914006, -0.45090328668726354, -0.7814566611757896, -0.1261200409144497, 0.7060858452328673, -0.8894721878843294, 0.6064992291432117, -0.1963991863666514, 0.16697094643083513, -0.06591707111576753, 0.8961422265850149, 0.8939803073905991, 0.2526177880230376, -1.2523243277936627, 0.9749672569040144, 0.9687477057343876, 0.26351967435246515, -0.9517261189215155, -0.18707956459088698, -0.39391833601946274, 0.5273775265831957, -0.48180251718398176, -2.2230374431929953, 2.0999928572789828, 0.5496483529576708, 1.067298459209482, -0.3040289105606048, 0.1352094843666391, -0.9944404721270197, 2.2258275006902912, -0.11689955437978636, 0.41231462999024887, 0.7856039151273921, -0.6894731524779986, -0.8276899193670904, 0.23638272241448607, 1.3266743967632526, 0.9626096963262857, -0.28379390855690406, -0.417413711892243, -1.3341211120615861, 0.9298055489835776, 2.106720126861483, 0.23150307059926345, 0.8864836518334782, 0.4193977048083098, 0.3190869644200757, 0.9673541346062681, 0.42245148076732175, 1.0906377526894717, 1.3887188298690671, -0.19507483218944058, -0.9347090401182315, 0.30126885232107575, 0.42495072953595375, -0.9170212042816844, -1.6965969381460768, -0.011576471618042839, -1.0479065708976978, -0.4749222730814971, 0.4229046102099884, 0.08254929486846736, -0.7783883617548714, -0.17950878512595098, 0.4391940123110264, -1.9667304216807953, -1.5652802021531136, 0.8163770970520242, -0.008375093041838632, 0.5510487504106222, -0.4239325998518183, -0.1297116221823799, -0.10728910870450034, -0.12169367361116121, -0.6905111268638191, -0.2653540299125418], \"type\": \"scatter\", \"line\": {\"dash\": \"solid\", \"width\": 1.3, \"color\": \"rgba(128, 128, 128, 1.0)\"}, \"marker\": {\"size\": 2, \"symbol\": \"dot\"}, \"name\": \"C\"}, {\"yaxis\": \"y10\", \"mode\": \"markers\", \"text\": \"\", \"xaxis\": \"x10\", \"x\": [0.6887194376286498, 0.1040535242504629, 0.38792642015276635, 1.3934230260395444, -0.5375976688704683, -1.1493608786796612, 0.01342890849383506, -0.47231861415738574, 0.24793169472844812, -0.6232083144122951, -1.2121596694710122, -2.4542371001007464, 0.29855785553142483, 1.2997620162676498, 0.9168047366909585, -0.41040614900130634, 1.3147531456519106, -0.12455263569370086, 0.9366143523054554, 0.23573463729990726, -0.8244746170540388, -0.32685668230128845, 1.501781503113865, 0.9830012153240587, 0.6020112305361386, 0.3688304138086671, 1.0090827131320237, -0.5811720111587422, 0.0512884505619472, -1.6917643070157176, -0.25322144257612356, -0.2937357494665306, 0.7368726362448421, 0.5763424997076779, 0.16472110066593693, -0.374254076023172, 1.1280304809680426, 0.6455371548668151, -0.18000225503004413, -0.9128911232313937, -0.5670695205365133, 0.16138491502455474, 1.2118733837294762, 0.4444506280024997, 0.6834767601409083, 1.8020727241195935, 2.4230878273709062, 0.27701889696287213, 1.4067122280705426, -0.33728919328412016, 0.5154870435338148, 0.7751019637809062, 1.400130435077449, 0.8276591566099151, 1.1268119555303864, 0.7016118169589718, 0.476169530704683, -0.5261125753709399, -1.2129692872143456, 0.6126338497954396, 1.5825905557818922, -0.8173630045970658, 0.1075602248072928, 1.2716988894407462, -0.15615948990467535, -0.2968566839654392, 1.7204934641303604, -0.869876624137026, 0.28935077735906545, -1.2052876742800458, -0.263979336251353, -0.02815365780209253, -0.04062347728476395, 0.943760296027789, -1.7797735906553165, 0.4485755919087686, 0.14778332986993048, 0.5305019463041807, 1.6359913516932165, -0.3437427119285297, 1.9109783094330681, 0.6818924480193401, -0.42214824562337705, 0.8935317581184008, 1.2587495288352297, -0.5992845246668753, 2.7851237345776405, -1.5158096238899554, 0.04177421570103183, 0.48980398157362903, 1.063643861677667, -0.8486329162129157, -1.86936339853131, 0.24761777046722996, 1.290606988097702, 0.17046338292604407, 0.14181179559597848, 0.6505415244850333, -2.5850581533594545, -0.30813091794721653], \"y\": [1.0667334168325768, 0.04817571551860875, -0.6353709157290994, -0.29979428249659507, 0.30291706303457033, -1.2658520234759039, 0.4984256330100474, -0.4813817437844393, 1.6528819231392327, -1.0387894611418347, -1.4866253379043493, -0.5281135473322252, -0.061645252730345844, 0.7876423965771268, 0.9285191892602837, -3.0483938246413547, -0.371184208418135, 0.11169331199774239, 0.30352330980386477, -1.1851393464396252, -0.3023997655692267, 1.4199893168847753, -0.332851303404407, 0.7955908630250091, 0.5869705278914006, -0.45090328668726354, -0.7814566611757896, -0.1261200409144497, 0.7060858452328673, -0.8894721878843294, 0.6064992291432117, -0.1963991863666514, 0.16697094643083513, -0.06591707111576753, 0.8961422265850149, 0.8939803073905991, 0.2526177880230376, -1.2523243277936627, 0.9749672569040144, 0.9687477057343876, 0.26351967435246515, -0.9517261189215155, -0.18707956459088698, -0.39391833601946274, 0.5273775265831957, -0.48180251718398176, -2.2230374431929953, 2.0999928572789828, 0.5496483529576708, 1.067298459209482, -0.3040289105606048, 0.1352094843666391, -0.9944404721270197, 2.2258275006902912, -0.11689955437978636, 0.41231462999024887, 0.7856039151273921, -0.6894731524779986, -0.8276899193670904, 0.23638272241448607, 1.3266743967632526, 0.9626096963262857, -0.28379390855690406, -0.417413711892243, -1.3341211120615861, 0.9298055489835776, 2.106720126861483, 0.23150307059926345, 0.8864836518334782, 0.4193977048083098, 0.3190869644200757, 0.9673541346062681, 0.42245148076732175, 1.0906377526894717, 1.3887188298690671, -0.19507483218944058, -0.9347090401182315, 0.30126885232107575, 0.42495072953595375, -0.9170212042816844, -1.6965969381460768, -0.011576471618042839, -1.0479065708976978, -0.4749222730814971, 0.4229046102099884, 0.08254929486846736, -0.7783883617548714, -0.17950878512595098, 0.4391940123110264, -1.9667304216807953, -1.5652802021531136, 0.8163770970520242, -0.008375093041838632, 0.5510487504106222, -0.4239325998518183, -0.1297116221823799, -0.10728910870450034, -0.12169367361116121, -0.6905111268638191, -0.2653540299125418], \"type\": \"scatter\", \"line\": {\"dash\": \"solid\", \"width\": 1.3, \"color\": \"rgba(128, 128, 128, 1.0)\"}, \"marker\": {\"size\": 2, \"symbol\": \"dot\"}, \"name\": \"C\"}, {\"yaxis\": \"y11\", \"x\": [1.0667334168325768, 0.04817571551860875, -0.6353709157290994, -0.29979428249659507, 0.30291706303457033, -1.2658520234759039, 0.4984256330100474, -0.4813817437844393, 1.6528819231392327, -1.0387894611418347, -1.4866253379043493, -0.5281135473322252, -0.061645252730345844, 0.7876423965771268, 0.9285191892602837, -3.0483938246413547, -0.371184208418135, 0.11169331199774239, 0.30352330980386477, -1.1851393464396252, -0.3023997655692267, 1.4199893168847753, -0.332851303404407, 0.7955908630250091, 0.5869705278914006, -0.45090328668726354, -0.7814566611757896, -0.1261200409144497, 0.7060858452328673, -0.8894721878843294, 0.6064992291432117, -0.1963991863666514, 0.16697094643083513, -0.06591707111576753, 0.8961422265850149, 0.8939803073905991, 0.2526177880230376, -1.2523243277936627, 0.9749672569040144, 0.9687477057343876, 0.26351967435246515, -0.9517261189215155, -0.18707956459088698, -0.39391833601946274, 0.5273775265831957, -0.48180251718398176, -2.2230374431929953, 2.0999928572789828, 0.5496483529576708, 1.067298459209482, -0.3040289105606048, 0.1352094843666391, -0.9944404721270197, 2.2258275006902912, -0.11689955437978636, 0.41231462999024887, 0.7856039151273921, -0.6894731524779986, -0.8276899193670904, 0.23638272241448607, 1.3266743967632526, 0.9626096963262857, -0.28379390855690406, -0.417413711892243, -1.3341211120615861, 0.9298055489835776, 2.106720126861483, 0.23150307059926345, 0.8864836518334782, 0.4193977048083098, 0.3190869644200757, 0.9673541346062681, 0.42245148076732175, 1.0906377526894717, 1.3887188298690671, -0.19507483218944058, -0.9347090401182315, 0.30126885232107575, 0.42495072953595375, -0.9170212042816844, -1.6965969381460768, -0.011576471618042839, -1.0479065708976978, -0.4749222730814971, 0.4229046102099884, 0.08254929486846736, -0.7783883617548714, -0.17950878512595098, 0.4391940123110264, -1.9667304216807953, -1.5652802021531136, 0.8163770970520242, -0.008375093041838632, 0.5510487504106222, -0.4239325998518183, -0.1297116221823799, -0.10728910870450034, -0.12169367361116121, -0.6905111268638191, -0.2653540299125418], \"orientation\": \"v\", \"name\": \"C\", \"opacity\": 0.8, \"histfunc\": \"count\", \"type\": \"histogram\", \"histnorm\": \"\", \"nbinsx\": 10, \"marker\": {\"line\": {\"width\": 1.3, \"color\": \"#D9D9D9\"}, \"color\": \"rgba(132, 118, 202, 1.0)\"}, \"xaxis\": \"x11\"}, {\"yaxis\": \"y12\", \"mode\": \"markers\", \"text\": \"\", \"xaxis\": \"x12\", \"x\": [0.5439560303056027, 1.8421879324257613, -0.6375584499267892, -1.113621595762316, -2.5460826344966634, -1.4694525849240658, 1.5284509091178395, -0.2389286047643509, -1.8771013496698048, 0.7967095179585106, -1.2751392945819797, -0.3919771719871495, 0.6960770780779357, 1.0829877919884603, -0.21798245190329507, 0.10031667681839129, 0.39551692710003933, 0.03022462233656908, -0.3327329523770193, -0.204819010502919, -0.498599044144297, -2.287561059130041, -0.2626249290420713, -2.7487145066091996, -0.666926270349069, -2.0379098459994895, 0.4076679798231559, 1.2245324594636484, -2.0903293143661017, 0.5730523735386692, -0.8155129116660126, -0.9572874252328925, 0.2646752398006613, -1.59152570791709, 0.0934028853207141, -2.602771223170992, 0.560010384592385, 0.449602390416327, -0.005796794476065169, 0.1829347250578045, -0.5607194705468903, -1.1999112237192675, -1.5750218946994066, 0.9111111432091317, -0.2530599561069696, -0.5460310452823662, -0.2531538203527998, 1.5968736605431069, 1.723507060923573, 0.38763182009739877, -1.5443680470309729, 1.2505835233573588, 0.0032375885699842803, 0.3870066878402003, -0.32906689091979147, 0.3856397258220775, -0.1654479720586817, 0.2232842423247386, -0.4418766853437538, -0.6751906059090874, -1.6521803078301385, 0.8305325757578166, 0.6577807720682736, -1.2851830040136305, 0.5089005765755124, 0.5962021316815027, 0.9573351203673642, -1.7458475655160375, -1.7131000048598244, 1.5732405203322046, -0.6605298861077683, -1.3437487967599893, 1.9772828633357302, -0.2856844646078326, 0.19293980157348012, 0.1628250911198371, 0.4208217295167736, 0.5627226183638288, -1.058090429960864, -1.3589615830656872, 2.138807050366944, 0.885718335515041, 0.8374040360650308, 0.49834346725709405, -1.3963572343750588, 2.2245606506923625, 0.19641383189506273, -0.3435398382353588, 0.7215114388529363, -0.8327583822270256, -2.039974975731211, 1.2859290252046311, -1.1577060578657161, 0.36795754346511866, 0.970791311065794, 0.496204293102698, -0.05627542841788665, 0.10113620396598295, 0.7547476274222054, 0.15433234934660506], \"y\": [1.0667334168325768, 0.04817571551860875, -0.6353709157290994, -0.29979428249659507, 0.30291706303457033, -1.2658520234759039, 0.4984256330100474, -0.4813817437844393, 1.6528819231392327, -1.0387894611418347, -1.4866253379043493, -0.5281135473322252, -0.061645252730345844, 0.7876423965771268, 0.9285191892602837, -3.0483938246413547, -0.371184208418135, 0.11169331199774239, 0.30352330980386477, -1.1851393464396252, -0.3023997655692267, 1.4199893168847753, -0.332851303404407, 0.7955908630250091, 0.5869705278914006, -0.45090328668726354, -0.7814566611757896, -0.1261200409144497, 0.7060858452328673, -0.8894721878843294, 0.6064992291432117, -0.1963991863666514, 0.16697094643083513, -0.06591707111576753, 0.8961422265850149, 0.8939803073905991, 0.2526177880230376, -1.2523243277936627, 0.9749672569040144, 0.9687477057343876, 0.26351967435246515, -0.9517261189215155, -0.18707956459088698, -0.39391833601946274, 0.5273775265831957, -0.48180251718398176, -2.2230374431929953, 2.0999928572789828, 0.5496483529576708, 1.067298459209482, -0.3040289105606048, 0.1352094843666391, -0.9944404721270197, 2.2258275006902912, -0.11689955437978636, 0.41231462999024887, 0.7856039151273921, -0.6894731524779986, -0.8276899193670904, 0.23638272241448607, 1.3266743967632526, 0.9626096963262857, -0.28379390855690406, -0.417413711892243, -1.3341211120615861, 0.9298055489835776, 2.106720126861483, 0.23150307059926345, 0.8864836518334782, 0.4193977048083098, 0.3190869644200757, 0.9673541346062681, 0.42245148076732175, 1.0906377526894717, 1.3887188298690671, -0.19507483218944058, -0.9347090401182315, 0.30126885232107575, 0.42495072953595375, -0.9170212042816844, -1.6965969381460768, -0.011576471618042839, -1.0479065708976978, -0.4749222730814971, 0.4229046102099884, 0.08254929486846736, -0.7783883617548714, -0.17950878512595098, 0.4391940123110264, -1.9667304216807953, -1.5652802021531136, 0.8163770970520242, -0.008375093041838632, 0.5510487504106222, -0.4239325998518183, -0.1297116221823799, -0.10728910870450034, -0.12169367361116121, -0.6905111268638191, -0.2653540299125418], \"type\": \"scatter\", \"line\": {\"dash\": \"solid\", \"width\": 1.3, \"color\": \"rgba(128, 128, 128, 1.0)\"}, \"marker\": {\"size\": 2, \"symbol\": \"dot\"}, \"name\": \"C\"}, {\"yaxis\": \"y13\", \"mode\": \"markers\", \"text\": \"\", \"xaxis\": \"x13\", \"x\": [1.8787246669561561, 0.028733616663923985, -0.1587931161277573, -1.2219723462024636, 1.2531523973363488, 0.8312132082951045, 1.1740170898586173, -0.24393002059589958, -0.296966543277261, 0.7621695759158762, 0.04210347865555278, -0.7791970481917073, 0.3943032396655093, -1.0146190736152443, -0.4841710096782867, 0.5522466668361006, -2.77187556758784, -0.5181226698708166, -0.49722040792422156, -1.6534757596659548, -0.06027439377033132, 1.4769243769038323, 1.1796346669498379, -0.7816898015019265, 0.8630132212967984, 0.6590246731638996, -1.1013906677685679, -0.9446804895542242, -1.788022470413331, 0.8775002821729455, 0.3546715768521251, -0.16532125735222183, 1.8914747239632839, -1.1251772915449791, 0.8888981026894395, -0.6066117727706714, 0.8314777742724779, 0.3830457069359529, -0.937459527593053, -0.844561047334305, 1.1280232245052606, -1.640427972598561, 0.8971269652786067, 0.4848047458342485, 0.19373507090654035, -0.7387091317560727, -0.3566733282792827, -0.43158335134818315, -0.4899640124314907, 0.5488715658495908, 0.2821768987731658, -0.8832439438038343, 1.271863067044618, 0.10680856505919414, 0.8269478103679717, -0.03266751467505833, -0.34021520002722894, -0.6769186069469743, 0.7126188256918854, 1.8871150025438166, -0.06742662656190869, -1.4789736197389265, 0.346978601690099, -0.3757389938313092, 0.715285859520045, 1.5994858611908638, -0.3692558358591885, 0.13827360227735647, -0.40690530542342296, 0.636973800943974, 0.14658752987818605, -0.3949906255692418, 1.5076392623927681, -0.15486042602397807, 0.22159940179664614, -1.0878244818277978, -0.03354417910293162, 1.2258839316932069, -0.048951028800266715, -1.1089870994157809, 0.021452684803338333, 1.2548854256528554, -1.0913797662237141, -0.539059741192553, 0.6901269187662552, -1.4810451728120602, -0.8468654201203714, 0.3763927872506507, 0.8120568488462931, 0.0031767062628090745, 0.697742291538818, -0.7429703118062226, -0.842231117346612, -0.0666718362166121, 1.8829720647783421, 1.320112956074407, 0.42394324402947475, 0.466299928509142, 0.9415282138953815, -0.7707938096473991], \"y\": [0.5439560303056027, 1.8421879324257613, -0.6375584499267892, -1.113621595762316, -2.5460826344966634, -1.4694525849240658, 1.5284509091178395, -0.2389286047643509, -1.8771013496698048, 0.7967095179585106, -1.2751392945819797, -0.3919771719871495, 0.6960770780779357, 1.0829877919884603, -0.21798245190329507, 0.10031667681839129, 0.39551692710003933, 0.03022462233656908, -0.3327329523770193, -0.204819010502919, -0.498599044144297, -2.287561059130041, -0.2626249290420713, -2.7487145066091996, -0.666926270349069, -2.0379098459994895, 0.4076679798231559, 1.2245324594636484, -2.0903293143661017, 0.5730523735386692, -0.8155129116660126, -0.9572874252328925, 0.2646752398006613, -1.59152570791709, 0.0934028853207141, -2.602771223170992, 0.560010384592385, 0.449602390416327, -0.005796794476065169, 0.1829347250578045, -0.5607194705468903, -1.1999112237192675, -1.5750218946994066, 0.9111111432091317, -0.2530599561069696, -0.5460310452823662, -0.2531538203527998, 1.5968736605431069, 1.723507060923573, 0.38763182009739877, -1.5443680470309729, 1.2505835233573588, 0.0032375885699842803, 0.3870066878402003, -0.32906689091979147, 0.3856397258220775, -0.1654479720586817, 0.2232842423247386, -0.4418766853437538, -0.6751906059090874, -1.6521803078301385, 0.8305325757578166, 0.6577807720682736, -1.2851830040136305, 0.5089005765755124, 0.5962021316815027, 0.9573351203673642, -1.7458475655160375, -1.7131000048598244, 1.5732405203322046, -0.6605298861077683, -1.3437487967599893, 1.9772828633357302, -0.2856844646078326, 0.19293980157348012, 0.1628250911198371, 0.4208217295167736, 0.5627226183638288, -1.058090429960864, -1.3589615830656872, 2.138807050366944, 0.885718335515041, 0.8374040360650308, 0.49834346725709405, -1.3963572343750588, 2.2245606506923625, 0.19641383189506273, -0.3435398382353588, 0.7215114388529363, -0.8327583822270256, -2.039974975731211, 1.2859290252046311, -1.1577060578657161, 0.36795754346511866, 0.970791311065794, 0.496204293102698, -0.05627542841788665, 0.10113620396598295, 0.7547476274222054, 0.15433234934660506], \"type\": \"scatter\", \"line\": {\"dash\": \"solid\", \"width\": 1.3, \"color\": \"rgba(128, 128, 128, 1.0)\"}, \"marker\": {\"size\": 2, \"symbol\": \"dot\"}, \"name\": \"D\"}, {\"yaxis\": \"y14\", \"mode\": \"markers\", \"text\": \"\", \"xaxis\": \"x14\", \"x\": [0.6887194376286498, 0.1040535242504629, 0.38792642015276635, 1.3934230260395444, -0.5375976688704683, -1.1493608786796612, 0.01342890849383506, -0.47231861415738574, 0.24793169472844812, -0.6232083144122951, -1.2121596694710122, -2.4542371001007464, 0.29855785553142483, 1.2997620162676498, 0.9168047366909585, -0.41040614900130634, 1.3147531456519106, -0.12455263569370086, 0.9366143523054554, 0.23573463729990726, -0.8244746170540388, -0.32685668230128845, 1.501781503113865, 0.9830012153240587, 0.6020112305361386, 0.3688304138086671, 1.0090827131320237, -0.5811720111587422, 0.0512884505619472, -1.6917643070157176, -0.25322144257612356, -0.2937357494665306, 0.7368726362448421, 0.5763424997076779, 0.16472110066593693, -0.374254076023172, 1.1280304809680426, 0.6455371548668151, -0.18000225503004413, -0.9128911232313937, -0.5670695205365133, 0.16138491502455474, 1.2118733837294762, 0.4444506280024997, 0.6834767601409083, 1.8020727241195935, 2.4230878273709062, 0.27701889696287213, 1.4067122280705426, -0.33728919328412016, 0.5154870435338148, 0.7751019637809062, 1.400130435077449, 0.8276591566099151, 1.1268119555303864, 0.7016118169589718, 0.476169530704683, -0.5261125753709399, -1.2129692872143456, 0.6126338497954396, 1.5825905557818922, -0.8173630045970658, 0.1075602248072928, 1.2716988894407462, -0.15615948990467535, -0.2968566839654392, 1.7204934641303604, -0.869876624137026, 0.28935077735906545, -1.2052876742800458, -0.263979336251353, -0.02815365780209253, -0.04062347728476395, 0.943760296027789, -1.7797735906553165, 0.4485755919087686, 0.14778332986993048, 0.5305019463041807, 1.6359913516932165, -0.3437427119285297, 1.9109783094330681, 0.6818924480193401, -0.42214824562337705, 0.8935317581184008, 1.2587495288352297, -0.5992845246668753, 2.7851237345776405, -1.5158096238899554, 0.04177421570103183, 0.48980398157362903, 1.063643861677667, -0.8486329162129157, -1.86936339853131, 0.24761777046722996, 1.290606988097702, 0.17046338292604407, 0.14181179559597848, 0.6505415244850333, -2.5850581533594545, -0.30813091794721653], \"y\": [0.5439560303056027, 1.8421879324257613, -0.6375584499267892, -1.113621595762316, -2.5460826344966634, -1.4694525849240658, 1.5284509091178395, -0.2389286047643509, -1.8771013496698048, 0.7967095179585106, -1.2751392945819797, -0.3919771719871495, 0.6960770780779357, 1.0829877919884603, -0.21798245190329507, 0.10031667681839129, 0.39551692710003933, 0.03022462233656908, -0.3327329523770193, -0.204819010502919, -0.498599044144297, -2.287561059130041, -0.2626249290420713, -2.7487145066091996, -0.666926270349069, -2.0379098459994895, 0.4076679798231559, 1.2245324594636484, -2.0903293143661017, 0.5730523735386692, -0.8155129116660126, -0.9572874252328925, 0.2646752398006613, -1.59152570791709, 0.0934028853207141, -2.602771223170992, 0.560010384592385, 0.449602390416327, -0.005796794476065169, 0.1829347250578045, -0.5607194705468903, -1.1999112237192675, -1.5750218946994066, 0.9111111432091317, -0.2530599561069696, -0.5460310452823662, -0.2531538203527998, 1.5968736605431069, 1.723507060923573, 0.38763182009739877, -1.5443680470309729, 1.2505835233573588, 0.0032375885699842803, 0.3870066878402003, -0.32906689091979147, 0.3856397258220775, -0.1654479720586817, 0.2232842423247386, -0.4418766853437538, -0.6751906059090874, -1.6521803078301385, 0.8305325757578166, 0.6577807720682736, -1.2851830040136305, 0.5089005765755124, 0.5962021316815027, 0.9573351203673642, -1.7458475655160375, -1.7131000048598244, 1.5732405203322046, -0.6605298861077683, -1.3437487967599893, 1.9772828633357302, -0.2856844646078326, 0.19293980157348012, 0.1628250911198371, 0.4208217295167736, 0.5627226183638288, -1.058090429960864, -1.3589615830656872, 2.138807050366944, 0.885718335515041, 0.8374040360650308, 0.49834346725709405, -1.3963572343750588, 2.2245606506923625, 0.19641383189506273, -0.3435398382353588, 0.7215114388529363, -0.8327583822270256, -2.039974975731211, 1.2859290252046311, -1.1577060578657161, 0.36795754346511866, 0.970791311065794, 0.496204293102698, -0.05627542841788665, 0.10113620396598295, 0.7547476274222054, 0.15433234934660506], \"type\": \"scatter\", \"line\": {\"dash\": \"solid\", \"width\": 1.3, \"color\": \"rgba(128, 128, 128, 1.0)\"}, \"marker\": {\"size\": 2, \"symbol\": \"dot\"}, \"name\": \"D\"}, {\"yaxis\": \"y15\", \"mode\": \"markers\", \"text\": \"\", \"xaxis\": \"x15\", \"x\": [1.0667334168325768, 0.04817571551860875, -0.6353709157290994, -0.29979428249659507, 0.30291706303457033, -1.2658520234759039, 0.4984256330100474, -0.4813817437844393, 1.6528819231392327, -1.0387894611418347, -1.4866253379043493, -0.5281135473322252, -0.061645252730345844, 0.7876423965771268, 0.9285191892602837, -3.0483938246413547, -0.371184208418135, 0.11169331199774239, 0.30352330980386477, -1.1851393464396252, -0.3023997655692267, 1.4199893168847753, -0.332851303404407, 0.7955908630250091, 0.5869705278914006, -0.45090328668726354, -0.7814566611757896, -0.1261200409144497, 0.7060858452328673, -0.8894721878843294, 0.6064992291432117, -0.1963991863666514, 0.16697094643083513, -0.06591707111576753, 0.8961422265850149, 0.8939803073905991, 0.2526177880230376, -1.2523243277936627, 0.9749672569040144, 0.9687477057343876, 0.26351967435246515, -0.9517261189215155, -0.18707956459088698, -0.39391833601946274, 0.5273775265831957, -0.48180251718398176, -2.2230374431929953, 2.0999928572789828, 0.5496483529576708, 1.067298459209482, -0.3040289105606048, 0.1352094843666391, -0.9944404721270197, 2.2258275006902912, -0.11689955437978636, 0.41231462999024887, 0.7856039151273921, -0.6894731524779986, -0.8276899193670904, 0.23638272241448607, 1.3266743967632526, 0.9626096963262857, -0.28379390855690406, -0.417413711892243, -1.3341211120615861, 0.9298055489835776, 2.106720126861483, 0.23150307059926345, 0.8864836518334782, 0.4193977048083098, 0.3190869644200757, 0.9673541346062681, 0.42245148076732175, 1.0906377526894717, 1.3887188298690671, -0.19507483218944058, -0.9347090401182315, 0.30126885232107575, 0.42495072953595375, -0.9170212042816844, -1.6965969381460768, -0.011576471618042839, -1.0479065708976978, -0.4749222730814971, 0.4229046102099884, 0.08254929486846736, -0.7783883617548714, -0.17950878512595098, 0.4391940123110264, -1.9667304216807953, -1.5652802021531136, 0.8163770970520242, -0.008375093041838632, 0.5510487504106222, -0.4239325998518183, -0.1297116221823799, -0.10728910870450034, -0.12169367361116121, -0.6905111268638191, -0.2653540299125418], \"y\": [0.5439560303056027, 1.8421879324257613, -0.6375584499267892, -1.113621595762316, -2.5460826344966634, -1.4694525849240658, 1.5284509091178395, -0.2389286047643509, -1.8771013496698048, 0.7967095179585106, -1.2751392945819797, -0.3919771719871495, 0.6960770780779357, 1.0829877919884603, -0.21798245190329507, 0.10031667681839129, 0.39551692710003933, 0.03022462233656908, -0.3327329523770193, -0.204819010502919, -0.498599044144297, -2.287561059130041, -0.2626249290420713, -2.7487145066091996, -0.666926270349069, -2.0379098459994895, 0.4076679798231559, 1.2245324594636484, -2.0903293143661017, 0.5730523735386692, -0.8155129116660126, -0.9572874252328925, 0.2646752398006613, -1.59152570791709, 0.0934028853207141, -2.602771223170992, 0.560010384592385, 0.449602390416327, -0.005796794476065169, 0.1829347250578045, -0.5607194705468903, -1.1999112237192675, -1.5750218946994066, 0.9111111432091317, -0.2530599561069696, -0.5460310452823662, -0.2531538203527998, 1.5968736605431069, 1.723507060923573, 0.38763182009739877, -1.5443680470309729, 1.2505835233573588, 0.0032375885699842803, 0.3870066878402003, -0.32906689091979147, 0.3856397258220775, -0.1654479720586817, 0.2232842423247386, -0.4418766853437538, -0.6751906059090874, -1.6521803078301385, 0.8305325757578166, 0.6577807720682736, -1.2851830040136305, 0.5089005765755124, 0.5962021316815027, 0.9573351203673642, -1.7458475655160375, -1.7131000048598244, 1.5732405203322046, -0.6605298861077683, -1.3437487967599893, 1.9772828633357302, -0.2856844646078326, 0.19293980157348012, 0.1628250911198371, 0.4208217295167736, 0.5627226183638288, -1.058090429960864, -1.3589615830656872, 2.138807050366944, 0.885718335515041, 0.8374040360650308, 0.49834346725709405, -1.3963572343750588, 2.2245606506923625, 0.19641383189506273, -0.3435398382353588, 0.7215114388529363, -0.8327583822270256, -2.039974975731211, 1.2859290252046311, -1.1577060578657161, 0.36795754346511866, 0.970791311065794, 0.496204293102698, -0.05627542841788665, 0.10113620396598295, 0.7547476274222054, 0.15433234934660506], \"type\": \"scatter\", \"line\": {\"dash\": \"solid\", \"width\": 1.3, \"color\": \"rgba(128, 128, 128, 1.0)\"}, \"marker\": {\"size\": 2, \"symbol\": \"dot\"}, \"name\": \"D\"}, {\"yaxis\": \"y16\", \"x\": [0.5439560303056027, 1.8421879324257613, -0.6375584499267892, -1.113621595762316, -2.5460826344966634, -1.4694525849240658, 1.5284509091178395, -0.2389286047643509, -1.8771013496698048, 0.7967095179585106, -1.2751392945819797, -0.3919771719871495, 0.6960770780779357, 1.0829877919884603, -0.21798245190329507, 0.10031667681839129, 0.39551692710003933, 0.03022462233656908, -0.3327329523770193, -0.204819010502919, -0.498599044144297, -2.287561059130041, -0.2626249290420713, -2.7487145066091996, -0.666926270349069, -2.0379098459994895, 0.4076679798231559, 1.2245324594636484, -2.0903293143661017, 0.5730523735386692, -0.8155129116660126, -0.9572874252328925, 0.2646752398006613, -1.59152570791709, 0.0934028853207141, -2.602771223170992, 0.560010384592385, 0.449602390416327, -0.005796794476065169, 0.1829347250578045, -0.5607194705468903, -1.1999112237192675, -1.5750218946994066, 0.9111111432091317, -0.2530599561069696, -0.5460310452823662, -0.2531538203527998, 1.5968736605431069, 1.723507060923573, 0.38763182009739877, -1.5443680470309729, 1.2505835233573588, 0.0032375885699842803, 0.3870066878402003, -0.32906689091979147, 0.3856397258220775, -0.1654479720586817, 0.2232842423247386, -0.4418766853437538, -0.6751906059090874, -1.6521803078301385, 0.8305325757578166, 0.6577807720682736, -1.2851830040136305, 0.5089005765755124, 0.5962021316815027, 0.9573351203673642, -1.7458475655160375, -1.7131000048598244, 1.5732405203322046, -0.6605298861077683, -1.3437487967599893, 1.9772828633357302, -0.2856844646078326, 0.19293980157348012, 0.1628250911198371, 0.4208217295167736, 0.5627226183638288, -1.058090429960864, -1.3589615830656872, 2.138807050366944, 0.885718335515041, 0.8374040360650308, 0.49834346725709405, -1.3963572343750588, 2.2245606506923625, 0.19641383189506273, -0.3435398382353588, 0.7215114388529363, -0.8327583822270256, -2.039974975731211, 1.2859290252046311, -1.1577060578657161, 0.36795754346511866, 0.970791311065794, 0.496204293102698, -0.05627542841788665, 0.10113620396598295, 0.7547476274222054, 0.15433234934660506], \"orientation\": \"v\", \"name\": \"D\", \"opacity\": 0.8, \"histfunc\": \"count\", \"type\": \"histogram\", \"histnorm\": \"\", \"nbinsx\": 10, \"marker\": {\"line\": {\"width\": 1.3, \"color\": \"#D9D9D9\"}, \"color\": \"rgba(101, 101, 101, 1.0)\"}, \"xaxis\": \"x16\"}], {\"xaxis14\": {\"anchor\": \"y14\", \"domain\": [0.2625, 0.475]}, \"titlefont\": {\"color\": \"#151516\"}, \"xaxis16\": {\"anchor\": \"y16\", \"domain\": [0.7875000000000001, 1.0]}, \"yaxis15\": {\"anchor\": \"x15\", \"domain\": [0.0, 0.1975]}, \"yaxis16\": {\"anchor\": \"x16\", \"domain\": [0.0, 0.1975]}, \"paper_bgcolor\": \"#FFFFFF\", \"yaxis4\": {\"anchor\": \"x4\", \"domain\": [0.8025, 1.0]}, \"plot_bgcolor\": \"#E5E5E5\", \"xaxis15\": {\"anchor\": \"y15\", \"domain\": [0.525, 0.7375]}, \"xaxis2\": {\"anchor\": \"y2\", \"domain\": [0.2625, 0.475]}, \"yaxis10\": {\"anchor\": \"x10\", \"domain\": [0.2675, 0.465]}, \"yaxis11\": {\"anchor\": \"x11\", \"domain\": [0.2675, 0.465]}, \"xaxis5\": {\"anchor\": \"y5\", \"domain\": [0.0, 0.2125]}, \"xaxis1\": {\"anchor\": \"y1\", \"zerolinecolor\": \"#F6F6F6\", \"title\": \"\", \"titlefont\": {\"color\": \"#666666\"}, \"tickfont\": {\"color\": \"#666666\"}, \"showgrid\": false, \"domain\": [0.0, 0.2125], \"gridcolor\": \"#F6F6F6\"}, \"xaxis4\": {\"anchor\": \"y4\", \"domain\": [0.7875000000000001, 1.0]}, \"yaxis14\": {\"anchor\": \"x14\", \"domain\": [0.0, 0.1975]}, \"xaxis11\": {\"anchor\": \"y11\", \"domain\": [0.525, 0.7375]}, \"xaxis10\": {\"anchor\": \"y10\", \"domain\": [0.2625, 0.475]}, \"yaxis13\": {\"anchor\": \"x13\", \"domain\": [0.0, 0.1975]}, \"yaxis9\": {\"anchor\": \"x9\", \"domain\": [0.2675, 0.465]}, \"xaxis6\": {\"anchor\": \"y6\", \"domain\": [0.2625, 0.475]}, \"xaxis9\": {\"anchor\": \"y9\", \"domain\": [0.0, 0.2125]}, \"yaxis2\": {\"anchor\": \"x2\", \"domain\": [0.8025, 1.0]}, \"xaxis3\": {\"anchor\": \"y3\", \"domain\": [0.525, 0.7375]}, \"xaxis7\": {\"anchor\": \"y7\", \"domain\": [0.525, 0.7375]}, \"xaxis13\": {\"anchor\": \"y13\", \"domain\": [0.0, 0.2125]}, \"xaxis8\": {\"anchor\": \"y8\", \"domain\": [0.7875000000000001, 1.0]}, \"yaxis1\": {\"anchor\": \"x1\", \"zerolinecolor\": \"#F6F6F6\", \"title\": \"\", \"titlefont\": {\"color\": \"#666666\"}, \"tickfont\": {\"color\": \"#666666\"}, \"showgrid\": false, \"domain\": [0.8025, 1.0], \"gridcolor\": \"#F6F6F6\"}, \"legend\": {\"font\": {\"color\": \"#666666\"}, \"bgcolor\": \"#FFFFFF\"}, \"xaxis12\": {\"anchor\": \"y12\", \"domain\": [0.7875000000000001, 1.0]}, \"bargap\": 0.02, \"yaxis8\": {\"anchor\": \"x8\", \"domain\": [0.535, 0.7325]}, \"showlegend\": false, \"yaxis3\": {\"anchor\": \"x3\", \"domain\": [0.8025, 1.0]}, \"yaxis12\": {\"anchor\": \"x12\", \"domain\": [0.2675, 0.465]}, \"yaxis7\": {\"anchor\": \"x7\", \"domain\": [0.535, 0.7325]}, \"yaxis5\": {\"anchor\": \"x5\", \"domain\": [0.535, 0.7325]}, \"yaxis6\": {\"anchor\": \"x6\", \"domain\": [0.535, 0.7325]}}, {\"showLink\": true, \"linkText\": \"Export to plot.ly\"})});</script>"
      ],
      "text/plain": [
       "<IPython.core.display.HTML object>"
      ]
     },
     "metadata": {},
     "output_type": "display_data"
    }
   ],
   "source": [
    "df.scatter_matrix()"
   ]
  },
  {
   "cell_type": "markdown",
   "metadata": {
    "collapsed": true
   },
   "source": [
    "# Great Job!"
   ]
  }
 ],
 "metadata": {
  "kernelspec": {
   "display_name": "Python 3 (ipykernel)",
   "language": "python",
   "name": "python3"
  },
  "language_info": {
   "codemirror_mode": {
    "name": "ipython",
    "version": 3
   },
   "file_extension": ".py",
   "mimetype": "text/x-python",
   "name": "python",
   "nbconvert_exporter": "python",
   "pygments_lexer": "ipython3",
   "version": "3.9.12"
  }
 },
 "nbformat": 4,
 "nbformat_minor": 1
}
